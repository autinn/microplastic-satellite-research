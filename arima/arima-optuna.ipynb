{
 "cells": [
  {
   "cell_type": "markdown",
   "metadata": {},
   "source": [
    "### Setup"
   ]
  },
  {
   "cell_type": "code",
   "execution_count": 1,
   "metadata": {},
   "outputs": [
    {
     "name": "stdout",
     "output_type": "stream",
     "text": [
      "Requirement already satisfied: netCDF4 in /Library/Frameworks/Python.framework/Versions/3.10/lib/python3.10/site-packages (1.7.2)\n",
      "Requirement already satisfied: h5netcdf in /Library/Frameworks/Python.framework/Versions/3.10/lib/python3.10/site-packages (1.6.3)\n",
      "Requirement already satisfied: xarray in /Library/Frameworks/Python.framework/Versions/3.10/lib/python3.10/site-packages (2025.6.1)\n",
      "Requirement already satisfied: pandas in /Library/Frameworks/Python.framework/Versions/3.10/lib/python3.10/site-packages (2.3.0)\n",
      "Requirement already satisfied: numpy<2 in /Library/Frameworks/Python.framework/Versions/3.10/lib/python3.10/site-packages (1.26.4)\n",
      "Requirement already satisfied: matplotlib in /Library/Frameworks/Python.framework/Versions/3.10/lib/python3.10/site-packages (3.10.3)\n",
      "Requirement already satisfied: seaborn in /Library/Frameworks/Python.framework/Versions/3.10/lib/python3.10/site-packages (0.13.2)\n",
      "Requirement already satisfied: packaging in /Users/autinauyeung/Library/Python/3.10/lib/python/site-packages (23.2)\n",
      "Requirement already satisfied: scipy in /Library/Frameworks/Python.framework/Versions/3.10/lib/python3.10/site-packages (1.15.3)\n",
      "Requirement already satisfied: store in /Library/Frameworks/Python.framework/Versions/3.10/lib/python3.10/site-packages (2020.2.10)\n",
      "Requirement already satisfied: statsmodels in /Library/Frameworks/Python.framework/Versions/3.10/lib/python3.10/site-packages (0.14.4)\n",
      "Requirement already satisfied: plotly in /Library/Frameworks/Python.framework/Versions/3.10/lib/python3.10/site-packages (6.2.0)\n",
      "Requirement already satisfied: nbformat in /Library/Frameworks/Python.framework/Versions/3.10/lib/python3.10/site-packages (5.10.4)\n",
      "Requirement already satisfied: pmdarima in /Library/Frameworks/Python.framework/Versions/3.10/lib/python3.10/site-packages (2.0.4)\n",
      "Requirement already satisfied: certifi in /Library/Frameworks/Python.framework/Versions/3.10/lib/python3.10/site-packages (from netCDF4) (2025.4.26)\n",
      "Requirement already satisfied: cftime in /Library/Frameworks/Python.framework/Versions/3.10/lib/python3.10/site-packages (from netCDF4) (1.6.4.post1)\n",
      "Requirement already satisfied: h5py in /Library/Frameworks/Python.framework/Versions/3.10/lib/python3.10/site-packages (from h5netcdf) (3.14.0)\n",
      "Requirement already satisfied: python-dateutil>=2.8.2 in /Users/autinauyeung/Library/Python/3.10/lib/python/site-packages (from pandas) (2.8.2)\n",
      "Requirement already satisfied: pytz>=2020.1 in /Library/Frameworks/Python.framework/Versions/3.10/lib/python3.10/site-packages (from pandas) (2025.2)\n",
      "Requirement already satisfied: tzdata>=2022.7 in /Library/Frameworks/Python.framework/Versions/3.10/lib/python3.10/site-packages (from pandas) (2025.2)\n",
      "Requirement already satisfied: fonttools>=4.22.0 in /Library/Frameworks/Python.framework/Versions/3.10/lib/python3.10/site-packages (from matplotlib) (4.58.2)\n",
      "Requirement already satisfied: contourpy>=1.0.1 in /Library/Frameworks/Python.framework/Versions/3.10/lib/python3.10/site-packages (from matplotlib) (1.3.2)\n",
      "Requirement already satisfied: kiwisolver>=1.3.1 in /Library/Frameworks/Python.framework/Versions/3.10/lib/python3.10/site-packages (from matplotlib) (1.4.8)\n",
      "Requirement already satisfied: cycler>=0.10 in /Library/Frameworks/Python.framework/Versions/3.10/lib/python3.10/site-packages (from matplotlib) (0.12.1)\n",
      "Requirement already satisfied: pillow>=8 in /Library/Frameworks/Python.framework/Versions/3.10/lib/python3.10/site-packages (from matplotlib) (11.2.1)\n",
      "Requirement already satisfied: pyparsing>=2.3.1 in /Library/Frameworks/Python.framework/Versions/3.10/lib/python3.10/site-packages (from matplotlib) (3.2.3)\n",
      "Requirement already satisfied: pony in /Library/Frameworks/Python.framework/Versions/3.10/lib/python3.10/site-packages (from store) (0.7.19)\n",
      "Requirement already satisfied: patsy>=0.5.6 in /Library/Frameworks/Python.framework/Versions/3.10/lib/python3.10/site-packages (from statsmodels) (1.0.1)\n",
      "Requirement already satisfied: narwhals>=1.15.1 in /Library/Frameworks/Python.framework/Versions/3.10/lib/python3.10/site-packages (from plotly) (1.45.0)\n",
      "Requirement already satisfied: fastjsonschema>=2.15 in /Library/Frameworks/Python.framework/Versions/3.10/lib/python3.10/site-packages (from nbformat) (2.21.1)\n",
      "Requirement already satisfied: jupyter-core!=5.0.*,>=4.12 in /Users/autinauyeung/Library/Python/3.10/lib/python/site-packages (from nbformat) (5.5.0)\n",
      "Requirement already satisfied: traitlets>=5.1 in /Users/autinauyeung/Library/Python/3.10/lib/python/site-packages (from nbformat) (5.14.0)\n",
      "Requirement already satisfied: jsonschema>=2.6 in /Library/Frameworks/Python.framework/Versions/3.10/lib/python3.10/site-packages (from nbformat) (4.24.0)\n",
      "Requirement already satisfied: Cython!=0.29.18,!=0.29.31,>=0.29 in /Library/Frameworks/Python.framework/Versions/3.10/lib/python3.10/site-packages (from pmdarima) (3.1.2)\n",
      "Requirement already satisfied: joblib>=0.11 in /Library/Frameworks/Python.framework/Versions/3.10/lib/python3.10/site-packages (from pmdarima) (1.5.1)\n",
      "Requirement already satisfied: setuptools!=50.0.0,>=38.6.0 in /Library/Frameworks/Python.framework/Versions/3.10/lib/python3.10/site-packages (from pmdarima) (58.1.0)\n",
      "Requirement already satisfied: scikit-learn>=0.22 in /Library/Frameworks/Python.framework/Versions/3.10/lib/python3.10/site-packages (from pmdarima) (1.7.0)\n",
      "Requirement already satisfied: urllib3 in /Library/Frameworks/Python.framework/Versions/3.10/lib/python3.10/site-packages (from pmdarima) (2.4.0)\n",
      "Requirement already satisfied: rpds-py>=0.7.1 in /Library/Frameworks/Python.framework/Versions/3.10/lib/python3.10/site-packages (from jsonschema>=2.6->nbformat) (0.26.0)\n",
      "Requirement already satisfied: jsonschema-specifications>=2023.03.6 in /Library/Frameworks/Python.framework/Versions/3.10/lib/python3.10/site-packages (from jsonschema>=2.6->nbformat) (2025.4.1)\n",
      "Requirement already satisfied: referencing>=0.28.4 in /Library/Frameworks/Python.framework/Versions/3.10/lib/python3.10/site-packages (from jsonschema>=2.6->nbformat) (0.36.2)\n",
      "Requirement already satisfied: attrs>=22.2.0 in /Library/Frameworks/Python.framework/Versions/3.10/lib/python3.10/site-packages (from jsonschema>=2.6->nbformat) (25.3.0)\n",
      "Requirement already satisfied: platformdirs>=2.5 in /Users/autinauyeung/Library/Python/3.10/lib/python/site-packages (from jupyter-core!=5.0.*,>=4.12->nbformat) (4.1.0)\n",
      "Requirement already satisfied: six>=1.5 in /Users/autinauyeung/Library/Python/3.10/lib/python/site-packages (from python-dateutil>=2.8.2->pandas) (1.16.0)\n",
      "Requirement already satisfied: threadpoolctl>=3.1.0 in /Library/Frameworks/Python.framework/Versions/3.10/lib/python3.10/site-packages (from scikit-learn>=0.22->pmdarima) (3.6.0)\n",
      "Requirement already satisfied: typing-extensions>=4.4.0 in /Library/Frameworks/Python.framework/Versions/3.10/lib/python3.10/site-packages (from referencing>=0.28.4->jsonschema>=2.6->nbformat) (4.14.0)\n",
      "\u001b[33mWARNING: You are using pip version 22.0.4; however, version 25.1.1 is available.\n",
      "You should consider upgrading via the '/usr/local/bin/python3.10 -m pip install --upgrade pip' command.\u001b[0m\u001b[33m\n",
      "\u001b[0mNote: you may need to restart the kernel to use updated packages.\n"
     ]
    }
   ],
   "source": [
    "%pip install netCDF4 h5netcdf xarray pandas \"numpy<2\" matplotlib seaborn packaging scipy store statsmodels plotly nbformat pmdarima\n"
   ]
  },
  {
   "cell_type": "code",
   "execution_count": 2,
   "metadata": {},
   "outputs": [],
   "source": [
    "import xarray as xr\n",
    "import pandas as pd\n",
    "import numpy as np\n",
    "import matplotlib.pyplot as plt\n",
    "import seaborn as sns"
   ]
  },
  {
   "cell_type": "code",
   "execution_count": 143,
   "metadata": {},
   "outputs": [
    {
     "data": {
      "text/html": [
       "<div>\n",
       "<style scoped>\n",
       "    .dataframe tbody tr th:only-of-type {\n",
       "        vertical-align: middle;\n",
       "    }\n",
       "\n",
       "    .dataframe tbody tr th {\n",
       "        vertical-align: top;\n",
       "    }\n",
       "\n",
       "    .dataframe thead th {\n",
       "        text-align: right;\n",
       "    }\n",
       "</style>\n",
       "<table border=\"1\" class=\"dataframe\">\n",
       "  <thead>\n",
       "    <tr style=\"text-align: right;\">\n",
       "      <th></th>\n",
       "      <th>mp_concentration</th>\n",
       "    </tr>\n",
       "    <tr>\n",
       "      <th>time</th>\n",
       "      <th></th>\n",
       "    </tr>\n",
       "  </thead>\n",
       "  <tbody>\n",
       "    <tr>\n",
       "      <th>2018-08-19</th>\n",
       "      <td>14.865665</td>\n",
       "    </tr>\n",
       "    <tr>\n",
       "      <th>2018-08-26</th>\n",
       "      <td>14.803406</td>\n",
       "    </tr>\n",
       "    <tr>\n",
       "      <th>2018-09-02</th>\n",
       "      <td>14.709439</td>\n",
       "    </tr>\n",
       "    <tr>\n",
       "      <th>2018-09-09</th>\n",
       "      <td>14.761217</td>\n",
       "    </tr>\n",
       "    <tr>\n",
       "      <th>2018-09-16</th>\n",
       "      <td>14.808359</td>\n",
       "    </tr>\n",
       "    <tr>\n",
       "      <th>...</th>\n",
       "      <td>...</td>\n",
       "    </tr>\n",
       "    <tr>\n",
       "      <th>2025-05-11</th>\n",
       "      <td>14.521454</td>\n",
       "    </tr>\n",
       "    <tr>\n",
       "      <th>2025-05-18</th>\n",
       "      <td>14.560788</td>\n",
       "    </tr>\n",
       "    <tr>\n",
       "      <th>2025-05-25</th>\n",
       "      <td>14.642275</td>\n",
       "    </tr>\n",
       "    <tr>\n",
       "      <th>2025-06-01</th>\n",
       "      <td>14.677809</td>\n",
       "    </tr>\n",
       "    <tr>\n",
       "      <th>2025-06-08</th>\n",
       "      <td>14.718995</td>\n",
       "    </tr>\n",
       "  </tbody>\n",
       "</table>\n",
       "<p>356 rows × 1 columns</p>\n",
       "</div>"
      ],
      "text/plain": [
       "            mp_concentration\n",
       "time                        \n",
       "2018-08-19         14.865665\n",
       "2018-08-26         14.803406\n",
       "2018-09-02         14.709439\n",
       "2018-09-09         14.761217\n",
       "2018-09-16         14.808359\n",
       "...                      ...\n",
       "2025-05-11         14.521454\n",
       "2025-05-18         14.560788\n",
       "2025-05-25         14.642275\n",
       "2025-06-01         14.677809\n",
       "2025-06-08         14.718995\n",
       "\n",
       "[356 rows x 1 columns]"
      ]
     },
     "execution_count": 143,
     "metadata": {},
     "output_type": "execute_result"
    }
   ],
   "source": [
    "data = pd.read_csv(\"mp_conc_weekly_full.csv\")\n",
    "data = data.set_index('time').dropna()\n",
    "data.index = pd.to_datetime(data.index)\n",
    "data"
   ]
  },
  {
   "cell_type": "markdown",
   "metadata": {},
   "source": [
    "### Boxcox Transform"
   ]
  },
  {
   "cell_type": "code",
   "execution_count": 131,
   "metadata": {},
   "outputs": [
    {
     "data": {
      "text/html": [
       "<div>\n",
       "<style scoped>\n",
       "    .dataframe tbody tr th:only-of-type {\n",
       "        vertical-align: middle;\n",
       "    }\n",
       "\n",
       "    .dataframe tbody tr th {\n",
       "        vertical-align: top;\n",
       "    }\n",
       "\n",
       "    .dataframe thead th {\n",
       "        text-align: right;\n",
       "    }\n",
       "</style>\n",
       "<table border=\"1\" class=\"dataframe\">\n",
       "  <thead>\n",
       "    <tr style=\"text-align: right;\">\n",
       "      <th></th>\n",
       "      <th>mp_concentration</th>\n",
       "      <th>mp_conc_boxcox</th>\n",
       "    </tr>\n",
       "    <tr>\n",
       "      <th>time</th>\n",
       "      <th></th>\n",
       "      <th></th>\n",
       "    </tr>\n",
       "  </thead>\n",
       "  <tbody>\n",
       "    <tr>\n",
       "      <th>2018-08-19</th>\n",
       "      <td>14.865665</td>\n",
       "      <td>0.124086</td>\n",
       "    </tr>\n",
       "    <tr>\n",
       "      <th>2018-08-26</th>\n",
       "      <td>14.803406</td>\n",
       "      <td>0.124086</td>\n",
       "    </tr>\n",
       "    <tr>\n",
       "      <th>2018-09-02</th>\n",
       "      <td>14.709439</td>\n",
       "      <td>0.124086</td>\n",
       "    </tr>\n",
       "    <tr>\n",
       "      <th>2018-09-09</th>\n",
       "      <td>14.761217</td>\n",
       "      <td>0.124086</td>\n",
       "    </tr>\n",
       "    <tr>\n",
       "      <th>2018-09-16</th>\n",
       "      <td>14.808359</td>\n",
       "      <td>0.124086</td>\n",
       "    </tr>\n",
       "    <tr>\n",
       "      <th>...</th>\n",
       "      <td>...</td>\n",
       "      <td>...</td>\n",
       "    </tr>\n",
       "    <tr>\n",
       "      <th>2025-05-11</th>\n",
       "      <td>14.521454</td>\n",
       "      <td>0.124086</td>\n",
       "    </tr>\n",
       "    <tr>\n",
       "      <th>2025-05-18</th>\n",
       "      <td>14.560788</td>\n",
       "      <td>0.124086</td>\n",
       "    </tr>\n",
       "    <tr>\n",
       "      <th>2025-05-25</th>\n",
       "      <td>14.642275</td>\n",
       "      <td>0.124086</td>\n",
       "    </tr>\n",
       "    <tr>\n",
       "      <th>2025-06-01</th>\n",
       "      <td>14.677809</td>\n",
       "      <td>0.124086</td>\n",
       "    </tr>\n",
       "    <tr>\n",
       "      <th>2025-06-08</th>\n",
       "      <td>14.718995</td>\n",
       "      <td>0.124086</td>\n",
       "    </tr>\n",
       "  </tbody>\n",
       "</table>\n",
       "<p>356 rows × 2 columns</p>\n",
       "</div>"
      ],
      "text/plain": [
       "            mp_concentration  mp_conc_boxcox\n",
       "time                                        \n",
       "2018-08-19         14.865665        0.124086\n",
       "2018-08-26         14.803406        0.124086\n",
       "2018-09-02         14.709439        0.124086\n",
       "2018-09-09         14.761217        0.124086\n",
       "2018-09-16         14.808359        0.124086\n",
       "...                      ...             ...\n",
       "2025-05-11         14.521454        0.124086\n",
       "2025-05-18         14.560788        0.124086\n",
       "2025-05-25         14.642275        0.124086\n",
       "2025-06-01         14.677809        0.124086\n",
       "2025-06-08         14.718995        0.124086\n",
       "\n",
       "[356 rows x 2 columns]"
      ]
     },
     "execution_count": 131,
     "metadata": {},
     "output_type": "execute_result"
    }
   ],
   "source": [
    "from scipy.stats import boxcox\n",
    "data['mp_conc_boxcox'], lam = boxcox(data['mp_concentration'])\n",
    "data"
   ]
  },
  {
   "cell_type": "code",
   "execution_count": 23,
   "metadata": {},
   "outputs": [
    {
     "data": {
      "application/vnd.plotly.v1+json": {
       "config": {
        "plotlyServerURL": "https://plot.ly"
       },
       "data": [
        {
         "hovertemplate": "time=%{x}<br>mp_conc_boxcox=%{y}<extra></extra>",
         "legendgroup": "",
         "line": {
          "color": "#636efa",
          "dash": "solid"
         },
         "marker": {
          "symbol": "circle"
         },
         "mode": "lines",
         "name": "",
         "orientation": "v",
         "showlegend": false,
         "type": "scatter",
         "x": [
          "2018-08-19T00:00:00.000000000",
          "2018-08-26T00:00:00.000000000",
          "2018-09-02T00:00:00.000000000",
          "2018-09-09T00:00:00.000000000",
          "2018-09-16T00:00:00.000000000",
          "2018-09-23T00:00:00.000000000",
          "2018-09-30T00:00:00.000000000",
          "2018-10-07T00:00:00.000000000",
          "2018-10-14T00:00:00.000000000",
          "2018-10-21T00:00:00.000000000",
          "2018-10-28T00:00:00.000000000",
          "2018-11-04T00:00:00.000000000",
          "2018-11-11T00:00:00.000000000",
          "2018-11-18T00:00:00.000000000",
          "2018-11-25T00:00:00.000000000",
          "2018-12-02T00:00:00.000000000",
          "2018-12-09T00:00:00.000000000",
          "2018-12-16T00:00:00.000000000",
          "2018-12-23T00:00:00.000000000",
          "2018-12-30T00:00:00.000000000",
          "2019-01-06T00:00:00.000000000",
          "2019-01-13T00:00:00.000000000",
          "2019-01-20T00:00:00.000000000",
          "2019-01-27T00:00:00.000000000",
          "2019-02-03T00:00:00.000000000",
          "2019-02-10T00:00:00.000000000",
          "2019-02-17T00:00:00.000000000",
          "2019-02-24T00:00:00.000000000",
          "2019-03-03T00:00:00.000000000",
          "2019-03-10T00:00:00.000000000",
          "2019-03-17T00:00:00.000000000",
          "2019-03-24T00:00:00.000000000",
          "2019-03-31T00:00:00.000000000",
          "2019-04-07T00:00:00.000000000",
          "2019-04-14T00:00:00.000000000",
          "2019-04-21T00:00:00.000000000",
          "2019-04-28T00:00:00.000000000",
          "2019-05-05T00:00:00.000000000",
          "2019-05-12T00:00:00.000000000",
          "2019-05-19T00:00:00.000000000",
          "2019-05-26T00:00:00.000000000",
          "2019-06-02T00:00:00.000000000",
          "2019-06-09T00:00:00.000000000",
          "2019-06-16T00:00:00.000000000",
          "2019-06-23T00:00:00.000000000",
          "2019-06-30T00:00:00.000000000",
          "2019-07-07T00:00:00.000000000",
          "2019-07-14T00:00:00.000000000",
          "2019-07-21T00:00:00.000000000",
          "2019-07-28T00:00:00.000000000",
          "2019-08-04T00:00:00.000000000",
          "2019-08-11T00:00:00.000000000",
          "2019-08-18T00:00:00.000000000",
          "2019-08-25T00:00:00.000000000",
          "2019-09-01T00:00:00.000000000",
          "2019-09-08T00:00:00.000000000",
          "2019-09-15T00:00:00.000000000",
          "2019-09-22T00:00:00.000000000",
          "2019-09-29T00:00:00.000000000",
          "2019-10-06T00:00:00.000000000",
          "2019-10-13T00:00:00.000000000",
          "2019-10-20T00:00:00.000000000",
          "2019-10-27T00:00:00.000000000",
          "2019-11-03T00:00:00.000000000",
          "2019-11-10T00:00:00.000000000",
          "2019-11-17T00:00:00.000000000",
          "2019-11-24T00:00:00.000000000",
          "2019-12-01T00:00:00.000000000",
          "2019-12-08T00:00:00.000000000",
          "2019-12-15T00:00:00.000000000",
          "2019-12-22T00:00:00.000000000",
          "2019-12-29T00:00:00.000000000",
          "2020-01-05T00:00:00.000000000",
          "2020-01-12T00:00:00.000000000",
          "2020-01-19T00:00:00.000000000",
          "2020-01-26T00:00:00.000000000",
          "2020-02-02T00:00:00.000000000",
          "2020-02-09T00:00:00.000000000",
          "2020-02-16T00:00:00.000000000",
          "2020-02-23T00:00:00.000000000",
          "2020-03-01T00:00:00.000000000",
          "2020-03-08T00:00:00.000000000",
          "2020-03-15T00:00:00.000000000",
          "2020-03-22T00:00:00.000000000",
          "2020-03-29T00:00:00.000000000",
          "2020-04-05T00:00:00.000000000",
          "2020-04-12T00:00:00.000000000",
          "2020-04-19T00:00:00.000000000",
          "2020-04-26T00:00:00.000000000",
          "2020-05-03T00:00:00.000000000",
          "2020-05-10T00:00:00.000000000",
          "2020-05-17T00:00:00.000000000",
          "2020-05-24T00:00:00.000000000",
          "2020-05-31T00:00:00.000000000",
          "2020-06-07T00:00:00.000000000",
          "2020-06-14T00:00:00.000000000",
          "2020-06-21T00:00:00.000000000",
          "2020-06-28T00:00:00.000000000",
          "2020-07-05T00:00:00.000000000",
          "2020-07-12T00:00:00.000000000",
          "2020-07-19T00:00:00.000000000",
          "2020-07-26T00:00:00.000000000",
          "2020-08-02T00:00:00.000000000",
          "2020-08-09T00:00:00.000000000",
          "2020-08-16T00:00:00.000000000",
          "2020-08-23T00:00:00.000000000",
          "2020-08-30T00:00:00.000000000",
          "2020-09-06T00:00:00.000000000",
          "2020-09-13T00:00:00.000000000",
          "2020-09-20T00:00:00.000000000",
          "2020-09-27T00:00:00.000000000",
          "2020-10-04T00:00:00.000000000",
          "2020-10-11T00:00:00.000000000",
          "2020-10-18T00:00:00.000000000",
          "2020-10-25T00:00:00.000000000",
          "2020-11-01T00:00:00.000000000",
          "2020-11-08T00:00:00.000000000",
          "2020-11-15T00:00:00.000000000",
          "2020-11-22T00:00:00.000000000",
          "2020-11-29T00:00:00.000000000",
          "2020-12-06T00:00:00.000000000",
          "2020-12-13T00:00:00.000000000",
          "2020-12-20T00:00:00.000000000",
          "2020-12-27T00:00:00.000000000",
          "2021-01-03T00:00:00.000000000",
          "2021-01-10T00:00:00.000000000",
          "2021-01-17T00:00:00.000000000",
          "2021-01-24T00:00:00.000000000",
          "2021-01-31T00:00:00.000000000",
          "2021-02-07T00:00:00.000000000",
          "2021-02-14T00:00:00.000000000",
          "2021-02-21T00:00:00.000000000",
          "2021-02-28T00:00:00.000000000",
          "2021-03-07T00:00:00.000000000",
          "2021-03-14T00:00:00.000000000",
          "2021-03-21T00:00:00.000000000",
          "2021-03-28T00:00:00.000000000",
          "2021-04-04T00:00:00.000000000",
          "2021-04-11T00:00:00.000000000",
          "2021-04-18T00:00:00.000000000",
          "2021-04-25T00:00:00.000000000",
          "2021-05-02T00:00:00.000000000",
          "2021-05-09T00:00:00.000000000",
          "2021-05-16T00:00:00.000000000",
          "2021-05-23T00:00:00.000000000",
          "2021-05-30T00:00:00.000000000",
          "2021-06-06T00:00:00.000000000",
          "2021-06-13T00:00:00.000000000",
          "2021-06-20T00:00:00.000000000",
          "2021-06-27T00:00:00.000000000",
          "2021-07-04T00:00:00.000000000",
          "2021-07-11T00:00:00.000000000",
          "2021-07-18T00:00:00.000000000",
          "2021-07-25T00:00:00.000000000",
          "2021-08-01T00:00:00.000000000",
          "2021-08-08T00:00:00.000000000",
          "2021-08-15T00:00:00.000000000",
          "2021-08-22T00:00:00.000000000",
          "2021-08-29T00:00:00.000000000",
          "2021-09-05T00:00:00.000000000",
          "2021-09-12T00:00:00.000000000",
          "2021-09-19T00:00:00.000000000",
          "2021-09-26T00:00:00.000000000",
          "2021-10-03T00:00:00.000000000",
          "2021-10-10T00:00:00.000000000",
          "2021-10-17T00:00:00.000000000",
          "2021-10-24T00:00:00.000000000",
          "2021-10-31T00:00:00.000000000",
          "2021-11-07T00:00:00.000000000",
          "2021-11-14T00:00:00.000000000",
          "2021-11-21T00:00:00.000000000",
          "2021-11-28T00:00:00.000000000",
          "2021-12-05T00:00:00.000000000",
          "2021-12-12T00:00:00.000000000",
          "2021-12-19T00:00:00.000000000",
          "2021-12-26T00:00:00.000000000",
          "2022-01-02T00:00:00.000000000",
          "2022-01-09T00:00:00.000000000",
          "2022-01-16T00:00:00.000000000",
          "2022-01-23T00:00:00.000000000",
          "2022-01-30T00:00:00.000000000",
          "2022-02-06T00:00:00.000000000",
          "2022-02-13T00:00:00.000000000",
          "2022-02-20T00:00:00.000000000",
          "2022-02-27T00:00:00.000000000",
          "2022-03-06T00:00:00.000000000",
          "2022-03-13T00:00:00.000000000",
          "2022-03-20T00:00:00.000000000",
          "2022-03-27T00:00:00.000000000",
          "2022-04-03T00:00:00.000000000",
          "2022-04-10T00:00:00.000000000",
          "2022-04-17T00:00:00.000000000",
          "2022-04-24T00:00:00.000000000",
          "2022-05-01T00:00:00.000000000",
          "2022-05-08T00:00:00.000000000",
          "2022-05-15T00:00:00.000000000",
          "2022-05-22T00:00:00.000000000",
          "2022-05-29T00:00:00.000000000",
          "2022-06-05T00:00:00.000000000",
          "2022-06-12T00:00:00.000000000",
          "2022-06-19T00:00:00.000000000",
          "2022-06-26T00:00:00.000000000",
          "2022-07-03T00:00:00.000000000",
          "2022-07-10T00:00:00.000000000",
          "2022-07-17T00:00:00.000000000",
          "2022-07-24T00:00:00.000000000",
          "2022-07-31T00:00:00.000000000",
          "2022-08-07T00:00:00.000000000",
          "2022-08-14T00:00:00.000000000",
          "2022-08-21T00:00:00.000000000",
          "2022-08-28T00:00:00.000000000",
          "2022-09-04T00:00:00.000000000",
          "2022-09-11T00:00:00.000000000",
          "2022-09-18T00:00:00.000000000",
          "2022-09-25T00:00:00.000000000",
          "2022-10-02T00:00:00.000000000",
          "2022-10-09T00:00:00.000000000",
          "2022-10-16T00:00:00.000000000",
          "2022-10-23T00:00:00.000000000",
          "2022-10-30T00:00:00.000000000",
          "2022-11-06T00:00:00.000000000",
          "2022-11-13T00:00:00.000000000",
          "2022-11-20T00:00:00.000000000",
          "2022-11-27T00:00:00.000000000",
          "2022-12-04T00:00:00.000000000",
          "2022-12-11T00:00:00.000000000",
          "2022-12-18T00:00:00.000000000",
          "2022-12-25T00:00:00.000000000",
          "2023-01-01T00:00:00.000000000",
          "2023-01-08T00:00:00.000000000",
          "2023-01-15T00:00:00.000000000",
          "2023-01-22T00:00:00.000000000",
          "2023-01-29T00:00:00.000000000",
          "2023-02-05T00:00:00.000000000",
          "2023-02-12T00:00:00.000000000",
          "2023-02-19T00:00:00.000000000",
          "2023-02-26T00:00:00.000000000",
          "2023-03-05T00:00:00.000000000",
          "2023-03-12T00:00:00.000000000",
          "2023-03-19T00:00:00.000000000",
          "2023-03-26T00:00:00.000000000",
          "2023-04-02T00:00:00.000000000",
          "2023-04-09T00:00:00.000000000",
          "2023-04-16T00:00:00.000000000",
          "2023-04-23T00:00:00.000000000",
          "2023-04-30T00:00:00.000000000",
          "2023-05-07T00:00:00.000000000",
          "2023-05-14T00:00:00.000000000",
          "2023-05-21T00:00:00.000000000",
          "2023-05-28T00:00:00.000000000",
          "2023-06-04T00:00:00.000000000",
          "2023-06-11T00:00:00.000000000",
          "2023-06-18T00:00:00.000000000",
          "2023-06-25T00:00:00.000000000",
          "2023-07-02T00:00:00.000000000",
          "2023-07-09T00:00:00.000000000",
          "2023-07-16T00:00:00.000000000",
          "2023-07-23T00:00:00.000000000",
          "2023-07-30T00:00:00.000000000",
          "2023-08-06T00:00:00.000000000",
          "2023-08-13T00:00:00.000000000",
          "2023-08-20T00:00:00.000000000",
          "2023-08-27T00:00:00.000000000",
          "2023-09-03T00:00:00.000000000",
          "2023-09-10T00:00:00.000000000",
          "2023-09-17T00:00:00.000000000",
          "2023-09-24T00:00:00.000000000",
          "2023-10-01T00:00:00.000000000",
          "2023-10-08T00:00:00.000000000",
          "2023-10-15T00:00:00.000000000",
          "2023-10-22T00:00:00.000000000",
          "2023-10-29T00:00:00.000000000",
          "2023-11-05T00:00:00.000000000",
          "2023-11-12T00:00:00.000000000",
          "2023-11-19T00:00:00.000000000",
          "2023-11-26T00:00:00.000000000",
          "2023-12-03T00:00:00.000000000",
          "2023-12-10T00:00:00.000000000",
          "2023-12-17T00:00:00.000000000",
          "2023-12-24T00:00:00.000000000",
          "2023-12-31T00:00:00.000000000",
          "2024-01-07T00:00:00.000000000",
          "2024-01-14T00:00:00.000000000",
          "2024-01-21T00:00:00.000000000",
          "2024-01-28T00:00:00.000000000",
          "2024-02-04T00:00:00.000000000",
          "2024-02-11T00:00:00.000000000",
          "2024-02-18T00:00:00.000000000",
          "2024-02-25T00:00:00.000000000",
          "2024-03-03T00:00:00.000000000",
          "2024-03-10T00:00:00.000000000",
          "2024-03-17T00:00:00.000000000",
          "2024-03-24T00:00:00.000000000",
          "2024-03-31T00:00:00.000000000",
          "2024-04-07T00:00:00.000000000",
          "2024-04-14T00:00:00.000000000",
          "2024-04-21T00:00:00.000000000",
          "2024-04-28T00:00:00.000000000",
          "2024-05-05T00:00:00.000000000",
          "2024-05-12T00:00:00.000000000",
          "2024-05-19T00:00:00.000000000",
          "2024-05-26T00:00:00.000000000",
          "2024-06-02T00:00:00.000000000",
          "2024-06-09T00:00:00.000000000",
          "2024-06-16T00:00:00.000000000",
          "2024-06-23T00:00:00.000000000",
          "2024-06-30T00:00:00.000000000",
          "2024-07-07T00:00:00.000000000",
          "2024-07-14T00:00:00.000000000",
          "2024-07-21T00:00:00.000000000",
          "2024-07-28T00:00:00.000000000",
          "2024-08-04T00:00:00.000000000",
          "2024-08-11T00:00:00.000000000",
          "2024-08-18T00:00:00.000000000",
          "2024-08-25T00:00:00.000000000",
          "2024-09-01T00:00:00.000000000",
          "2024-09-08T00:00:00.000000000",
          "2024-09-15T00:00:00.000000000",
          "2024-09-22T00:00:00.000000000",
          "2024-09-29T00:00:00.000000000",
          "2024-10-06T00:00:00.000000000",
          "2024-10-13T00:00:00.000000000",
          "2024-10-20T00:00:00.000000000",
          "2024-10-27T00:00:00.000000000",
          "2024-11-03T00:00:00.000000000",
          "2024-11-10T00:00:00.000000000",
          "2024-11-17T00:00:00.000000000",
          "2024-11-24T00:00:00.000000000",
          "2024-12-01T00:00:00.000000000",
          "2024-12-08T00:00:00.000000000",
          "2024-12-15T00:00:00.000000000",
          "2024-12-22T00:00:00.000000000",
          "2024-12-29T00:00:00.000000000",
          "2025-01-05T00:00:00.000000000",
          "2025-01-12T00:00:00.000000000",
          "2025-01-19T00:00:00.000000000",
          "2025-01-26T00:00:00.000000000",
          "2025-02-02T00:00:00.000000000",
          "2025-02-09T00:00:00.000000000",
          "2025-02-16T00:00:00.000000000",
          "2025-02-23T00:00:00.000000000",
          "2025-03-02T00:00:00.000000000",
          "2025-03-09T00:00:00.000000000",
          "2025-03-16T00:00:00.000000000",
          "2025-03-23T00:00:00.000000000",
          "2025-03-30T00:00:00.000000000",
          "2025-04-06T00:00:00.000000000",
          "2025-04-13T00:00:00.000000000",
          "2025-04-20T00:00:00.000000000",
          "2025-04-27T00:00:00.000000000",
          "2025-05-04T00:00:00.000000000",
          "2025-05-11T00:00:00.000000000",
          "2025-05-18T00:00:00.000000000",
          "2025-05-25T00:00:00.000000000",
          "2025-06-01T00:00:00.000000000",
          "2025-06-08T00:00:00.000000000"
         ],
         "xaxis": "x",
         "y": {
          "bdata": "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",
          "dtype": "f8"
         },
         "yaxis": "y"
        }
       ],
       "layout": {
        "height": 400,
        "legend": {
         "tracegroupgap": 0
        },
        "margin": {
         "t": 60
        },
        "template": {
         "data": {
          "bar": [
           {
            "error_x": {
             "color": "rgb(36,36,36)"
            },
            "error_y": {
             "color": "rgb(36,36,36)"
            },
            "marker": {
             "line": {
              "color": "white",
              "width": 0.5
             },
             "pattern": {
              "fillmode": "overlay",
              "size": 10,
              "solidity": 0.2
             }
            },
            "type": "bar"
           }
          ],
          "barpolar": [
           {
            "marker": {
             "line": {
              "color": "white",
              "width": 0.5
             },
             "pattern": {
              "fillmode": "overlay",
              "size": 10,
              "solidity": 0.2
             }
            },
            "type": "barpolar"
           }
          ],
          "carpet": [
           {
            "aaxis": {
             "endlinecolor": "rgb(36,36,36)",
             "gridcolor": "white",
             "linecolor": "white",
             "minorgridcolor": "white",
             "startlinecolor": "rgb(36,36,36)"
            },
            "baxis": {
             "endlinecolor": "rgb(36,36,36)",
             "gridcolor": "white",
             "linecolor": "white",
             "minorgridcolor": "white",
             "startlinecolor": "rgb(36,36,36)"
            },
            "type": "carpet"
           }
          ],
          "choropleth": [
           {
            "colorbar": {
             "outlinewidth": 1,
             "tickcolor": "rgb(36,36,36)",
             "ticks": "outside"
            },
            "type": "choropleth"
           }
          ],
          "contour": [
           {
            "colorbar": {
             "outlinewidth": 1,
             "tickcolor": "rgb(36,36,36)",
             "ticks": "outside"
            },
            "colorscale": [
             [
              0,
              "#440154"
             ],
             [
              0.1111111111111111,
              "#482878"
             ],
             [
              0.2222222222222222,
              "#3e4989"
             ],
             [
              0.3333333333333333,
              "#31688e"
             ],
             [
              0.4444444444444444,
              "#26828e"
             ],
             [
              0.5555555555555556,
              "#1f9e89"
             ],
             [
              0.6666666666666666,
              "#35b779"
             ],
             [
              0.7777777777777778,
              "#6ece58"
             ],
             [
              0.8888888888888888,
              "#b5de2b"
             ],
             [
              1,
              "#fde725"
             ]
            ],
            "type": "contour"
           }
          ],
          "contourcarpet": [
           {
            "colorbar": {
             "outlinewidth": 1,
             "tickcolor": "rgb(36,36,36)",
             "ticks": "outside"
            },
            "type": "contourcarpet"
           }
          ],
          "heatmap": [
           {
            "colorbar": {
             "outlinewidth": 1,
             "tickcolor": "rgb(36,36,36)",
             "ticks": "outside"
            },
            "colorscale": [
             [
              0,
              "#440154"
             ],
             [
              0.1111111111111111,
              "#482878"
             ],
             [
              0.2222222222222222,
              "#3e4989"
             ],
             [
              0.3333333333333333,
              "#31688e"
             ],
             [
              0.4444444444444444,
              "#26828e"
             ],
             [
              0.5555555555555556,
              "#1f9e89"
             ],
             [
              0.6666666666666666,
              "#35b779"
             ],
             [
              0.7777777777777778,
              "#6ece58"
             ],
             [
              0.8888888888888888,
              "#b5de2b"
             ],
             [
              1,
              "#fde725"
             ]
            ],
            "type": "heatmap"
           }
          ],
          "histogram": [
           {
            "marker": {
             "line": {
              "color": "white",
              "width": 0.6
             }
            },
            "type": "histogram"
           }
          ],
          "histogram2d": [
           {
            "colorbar": {
             "outlinewidth": 1,
             "tickcolor": "rgb(36,36,36)",
             "ticks": "outside"
            },
            "colorscale": [
             [
              0,
              "#440154"
             ],
             [
              0.1111111111111111,
              "#482878"
             ],
             [
              0.2222222222222222,
              "#3e4989"
             ],
             [
              0.3333333333333333,
              "#31688e"
             ],
             [
              0.4444444444444444,
              "#26828e"
             ],
             [
              0.5555555555555556,
              "#1f9e89"
             ],
             [
              0.6666666666666666,
              "#35b779"
             ],
             [
              0.7777777777777778,
              "#6ece58"
             ],
             [
              0.8888888888888888,
              "#b5de2b"
             ],
             [
              1,
              "#fde725"
             ]
            ],
            "type": "histogram2d"
           }
          ],
          "histogram2dcontour": [
           {
            "colorbar": {
             "outlinewidth": 1,
             "tickcolor": "rgb(36,36,36)",
             "ticks": "outside"
            },
            "colorscale": [
             [
              0,
              "#440154"
             ],
             [
              0.1111111111111111,
              "#482878"
             ],
             [
              0.2222222222222222,
              "#3e4989"
             ],
             [
              0.3333333333333333,
              "#31688e"
             ],
             [
              0.4444444444444444,
              "#26828e"
             ],
             [
              0.5555555555555556,
              "#1f9e89"
             ],
             [
              0.6666666666666666,
              "#35b779"
             ],
             [
              0.7777777777777778,
              "#6ece58"
             ],
             [
              0.8888888888888888,
              "#b5de2b"
             ],
             [
              1,
              "#fde725"
             ]
            ],
            "type": "histogram2dcontour"
           }
          ],
          "mesh3d": [
           {
            "colorbar": {
             "outlinewidth": 1,
             "tickcolor": "rgb(36,36,36)",
             "ticks": "outside"
            },
            "type": "mesh3d"
           }
          ],
          "parcoords": [
           {
            "line": {
             "colorbar": {
              "outlinewidth": 1,
              "tickcolor": "rgb(36,36,36)",
              "ticks": "outside"
             }
            },
            "type": "parcoords"
           }
          ],
          "pie": [
           {
            "automargin": true,
            "type": "pie"
           }
          ],
          "scatter": [
           {
            "fillpattern": {
             "fillmode": "overlay",
             "size": 10,
             "solidity": 0.2
            },
            "type": "scatter"
           }
          ],
          "scatter3d": [
           {
            "line": {
             "colorbar": {
              "outlinewidth": 1,
              "tickcolor": "rgb(36,36,36)",
              "ticks": "outside"
             }
            },
            "marker": {
             "colorbar": {
              "outlinewidth": 1,
              "tickcolor": "rgb(36,36,36)",
              "ticks": "outside"
             }
            },
            "type": "scatter3d"
           }
          ],
          "scattercarpet": [
           {
            "marker": {
             "colorbar": {
              "outlinewidth": 1,
              "tickcolor": "rgb(36,36,36)",
              "ticks": "outside"
             }
            },
            "type": "scattercarpet"
           }
          ],
          "scattergeo": [
           {
            "marker": {
             "colorbar": {
              "outlinewidth": 1,
              "tickcolor": "rgb(36,36,36)",
              "ticks": "outside"
             }
            },
            "type": "scattergeo"
           }
          ],
          "scattergl": [
           {
            "marker": {
             "colorbar": {
              "outlinewidth": 1,
              "tickcolor": "rgb(36,36,36)",
              "ticks": "outside"
             }
            },
            "type": "scattergl"
           }
          ],
          "scattermap": [
           {
            "marker": {
             "colorbar": {
              "outlinewidth": 1,
              "tickcolor": "rgb(36,36,36)",
              "ticks": "outside"
             }
            },
            "type": "scattermap"
           }
          ],
          "scattermapbox": [
           {
            "marker": {
             "colorbar": {
              "outlinewidth": 1,
              "tickcolor": "rgb(36,36,36)",
              "ticks": "outside"
             }
            },
            "type": "scattermapbox"
           }
          ],
          "scatterpolar": [
           {
            "marker": {
             "colorbar": {
              "outlinewidth": 1,
              "tickcolor": "rgb(36,36,36)",
              "ticks": "outside"
             }
            },
            "type": "scatterpolar"
           }
          ],
          "scatterpolargl": [
           {
            "marker": {
             "colorbar": {
              "outlinewidth": 1,
              "tickcolor": "rgb(36,36,36)",
              "ticks": "outside"
             }
            },
            "type": "scatterpolargl"
           }
          ],
          "scatterternary": [
           {
            "marker": {
             "colorbar": {
              "outlinewidth": 1,
              "tickcolor": "rgb(36,36,36)",
              "ticks": "outside"
             }
            },
            "type": "scatterternary"
           }
          ],
          "surface": [
           {
            "colorbar": {
             "outlinewidth": 1,
             "tickcolor": "rgb(36,36,36)",
             "ticks": "outside"
            },
            "colorscale": [
             [
              0,
              "#440154"
             ],
             [
              0.1111111111111111,
              "#482878"
             ],
             [
              0.2222222222222222,
              "#3e4989"
             ],
             [
              0.3333333333333333,
              "#31688e"
             ],
             [
              0.4444444444444444,
              "#26828e"
             ],
             [
              0.5555555555555556,
              "#1f9e89"
             ],
             [
              0.6666666666666666,
              "#35b779"
             ],
             [
              0.7777777777777778,
              "#6ece58"
             ],
             [
              0.8888888888888888,
              "#b5de2b"
             ],
             [
              1,
              "#fde725"
             ]
            ],
            "type": "surface"
           }
          ],
          "table": [
           {
            "cells": {
             "fill": {
              "color": "rgb(237,237,237)"
             },
             "line": {
              "color": "white"
             }
            },
            "header": {
             "fill": {
              "color": "rgb(217,217,217)"
             },
             "line": {
              "color": "white"
             }
            },
            "type": "table"
           }
          ]
         },
         "layout": {
          "annotationdefaults": {
           "arrowhead": 0,
           "arrowwidth": 1
          },
          "autotypenumbers": "strict",
          "coloraxis": {
           "colorbar": {
            "outlinewidth": 1,
            "tickcolor": "rgb(36,36,36)",
            "ticks": "outside"
           }
          },
          "colorscale": {
           "diverging": [
            [
             0,
             "rgb(103,0,31)"
            ],
            [
             0.1,
             "rgb(178,24,43)"
            ],
            [
             0.2,
             "rgb(214,96,77)"
            ],
            [
             0.3,
             "rgb(244,165,130)"
            ],
            [
             0.4,
             "rgb(253,219,199)"
            ],
            [
             0.5,
             "rgb(247,247,247)"
            ],
            [
             0.6,
             "rgb(209,229,240)"
            ],
            [
             0.7,
             "rgb(146,197,222)"
            ],
            [
             0.8,
             "rgb(67,147,195)"
            ],
            [
             0.9,
             "rgb(33,102,172)"
            ],
            [
             1,
             "rgb(5,48,97)"
            ]
           ],
           "sequential": [
            [
             0,
             "#440154"
            ],
            [
             0.1111111111111111,
             "#482878"
            ],
            [
             0.2222222222222222,
             "#3e4989"
            ],
            [
             0.3333333333333333,
             "#31688e"
            ],
            [
             0.4444444444444444,
             "#26828e"
            ],
            [
             0.5555555555555556,
             "#1f9e89"
            ],
            [
             0.6666666666666666,
             "#35b779"
            ],
            [
             0.7777777777777778,
             "#6ece58"
            ],
            [
             0.8888888888888888,
             "#b5de2b"
            ],
            [
             1,
             "#fde725"
            ]
           ],
           "sequentialminus": [
            [
             0,
             "#440154"
            ],
            [
             0.1111111111111111,
             "#482878"
            ],
            [
             0.2222222222222222,
             "#3e4989"
            ],
            [
             0.3333333333333333,
             "#31688e"
            ],
            [
             0.4444444444444444,
             "#26828e"
            ],
            [
             0.5555555555555556,
             "#1f9e89"
            ],
            [
             0.6666666666666666,
             "#35b779"
            ],
            [
             0.7777777777777778,
             "#6ece58"
            ],
            [
             0.8888888888888888,
             "#b5de2b"
            ],
            [
             1,
             "#fde725"
            ]
           ]
          },
          "colorway": [
           "#1F77B4",
           "#FF7F0E",
           "#2CA02C",
           "#D62728",
           "#9467BD",
           "#8C564B",
           "#E377C2",
           "#7F7F7F",
           "#BCBD22",
           "#17BECF"
          ],
          "font": {
           "color": "rgb(36,36,36)"
          },
          "geo": {
           "bgcolor": "white",
           "lakecolor": "white",
           "landcolor": "white",
           "showlakes": true,
           "showland": true,
           "subunitcolor": "white"
          },
          "hoverlabel": {
           "align": "left"
          },
          "hovermode": "closest",
          "mapbox": {
           "style": "light"
          },
          "paper_bgcolor": "white",
          "plot_bgcolor": "white",
          "polar": {
           "angularaxis": {
            "gridcolor": "rgb(232,232,232)",
            "linecolor": "rgb(36,36,36)",
            "showgrid": false,
            "showline": true,
            "ticks": "outside"
           },
           "bgcolor": "white",
           "radialaxis": {
            "gridcolor": "rgb(232,232,232)",
            "linecolor": "rgb(36,36,36)",
            "showgrid": false,
            "showline": true,
            "ticks": "outside"
           }
          },
          "scene": {
           "xaxis": {
            "backgroundcolor": "white",
            "gridcolor": "rgb(232,232,232)",
            "gridwidth": 2,
            "linecolor": "rgb(36,36,36)",
            "showbackground": true,
            "showgrid": false,
            "showline": true,
            "ticks": "outside",
            "zeroline": false,
            "zerolinecolor": "rgb(36,36,36)"
           },
           "yaxis": {
            "backgroundcolor": "white",
            "gridcolor": "rgb(232,232,232)",
            "gridwidth": 2,
            "linecolor": "rgb(36,36,36)",
            "showbackground": true,
            "showgrid": false,
            "showline": true,
            "ticks": "outside",
            "zeroline": false,
            "zerolinecolor": "rgb(36,36,36)"
           },
           "zaxis": {
            "backgroundcolor": "white",
            "gridcolor": "rgb(232,232,232)",
            "gridwidth": 2,
            "linecolor": "rgb(36,36,36)",
            "showbackground": true,
            "showgrid": false,
            "showline": true,
            "ticks": "outside",
            "zeroline": false,
            "zerolinecolor": "rgb(36,36,36)"
           }
          },
          "shapedefaults": {
           "fillcolor": "black",
           "line": {
            "width": 0
           },
           "opacity": 0.3
          },
          "ternary": {
           "aaxis": {
            "gridcolor": "rgb(232,232,232)",
            "linecolor": "rgb(36,36,36)",
            "showgrid": false,
            "showline": true,
            "ticks": "outside"
           },
           "baxis": {
            "gridcolor": "rgb(232,232,232)",
            "linecolor": "rgb(36,36,36)",
            "showgrid": false,
            "showline": true,
            "ticks": "outside"
           },
           "bgcolor": "white",
           "caxis": {
            "gridcolor": "rgb(232,232,232)",
            "linecolor": "rgb(36,36,36)",
            "showgrid": false,
            "showline": true,
            "ticks": "outside"
           }
          },
          "title": {
           "x": 0.05
          },
          "xaxis": {
           "automargin": true,
           "gridcolor": "rgb(232,232,232)",
           "linecolor": "rgb(36,36,36)",
           "showgrid": false,
           "showline": true,
           "ticks": "outside",
           "title": {
            "standoff": 15
           },
           "zeroline": false,
           "zerolinecolor": "rgb(36,36,36)"
          },
          "yaxis": {
           "automargin": true,
           "gridcolor": "rgb(232,232,232)",
           "linecolor": "rgb(36,36,36)",
           "showgrid": false,
           "showline": true,
           "ticks": "outside",
           "title": {
            "standoff": 15
           },
           "zeroline": false,
           "zerolinecolor": "rgb(36,36,36)"
          }
         }
        },
        "title": {
         "text": "mp_conc_boxcox"
        },
        "width": 650,
        "xaxis": {
         "anchor": "y",
         "domain": [
          0,
          1
         ],
         "title": {
          "text": "time"
         }
        },
        "yaxis": {
         "anchor": "x",
         "domain": [
          0,
          1
         ],
         "title": {
          "text": "mp_conc_boxcox"
         }
        }
       }
      }
     },
     "metadata": {},
     "output_type": "display_data"
    }
   ],
   "source": [
    "import plotly.express as px\n",
    "import pandas as pd\n",
    "\n",
    "def plot_data(df: pd.DataFrame,\n",
    "                           y: str) -> None:\n",
    "    \"\"\"General function to plot the passenger data.\"\"\"\n",
    "\n",
    "    fig = px.line(df, x=df.index, y=y, labels={'Month': 'Date'})\n",
    "    fig.update_layout(template=\"simple_white\", title_text='mp_conc_boxcox',\n",
    "                      width=650, height=400)\n",
    "\n",
    "    return fig.show()\n",
    "\n",
    "plot_data(df=data, y='mp_conc_boxcox')\n"
   ]
  },
  {
   "cell_type": "code",
   "execution_count": 7,
   "metadata": {},
   "outputs": [],
   "source": [
    "import plotly.graph_objects as go\n",
    "import nbformat\n",
    "\n",
    "def plot_forecasts(forecasts_1: list[float], forecasts_2: list[float], title: str) -> None:\n",
    "    \"\"\"Function to plot the forecasts.\"\"\"\n",
    "    fig = go.Figure()\n",
    "    fig.add_trace(go.Scatter(x=train.index, y=train['mp_concentration'], name='Train'))\n",
    "    fig.add_trace(go.Scatter(x=test.index, y=test['mp_concentration'], name='Test'))\n",
    "    fig.add_trace(go.Scatter(x=test.index, y=forecasts_1, name='Forecast 1'))\n",
    "    fig.add_trace(go.Scatter(x=test.index, y=forecasts_2, name='Forecast 2'))\n",
    "    fig.update_layout(template=\"simple_white\", font=dict(size=10), title_text=title,\n",
    "                      width=650, title_x=0.5, height=400, xaxis_title='Date',\n",
    "                      yaxis_title='Average Microplastic Concentration')\n",
    "\n",
    "    return fig.show()\n"
   ]
  },
  {
   "cell_type": "markdown",
   "metadata": {},
   "source": [
    "### ARIMA"
   ]
  },
  {
   "cell_type": "code",
   "execution_count": 5,
   "metadata": {},
   "outputs": [
    {
     "data": {
      "text/plain": [
       "(            mp_concentration  mp_conc_boxcox\n",
       " time                                        \n",
       " 2018-08-19         14.865665        0.124086\n",
       " 2018-08-26         14.803406        0.124086\n",
       " 2018-09-02         14.709439        0.124086\n",
       " 2018-09-09         14.761217        0.124086\n",
       " 2018-09-16         14.808359        0.124086\n",
       " ...                      ...             ...\n",
       " 2023-12-31         14.408309        0.124086\n",
       " 2024-01-07         14.506263        0.124086\n",
       " 2024-01-14         14.632690        0.124086\n",
       " 2024-01-21         14.675417        0.124086\n",
       " 2024-01-28         14.609019        0.124086\n",
       " \n",
       " [285 rows x 2 columns],\n",
       "             mp_concentration  mp_conc_boxcox\n",
       " time                                        \n",
       " 2024-02-04         14.550875        0.124086\n",
       " 2024-02-11         14.532674        0.124086\n",
       " 2024-02-18         14.548169        0.124086\n",
       " 2024-02-25         14.541131        0.124086\n",
       " 2024-03-03         14.602452        0.124086\n",
       " ...                      ...             ...\n",
       " 2025-05-11         14.521454        0.124086\n",
       " 2025-05-18         14.560788        0.124086\n",
       " 2025-05-25         14.642275        0.124086\n",
       " 2025-06-01         14.677809        0.124086\n",
       " 2025-06-08         14.718995        0.124086\n",
       " \n",
       " [71 rows x 2 columns])"
      ]
     },
     "execution_count": 5,
     "metadata": {},
     "output_type": "execute_result"
    }
   ],
   "source": [
    "from statsmodels.tsa.arima.model import ARIMA\n",
    "\n",
    "train = data.iloc[:-int(len(data) * 0.2)]\n",
    "test = data.iloc[-int(len(data) * 0.2):]\n",
    "train, test"
   ]
  },
  {
   "cell_type": "code",
   "execution_count": null,
   "metadata": {},
   "outputs": [
    {
     "name": "stderr",
     "output_type": "stream",
     "text": [
      "/Library/Frameworks/Python.framework/Versions/3.10/lib/python3.10/site-packages/statsmodels/tsa/base/tsa_model.py:473: ValueWarning:\n",
      "\n",
      "No frequency information was provided, so inferred frequency W-SUN will be used.\n",
      "\n",
      "/Library/Frameworks/Python.framework/Versions/3.10/lib/python3.10/site-packages/statsmodels/tsa/base/tsa_model.py:473: ValueWarning:\n",
      "\n",
      "No frequency information was provided, so inferred frequency W-SUN will be used.\n",
      "\n",
      "/Library/Frameworks/Python.framework/Versions/3.10/lib/python3.10/site-packages/statsmodels/tsa/base/tsa_model.py:473: ValueWarning:\n",
      "\n",
      "No frequency information was provided, so inferred frequency W-SUN will be used.\n",
      "\n",
      "/Library/Frameworks/Python.framework/Versions/3.10/lib/python3.10/site-packages/statsmodels/tsa/statespace/sarimax.py:966: UserWarning:\n",
      "\n",
      "Non-stationary starting autoregressive parameters found. Using zeros as starting parameters.\n",
      "\n",
      "/Library/Frameworks/Python.framework/Versions/3.10/lib/python3.10/site-packages/statsmodels/tsa/statespace/sarimax.py:978: UserWarning:\n",
      "\n",
      "Non-invertible starting MA parameters found. Using zeros as starting parameters.\n",
      "\n",
      "/Library/Frameworks/Python.framework/Versions/3.10/lib/python3.10/site-packages/statsmodels/base/model.py:607: ConvergenceWarning:\n",
      "\n",
      "Maximum Likelihood optimization failed to converge. Check mle_retvals\n",
      "\n",
      "/Library/Frameworks/Python.framework/Versions/3.10/lib/python3.10/site-packages/statsmodels/tsa/base/tsa_model.py:473: ValueWarning:\n",
      "\n",
      "No frequency information was provided, so inferred frequency W-SUN will be used.\n",
      "\n",
      "/Library/Frameworks/Python.framework/Versions/3.10/lib/python3.10/site-packages/statsmodels/tsa/base/tsa_model.py:473: ValueWarning:\n",
      "\n",
      "No frequency information was provided, so inferred frequency W-SUN will be used.\n",
      "\n",
      "/Library/Frameworks/Python.framework/Versions/3.10/lib/python3.10/site-packages/statsmodels/tsa/base/tsa_model.py:473: ValueWarning:\n",
      "\n",
      "No frequency information was provided, so inferred frequency W-SUN will be used.\n",
      "\n",
      "/Library/Frameworks/Python.framework/Versions/3.10/lib/python3.10/site-packages/statsmodels/tsa/statespace/sarimax.py:978: UserWarning:\n",
      "\n",
      "Non-invertible starting MA parameters found. Using zeros as starting parameters.\n",
      "\n",
      "/Library/Frameworks/Python.framework/Versions/3.10/lib/python3.10/site-packages/statsmodels/base/model.py:607: ConvergenceWarning:\n",
      "\n",
      "Maximum Likelihood optimization failed to converge. Check mle_retvals\n",
      "\n"
     ]
    },
    {
     "data": {
      "application/vnd.plotly.v1+json": {
       "config": {
        "plotlyServerURL": "https://plot.ly"
       },
       "data": [
        {
         "name": "Train",
         "type": "scatter",
         "x": [
          "2018-08-19T00:00:00.000000000",
          "2018-08-26T00:00:00.000000000",
          "2018-09-02T00:00:00.000000000",
          "2018-09-09T00:00:00.000000000",
          "2018-09-16T00:00:00.000000000",
          "2018-09-23T00:00:00.000000000",
          "2018-09-30T00:00:00.000000000",
          "2018-10-07T00:00:00.000000000",
          "2018-10-14T00:00:00.000000000",
          "2018-10-21T00:00:00.000000000",
          "2018-10-28T00:00:00.000000000",
          "2018-11-04T00:00:00.000000000",
          "2018-11-11T00:00:00.000000000",
          "2018-11-18T00:00:00.000000000",
          "2018-11-25T00:00:00.000000000",
          "2018-12-02T00:00:00.000000000",
          "2018-12-09T00:00:00.000000000",
          "2018-12-16T00:00:00.000000000",
          "2018-12-23T00:00:00.000000000",
          "2018-12-30T00:00:00.000000000",
          "2019-01-06T00:00:00.000000000",
          "2019-01-13T00:00:00.000000000",
          "2019-01-20T00:00:00.000000000",
          "2019-01-27T00:00:00.000000000",
          "2019-02-03T00:00:00.000000000",
          "2019-02-10T00:00:00.000000000",
          "2019-02-17T00:00:00.000000000",
          "2019-02-24T00:00:00.000000000",
          "2019-03-03T00:00:00.000000000",
          "2019-03-10T00:00:00.000000000",
          "2019-03-17T00:00:00.000000000",
          "2019-03-24T00:00:00.000000000",
          "2019-03-31T00:00:00.000000000",
          "2019-04-07T00:00:00.000000000",
          "2019-04-14T00:00:00.000000000",
          "2019-04-21T00:00:00.000000000",
          "2019-04-28T00:00:00.000000000",
          "2019-05-05T00:00:00.000000000",
          "2019-05-12T00:00:00.000000000",
          "2019-05-19T00:00:00.000000000",
          "2019-05-26T00:00:00.000000000",
          "2019-06-02T00:00:00.000000000",
          "2019-06-09T00:00:00.000000000",
          "2019-06-16T00:00:00.000000000",
          "2019-06-23T00:00:00.000000000",
          "2019-06-30T00:00:00.000000000",
          "2019-07-07T00:00:00.000000000",
          "2019-07-14T00:00:00.000000000",
          "2019-07-21T00:00:00.000000000",
          "2019-07-28T00:00:00.000000000",
          "2019-08-04T00:00:00.000000000",
          "2019-08-11T00:00:00.000000000",
          "2019-08-18T00:00:00.000000000",
          "2019-08-25T00:00:00.000000000",
          "2019-09-01T00:00:00.000000000",
          "2019-09-08T00:00:00.000000000",
          "2019-09-15T00:00:00.000000000",
          "2019-09-22T00:00:00.000000000",
          "2019-09-29T00:00:00.000000000",
          "2019-10-06T00:00:00.000000000",
          "2019-10-13T00:00:00.000000000",
          "2019-10-20T00:00:00.000000000",
          "2019-10-27T00:00:00.000000000",
          "2019-11-03T00:00:00.000000000",
          "2019-11-10T00:00:00.000000000",
          "2019-11-17T00:00:00.000000000",
          "2019-11-24T00:00:00.000000000",
          "2019-12-01T00:00:00.000000000",
          "2019-12-08T00:00:00.000000000",
          "2019-12-15T00:00:00.000000000",
          "2019-12-22T00:00:00.000000000",
          "2019-12-29T00:00:00.000000000",
          "2020-01-05T00:00:00.000000000",
          "2020-01-12T00:00:00.000000000",
          "2020-01-19T00:00:00.000000000",
          "2020-01-26T00:00:00.000000000",
          "2020-02-02T00:00:00.000000000",
          "2020-02-09T00:00:00.000000000",
          "2020-02-16T00:00:00.000000000",
          "2020-02-23T00:00:00.000000000",
          "2020-03-01T00:00:00.000000000",
          "2020-03-08T00:00:00.000000000",
          "2020-03-15T00:00:00.000000000",
          "2020-03-22T00:00:00.000000000",
          "2020-03-29T00:00:00.000000000",
          "2020-04-05T00:00:00.000000000",
          "2020-04-12T00:00:00.000000000",
          "2020-04-19T00:00:00.000000000",
          "2020-04-26T00:00:00.000000000",
          "2020-05-03T00:00:00.000000000",
          "2020-05-10T00:00:00.000000000",
          "2020-05-17T00:00:00.000000000",
          "2020-05-24T00:00:00.000000000",
          "2020-05-31T00:00:00.000000000",
          "2020-06-07T00:00:00.000000000",
          "2020-06-14T00:00:00.000000000",
          "2020-06-21T00:00:00.000000000",
          "2020-06-28T00:00:00.000000000",
          "2020-07-05T00:00:00.000000000",
          "2020-07-12T00:00:00.000000000",
          "2020-07-19T00:00:00.000000000",
          "2020-07-26T00:00:00.000000000",
          "2020-08-02T00:00:00.000000000",
          "2020-08-09T00:00:00.000000000",
          "2020-08-16T00:00:00.000000000",
          "2020-08-23T00:00:00.000000000",
          "2020-08-30T00:00:00.000000000",
          "2020-09-06T00:00:00.000000000",
          "2020-09-13T00:00:00.000000000",
          "2020-09-20T00:00:00.000000000",
          "2020-09-27T00:00:00.000000000",
          "2020-10-04T00:00:00.000000000",
          "2020-10-11T00:00:00.000000000",
          "2020-10-18T00:00:00.000000000",
          "2020-10-25T00:00:00.000000000",
          "2020-11-01T00:00:00.000000000",
          "2020-11-08T00:00:00.000000000",
          "2020-11-15T00:00:00.000000000",
          "2020-11-22T00:00:00.000000000",
          "2020-11-29T00:00:00.000000000",
          "2020-12-06T00:00:00.000000000",
          "2020-12-13T00:00:00.000000000",
          "2020-12-20T00:00:00.000000000",
          "2020-12-27T00:00:00.000000000",
          "2021-01-03T00:00:00.000000000",
          "2021-01-10T00:00:00.000000000",
          "2021-01-17T00:00:00.000000000",
          "2021-01-24T00:00:00.000000000",
          "2021-01-31T00:00:00.000000000",
          "2021-02-07T00:00:00.000000000",
          "2021-02-14T00:00:00.000000000",
          "2021-02-21T00:00:00.000000000",
          "2021-02-28T00:00:00.000000000",
          "2021-03-07T00:00:00.000000000",
          "2021-03-14T00:00:00.000000000",
          "2021-03-21T00:00:00.000000000",
          "2021-03-28T00:00:00.000000000",
          "2021-04-04T00:00:00.000000000",
          "2021-04-11T00:00:00.000000000",
          "2021-04-18T00:00:00.000000000",
          "2021-04-25T00:00:00.000000000",
          "2021-05-02T00:00:00.000000000",
          "2021-05-09T00:00:00.000000000",
          "2021-05-16T00:00:00.000000000",
          "2021-05-23T00:00:00.000000000",
          "2021-05-30T00:00:00.000000000",
          "2021-06-06T00:00:00.000000000",
          "2021-06-13T00:00:00.000000000",
          "2021-06-20T00:00:00.000000000",
          "2021-06-27T00:00:00.000000000",
          "2021-07-04T00:00:00.000000000",
          "2021-07-11T00:00:00.000000000",
          "2021-07-18T00:00:00.000000000",
          "2021-07-25T00:00:00.000000000",
          "2021-08-01T00:00:00.000000000",
          "2021-08-08T00:00:00.000000000",
          "2021-08-15T00:00:00.000000000",
          "2021-08-22T00:00:00.000000000",
          "2021-08-29T00:00:00.000000000",
          "2021-09-05T00:00:00.000000000",
          "2021-09-12T00:00:00.000000000",
          "2021-09-19T00:00:00.000000000",
          "2021-09-26T00:00:00.000000000",
          "2021-10-03T00:00:00.000000000",
          "2021-10-10T00:00:00.000000000",
          "2021-10-17T00:00:00.000000000",
          "2021-10-24T00:00:00.000000000",
          "2021-10-31T00:00:00.000000000",
          "2021-11-07T00:00:00.000000000",
          "2021-11-14T00:00:00.000000000",
          "2021-11-21T00:00:00.000000000",
          "2021-11-28T00:00:00.000000000",
          "2021-12-05T00:00:00.000000000",
          "2021-12-12T00:00:00.000000000",
          "2021-12-19T00:00:00.000000000",
          "2021-12-26T00:00:00.000000000",
          "2022-01-02T00:00:00.000000000",
          "2022-01-09T00:00:00.000000000",
          "2022-01-16T00:00:00.000000000",
          "2022-01-23T00:00:00.000000000",
          "2022-01-30T00:00:00.000000000",
          "2022-02-06T00:00:00.000000000",
          "2022-02-13T00:00:00.000000000",
          "2022-02-20T00:00:00.000000000",
          "2022-02-27T00:00:00.000000000",
          "2022-03-06T00:00:00.000000000",
          "2022-03-13T00:00:00.000000000",
          "2022-03-20T00:00:00.000000000",
          "2022-03-27T00:00:00.000000000",
          "2022-04-03T00:00:00.000000000",
          "2022-04-10T00:00:00.000000000",
          "2022-04-17T00:00:00.000000000",
          "2022-04-24T00:00:00.000000000",
          "2022-05-01T00:00:00.000000000",
          "2022-05-08T00:00:00.000000000",
          "2022-05-15T00:00:00.000000000",
          "2022-05-22T00:00:00.000000000",
          "2022-05-29T00:00:00.000000000",
          "2022-06-05T00:00:00.000000000",
          "2022-06-12T00:00:00.000000000",
          "2022-06-19T00:00:00.000000000",
          "2022-06-26T00:00:00.000000000",
          "2022-07-03T00:00:00.000000000",
          "2022-07-10T00:00:00.000000000",
          "2022-07-17T00:00:00.000000000",
          "2022-07-24T00:00:00.000000000",
          "2022-07-31T00:00:00.000000000",
          "2022-08-07T00:00:00.000000000",
          "2022-08-14T00:00:00.000000000",
          "2022-08-21T00:00:00.000000000",
          "2022-08-28T00:00:00.000000000",
          "2022-09-04T00:00:00.000000000",
          "2022-09-11T00:00:00.000000000",
          "2022-09-18T00:00:00.000000000",
          "2022-09-25T00:00:00.000000000",
          "2022-10-02T00:00:00.000000000",
          "2022-10-09T00:00:00.000000000",
          "2022-10-16T00:00:00.000000000",
          "2022-10-23T00:00:00.000000000",
          "2022-10-30T00:00:00.000000000",
          "2022-11-06T00:00:00.000000000",
          "2022-11-13T00:00:00.000000000",
          "2022-11-20T00:00:00.000000000",
          "2022-11-27T00:00:00.000000000",
          "2022-12-04T00:00:00.000000000",
          "2022-12-11T00:00:00.000000000",
          "2022-12-18T00:00:00.000000000",
          "2022-12-25T00:00:00.000000000",
          "2023-01-01T00:00:00.000000000",
          "2023-01-08T00:00:00.000000000",
          "2023-01-15T00:00:00.000000000",
          "2023-01-22T00:00:00.000000000",
          "2023-01-29T00:00:00.000000000",
          "2023-02-05T00:00:00.000000000",
          "2023-02-12T00:00:00.000000000",
          "2023-02-19T00:00:00.000000000",
          "2023-02-26T00:00:00.000000000",
          "2023-03-05T00:00:00.000000000",
          "2023-03-12T00:00:00.000000000",
          "2023-03-19T00:00:00.000000000",
          "2023-03-26T00:00:00.000000000",
          "2023-04-02T00:00:00.000000000",
          "2023-04-09T00:00:00.000000000",
          "2023-04-16T00:00:00.000000000",
          "2023-04-23T00:00:00.000000000",
          "2023-04-30T00:00:00.000000000",
          "2023-05-07T00:00:00.000000000",
          "2023-05-14T00:00:00.000000000",
          "2023-05-21T00:00:00.000000000",
          "2023-05-28T00:00:00.000000000",
          "2023-06-04T00:00:00.000000000",
          "2023-06-11T00:00:00.000000000",
          "2023-06-18T00:00:00.000000000",
          "2023-06-25T00:00:00.000000000",
          "2023-07-02T00:00:00.000000000",
          "2023-07-09T00:00:00.000000000",
          "2023-07-16T00:00:00.000000000",
          "2023-07-23T00:00:00.000000000",
          "2023-07-30T00:00:00.000000000",
          "2023-08-06T00:00:00.000000000",
          "2023-08-13T00:00:00.000000000",
          "2023-08-20T00:00:00.000000000",
          "2023-08-27T00:00:00.000000000",
          "2023-09-03T00:00:00.000000000",
          "2023-09-10T00:00:00.000000000",
          "2023-09-17T00:00:00.000000000",
          "2023-09-24T00:00:00.000000000",
          "2023-10-01T00:00:00.000000000",
          "2023-10-08T00:00:00.000000000",
          "2023-10-15T00:00:00.000000000",
          "2023-10-22T00:00:00.000000000",
          "2023-10-29T00:00:00.000000000",
          "2023-11-05T00:00:00.000000000",
          "2023-11-12T00:00:00.000000000",
          "2023-11-19T00:00:00.000000000",
          "2023-11-26T00:00:00.000000000",
          "2023-12-03T00:00:00.000000000",
          "2023-12-10T00:00:00.000000000",
          "2023-12-17T00:00:00.000000000",
          "2023-12-24T00:00:00.000000000",
          "2023-12-31T00:00:00.000000000",
          "2024-01-07T00:00:00.000000000",
          "2024-01-14T00:00:00.000000000",
          "2024-01-21T00:00:00.000000000",
          "2024-01-28T00:00:00.000000000"
         ],
         "y": {
          "bdata": "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",
          "dtype": "f8"
         }
        },
        {
         "name": "Test",
         "type": "scatter",
         "x": [
          "2024-02-04T00:00:00.000000000",
          "2024-02-11T00:00:00.000000000",
          "2024-02-18T00:00:00.000000000",
          "2024-02-25T00:00:00.000000000",
          "2024-03-03T00:00:00.000000000",
          "2024-03-10T00:00:00.000000000",
          "2024-03-17T00:00:00.000000000",
          "2024-03-24T00:00:00.000000000",
          "2024-03-31T00:00:00.000000000",
          "2024-04-07T00:00:00.000000000",
          "2024-04-14T00:00:00.000000000",
          "2024-04-21T00:00:00.000000000",
          "2024-04-28T00:00:00.000000000",
          "2024-05-05T00:00:00.000000000",
          "2024-05-12T00:00:00.000000000",
          "2024-05-19T00:00:00.000000000",
          "2024-05-26T00:00:00.000000000",
          "2024-06-02T00:00:00.000000000",
          "2024-06-09T00:00:00.000000000",
          "2024-06-16T00:00:00.000000000",
          "2024-06-23T00:00:00.000000000",
          "2024-06-30T00:00:00.000000000",
          "2024-07-07T00:00:00.000000000",
          "2024-07-14T00:00:00.000000000",
          "2024-07-21T00:00:00.000000000",
          "2024-07-28T00:00:00.000000000",
          "2024-08-04T00:00:00.000000000",
          "2024-08-11T00:00:00.000000000",
          "2024-08-18T00:00:00.000000000",
          "2024-08-25T00:00:00.000000000",
          "2024-09-01T00:00:00.000000000",
          "2024-09-08T00:00:00.000000000",
          "2024-09-15T00:00:00.000000000",
          "2024-09-22T00:00:00.000000000",
          "2024-09-29T00:00:00.000000000",
          "2024-10-06T00:00:00.000000000",
          "2024-10-13T00:00:00.000000000",
          "2024-10-20T00:00:00.000000000",
          "2024-10-27T00:00:00.000000000",
          "2024-11-03T00:00:00.000000000",
          "2024-11-10T00:00:00.000000000",
          "2024-11-17T00:00:00.000000000",
          "2024-11-24T00:00:00.000000000",
          "2024-12-01T00:00:00.000000000",
          "2024-12-08T00:00:00.000000000",
          "2024-12-15T00:00:00.000000000",
          "2024-12-22T00:00:00.000000000",
          "2024-12-29T00:00:00.000000000",
          "2025-01-05T00:00:00.000000000",
          "2025-01-12T00:00:00.000000000",
          "2025-01-19T00:00:00.000000000",
          "2025-01-26T00:00:00.000000000",
          "2025-02-02T00:00:00.000000000",
          "2025-02-09T00:00:00.000000000",
          "2025-02-16T00:00:00.000000000",
          "2025-02-23T00:00:00.000000000",
          "2025-03-02T00:00:00.000000000",
          "2025-03-09T00:00:00.000000000",
          "2025-03-16T00:00:00.000000000",
          "2025-03-23T00:00:00.000000000",
          "2025-03-30T00:00:00.000000000",
          "2025-04-06T00:00:00.000000000",
          "2025-04-13T00:00:00.000000000",
          "2025-04-20T00:00:00.000000000",
          "2025-04-27T00:00:00.000000000",
          "2025-05-04T00:00:00.000000000",
          "2025-05-11T00:00:00.000000000",
          "2025-05-18T00:00:00.000000000",
          "2025-05-25T00:00:00.000000000",
          "2025-06-01T00:00:00.000000000",
          "2025-06-08T00:00:00.000000000"
         ],
         "y": {
          "bdata": "Ng2rOwwaLUB4bv+vuhAtQKLI/J+pGC1A5nahFg8VLUDPNFGidDQtQL84NesoVS1A9pG6jxRFLUDbPJ02bBAtQJYSjh4KAy1A4rfLTJoPLUAJVnVlyzItQIIryTIhbi1AIL4cm0trLUD7Fj4QgzQtQJ42aC3OWi1A+WNLvPFaLUD44YcPh1YtQEtcBJXJWC1Ab3VS8kl3LUAygAbojXYtQA4tobGOeC1APvJv9Zx5LUA00pJHRl8tQCX9DHX9RC1AatSbbRxMLUDAhfVWWHItQGdLxmVAbS1AobMp6yNyLUAV+DWfiZMtQPmtQpNKay1AkN2vWFA6LUD3CyeVbDstQL++58IyYC1AUtobRlRuLUAEwM1181ctQKkX+oplWy1AolDJpn1zLUChDaZJSXMtQFDRAmfijy1A6ZrNs4TDLUDlqZ6H0qktQKVpymmKKy1AdsJdmoIcLUBNTYjneyQtQKUoS1sRDi1Asl+FVjA2LUAP5iIMGmctQFGK2cDkaC1Aghat10VaLUC1SNLgzDUtQAJJcvc+Ki1A2lk0skAQLUCDzU9zji8tQFaggTEKZC1AUbZFXN5bLUAopFInrkwtQHlyi36LLi1AOgsz/uUuLUCLFpWQ9zEtQAbGqJMIbi1AKbWWTouyLUC1TxsS3KotQOVGPmq1ci1Agjg9WtNdLUC+eKBaGhMtQM0T5rMU6ixA+37ICPwKLUD6jS2YHx8tQFsi1EvYSC1ARTLWyAlbLUBrZakYIHAtQA==",
          "dtype": "f8"
         }
        },
        {
         "name": "Forecast 1",
         "type": "scatter",
         "x": [
          "2024-02-04T00:00:00.000000000",
          "2024-02-11T00:00:00.000000000",
          "2024-02-18T00:00:00.000000000",
          "2024-02-25T00:00:00.000000000",
          "2024-03-03T00:00:00.000000000",
          "2024-03-10T00:00:00.000000000",
          "2024-03-17T00:00:00.000000000",
          "2024-03-24T00:00:00.000000000",
          "2024-03-31T00:00:00.000000000",
          "2024-04-07T00:00:00.000000000",
          "2024-04-14T00:00:00.000000000",
          "2024-04-21T00:00:00.000000000",
          "2024-04-28T00:00:00.000000000",
          "2024-05-05T00:00:00.000000000",
          "2024-05-12T00:00:00.000000000",
          "2024-05-19T00:00:00.000000000",
          "2024-05-26T00:00:00.000000000",
          "2024-06-02T00:00:00.000000000",
          "2024-06-09T00:00:00.000000000",
          "2024-06-16T00:00:00.000000000",
          "2024-06-23T00:00:00.000000000",
          "2024-06-30T00:00:00.000000000",
          "2024-07-07T00:00:00.000000000",
          "2024-07-14T00:00:00.000000000",
          "2024-07-21T00:00:00.000000000",
          "2024-07-28T00:00:00.000000000",
          "2024-08-04T00:00:00.000000000",
          "2024-08-11T00:00:00.000000000",
          "2024-08-18T00:00:00.000000000",
          "2024-08-25T00:00:00.000000000",
          "2024-09-01T00:00:00.000000000",
          "2024-09-08T00:00:00.000000000",
          "2024-09-15T00:00:00.000000000",
          "2024-09-22T00:00:00.000000000",
          "2024-09-29T00:00:00.000000000",
          "2024-10-06T00:00:00.000000000",
          "2024-10-13T00:00:00.000000000",
          "2024-10-20T00:00:00.000000000",
          "2024-10-27T00:00:00.000000000",
          "2024-11-03T00:00:00.000000000",
          "2024-11-10T00:00:00.000000000",
          "2024-11-17T00:00:00.000000000",
          "2024-11-24T00:00:00.000000000",
          "2024-12-01T00:00:00.000000000",
          "2024-12-08T00:00:00.000000000",
          "2024-12-15T00:00:00.000000000",
          "2024-12-22T00:00:00.000000000",
          "2024-12-29T00:00:00.000000000",
          "2025-01-05T00:00:00.000000000",
          "2025-01-12T00:00:00.000000000",
          "2025-01-19T00:00:00.000000000",
          "2025-01-26T00:00:00.000000000",
          "2025-02-02T00:00:00.000000000",
          "2025-02-09T00:00:00.000000000",
          "2025-02-16T00:00:00.000000000",
          "2025-02-23T00:00:00.000000000",
          "2025-03-02T00:00:00.000000000",
          "2025-03-09T00:00:00.000000000",
          "2025-03-16T00:00:00.000000000",
          "2025-03-23T00:00:00.000000000",
          "2025-03-30T00:00:00.000000000",
          "2025-04-06T00:00:00.000000000",
          "2025-04-13T00:00:00.000000000",
          "2025-04-20T00:00:00.000000000",
          "2025-04-27T00:00:00.000000000",
          "2025-05-04T00:00:00.000000000",
          "2025-05-11T00:00:00.000000000",
          "2025-05-18T00:00:00.000000000",
          "2025-05-25T00:00:00.000000000",
          "2025-06-01T00:00:00.000000000",
          "2025-06-08T00:00:00.000000000"
         ],
         "y": {
          "bdata": "dtI2T9E3LUB20jZP0TctQHbSNk/RNy1AdtI2T9E3LUB20jZP0TctQHbSNk/RNy1AdtI2T9E3LUB20jZP0TctQHbSNk/RNy1AdtI2T9E3LUB20jZP0TctQHbSNk/RNy1AdtI2T9E3LUB20jZP0TctQHbSNk/RNy1AdtI2T9E3LUB20jZP0TctQHbSNk/RNy1AdtI2T9E3LUB20jZP0TctQHbSNk/RNy1AdtI2T9E3LUB20jZP0TctQHbSNk/RNy1AdtI2T9E3LUB20jZP0TctQHbSNk/RNy1AdtI2T9E3LUB20jZP0TctQHbSNk/RNy1AdtI2T9E3LUB20jZP0TctQHbSNk/RNy1AdtI2T9E3LUB20jZP0TctQHbSNk/RNy1AdtI2T9E3LUB20jZP0TctQHbSNk/RNy1AdtI2T9E3LUB20jZP0TctQHbSNk/RNy1AdtI2T9E3LUB20jZP0TctQHbSNk/RNy1AdtI2T9E3LUB20jZP0TctQHbSNk/RNy1AdtI2T9E3LUB20jZP0TctQHbSNk/RNy1AdtI2T9E3LUB20jZP0TctQHbSNk/RNy1AdtI2T9E3LUB20jZP0TctQHbSNk/RNy1AdtI2T9E3LUB20jZP0TctQHbSNk/RNy1AdtI2T9E3LUB20jZP0TctQHbSNk/RNy1AdtI2T9E3LUB20jZP0TctQHbSNk/RNy1AdtI2T9E3LUB20jZP0TctQHbSNk/RNy1AdtI2T9E3LUB20jZP0TctQA==",
          "dtype": "f8"
         }
        },
        {
         "name": "Forecast 2",
         "type": "scatter",
         "x": [
          "2024-02-04T00:00:00.000000000",
          "2024-02-11T00:00:00.000000000",
          "2024-02-18T00:00:00.000000000",
          "2024-02-25T00:00:00.000000000",
          "2024-03-03T00:00:00.000000000",
          "2024-03-10T00:00:00.000000000",
          "2024-03-17T00:00:00.000000000",
          "2024-03-24T00:00:00.000000000",
          "2024-03-31T00:00:00.000000000",
          "2024-04-07T00:00:00.000000000",
          "2024-04-14T00:00:00.000000000",
          "2024-04-21T00:00:00.000000000",
          "2024-04-28T00:00:00.000000000",
          "2024-05-05T00:00:00.000000000",
          "2024-05-12T00:00:00.000000000",
          "2024-05-19T00:00:00.000000000",
          "2024-05-26T00:00:00.000000000",
          "2024-06-02T00:00:00.000000000",
          "2024-06-09T00:00:00.000000000",
          "2024-06-16T00:00:00.000000000",
          "2024-06-23T00:00:00.000000000",
          "2024-06-30T00:00:00.000000000",
          "2024-07-07T00:00:00.000000000",
          "2024-07-14T00:00:00.000000000",
          "2024-07-21T00:00:00.000000000",
          "2024-07-28T00:00:00.000000000",
          "2024-08-04T00:00:00.000000000",
          "2024-08-11T00:00:00.000000000",
          "2024-08-18T00:00:00.000000000",
          "2024-08-25T00:00:00.000000000",
          "2024-09-01T00:00:00.000000000",
          "2024-09-08T00:00:00.000000000",
          "2024-09-15T00:00:00.000000000",
          "2024-09-22T00:00:00.000000000",
          "2024-09-29T00:00:00.000000000",
          "2024-10-06T00:00:00.000000000",
          "2024-10-13T00:00:00.000000000",
          "2024-10-20T00:00:00.000000000",
          "2024-10-27T00:00:00.000000000",
          "2024-11-03T00:00:00.000000000",
          "2024-11-10T00:00:00.000000000",
          "2024-11-17T00:00:00.000000000",
          "2024-11-24T00:00:00.000000000",
          "2024-12-01T00:00:00.000000000",
          "2024-12-08T00:00:00.000000000",
          "2024-12-15T00:00:00.000000000",
          "2024-12-22T00:00:00.000000000",
          "2024-12-29T00:00:00.000000000",
          "2025-01-05T00:00:00.000000000",
          "2025-01-12T00:00:00.000000000",
          "2025-01-19T00:00:00.000000000",
          "2025-01-26T00:00:00.000000000",
          "2025-02-02T00:00:00.000000000",
          "2025-02-09T00:00:00.000000000",
          "2025-02-16T00:00:00.000000000",
          "2025-02-23T00:00:00.000000000",
          "2025-03-02T00:00:00.000000000",
          "2025-03-09T00:00:00.000000000",
          "2025-03-16T00:00:00.000000000",
          "2025-03-23T00:00:00.000000000",
          "2025-03-30T00:00:00.000000000",
          "2025-04-06T00:00:00.000000000",
          "2025-04-13T00:00:00.000000000",
          "2025-04-20T00:00:00.000000000",
          "2025-04-27T00:00:00.000000000",
          "2025-05-04T00:00:00.000000000",
          "2025-05-11T00:00:00.000000000",
          "2025-05-18T00:00:00.000000000",
          "2025-05-25T00:00:00.000000000",
          "2025-06-01T00:00:00.000000000",
          "2025-06-08T00:00:00.000000000"
         ],
         "y": {
          "bdata": "SbUVTvwvLUCfQ//gnC0tQFAmpgTkLC1A4ZqeuassLUDBJ06WmiwtQKkOqVaVLC1A8WD0wZMsLUChC3NAkywtQH25EiCTLC1A45DiD5MsLUDjkOIPkywtQOOQ4g+TLC1A45DiD5MsLUDjkOIPkywtQOOQ4g+TLC1A45DiD5MsLUDjkOIPkywtQOOQ4g+TLC1A45DiD5MsLUDjkOIPkywtQOOQ4g+TLC1A45DiD5MsLUDjkOIPkywtQOOQ4g+TLC1A45DiD5MsLUDjkOIPkywtQOOQ4g+TLC1A45DiD5MsLUDjkOIPkywtQOOQ4g+TLC1A45DiD5MsLUDjkOIPkywtQOOQ4g+TLC1A45DiD5MsLUDjkOIPkywtQOOQ4g+TLC1A45DiD5MsLUDjkOIPkywtQOOQ4g+TLC1A45DiD5MsLUDjkOIPkywtQOOQ4g+TLC1A45DiD5MsLUDjkOIPkywtQOOQ4g+TLC1A45DiD5MsLUDjkOIPkywtQOOQ4g+TLC1A45DiD5MsLUDjkOIPkywtQOOQ4g+TLC1A45DiD5MsLUDjkOIPkywtQOOQ4g+TLC1A45DiD5MsLUDjkOIPkywtQOOQ4g+TLC1A45DiD5MsLUDjkOIPkywtQOOQ4g+TLC1A45DiD5MsLUDjkOIPkywtQOOQ4g+TLC1A45DiD5MsLUDjkOIPkywtQOOQ4g+TLC1A45DiD5MsLUDjkOIPkywtQOOQ4g+TLC1A45DiD5MsLUDjkOIPkywtQA==",
          "dtype": "f8"
         }
        }
       ],
       "layout": {
        "font": {
         "size": 10
        },
        "height": 400,
        "template": {
         "data": {
          "bar": [
           {
            "error_x": {
             "color": "rgb(36,36,36)"
            },
            "error_y": {
             "color": "rgb(36,36,36)"
            },
            "marker": {
             "line": {
              "color": "white",
              "width": 0.5
             },
             "pattern": {
              "fillmode": "overlay",
              "size": 10,
              "solidity": 0.2
             }
            },
            "type": "bar"
           }
          ],
          "barpolar": [
           {
            "marker": {
             "line": {
              "color": "white",
              "width": 0.5
             },
             "pattern": {
              "fillmode": "overlay",
              "size": 10,
              "solidity": 0.2
             }
            },
            "type": "barpolar"
           }
          ],
          "carpet": [
           {
            "aaxis": {
             "endlinecolor": "rgb(36,36,36)",
             "gridcolor": "white",
             "linecolor": "white",
             "minorgridcolor": "white",
             "startlinecolor": "rgb(36,36,36)"
            },
            "baxis": {
             "endlinecolor": "rgb(36,36,36)",
             "gridcolor": "white",
             "linecolor": "white",
             "minorgridcolor": "white",
             "startlinecolor": "rgb(36,36,36)"
            },
            "type": "carpet"
           }
          ],
          "choropleth": [
           {
            "colorbar": {
             "outlinewidth": 1,
             "tickcolor": "rgb(36,36,36)",
             "ticks": "outside"
            },
            "type": "choropleth"
           }
          ],
          "contour": [
           {
            "colorbar": {
             "outlinewidth": 1,
             "tickcolor": "rgb(36,36,36)",
             "ticks": "outside"
            },
            "colorscale": [
             [
              0,
              "#440154"
             ],
             [
              0.1111111111111111,
              "#482878"
             ],
             [
              0.2222222222222222,
              "#3e4989"
             ],
             [
              0.3333333333333333,
              "#31688e"
             ],
             [
              0.4444444444444444,
              "#26828e"
             ],
             [
              0.5555555555555556,
              "#1f9e89"
             ],
             [
              0.6666666666666666,
              "#35b779"
             ],
             [
              0.7777777777777778,
              "#6ece58"
             ],
             [
              0.8888888888888888,
              "#b5de2b"
             ],
             [
              1,
              "#fde725"
             ]
            ],
            "type": "contour"
           }
          ],
          "contourcarpet": [
           {
            "colorbar": {
             "outlinewidth": 1,
             "tickcolor": "rgb(36,36,36)",
             "ticks": "outside"
            },
            "type": "contourcarpet"
           }
          ],
          "heatmap": [
           {
            "colorbar": {
             "outlinewidth": 1,
             "tickcolor": "rgb(36,36,36)",
             "ticks": "outside"
            },
            "colorscale": [
             [
              0,
              "#440154"
             ],
             [
              0.1111111111111111,
              "#482878"
             ],
             [
              0.2222222222222222,
              "#3e4989"
             ],
             [
              0.3333333333333333,
              "#31688e"
             ],
             [
              0.4444444444444444,
              "#26828e"
             ],
             [
              0.5555555555555556,
              "#1f9e89"
             ],
             [
              0.6666666666666666,
              "#35b779"
             ],
             [
              0.7777777777777778,
              "#6ece58"
             ],
             [
              0.8888888888888888,
              "#b5de2b"
             ],
             [
              1,
              "#fde725"
             ]
            ],
            "type": "heatmap"
           }
          ],
          "histogram": [
           {
            "marker": {
             "line": {
              "color": "white",
              "width": 0.6
             }
            },
            "type": "histogram"
           }
          ],
          "histogram2d": [
           {
            "colorbar": {
             "outlinewidth": 1,
             "tickcolor": "rgb(36,36,36)",
             "ticks": "outside"
            },
            "colorscale": [
             [
              0,
              "#440154"
             ],
             [
              0.1111111111111111,
              "#482878"
             ],
             [
              0.2222222222222222,
              "#3e4989"
             ],
             [
              0.3333333333333333,
              "#31688e"
             ],
             [
              0.4444444444444444,
              "#26828e"
             ],
             [
              0.5555555555555556,
              "#1f9e89"
             ],
             [
              0.6666666666666666,
              "#35b779"
             ],
             [
              0.7777777777777778,
              "#6ece58"
             ],
             [
              0.8888888888888888,
              "#b5de2b"
             ],
             [
              1,
              "#fde725"
             ]
            ],
            "type": "histogram2d"
           }
          ],
          "histogram2dcontour": [
           {
            "colorbar": {
             "outlinewidth": 1,
             "tickcolor": "rgb(36,36,36)",
             "ticks": "outside"
            },
            "colorscale": [
             [
              0,
              "#440154"
             ],
             [
              0.1111111111111111,
              "#482878"
             ],
             [
              0.2222222222222222,
              "#3e4989"
             ],
             [
              0.3333333333333333,
              "#31688e"
             ],
             [
              0.4444444444444444,
              "#26828e"
             ],
             [
              0.5555555555555556,
              "#1f9e89"
             ],
             [
              0.6666666666666666,
              "#35b779"
             ],
             [
              0.7777777777777778,
              "#6ece58"
             ],
             [
              0.8888888888888888,
              "#b5de2b"
             ],
             [
              1,
              "#fde725"
             ]
            ],
            "type": "histogram2dcontour"
           }
          ],
          "mesh3d": [
           {
            "colorbar": {
             "outlinewidth": 1,
             "tickcolor": "rgb(36,36,36)",
             "ticks": "outside"
            },
            "type": "mesh3d"
           }
          ],
          "parcoords": [
           {
            "line": {
             "colorbar": {
              "outlinewidth": 1,
              "tickcolor": "rgb(36,36,36)",
              "ticks": "outside"
             }
            },
            "type": "parcoords"
           }
          ],
          "pie": [
           {
            "automargin": true,
            "type": "pie"
           }
          ],
          "scatter": [
           {
            "fillpattern": {
             "fillmode": "overlay",
             "size": 10,
             "solidity": 0.2
            },
            "type": "scatter"
           }
          ],
          "scatter3d": [
           {
            "line": {
             "colorbar": {
              "outlinewidth": 1,
              "tickcolor": "rgb(36,36,36)",
              "ticks": "outside"
             }
            },
            "marker": {
             "colorbar": {
              "outlinewidth": 1,
              "tickcolor": "rgb(36,36,36)",
              "ticks": "outside"
             }
            },
            "type": "scatter3d"
           }
          ],
          "scattercarpet": [
           {
            "marker": {
             "colorbar": {
              "outlinewidth": 1,
              "tickcolor": "rgb(36,36,36)",
              "ticks": "outside"
             }
            },
            "type": "scattercarpet"
           }
          ],
          "scattergeo": [
           {
            "marker": {
             "colorbar": {
              "outlinewidth": 1,
              "tickcolor": "rgb(36,36,36)",
              "ticks": "outside"
             }
            },
            "type": "scattergeo"
           }
          ],
          "scattergl": [
           {
            "marker": {
             "colorbar": {
              "outlinewidth": 1,
              "tickcolor": "rgb(36,36,36)",
              "ticks": "outside"
             }
            },
            "type": "scattergl"
           }
          ],
          "scattermap": [
           {
            "marker": {
             "colorbar": {
              "outlinewidth": 1,
              "tickcolor": "rgb(36,36,36)",
              "ticks": "outside"
             }
            },
            "type": "scattermap"
           }
          ],
          "scattermapbox": [
           {
            "marker": {
             "colorbar": {
              "outlinewidth": 1,
              "tickcolor": "rgb(36,36,36)",
              "ticks": "outside"
             }
            },
            "type": "scattermapbox"
           }
          ],
          "scatterpolar": [
           {
            "marker": {
             "colorbar": {
              "outlinewidth": 1,
              "tickcolor": "rgb(36,36,36)",
              "ticks": "outside"
             }
            },
            "type": "scatterpolar"
           }
          ],
          "scatterpolargl": [
           {
            "marker": {
             "colorbar": {
              "outlinewidth": 1,
              "tickcolor": "rgb(36,36,36)",
              "ticks": "outside"
             }
            },
            "type": "scatterpolargl"
           }
          ],
          "scatterternary": [
           {
            "marker": {
             "colorbar": {
              "outlinewidth": 1,
              "tickcolor": "rgb(36,36,36)",
              "ticks": "outside"
             }
            },
            "type": "scatterternary"
           }
          ],
          "surface": [
           {
            "colorbar": {
             "outlinewidth": 1,
             "tickcolor": "rgb(36,36,36)",
             "ticks": "outside"
            },
            "colorscale": [
             [
              0,
              "#440154"
             ],
             [
              0.1111111111111111,
              "#482878"
             ],
             [
              0.2222222222222222,
              "#3e4989"
             ],
             [
              0.3333333333333333,
              "#31688e"
             ],
             [
              0.4444444444444444,
              "#26828e"
             ],
             [
              0.5555555555555556,
              "#1f9e89"
             ],
             [
              0.6666666666666666,
              "#35b779"
             ],
             [
              0.7777777777777778,
              "#6ece58"
             ],
             [
              0.8888888888888888,
              "#b5de2b"
             ],
             [
              1,
              "#fde725"
             ]
            ],
            "type": "surface"
           }
          ],
          "table": [
           {
            "cells": {
             "fill": {
              "color": "rgb(237,237,237)"
             },
             "line": {
              "color": "white"
             }
            },
            "header": {
             "fill": {
              "color": "rgb(217,217,217)"
             },
             "line": {
              "color": "white"
             }
            },
            "type": "table"
           }
          ]
         },
         "layout": {
          "annotationdefaults": {
           "arrowhead": 0,
           "arrowwidth": 1
          },
          "autotypenumbers": "strict",
          "coloraxis": {
           "colorbar": {
            "outlinewidth": 1,
            "tickcolor": "rgb(36,36,36)",
            "ticks": "outside"
           }
          },
          "colorscale": {
           "diverging": [
            [
             0,
             "rgb(103,0,31)"
            ],
            [
             0.1,
             "rgb(178,24,43)"
            ],
            [
             0.2,
             "rgb(214,96,77)"
            ],
            [
             0.3,
             "rgb(244,165,130)"
            ],
            [
             0.4,
             "rgb(253,219,199)"
            ],
            [
             0.5,
             "rgb(247,247,247)"
            ],
            [
             0.6,
             "rgb(209,229,240)"
            ],
            [
             0.7,
             "rgb(146,197,222)"
            ],
            [
             0.8,
             "rgb(67,147,195)"
            ],
            [
             0.9,
             "rgb(33,102,172)"
            ],
            [
             1,
             "rgb(5,48,97)"
            ]
           ],
           "sequential": [
            [
             0,
             "#440154"
            ],
            [
             0.1111111111111111,
             "#482878"
            ],
            [
             0.2222222222222222,
             "#3e4989"
            ],
            [
             0.3333333333333333,
             "#31688e"
            ],
            [
             0.4444444444444444,
             "#26828e"
            ],
            [
             0.5555555555555556,
             "#1f9e89"
            ],
            [
             0.6666666666666666,
             "#35b779"
            ],
            [
             0.7777777777777778,
             "#6ece58"
            ],
            [
             0.8888888888888888,
             "#b5de2b"
            ],
            [
             1,
             "#fde725"
            ]
           ],
           "sequentialminus": [
            [
             0,
             "#440154"
            ],
            [
             0.1111111111111111,
             "#482878"
            ],
            [
             0.2222222222222222,
             "#3e4989"
            ],
            [
             0.3333333333333333,
             "#31688e"
            ],
            [
             0.4444444444444444,
             "#26828e"
            ],
            [
             0.5555555555555556,
             "#1f9e89"
            ],
            [
             0.6666666666666666,
             "#35b779"
            ],
            [
             0.7777777777777778,
             "#6ece58"
            ],
            [
             0.8888888888888888,
             "#b5de2b"
            ],
            [
             1,
             "#fde725"
            ]
           ]
          },
          "colorway": [
           "#1F77B4",
           "#FF7F0E",
           "#2CA02C",
           "#D62728",
           "#9467BD",
           "#8C564B",
           "#E377C2",
           "#7F7F7F",
           "#BCBD22",
           "#17BECF"
          ],
          "font": {
           "color": "rgb(36,36,36)"
          },
          "geo": {
           "bgcolor": "white",
           "lakecolor": "white",
           "landcolor": "white",
           "showlakes": true,
           "showland": true,
           "subunitcolor": "white"
          },
          "hoverlabel": {
           "align": "left"
          },
          "hovermode": "closest",
          "mapbox": {
           "style": "light"
          },
          "paper_bgcolor": "white",
          "plot_bgcolor": "white",
          "polar": {
           "angularaxis": {
            "gridcolor": "rgb(232,232,232)",
            "linecolor": "rgb(36,36,36)",
            "showgrid": false,
            "showline": true,
            "ticks": "outside"
           },
           "bgcolor": "white",
           "radialaxis": {
            "gridcolor": "rgb(232,232,232)",
            "linecolor": "rgb(36,36,36)",
            "showgrid": false,
            "showline": true,
            "ticks": "outside"
           }
          },
          "scene": {
           "xaxis": {
            "backgroundcolor": "white",
            "gridcolor": "rgb(232,232,232)",
            "gridwidth": 2,
            "linecolor": "rgb(36,36,36)",
            "showbackground": true,
            "showgrid": false,
            "showline": true,
            "ticks": "outside",
            "zeroline": false,
            "zerolinecolor": "rgb(36,36,36)"
           },
           "yaxis": {
            "backgroundcolor": "white",
            "gridcolor": "rgb(232,232,232)",
            "gridwidth": 2,
            "linecolor": "rgb(36,36,36)",
            "showbackground": true,
            "showgrid": false,
            "showline": true,
            "ticks": "outside",
            "zeroline": false,
            "zerolinecolor": "rgb(36,36,36)"
           },
           "zaxis": {
            "backgroundcolor": "white",
            "gridcolor": "rgb(232,232,232)",
            "gridwidth": 2,
            "linecolor": "rgb(36,36,36)",
            "showbackground": true,
            "showgrid": false,
            "showline": true,
            "ticks": "outside",
            "zeroline": false,
            "zerolinecolor": "rgb(36,36,36)"
           }
          },
          "shapedefaults": {
           "fillcolor": "black",
           "line": {
            "width": 0
           },
           "opacity": 0.3
          },
          "ternary": {
           "aaxis": {
            "gridcolor": "rgb(232,232,232)",
            "linecolor": "rgb(36,36,36)",
            "showgrid": false,
            "showline": true,
            "ticks": "outside"
           },
           "baxis": {
            "gridcolor": "rgb(232,232,232)",
            "linecolor": "rgb(36,36,36)",
            "showgrid": false,
            "showline": true,
            "ticks": "outside"
           },
           "bgcolor": "white",
           "caxis": {
            "gridcolor": "rgb(232,232,232)",
            "linecolor": "rgb(36,36,36)",
            "showgrid": false,
            "showline": true,
            "ticks": "outside"
           }
          },
          "title": {
           "x": 0.05
          },
          "xaxis": {
           "automargin": true,
           "gridcolor": "rgb(232,232,232)",
           "linecolor": "rgb(36,36,36)",
           "showgrid": false,
           "showline": true,
           "ticks": "outside",
           "title": {
            "standoff": 15
           },
           "zeroline": false,
           "zerolinecolor": "rgb(36,36,36)"
          },
          "yaxis": {
           "automargin": true,
           "gridcolor": "rgb(232,232,232)",
           "linecolor": "rgb(36,36,36)",
           "showgrid": false,
           "showline": true,
           "ticks": "outside",
           "title": {
            "standoff": 15
           },
           "zeroline": false,
           "zerolinecolor": "rgb(36,36,36)"
          }
         }
        },
        "title": {
         "text": "mp_concentration ARIMA",
         "x": 0.5
        },
        "width": 650,
        "xaxis": {
         "title": {
          "text": "Date"
         }
        },
        "yaxis": {
         "title": {
          "text": "Average Microplastic Concentration"
         }
        }
       }
      }
     },
     "metadata": {},
     "output_type": "display_data"
    }
   ],
   "source": [
    "from scipy.special import inv_boxcox\n",
    "# Plot the forecasts\n",
    "arima_1 = ARIMA(train.mp_conc_boxcox, order=(12,1,14)).fit()\n",
    "boxcox_forecasts_1 = arima_1.forecast(len(test))\n",
    "arima_forecasts_1 = inv_boxcox(boxcox_forecasts_1, lam)\n",
    "\n",
    "arima_2 = ARIMA(train.mp_conc_boxcox, order=(1,1,12)).fit()\n",
    "boxcox_forecasts_2 = arima_2.forecast(len(test))\n",
    "arima_forecasts_2 = inv_boxcox(boxcox_forecasts_2, lam)\n",
    "plot_forecasts(arima_forecasts_1, arima_forecasts_2, 'mp_concentration ARIMA')"
   ]
  },
  {
   "cell_type": "markdown",
   "metadata": {},
   "source": [
    "### SARIMA"
   ]
  },
  {
   "cell_type": "code",
   "execution_count": 29,
   "metadata": {},
   "outputs": [
    {
     "name": "stderr",
     "output_type": "stream",
     "text": [
      "/Library/Frameworks/Python.framework/Versions/3.10/lib/python3.10/site-packages/statsmodels/tsa/base/tsa_model.py:473: ValueWarning:\n",
      "\n",
      "No frequency information was provided, so inferred frequency W-SUN will be used.\n",
      "\n",
      "/Library/Frameworks/Python.framework/Versions/3.10/lib/python3.10/site-packages/statsmodels/tsa/base/tsa_model.py:473: ValueWarning:\n",
      "\n",
      "No frequency information was provided, so inferred frequency W-SUN will be used.\n",
      "\n",
      "/Library/Frameworks/Python.framework/Versions/3.10/lib/python3.10/site-packages/statsmodels/tsa/base/tsa_model.py:473: ValueWarning:\n",
      "\n",
      "No frequency information was provided, so inferred frequency W-SUN will be used.\n",
      "\n",
      "/Library/Frameworks/Python.framework/Versions/3.10/lib/python3.10/site-packages/statsmodels/base/model.py:607: ConvergenceWarning:\n",
      "\n",
      "Maximum Likelihood optimization failed to converge. Check mle_retvals\n",
      "\n",
      "/Library/Frameworks/Python.framework/Versions/3.10/lib/python3.10/site-packages/statsmodels/tsa/base/tsa_model.py:473: ValueWarning:\n",
      "\n",
      "No frequency information was provided, so inferred frequency W-SUN will be used.\n",
      "\n",
      "/Library/Frameworks/Python.framework/Versions/3.10/lib/python3.10/site-packages/statsmodels/tsa/base/tsa_model.py:473: ValueWarning:\n",
      "\n",
      "No frequency information was provided, so inferred frequency W-SUN will be used.\n",
      "\n",
      "/Library/Frameworks/Python.framework/Versions/3.10/lib/python3.10/site-packages/statsmodels/tsa/base/tsa_model.py:473: ValueWarning:\n",
      "\n",
      "No frequency information was provided, so inferred frequency W-SUN will be used.\n",
      "\n"
     ]
    },
    {
     "data": {
      "application/vnd.plotly.v1+json": {
       "config": {
        "plotlyServerURL": "https://plot.ly"
       },
       "data": [
        {
         "name": "Train",
         "type": "scatter",
         "x": [
          "2018-08-19T00:00:00.000000000",
          "2018-08-26T00:00:00.000000000",
          "2018-09-02T00:00:00.000000000",
          "2018-09-09T00:00:00.000000000",
          "2018-09-16T00:00:00.000000000",
          "2018-09-23T00:00:00.000000000",
          "2018-09-30T00:00:00.000000000",
          "2018-10-07T00:00:00.000000000",
          "2018-10-14T00:00:00.000000000",
          "2018-10-21T00:00:00.000000000",
          "2018-10-28T00:00:00.000000000",
          "2018-11-04T00:00:00.000000000",
          "2018-11-11T00:00:00.000000000",
          "2018-11-18T00:00:00.000000000",
          "2018-11-25T00:00:00.000000000",
          "2018-12-02T00:00:00.000000000",
          "2018-12-09T00:00:00.000000000",
          "2018-12-16T00:00:00.000000000",
          "2018-12-23T00:00:00.000000000",
          "2018-12-30T00:00:00.000000000",
          "2019-01-06T00:00:00.000000000",
          "2019-01-13T00:00:00.000000000",
          "2019-01-20T00:00:00.000000000",
          "2019-01-27T00:00:00.000000000",
          "2019-02-03T00:00:00.000000000",
          "2019-02-10T00:00:00.000000000",
          "2019-02-17T00:00:00.000000000",
          "2019-02-24T00:00:00.000000000",
          "2019-03-03T00:00:00.000000000",
          "2019-03-10T00:00:00.000000000",
          "2019-03-17T00:00:00.000000000",
          "2019-03-24T00:00:00.000000000",
          "2019-03-31T00:00:00.000000000",
          "2019-04-07T00:00:00.000000000",
          "2019-04-14T00:00:00.000000000",
          "2019-04-21T00:00:00.000000000",
          "2019-04-28T00:00:00.000000000",
          "2019-05-05T00:00:00.000000000",
          "2019-05-12T00:00:00.000000000",
          "2019-05-19T00:00:00.000000000",
          "2019-05-26T00:00:00.000000000",
          "2019-06-02T00:00:00.000000000",
          "2019-06-09T00:00:00.000000000",
          "2019-06-16T00:00:00.000000000",
          "2019-06-23T00:00:00.000000000",
          "2019-06-30T00:00:00.000000000",
          "2019-07-07T00:00:00.000000000",
          "2019-07-14T00:00:00.000000000",
          "2019-07-21T00:00:00.000000000",
          "2019-07-28T00:00:00.000000000",
          "2019-08-04T00:00:00.000000000",
          "2019-08-11T00:00:00.000000000",
          "2019-08-18T00:00:00.000000000",
          "2019-08-25T00:00:00.000000000",
          "2019-09-01T00:00:00.000000000",
          "2019-09-08T00:00:00.000000000",
          "2019-09-15T00:00:00.000000000",
          "2019-09-22T00:00:00.000000000",
          "2019-09-29T00:00:00.000000000",
          "2019-10-06T00:00:00.000000000",
          "2019-10-13T00:00:00.000000000",
          "2019-10-20T00:00:00.000000000",
          "2019-10-27T00:00:00.000000000",
          "2019-11-03T00:00:00.000000000",
          "2019-11-10T00:00:00.000000000",
          "2019-11-17T00:00:00.000000000",
          "2019-11-24T00:00:00.000000000",
          "2019-12-01T00:00:00.000000000",
          "2019-12-08T00:00:00.000000000",
          "2019-12-15T00:00:00.000000000",
          "2019-12-22T00:00:00.000000000",
          "2019-12-29T00:00:00.000000000",
          "2020-01-05T00:00:00.000000000",
          "2020-01-12T00:00:00.000000000",
          "2020-01-19T00:00:00.000000000",
          "2020-01-26T00:00:00.000000000",
          "2020-02-02T00:00:00.000000000",
          "2020-02-09T00:00:00.000000000",
          "2020-02-16T00:00:00.000000000",
          "2020-02-23T00:00:00.000000000",
          "2020-03-01T00:00:00.000000000",
          "2020-03-08T00:00:00.000000000",
          "2020-03-15T00:00:00.000000000",
          "2020-03-22T00:00:00.000000000",
          "2020-03-29T00:00:00.000000000",
          "2020-04-05T00:00:00.000000000",
          "2020-04-12T00:00:00.000000000",
          "2020-04-19T00:00:00.000000000",
          "2020-04-26T00:00:00.000000000",
          "2020-05-03T00:00:00.000000000",
          "2020-05-10T00:00:00.000000000",
          "2020-05-17T00:00:00.000000000",
          "2020-05-24T00:00:00.000000000",
          "2020-05-31T00:00:00.000000000",
          "2020-06-07T00:00:00.000000000",
          "2020-06-14T00:00:00.000000000",
          "2020-06-21T00:00:00.000000000",
          "2020-06-28T00:00:00.000000000",
          "2020-07-05T00:00:00.000000000",
          "2020-07-12T00:00:00.000000000",
          "2020-07-19T00:00:00.000000000",
          "2020-07-26T00:00:00.000000000",
          "2020-08-02T00:00:00.000000000",
          "2020-08-09T00:00:00.000000000",
          "2020-08-16T00:00:00.000000000",
          "2020-08-23T00:00:00.000000000",
          "2020-08-30T00:00:00.000000000",
          "2020-09-06T00:00:00.000000000",
          "2020-09-13T00:00:00.000000000",
          "2020-09-20T00:00:00.000000000",
          "2020-09-27T00:00:00.000000000",
          "2020-10-04T00:00:00.000000000",
          "2020-10-11T00:00:00.000000000",
          "2020-10-18T00:00:00.000000000",
          "2020-10-25T00:00:00.000000000",
          "2020-11-01T00:00:00.000000000",
          "2020-11-08T00:00:00.000000000",
          "2020-11-15T00:00:00.000000000",
          "2020-11-22T00:00:00.000000000",
          "2020-11-29T00:00:00.000000000",
          "2020-12-06T00:00:00.000000000",
          "2020-12-13T00:00:00.000000000",
          "2020-12-20T00:00:00.000000000",
          "2020-12-27T00:00:00.000000000",
          "2021-01-03T00:00:00.000000000",
          "2021-01-10T00:00:00.000000000",
          "2021-01-17T00:00:00.000000000",
          "2021-01-24T00:00:00.000000000",
          "2021-01-31T00:00:00.000000000",
          "2021-02-07T00:00:00.000000000",
          "2021-02-14T00:00:00.000000000",
          "2021-02-21T00:00:00.000000000",
          "2021-02-28T00:00:00.000000000",
          "2021-03-07T00:00:00.000000000",
          "2021-03-14T00:00:00.000000000",
          "2021-03-21T00:00:00.000000000",
          "2021-03-28T00:00:00.000000000",
          "2021-04-04T00:00:00.000000000",
          "2021-04-11T00:00:00.000000000",
          "2021-04-18T00:00:00.000000000",
          "2021-04-25T00:00:00.000000000",
          "2021-05-02T00:00:00.000000000",
          "2021-05-09T00:00:00.000000000",
          "2021-05-16T00:00:00.000000000",
          "2021-05-23T00:00:00.000000000",
          "2021-05-30T00:00:00.000000000",
          "2021-06-06T00:00:00.000000000",
          "2021-06-13T00:00:00.000000000",
          "2021-06-20T00:00:00.000000000",
          "2021-06-27T00:00:00.000000000",
          "2021-07-04T00:00:00.000000000",
          "2021-07-11T00:00:00.000000000",
          "2021-07-18T00:00:00.000000000",
          "2021-07-25T00:00:00.000000000",
          "2021-08-01T00:00:00.000000000",
          "2021-08-08T00:00:00.000000000",
          "2021-08-15T00:00:00.000000000",
          "2021-08-22T00:00:00.000000000",
          "2021-08-29T00:00:00.000000000",
          "2021-09-05T00:00:00.000000000",
          "2021-09-12T00:00:00.000000000",
          "2021-09-19T00:00:00.000000000",
          "2021-09-26T00:00:00.000000000",
          "2021-10-03T00:00:00.000000000",
          "2021-10-10T00:00:00.000000000",
          "2021-10-17T00:00:00.000000000",
          "2021-10-24T00:00:00.000000000",
          "2021-10-31T00:00:00.000000000",
          "2021-11-07T00:00:00.000000000",
          "2021-11-14T00:00:00.000000000",
          "2021-11-21T00:00:00.000000000",
          "2021-11-28T00:00:00.000000000",
          "2021-12-05T00:00:00.000000000",
          "2021-12-12T00:00:00.000000000",
          "2021-12-19T00:00:00.000000000",
          "2021-12-26T00:00:00.000000000",
          "2022-01-02T00:00:00.000000000",
          "2022-01-09T00:00:00.000000000",
          "2022-01-16T00:00:00.000000000",
          "2022-01-23T00:00:00.000000000",
          "2022-01-30T00:00:00.000000000",
          "2022-02-06T00:00:00.000000000",
          "2022-02-13T00:00:00.000000000",
          "2022-02-20T00:00:00.000000000",
          "2022-02-27T00:00:00.000000000",
          "2022-03-06T00:00:00.000000000",
          "2022-03-13T00:00:00.000000000",
          "2022-03-20T00:00:00.000000000",
          "2022-03-27T00:00:00.000000000",
          "2022-04-03T00:00:00.000000000",
          "2022-04-10T00:00:00.000000000",
          "2022-04-17T00:00:00.000000000",
          "2022-04-24T00:00:00.000000000",
          "2022-05-01T00:00:00.000000000",
          "2022-05-08T00:00:00.000000000",
          "2022-05-15T00:00:00.000000000",
          "2022-05-22T00:00:00.000000000",
          "2022-05-29T00:00:00.000000000",
          "2022-06-05T00:00:00.000000000",
          "2022-06-12T00:00:00.000000000",
          "2022-06-19T00:00:00.000000000",
          "2022-06-26T00:00:00.000000000",
          "2022-07-03T00:00:00.000000000",
          "2022-07-10T00:00:00.000000000",
          "2022-07-17T00:00:00.000000000",
          "2022-07-24T00:00:00.000000000",
          "2022-07-31T00:00:00.000000000",
          "2022-08-07T00:00:00.000000000",
          "2022-08-14T00:00:00.000000000",
          "2022-08-21T00:00:00.000000000",
          "2022-08-28T00:00:00.000000000",
          "2022-09-04T00:00:00.000000000",
          "2022-09-11T00:00:00.000000000",
          "2022-09-18T00:00:00.000000000",
          "2022-09-25T00:00:00.000000000",
          "2022-10-02T00:00:00.000000000",
          "2022-10-09T00:00:00.000000000",
          "2022-10-16T00:00:00.000000000",
          "2022-10-23T00:00:00.000000000",
          "2022-10-30T00:00:00.000000000",
          "2022-11-06T00:00:00.000000000",
          "2022-11-13T00:00:00.000000000",
          "2022-11-20T00:00:00.000000000",
          "2022-11-27T00:00:00.000000000",
          "2022-12-04T00:00:00.000000000",
          "2022-12-11T00:00:00.000000000",
          "2022-12-18T00:00:00.000000000",
          "2022-12-25T00:00:00.000000000",
          "2023-01-01T00:00:00.000000000",
          "2023-01-08T00:00:00.000000000",
          "2023-01-15T00:00:00.000000000",
          "2023-01-22T00:00:00.000000000",
          "2023-01-29T00:00:00.000000000",
          "2023-02-05T00:00:00.000000000",
          "2023-02-12T00:00:00.000000000",
          "2023-02-19T00:00:00.000000000",
          "2023-02-26T00:00:00.000000000",
          "2023-03-05T00:00:00.000000000",
          "2023-03-12T00:00:00.000000000",
          "2023-03-19T00:00:00.000000000",
          "2023-03-26T00:00:00.000000000",
          "2023-04-02T00:00:00.000000000",
          "2023-04-09T00:00:00.000000000",
          "2023-04-16T00:00:00.000000000",
          "2023-04-23T00:00:00.000000000",
          "2023-04-30T00:00:00.000000000",
          "2023-05-07T00:00:00.000000000",
          "2023-05-14T00:00:00.000000000",
          "2023-05-21T00:00:00.000000000",
          "2023-05-28T00:00:00.000000000",
          "2023-06-04T00:00:00.000000000",
          "2023-06-11T00:00:00.000000000",
          "2023-06-18T00:00:00.000000000",
          "2023-06-25T00:00:00.000000000",
          "2023-07-02T00:00:00.000000000",
          "2023-07-09T00:00:00.000000000",
          "2023-07-16T00:00:00.000000000",
          "2023-07-23T00:00:00.000000000",
          "2023-07-30T00:00:00.000000000",
          "2023-08-06T00:00:00.000000000",
          "2023-08-13T00:00:00.000000000",
          "2023-08-20T00:00:00.000000000",
          "2023-08-27T00:00:00.000000000",
          "2023-09-03T00:00:00.000000000",
          "2023-09-10T00:00:00.000000000",
          "2023-09-17T00:00:00.000000000",
          "2023-09-24T00:00:00.000000000",
          "2023-10-01T00:00:00.000000000",
          "2023-10-08T00:00:00.000000000",
          "2023-10-15T00:00:00.000000000",
          "2023-10-22T00:00:00.000000000",
          "2023-10-29T00:00:00.000000000",
          "2023-11-05T00:00:00.000000000",
          "2023-11-12T00:00:00.000000000",
          "2023-11-19T00:00:00.000000000",
          "2023-11-26T00:00:00.000000000",
          "2023-12-03T00:00:00.000000000",
          "2023-12-10T00:00:00.000000000",
          "2023-12-17T00:00:00.000000000",
          "2023-12-24T00:00:00.000000000",
          "2023-12-31T00:00:00.000000000",
          "2024-01-07T00:00:00.000000000",
          "2024-01-14T00:00:00.000000000",
          "2024-01-21T00:00:00.000000000",
          "2024-01-28T00:00:00.000000000"
         ],
         "y": {
          "bdata": "HkPldTi7LUBbVd4XWJstQAnta4s7ay1ACmn2Mr6FLUDE2t8v4Z0tQPQe0VBBgS1AFkM7xVx1LUDvwtQcR3stQLE9oNQrSC1ASAPx+ytpLUDpi+qEGmEtQNJtlExTqS1AuiTUvP3hLUDm6z6Qj+QtQMuRXiu6zS1A3hk++jm3LUBtVAfj5m4tQPnyxujxbi1APmqtsTaBLUCqN4NiaZMtQLoU6/1Qjy1AV696o4xtLUBRob3jYT0tQHEmZoeYNy1AcWeUCfs+LUCjRnivnVctQGf/2bMVZC1AhqWc4B5aLUCeiV1SDlUtQHjw6yN+QC1AEpi+Q1I6LUDpMkvIVV0tQECb98Jegy1Akgvg+niKLUB3u4r7b4UtQHAyBs68Sy1ARJKrMp1PLUA2X3ILTDktQBYdNZCNMy1A+TYzLLE+LUDrNsXt928tQHFOGfN+RS1An6H2US48LUD3Iv5cLVItQIGjJfOlPi1Akxp6qhZHLUAyGikmLGwtQAnsv29rei1AaPqqikd3LUAEI8tdy20tQD3JlxwSei1ACHzDZd5oLUARETMWvz4tQGoqO0rRUS1AJYkL/biFLUDzaSx4Jo4tQBF2w341pS1Ag6TEjDCqLUAQFmwC+40tQAdE14lGay1AOj6tWmdgLUDzR4FkDpYtQM43g+MmuC1ANxQ8Eda7LUBuq7UQsYYtQMHr1osaUS1Awv8v1IQbLUDLYvEisfIsQAvqEV5CNS1A5tXhW3NxLUDx24mhr2otQG+cb4V4Oy1AEcaL174wLUDGJGEmK0EtQBDnNdCPTS1ANTlkyTKHLUApgxCylJ4tQPXJDhbteC1Aza5A45dVLUCZhKNVxiMtQI+tZmJvEy1ANC7XbQ0hLUCpMZoOhkYtQHgyjCw7ey1AmXcru7NfLUB3vi+M+wotQB9JkqULIC1AOY/RHbw/LUBzd79D3vcsQP7zX1n4Ey1AGjW3SvoyLUAWsunBdTEtQL71jlIpKi1AMfMh1hVPLUCx21fJ9kQtQIfQwwjuUS1AMpK74TxeLUCZ5h3pJnQtQGUSW6iRfi1AreS1AueDLUBRBasYZJwtQJ/2bE7eey1AWaZFMfVZLUDSPDwFXXAtQEBYIH1FhC1A//DrdYZiLUAbmwAq/UctQMCh22jqMy1ApgZG04YWLUAn6tNLxR4tQF0YcavJIS1AQ0TTjfw2LUDxFrDLQ1wtQJVavS3BUi1ADucNC9JiLUDQ8qz/zV0tQGMmaNngRy1Af18KY4ZMLUBwuvHYe28tQABnzIWEcy1A9Px6Yyk7LUBfaLejmfssQEVHORQX6ixADVNwN0nnLECePXU6zecsQAJ97W4HNy1ALvxx2TdXLUDxfzL3pyQtQDqSiDDtCC1AufhhHwnwLEA3nED3++EsQJgsJbrOBC1AJ7HziBk8LUBMuczqGVktQKdFo8x0Oy1AQtbdB3ApLUCxxVlXvx4tQCVzrsicEi1AWkHZGtwJLUC91ROx8ygtQIAZ0C6h9SxAgbmXj8jfLECC195yRN0sQM/15XK42CxA2xp9RODrLED17hbvTAItQBtzY9qlGS1AN9J7KRw/LUB6c1IEXUwtQGGGl7fmOy1A/++CsP5QLUA6yyV2x0QtQFiDr0WuLS1ATMI2VqJNLUB+xYB8QmEtQGFrDDUOVS1Ajlq+VuVaLUC65BGYcUctQBX1/+p2Oy1A62ycD8EyLUB4U4++bB4tQPp+l1viNi1AkUHSrcxBLUCr+8rSfSwtQPewGawBPi1AWJARxDESLUBB6/38NNksQKbPuPkIyCxAPw+f7bkKLUBxMSgqwQ0tQI0UB17LLi1AErBFmkMWLUBHrc4KNQAtQJhQQ2+ICy1AN+ovusYaLUAamHHciWktQPoxZzgocy1AGxcftN5XLUCvTgwP2SctQKKKXWu67yxAxXThs3DYLED3jEc17P8sQHQTeXV7Ei1AQepEhqgqLUB15d1pOmktQBlV0LiFUy1AWJYrxS4zLUAXoWIdxyQtQDLZd4+HAS1A0SfqrvU6LUBvOxJ5+zMtQFt051m8MC1A5aptGu43LUA+iQIyP98sQH5fEnDQvCxA1H1g69rcLECv2oeCUgUtQIpg4WbHLC1A0zVA7QM9LUDovjtBzC4tQA6jAyJGOy1AjaoNNxEeLUBJ01rslAAtQII9ed5dCC1Abl6s/iv8LECkiQZPYeksQIs9siMm9ixAcwC+EhMCLUA/Tnmr3AQtQJ1EaJFT+SxAMp5aTU/5LECbKXZm1RwtQIi/Sb/7Ai1A6nDgYGDrLECA/3vCmwstQPXdofPMAC1A1k7nO571LEAGS856thgtQPiepwibNS1AyH/5MCISLUAmbHyOLvYsQFPOwu9h1SxAG3LNAe7PLECMhYbjWM0sQIhwt8i8wixAH2frWD/wLEAJuk8WjQ0tQMDdw8rd9SxAWam9h8ffLEBCnDFxgNssQL0OCpAu6yxAydCakSL/LEBxSiEHDR0tQJCvD/+cQy1Aj1Nxi+xJLUAPCb2RSi8tQHDrdX8ZLy1AwJR9XccjLUBZaATk2AQtQFrKZ1kPNS1AZx3i2jIeLUCXn8cv+RQtQDdHFxQC5CxA6hh0bpfXLEAW6VpW4NksQOnQtcrz3yxA5leyiiP7LEBGuiMu/CYtQFUsVxn2QC1A8pGbsrJDLUCysGoPFEMtQN4v4UN2LC1A3yrjx8ETLUC1KwVqbBQtQNWa3K6bIC1AqpV0v0chLUAqj7OQBw4tQDKVPPnhBS1AwEIQAvoDLUDBL87wZfQsQD52+5AyBi1AGaGuNOIlLUD2+6WAAB8tQFlULdWeJC1AxeJQjWwnLUAQCEIjlBItQADysSBGBy1AGf/1a0kXLUD/+x2psBctQLPvVp3uDy1Ax52VOp7BLEB2SLqXA8QsQIlBRwHcxCxA+6yruPfgLEDnCGg4n+csQFZ47ckOHy1A0hSkKgFXLUBT3vNSyVQtQFftV+BRKC1Awmp/Ff3xLEAtaGjoDdEsQCdAEPM0Ay1AoQt2/u9DLUAeDpVC0FktQDq9kFTRNy1A",
          "dtype": "f8"
         }
        },
        {
         "name": "Test",
         "type": "scatter",
         "x": [
          "2024-02-04T00:00:00.000000000",
          "2024-02-11T00:00:00.000000000",
          "2024-02-18T00:00:00.000000000",
          "2024-02-25T00:00:00.000000000",
          "2024-03-03T00:00:00.000000000",
          "2024-03-10T00:00:00.000000000",
          "2024-03-17T00:00:00.000000000",
          "2024-03-24T00:00:00.000000000",
          "2024-03-31T00:00:00.000000000",
          "2024-04-07T00:00:00.000000000",
          "2024-04-14T00:00:00.000000000",
          "2024-04-21T00:00:00.000000000",
          "2024-04-28T00:00:00.000000000",
          "2024-05-05T00:00:00.000000000",
          "2024-05-12T00:00:00.000000000",
          "2024-05-19T00:00:00.000000000",
          "2024-05-26T00:00:00.000000000",
          "2024-06-02T00:00:00.000000000",
          "2024-06-09T00:00:00.000000000",
          "2024-06-16T00:00:00.000000000",
          "2024-06-23T00:00:00.000000000",
          "2024-06-30T00:00:00.000000000",
          "2024-07-07T00:00:00.000000000",
          "2024-07-14T00:00:00.000000000",
          "2024-07-21T00:00:00.000000000",
          "2024-07-28T00:00:00.000000000",
          "2024-08-04T00:00:00.000000000",
          "2024-08-11T00:00:00.000000000",
          "2024-08-18T00:00:00.000000000",
          "2024-08-25T00:00:00.000000000",
          "2024-09-01T00:00:00.000000000",
          "2024-09-08T00:00:00.000000000",
          "2024-09-15T00:00:00.000000000",
          "2024-09-22T00:00:00.000000000",
          "2024-09-29T00:00:00.000000000",
          "2024-10-06T00:00:00.000000000",
          "2024-10-13T00:00:00.000000000",
          "2024-10-20T00:00:00.000000000",
          "2024-10-27T00:00:00.000000000",
          "2024-11-03T00:00:00.000000000",
          "2024-11-10T00:00:00.000000000",
          "2024-11-17T00:00:00.000000000",
          "2024-11-24T00:00:00.000000000",
          "2024-12-01T00:00:00.000000000",
          "2024-12-08T00:00:00.000000000",
          "2024-12-15T00:00:00.000000000",
          "2024-12-22T00:00:00.000000000",
          "2024-12-29T00:00:00.000000000",
          "2025-01-05T00:00:00.000000000",
          "2025-01-12T00:00:00.000000000",
          "2025-01-19T00:00:00.000000000",
          "2025-01-26T00:00:00.000000000",
          "2025-02-02T00:00:00.000000000",
          "2025-02-09T00:00:00.000000000",
          "2025-02-16T00:00:00.000000000",
          "2025-02-23T00:00:00.000000000",
          "2025-03-02T00:00:00.000000000",
          "2025-03-09T00:00:00.000000000",
          "2025-03-16T00:00:00.000000000",
          "2025-03-23T00:00:00.000000000",
          "2025-03-30T00:00:00.000000000",
          "2025-04-06T00:00:00.000000000",
          "2025-04-13T00:00:00.000000000",
          "2025-04-20T00:00:00.000000000",
          "2025-04-27T00:00:00.000000000",
          "2025-05-04T00:00:00.000000000",
          "2025-05-11T00:00:00.000000000",
          "2025-05-18T00:00:00.000000000",
          "2025-05-25T00:00:00.000000000",
          "2025-06-01T00:00:00.000000000",
          "2025-06-08T00:00:00.000000000"
         ],
         "y": {
          "bdata": "Ng2rOwwaLUB4bv+vuhAtQKLI/J+pGC1A5nahFg8VLUDPNFGidDQtQL84NesoVS1A9pG6jxRFLUDbPJ02bBAtQJYSjh4KAy1A4rfLTJoPLUAJVnVlyzItQIIryTIhbi1AIL4cm0trLUD7Fj4QgzQtQJ42aC3OWi1A+WNLvPFaLUD44YcPh1YtQEtcBJXJWC1Ab3VS8kl3LUAygAbojXYtQA4tobGOeC1APvJv9Zx5LUA00pJHRl8tQCX9DHX9RC1AatSbbRxMLUDAhfVWWHItQGdLxmVAbS1AobMp6yNyLUAV+DWfiZMtQPmtQpNKay1AkN2vWFA6LUD3CyeVbDstQL++58IyYC1AUtobRlRuLUAEwM1181ctQKkX+oplWy1AolDJpn1zLUChDaZJSXMtQFDRAmfijy1A6ZrNs4TDLUDlqZ6H0qktQKVpymmKKy1AdsJdmoIcLUBNTYjneyQtQKUoS1sRDi1Asl+FVjA2LUAP5iIMGmctQFGK2cDkaC1Aghat10VaLUC1SNLgzDUtQAJJcvc+Ki1A2lk0skAQLUCDzU9zji8tQFaggTEKZC1AUbZFXN5bLUAopFInrkwtQHlyi36LLi1AOgsz/uUuLUCLFpWQ9zEtQAbGqJMIbi1AKbWWTouyLUC1TxsS3KotQOVGPmq1ci1Agjg9WtNdLUC+eKBaGhMtQM0T5rMU6ixA+37ICPwKLUD6jS2YHx8tQFsi1EvYSC1ARTLWyAlbLUBrZakYIHAtQA==",
          "dtype": "f8"
         }
        },
        {
         "name": "Forecast 1",
         "type": "scatter",
         "x": [
          "2024-02-04T00:00:00.000000000",
          "2024-02-11T00:00:00.000000000",
          "2024-02-18T00:00:00.000000000",
          "2024-02-25T00:00:00.000000000",
          "2024-03-03T00:00:00.000000000",
          "2024-03-10T00:00:00.000000000",
          "2024-03-17T00:00:00.000000000",
          "2024-03-24T00:00:00.000000000",
          "2024-03-31T00:00:00.000000000",
          "2024-04-07T00:00:00.000000000",
          "2024-04-14T00:00:00.000000000",
          "2024-04-21T00:00:00.000000000",
          "2024-04-28T00:00:00.000000000",
          "2024-05-05T00:00:00.000000000",
          "2024-05-12T00:00:00.000000000",
          "2024-05-19T00:00:00.000000000",
          "2024-05-26T00:00:00.000000000",
          "2024-06-02T00:00:00.000000000",
          "2024-06-09T00:00:00.000000000",
          "2024-06-16T00:00:00.000000000",
          "2024-06-23T00:00:00.000000000",
          "2024-06-30T00:00:00.000000000",
          "2024-07-07T00:00:00.000000000",
          "2024-07-14T00:00:00.000000000",
          "2024-07-21T00:00:00.000000000",
          "2024-07-28T00:00:00.000000000",
          "2024-08-04T00:00:00.000000000",
          "2024-08-11T00:00:00.000000000",
          "2024-08-18T00:00:00.000000000",
          "2024-08-25T00:00:00.000000000",
          "2024-09-01T00:00:00.000000000",
          "2024-09-08T00:00:00.000000000",
          "2024-09-15T00:00:00.000000000",
          "2024-09-22T00:00:00.000000000",
          "2024-09-29T00:00:00.000000000",
          "2024-10-06T00:00:00.000000000",
          "2024-10-13T00:00:00.000000000",
          "2024-10-20T00:00:00.000000000",
          "2024-10-27T00:00:00.000000000",
          "2024-11-03T00:00:00.000000000",
          "2024-11-10T00:00:00.000000000",
          "2024-11-17T00:00:00.000000000",
          "2024-11-24T00:00:00.000000000",
          "2024-12-01T00:00:00.000000000",
          "2024-12-08T00:00:00.000000000",
          "2024-12-15T00:00:00.000000000",
          "2024-12-22T00:00:00.000000000",
          "2024-12-29T00:00:00.000000000",
          "2025-01-05T00:00:00.000000000",
          "2025-01-12T00:00:00.000000000",
          "2025-01-19T00:00:00.000000000",
          "2025-01-26T00:00:00.000000000",
          "2025-02-02T00:00:00.000000000",
          "2025-02-09T00:00:00.000000000",
          "2025-02-16T00:00:00.000000000",
          "2025-02-23T00:00:00.000000000",
          "2025-03-02T00:00:00.000000000",
          "2025-03-09T00:00:00.000000000",
          "2025-03-16T00:00:00.000000000",
          "2025-03-23T00:00:00.000000000",
          "2025-03-30T00:00:00.000000000",
          "2025-04-06T00:00:00.000000000",
          "2025-04-13T00:00:00.000000000",
          "2025-04-20T00:00:00.000000000",
          "2025-04-27T00:00:00.000000000",
          "2025-05-04T00:00:00.000000000",
          "2025-05-11T00:00:00.000000000",
          "2025-05-18T00:00:00.000000000",
          "2025-05-25T00:00:00.000000000",
          "2025-06-01T00:00:00.000000000",
          "2025-06-08T00:00:00.000000000"
         ],
         "y": {
          "bdata": "E9x9iecjLUANiRHTXfMsQMDQ/i9E6yxAevdt/hQSLUAsRGebhUAtQLaXZEkbUS1AlLg3utA1LUATXoZTAP8sQJym2Vea6yxASjljknbGLEAhRtoG+dosQO+n3B1bCC1AnWjRyQtALUDkILmVlC0tQKFJERCBKC1ASaLbVOIrLUAxlRCFjBwtQHQZRJTBDi1A/8ncsXoULUB5Kqpu/xotQAn2kqLMMi1ARnUvmqEfLUCSE3uzORMtQKZ/M1WR+CxATiWqGL3/LEAr4HRnRAEtQN9GepA+Ky1AJO/Rxm1XLUAh4aJqdVktQHPQBDHZOC1AokP05QALLUAYGyM7+eIsQOtilqUr+ixAYi1pp/8LLUCgYDZH0SktQOar5g8lLC1A5Ww8LqQyLUA+fqJJdggtQAxCdwmFAy1A6uO4Y7QlLUB/G/X3O0YtQIjndTTyTS1ASyjCOxA7LUBBmsY5ohUtQEfYvQjgDy1A8MwFQ4j1LECasFJG8v8sQLg8xDqhEy1AZRCxc+U5LUBsr1fdRy0tQBPm5nRaNC1AcIgjrHFBLUCgd4llyjYtQEf6GwtEJS1AYrZxTdocLUDaqkEiyxMtQD/QKjhiKi1A1pZQLq0fLUAdhkvmdx8tQOflXHr6Dy1A5jJOYV0aLUCXpARdgA8tQJwXWs7CKy1AnsthoIhVLUCxSofNOmAtQNGSmxjqSS1APtKYyEAjLUCJzIk7e/0sQGMo3iMBDi1Af6+9wAYTLUCXK5Q6riotQA==",
          "dtype": "f8"
         }
        },
        {
         "name": "Forecast 2",
         "type": "scatter",
         "x": [
          "2024-02-04T00:00:00.000000000",
          "2024-02-11T00:00:00.000000000",
          "2024-02-18T00:00:00.000000000",
          "2024-02-25T00:00:00.000000000",
          "2024-03-03T00:00:00.000000000",
          "2024-03-10T00:00:00.000000000",
          "2024-03-17T00:00:00.000000000",
          "2024-03-24T00:00:00.000000000",
          "2024-03-31T00:00:00.000000000",
          "2024-04-07T00:00:00.000000000",
          "2024-04-14T00:00:00.000000000",
          "2024-04-21T00:00:00.000000000",
          "2024-04-28T00:00:00.000000000",
          "2024-05-05T00:00:00.000000000",
          "2024-05-12T00:00:00.000000000",
          "2024-05-19T00:00:00.000000000",
          "2024-05-26T00:00:00.000000000",
          "2024-06-02T00:00:00.000000000",
          "2024-06-09T00:00:00.000000000",
          "2024-06-16T00:00:00.000000000",
          "2024-06-23T00:00:00.000000000",
          "2024-06-30T00:00:00.000000000",
          "2024-07-07T00:00:00.000000000",
          "2024-07-14T00:00:00.000000000",
          "2024-07-21T00:00:00.000000000",
          "2024-07-28T00:00:00.000000000",
          "2024-08-04T00:00:00.000000000",
          "2024-08-11T00:00:00.000000000",
          "2024-08-18T00:00:00.000000000",
          "2024-08-25T00:00:00.000000000",
          "2024-09-01T00:00:00.000000000",
          "2024-09-08T00:00:00.000000000",
          "2024-09-15T00:00:00.000000000",
          "2024-09-22T00:00:00.000000000",
          "2024-09-29T00:00:00.000000000",
          "2024-10-06T00:00:00.000000000",
          "2024-10-13T00:00:00.000000000",
          "2024-10-20T00:00:00.000000000",
          "2024-10-27T00:00:00.000000000",
          "2024-11-03T00:00:00.000000000",
          "2024-11-10T00:00:00.000000000",
          "2024-11-17T00:00:00.000000000",
          "2024-11-24T00:00:00.000000000",
          "2024-12-01T00:00:00.000000000",
          "2024-12-08T00:00:00.000000000",
          "2024-12-15T00:00:00.000000000",
          "2024-12-22T00:00:00.000000000",
          "2024-12-29T00:00:00.000000000",
          "2025-01-05T00:00:00.000000000",
          "2025-01-12T00:00:00.000000000",
          "2025-01-19T00:00:00.000000000",
          "2025-01-26T00:00:00.000000000",
          "2025-02-02T00:00:00.000000000",
          "2025-02-09T00:00:00.000000000",
          "2025-02-16T00:00:00.000000000",
          "2025-02-23T00:00:00.000000000",
          "2025-03-02T00:00:00.000000000",
          "2025-03-09T00:00:00.000000000",
          "2025-03-16T00:00:00.000000000",
          "2025-03-23T00:00:00.000000000",
          "2025-03-30T00:00:00.000000000",
          "2025-04-06T00:00:00.000000000",
          "2025-04-13T00:00:00.000000000",
          "2025-04-20T00:00:00.000000000",
          "2025-04-27T00:00:00.000000000",
          "2025-05-04T00:00:00.000000000",
          "2025-05-11T00:00:00.000000000",
          "2025-05-18T00:00:00.000000000",
          "2025-05-25T00:00:00.000000000",
          "2025-06-01T00:00:00.000000000",
          "2025-06-08T00:00:00.000000000"
         ],
         "y": {
          "bdata": "LQhIsiY1LUCoTeAVb/ksQJ9soWoE+yxA3joO3vo2LUBvvzqYa2EtQBxR/oleZy1AUPUN51g7LUBI3ZMbJwItQDu4aFEm/yxAnBBWx3TdLEBWgQO4fO8sQDPRcrvgHy1Axg+NQxlWLUBw8v8jkzEtQM/oXW9TNC1AqrhejKxELUA/9xqWWzktQJHYDpffLC1AF7mDe80rLUC5golrsy0tQHRTx4mLQy1A88ypsW4wLUAJaGMwyiYtQNFuRVkiDi1AsgzeoNUlLUBVw15gbiAtQABF5TV0TC1AV+9w3tqBLUBNUMatFn0tQA62J4O6Vy1A/Fsi++wjLUCHdFsGgf0sQB2Xc/RbJC1AWWAq15U2LUD+NKM+nEctQJDFFkHrRy1AoxG5R8ZWLUBAxypadiAtQErxxerhKS1AmZtox8xgLUDieQaqdYAtQEjj5egEfS1A+TV0tMVYLUC0JNcVCjEtQGTIIamWNC1AT5yQ7gEfLUBUxvBjazAtQDNU2GseRi1AhAX5stRvLUDVi5jtfFEtQJj1hSkVXS1As8acRTd5LUDeZqyqD3EtQH+6iE1pYS1Ayxo52bZSLUDPk+RvoEEtQGknv/hlWy1AzCy7OUhQLUBHlOB4UEstQHtu5/McPy1ACW89kohbLUCxPat1HUctQBxI1g/laC1Amq0MG9GdLUAx1edopqItQN3lzpEfhS1AMHYz4l9ULUBzxR8+JDItQH6jXGB9Ui1A4AHoQI9WLUDRNXHFcmctQA==",
          "dtype": "f8"
         }
        }
       ],
       "layout": {
        "font": {
         "size": 10
        },
        "height": 400,
        "template": {
         "data": {
          "bar": [
           {
            "error_x": {
             "color": "rgb(36,36,36)"
            },
            "error_y": {
             "color": "rgb(36,36,36)"
            },
            "marker": {
             "line": {
              "color": "white",
              "width": 0.5
             },
             "pattern": {
              "fillmode": "overlay",
              "size": 10,
              "solidity": 0.2
             }
            },
            "type": "bar"
           }
          ],
          "barpolar": [
           {
            "marker": {
             "line": {
              "color": "white",
              "width": 0.5
             },
             "pattern": {
              "fillmode": "overlay",
              "size": 10,
              "solidity": 0.2
             }
            },
            "type": "barpolar"
           }
          ],
          "carpet": [
           {
            "aaxis": {
             "endlinecolor": "rgb(36,36,36)",
             "gridcolor": "white",
             "linecolor": "white",
             "minorgridcolor": "white",
             "startlinecolor": "rgb(36,36,36)"
            },
            "baxis": {
             "endlinecolor": "rgb(36,36,36)",
             "gridcolor": "white",
             "linecolor": "white",
             "minorgridcolor": "white",
             "startlinecolor": "rgb(36,36,36)"
            },
            "type": "carpet"
           }
          ],
          "choropleth": [
           {
            "colorbar": {
             "outlinewidth": 1,
             "tickcolor": "rgb(36,36,36)",
             "ticks": "outside"
            },
            "type": "choropleth"
           }
          ],
          "contour": [
           {
            "colorbar": {
             "outlinewidth": 1,
             "tickcolor": "rgb(36,36,36)",
             "ticks": "outside"
            },
            "colorscale": [
             [
              0,
              "#440154"
             ],
             [
              0.1111111111111111,
              "#482878"
             ],
             [
              0.2222222222222222,
              "#3e4989"
             ],
             [
              0.3333333333333333,
              "#31688e"
             ],
             [
              0.4444444444444444,
              "#26828e"
             ],
             [
              0.5555555555555556,
              "#1f9e89"
             ],
             [
              0.6666666666666666,
              "#35b779"
             ],
             [
              0.7777777777777778,
              "#6ece58"
             ],
             [
              0.8888888888888888,
              "#b5de2b"
             ],
             [
              1,
              "#fde725"
             ]
            ],
            "type": "contour"
           }
          ],
          "contourcarpet": [
           {
            "colorbar": {
             "outlinewidth": 1,
             "tickcolor": "rgb(36,36,36)",
             "ticks": "outside"
            },
            "type": "contourcarpet"
           }
          ],
          "heatmap": [
           {
            "colorbar": {
             "outlinewidth": 1,
             "tickcolor": "rgb(36,36,36)",
             "ticks": "outside"
            },
            "colorscale": [
             [
              0,
              "#440154"
             ],
             [
              0.1111111111111111,
              "#482878"
             ],
             [
              0.2222222222222222,
              "#3e4989"
             ],
             [
              0.3333333333333333,
              "#31688e"
             ],
             [
              0.4444444444444444,
              "#26828e"
             ],
             [
              0.5555555555555556,
              "#1f9e89"
             ],
             [
              0.6666666666666666,
              "#35b779"
             ],
             [
              0.7777777777777778,
              "#6ece58"
             ],
             [
              0.8888888888888888,
              "#b5de2b"
             ],
             [
              1,
              "#fde725"
             ]
            ],
            "type": "heatmap"
           }
          ],
          "histogram": [
           {
            "marker": {
             "line": {
              "color": "white",
              "width": 0.6
             }
            },
            "type": "histogram"
           }
          ],
          "histogram2d": [
           {
            "colorbar": {
             "outlinewidth": 1,
             "tickcolor": "rgb(36,36,36)",
             "ticks": "outside"
            },
            "colorscale": [
             [
              0,
              "#440154"
             ],
             [
              0.1111111111111111,
              "#482878"
             ],
             [
              0.2222222222222222,
              "#3e4989"
             ],
             [
              0.3333333333333333,
              "#31688e"
             ],
             [
              0.4444444444444444,
              "#26828e"
             ],
             [
              0.5555555555555556,
              "#1f9e89"
             ],
             [
              0.6666666666666666,
              "#35b779"
             ],
             [
              0.7777777777777778,
              "#6ece58"
             ],
             [
              0.8888888888888888,
              "#b5de2b"
             ],
             [
              1,
              "#fde725"
             ]
            ],
            "type": "histogram2d"
           }
          ],
          "histogram2dcontour": [
           {
            "colorbar": {
             "outlinewidth": 1,
             "tickcolor": "rgb(36,36,36)",
             "ticks": "outside"
            },
            "colorscale": [
             [
              0,
              "#440154"
             ],
             [
              0.1111111111111111,
              "#482878"
             ],
             [
              0.2222222222222222,
              "#3e4989"
             ],
             [
              0.3333333333333333,
              "#31688e"
             ],
             [
              0.4444444444444444,
              "#26828e"
             ],
             [
              0.5555555555555556,
              "#1f9e89"
             ],
             [
              0.6666666666666666,
              "#35b779"
             ],
             [
              0.7777777777777778,
              "#6ece58"
             ],
             [
              0.8888888888888888,
              "#b5de2b"
             ],
             [
              1,
              "#fde725"
             ]
            ],
            "type": "histogram2dcontour"
           }
          ],
          "mesh3d": [
           {
            "colorbar": {
             "outlinewidth": 1,
             "tickcolor": "rgb(36,36,36)",
             "ticks": "outside"
            },
            "type": "mesh3d"
           }
          ],
          "parcoords": [
           {
            "line": {
             "colorbar": {
              "outlinewidth": 1,
              "tickcolor": "rgb(36,36,36)",
              "ticks": "outside"
             }
            },
            "type": "parcoords"
           }
          ],
          "pie": [
           {
            "automargin": true,
            "type": "pie"
           }
          ],
          "scatter": [
           {
            "fillpattern": {
             "fillmode": "overlay",
             "size": 10,
             "solidity": 0.2
            },
            "type": "scatter"
           }
          ],
          "scatter3d": [
           {
            "line": {
             "colorbar": {
              "outlinewidth": 1,
              "tickcolor": "rgb(36,36,36)",
              "ticks": "outside"
             }
            },
            "marker": {
             "colorbar": {
              "outlinewidth": 1,
              "tickcolor": "rgb(36,36,36)",
              "ticks": "outside"
             }
            },
            "type": "scatter3d"
           }
          ],
          "scattercarpet": [
           {
            "marker": {
             "colorbar": {
              "outlinewidth": 1,
              "tickcolor": "rgb(36,36,36)",
              "ticks": "outside"
             }
            },
            "type": "scattercarpet"
           }
          ],
          "scattergeo": [
           {
            "marker": {
             "colorbar": {
              "outlinewidth": 1,
              "tickcolor": "rgb(36,36,36)",
              "ticks": "outside"
             }
            },
            "type": "scattergeo"
           }
          ],
          "scattergl": [
           {
            "marker": {
             "colorbar": {
              "outlinewidth": 1,
              "tickcolor": "rgb(36,36,36)",
              "ticks": "outside"
             }
            },
            "type": "scattergl"
           }
          ],
          "scattermap": [
           {
            "marker": {
             "colorbar": {
              "outlinewidth": 1,
              "tickcolor": "rgb(36,36,36)",
              "ticks": "outside"
             }
            },
            "type": "scattermap"
           }
          ],
          "scattermapbox": [
           {
            "marker": {
             "colorbar": {
              "outlinewidth": 1,
              "tickcolor": "rgb(36,36,36)",
              "ticks": "outside"
             }
            },
            "type": "scattermapbox"
           }
          ],
          "scatterpolar": [
           {
            "marker": {
             "colorbar": {
              "outlinewidth": 1,
              "tickcolor": "rgb(36,36,36)",
              "ticks": "outside"
             }
            },
            "type": "scatterpolar"
           }
          ],
          "scatterpolargl": [
           {
            "marker": {
             "colorbar": {
              "outlinewidth": 1,
              "tickcolor": "rgb(36,36,36)",
              "ticks": "outside"
             }
            },
            "type": "scatterpolargl"
           }
          ],
          "scatterternary": [
           {
            "marker": {
             "colorbar": {
              "outlinewidth": 1,
              "tickcolor": "rgb(36,36,36)",
              "ticks": "outside"
             }
            },
            "type": "scatterternary"
           }
          ],
          "surface": [
           {
            "colorbar": {
             "outlinewidth": 1,
             "tickcolor": "rgb(36,36,36)",
             "ticks": "outside"
            },
            "colorscale": [
             [
              0,
              "#440154"
             ],
             [
              0.1111111111111111,
              "#482878"
             ],
             [
              0.2222222222222222,
              "#3e4989"
             ],
             [
              0.3333333333333333,
              "#31688e"
             ],
             [
              0.4444444444444444,
              "#26828e"
             ],
             [
              0.5555555555555556,
              "#1f9e89"
             ],
             [
              0.6666666666666666,
              "#35b779"
             ],
             [
              0.7777777777777778,
              "#6ece58"
             ],
             [
              0.8888888888888888,
              "#b5de2b"
             ],
             [
              1,
              "#fde725"
             ]
            ],
            "type": "surface"
           }
          ],
          "table": [
           {
            "cells": {
             "fill": {
              "color": "rgb(237,237,237)"
             },
             "line": {
              "color": "white"
             }
            },
            "header": {
             "fill": {
              "color": "rgb(217,217,217)"
             },
             "line": {
              "color": "white"
             }
            },
            "type": "table"
           }
          ]
         },
         "layout": {
          "annotationdefaults": {
           "arrowhead": 0,
           "arrowwidth": 1
          },
          "autotypenumbers": "strict",
          "coloraxis": {
           "colorbar": {
            "outlinewidth": 1,
            "tickcolor": "rgb(36,36,36)",
            "ticks": "outside"
           }
          },
          "colorscale": {
           "diverging": [
            [
             0,
             "rgb(103,0,31)"
            ],
            [
             0.1,
             "rgb(178,24,43)"
            ],
            [
             0.2,
             "rgb(214,96,77)"
            ],
            [
             0.3,
             "rgb(244,165,130)"
            ],
            [
             0.4,
             "rgb(253,219,199)"
            ],
            [
             0.5,
             "rgb(247,247,247)"
            ],
            [
             0.6,
             "rgb(209,229,240)"
            ],
            [
             0.7,
             "rgb(146,197,222)"
            ],
            [
             0.8,
             "rgb(67,147,195)"
            ],
            [
             0.9,
             "rgb(33,102,172)"
            ],
            [
             1,
             "rgb(5,48,97)"
            ]
           ],
           "sequential": [
            [
             0,
             "#440154"
            ],
            [
             0.1111111111111111,
             "#482878"
            ],
            [
             0.2222222222222222,
             "#3e4989"
            ],
            [
             0.3333333333333333,
             "#31688e"
            ],
            [
             0.4444444444444444,
             "#26828e"
            ],
            [
             0.5555555555555556,
             "#1f9e89"
            ],
            [
             0.6666666666666666,
             "#35b779"
            ],
            [
             0.7777777777777778,
             "#6ece58"
            ],
            [
             0.8888888888888888,
             "#b5de2b"
            ],
            [
             1,
             "#fde725"
            ]
           ],
           "sequentialminus": [
            [
             0,
             "#440154"
            ],
            [
             0.1111111111111111,
             "#482878"
            ],
            [
             0.2222222222222222,
             "#3e4989"
            ],
            [
             0.3333333333333333,
             "#31688e"
            ],
            [
             0.4444444444444444,
             "#26828e"
            ],
            [
             0.5555555555555556,
             "#1f9e89"
            ],
            [
             0.6666666666666666,
             "#35b779"
            ],
            [
             0.7777777777777778,
             "#6ece58"
            ],
            [
             0.8888888888888888,
             "#b5de2b"
            ],
            [
             1,
             "#fde725"
            ]
           ]
          },
          "colorway": [
           "#1F77B4",
           "#FF7F0E",
           "#2CA02C",
           "#D62728",
           "#9467BD",
           "#8C564B",
           "#E377C2",
           "#7F7F7F",
           "#BCBD22",
           "#17BECF"
          ],
          "font": {
           "color": "rgb(36,36,36)"
          },
          "geo": {
           "bgcolor": "white",
           "lakecolor": "white",
           "landcolor": "white",
           "showlakes": true,
           "showland": true,
           "subunitcolor": "white"
          },
          "hoverlabel": {
           "align": "left"
          },
          "hovermode": "closest",
          "mapbox": {
           "style": "light"
          },
          "paper_bgcolor": "white",
          "plot_bgcolor": "white",
          "polar": {
           "angularaxis": {
            "gridcolor": "rgb(232,232,232)",
            "linecolor": "rgb(36,36,36)",
            "showgrid": false,
            "showline": true,
            "ticks": "outside"
           },
           "bgcolor": "white",
           "radialaxis": {
            "gridcolor": "rgb(232,232,232)",
            "linecolor": "rgb(36,36,36)",
            "showgrid": false,
            "showline": true,
            "ticks": "outside"
           }
          },
          "scene": {
           "xaxis": {
            "backgroundcolor": "white",
            "gridcolor": "rgb(232,232,232)",
            "gridwidth": 2,
            "linecolor": "rgb(36,36,36)",
            "showbackground": true,
            "showgrid": false,
            "showline": true,
            "ticks": "outside",
            "zeroline": false,
            "zerolinecolor": "rgb(36,36,36)"
           },
           "yaxis": {
            "backgroundcolor": "white",
            "gridcolor": "rgb(232,232,232)",
            "gridwidth": 2,
            "linecolor": "rgb(36,36,36)",
            "showbackground": true,
            "showgrid": false,
            "showline": true,
            "ticks": "outside",
            "zeroline": false,
            "zerolinecolor": "rgb(36,36,36)"
           },
           "zaxis": {
            "backgroundcolor": "white",
            "gridcolor": "rgb(232,232,232)",
            "gridwidth": 2,
            "linecolor": "rgb(36,36,36)",
            "showbackground": true,
            "showgrid": false,
            "showline": true,
            "ticks": "outside",
            "zeroline": false,
            "zerolinecolor": "rgb(36,36,36)"
           }
          },
          "shapedefaults": {
           "fillcolor": "black",
           "line": {
            "width": 0
           },
           "opacity": 0.3
          },
          "ternary": {
           "aaxis": {
            "gridcolor": "rgb(232,232,232)",
            "linecolor": "rgb(36,36,36)",
            "showgrid": false,
            "showline": true,
            "ticks": "outside"
           },
           "baxis": {
            "gridcolor": "rgb(232,232,232)",
            "linecolor": "rgb(36,36,36)",
            "showgrid": false,
            "showline": true,
            "ticks": "outside"
           },
           "bgcolor": "white",
           "caxis": {
            "gridcolor": "rgb(232,232,232)",
            "linecolor": "rgb(36,36,36)",
            "showgrid": false,
            "showline": true,
            "ticks": "outside"
           }
          },
          "title": {
           "x": 0.05
          },
          "xaxis": {
           "automargin": true,
           "gridcolor": "rgb(232,232,232)",
           "linecolor": "rgb(36,36,36)",
           "showgrid": false,
           "showline": true,
           "ticks": "outside",
           "title": {
            "standoff": 15
           },
           "zeroline": false,
           "zerolinecolor": "rgb(36,36,36)"
          },
          "yaxis": {
           "automargin": true,
           "gridcolor": "rgb(232,232,232)",
           "linecolor": "rgb(36,36,36)",
           "showgrid": false,
           "showline": true,
           "ticks": "outside",
           "title": {
            "standoff": 15
           },
           "zeroline": false,
           "zerolinecolor": "rgb(36,36,36)"
          }
         }
        },
        "title": {
         "text": "mp_concentration SARIMA",
         "x": 0.5
        },
        "width": 650,
        "xaxis": {
         "title": {
          "text": "Date"
         }
        },
        "yaxis": {
         "title": {
          "text": "Average Microplastic Concentration"
         }
        }
       }
      }
     },
     "metadata": {},
     "output_type": "display_data"
    }
   ],
   "source": [
    "sarima_1 = ARIMA(train.mp_conc_boxcox, order=(10,1,10), seasonal_order=(1,1,1,12)).fit()\n",
    "boxcox_forecasts_1 = sarima_1.forecast(len(test))\n",
    "sarima_forecasts_1 = inv_boxcox(boxcox_forecasts_1, lam)\n",
    "\n",
    "sarima_2 = ARIMA(train.mp_conc_boxcox, order=(10,1,9), seasonal_order=(1,1,1,12)).fit()\n",
    "boxcox_forecasts_2 = sarima_2.forecast(len(test))\n",
    "sarima_forecasts_2 = inv_boxcox(boxcox_forecasts_2, lam)\n",
    "plot_forecasts(sarima_forecasts_1, sarima_forecasts_2, 'mp_concentration SARIMA')"
   ]
  },
  {
   "cell_type": "code",
   "execution_count": null,
   "metadata": {},
   "outputs": [
    {
     "data": {
      "image/png": "[encoded data removed]",
      "text/plain": [
       "<Figure size 1200x500 with 1 Axes>"
      ]
     },
     "metadata": {},
     "output_type": "display_data"
    }
   ],
   "source": [
    "# Plot\n",
    "plt.figure(figsize=(12,5), dpi=100)\n",
    "plt.plot(train.index, train.mp_concentration, label='training')\n",
    "plt.plot(test.index, test.mp_concentration, label='actual')\n",
    "plt.plot(test.index, sarima_forecasts_1, label='forecast 1')\n",
    "plt.plot(test.index, sarima_forecasts_2, label='forecast 2')\n",
    "#plt.fill_between(test.index, lower_series, upper_series, \n",
    "#                  color='k', alpha=.15)\n",
    "plt.title('Forecast vs Actuals')\n",
    "plt.legend(loc='upper left', fontsize=8)\n",
    "plt.show()"
   ]
  },
  {
   "cell_type": "code",
   "execution_count": 156,
   "metadata": {},
   "outputs": [
    {
     "data": {
      "text/html": [
       "<table class=\"simpletable\">\n",
       "<caption>SARIMAX Results</caption>\n",
       "<tr>\n",
       "  <th>Dep. Variable:</th>           <td>mp_conc_boxcox</td>          <th>  No. Observations:  </th>    <td>285</td>   \n",
       "</tr>\n",
       "<tr>\n",
       "  <th>Model:</th>           <td>ARIMA(10, 1, 9)x(1, 1, [1], 12)</td> <th>  Log Likelihood     </th> <td>2746.261</td> \n",
       "</tr>\n",
       "<tr>\n",
       "  <th>Date:</th>                   <td>Mon, 21 Jul 2025</td>         <th>  AIC                </th> <td>-5448.522</td>\n",
       "</tr>\n",
       "<tr>\n",
       "  <th>Time:</th>                       <td>13:42:56</td>             <th>  BIC                </th> <td>-5369.194</td>\n",
       "</tr>\n",
       "<tr>\n",
       "  <th>Sample:</th>                    <td>08-19-2018</td>            <th>  HQIC               </th> <td>-5416.674</td>\n",
       "</tr>\n",
       "<tr>\n",
       "  <th></th>                          <td>- 01-28-2024</td>           <th>                     </th>     <td> </td>    \n",
       "</tr>\n",
       "<tr>\n",
       "  <th>Covariance Type:</th>               <td>opg</td>               <th>                     </th>     <td> </td>    \n",
       "</tr>\n",
       "</table>\n",
       "<table class=\"simpletable\">\n",
       "<tr>\n",
       "      <td></td>        <th>coef</th>     <th>std err</th>      <th>z</th>      <th>P>|z|</th>  <th>[0.025</th>    <th>0.975]</th>  \n",
       "</tr>\n",
       "<tr>\n",
       "  <th>ar.L1</th>    <td>    0.0499</td> <td> 8.91e-20</td> <td>  5.6e+17</td> <td> 0.000</td> <td>    0.050</td> <td>    0.050</td>\n",
       "</tr>\n",
       "<tr>\n",
       "  <th>ar.L2</th>    <td>   -0.2051</td> <td> 2.06e-19</td> <td>-9.96e+17</td> <td> 0.000</td> <td>   -0.205</td> <td>   -0.205</td>\n",
       "</tr>\n",
       "<tr>\n",
       "  <th>ar.L3</th>    <td>    0.4047</td> <td> 2.54e-20</td> <td> 1.59e+19</td> <td> 0.000</td> <td>    0.405</td> <td>    0.405</td>\n",
       "</tr>\n",
       "<tr>\n",
       "  <th>ar.L4</th>    <td>   -0.4549</td> <td> 7.92e-21</td> <td>-5.74e+19</td> <td> 0.000</td> <td>   -0.455</td> <td>   -0.455</td>\n",
       "</tr>\n",
       "<tr>\n",
       "  <th>ar.L5</th>    <td>   -0.1717</td> <td> 1.48e-19</td> <td>-1.16e+18</td> <td> 0.000</td> <td>   -0.172</td> <td>   -0.172</td>\n",
       "</tr>\n",
       "<tr>\n",
       "  <th>ar.L6</th>    <td>   -0.0790</td> <td> 2.42e-20</td> <td>-3.27e+18</td> <td> 0.000</td> <td>   -0.079</td> <td>   -0.079</td>\n",
       "</tr>\n",
       "<tr>\n",
       "  <th>ar.L7</th>    <td>    0.3496</td> <td> 2.82e-19</td> <td> 1.24e+18</td> <td> 0.000</td> <td>    0.350</td> <td>    0.350</td>\n",
       "</tr>\n",
       "<tr>\n",
       "  <th>ar.L8</th>    <td>    0.2853</td> <td>  1.9e-19</td> <td>  1.5e+18</td> <td> 0.000</td> <td>    0.285</td> <td>    0.285</td>\n",
       "</tr>\n",
       "<tr>\n",
       "  <th>ar.L9</th>    <td>   -0.3595</td> <td> 2.32e-19</td> <td>-1.55e+18</td> <td> 0.000</td> <td>   -0.360</td> <td>   -0.360</td>\n",
       "</tr>\n",
       "<tr>\n",
       "  <th>ar.L10</th>   <td>   -0.2129</td> <td> 1.14e-19</td> <td>-1.87e+18</td> <td> 0.000</td> <td>   -0.213</td> <td>   -0.213</td>\n",
       "</tr>\n",
       "<tr>\n",
       "  <th>ma.L1</th>    <td>    0.1017</td> <td> 5.61e-20</td> <td> 1.81e+18</td> <td> 0.000</td> <td>    0.102</td> <td>    0.102</td>\n",
       "</tr>\n",
       "<tr>\n",
       "  <th>ma.L2</th>    <td>   -0.0768</td> <td> 1.19e-19</td> <td>-6.43e+17</td> <td> 0.000</td> <td>   -0.077</td> <td>   -0.077</td>\n",
       "</tr>\n",
       "<tr>\n",
       "  <th>ma.L3</th>    <td>   -0.5161</td> <td> 3.19e-21</td> <td>-1.62e+20</td> <td> 0.000</td> <td>   -0.516</td> <td>   -0.516</td>\n",
       "</tr>\n",
       "<tr>\n",
       "  <th>ma.L4</th>    <td>    0.1770</td> <td> 4.67e-20</td> <td> 3.79e+18</td> <td> 0.000</td> <td>    0.177</td> <td>    0.177</td>\n",
       "</tr>\n",
       "<tr>\n",
       "  <th>ma.L5</th>    <td>    0.0234</td> <td> 7.53e-20</td> <td> 3.11e+17</td> <td> 0.000</td> <td>    0.023</td> <td>    0.023</td>\n",
       "</tr>\n",
       "<tr>\n",
       "  <th>ma.L6</th>    <td>    0.1005</td> <td> 2.04e-20</td> <td> 4.92e+18</td> <td> 0.000</td> <td>    0.100</td> <td>    0.100</td>\n",
       "</tr>\n",
       "<tr>\n",
       "  <th>ma.L7</th>    <td>   -0.2555</td> <td>  4.7e-20</td> <td>-5.44e+18</td> <td> 0.000</td> <td>   -0.255</td> <td>   -0.255</td>\n",
       "</tr>\n",
       "<tr>\n",
       "  <th>ma.L8</th>    <td>   -0.2979</td> <td> 3.88e-20</td> <td>-7.67e+18</td> <td> 0.000</td> <td>   -0.298</td> <td>   -0.298</td>\n",
       "</tr>\n",
       "<tr>\n",
       "  <th>ma.L9</th>    <td>    0.1428</td> <td> 9.59e-20</td> <td> 1.49e+18</td> <td> 0.000</td> <td>    0.143</td> <td>    0.143</td>\n",
       "</tr>\n",
       "<tr>\n",
       "  <th>ar.S.L12</th> <td>   -0.3758</td> <td> 1.26e-19</td> <td>-2.99e+18</td> <td> 0.000</td> <td>   -0.376</td> <td>   -0.376</td>\n",
       "</tr>\n",
       "<tr>\n",
       "  <th>ma.S.L12</th> <td>   -0.3031</td> <td> 1.12e-19</td> <td> -2.7e+18</td> <td> 0.000</td> <td>   -0.303</td> <td>   -0.303</td>\n",
       "</tr>\n",
       "<tr>\n",
       "  <th>sigma2</th>   <td> 9.868e-11</td> <td> 1.22e-10</td> <td>    0.808</td> <td> 0.419</td> <td>-1.41e-10</td> <td> 3.38e-10</td>\n",
       "</tr>\n",
       "</table>\n",
       "<table class=\"simpletable\">\n",
       "<tr>\n",
       "  <th>Ljung-Box (L1) (Q):</th>     <td>4.53</td> <th>  Jarque-Bera (JB):  </th> <td>3.65</td> \n",
       "</tr>\n",
       "<tr>\n",
       "  <th>Prob(Q):</th>                <td>0.03</td> <th>  Prob(JB):          </th> <td>0.16</td> \n",
       "</tr>\n",
       "<tr>\n",
       "  <th>Heteroskedasticity (H):</th> <td>1.02</td> <th>  Skew:              </th> <td>-0.28</td>\n",
       "</tr>\n",
       "<tr>\n",
       "  <th>Prob(H) (two-sided):</th>    <td>0.92</td> <th>  Kurtosis:          </th> <td>3.08</td> \n",
       "</tr>\n",
       "</table><br/><br/>Warnings:<br/>[1] Covariance matrix calculated using the outer product of gradients (complex-step).<br/>[2] Covariance matrix is singular or near-singular, with condition number 1.4e+37. Standard errors may be unstable."
      ],
      "text/latex": [
       "\\begin{center}\n",
       "\\begin{tabular}{lclc}\n",
       "\\toprule\n",
       "\\textbf{Dep. Variable:}          &         mp\\_conc\\_boxcox        & \\textbf{  No. Observations:  } &    285      \\\\\n",
       "\\textbf{Model:}                  & ARIMA(10, 1, 9)x(1, 1, [1], 12) & \\textbf{  Log Likelihood     } &  2746.261   \\\\\n",
       "\\textbf{Date:}                   &         Mon, 21 Jul 2025        & \\textbf{  AIC                } & -5448.522   \\\\\n",
       "\\textbf{Time:}                   &             13:42:56            & \\textbf{  BIC                } & -5369.194   \\\\\n",
       "\\textbf{Sample:}                 &            08-19-2018           & \\textbf{  HQIC               } & -5416.674   \\\\\n",
       "\\textbf{}                        &           - 01-28-2024          & \\textbf{                     } &             \\\\\n",
       "\\textbf{Covariance Type:}        &               opg               & \\textbf{                     } &             \\\\\n",
       "\\bottomrule\n",
       "\\end{tabular}\n",
       "\\begin{tabular}{lcccccc}\n",
       "                  & \\textbf{coef} & \\textbf{std err} & \\textbf{z} & \\textbf{P$> |$z$|$} & \\textbf{[0.025} & \\textbf{0.975]}  \\\\\n",
       "\\midrule\n",
       "\\textbf{ar.L1}    &       0.0499  &     8.91e-20     &   5.6e+17  &         0.000        &        0.050    &        0.050     \\\\\n",
       "\\textbf{ar.L2}    &      -0.2051  &     2.06e-19     & -9.96e+17  &         0.000        &       -0.205    &       -0.205     \\\\\n",
       "\\textbf{ar.L3}    &       0.4047  &     2.54e-20     &  1.59e+19  &         0.000        &        0.405    &        0.405     \\\\\n",
       "\\textbf{ar.L4}    &      -0.4549  &     7.92e-21     & -5.74e+19  &         0.000        &       -0.455    &       -0.455     \\\\\n",
       "\\textbf{ar.L5}    &      -0.1717  &     1.48e-19     & -1.16e+18  &         0.000        &       -0.172    &       -0.172     \\\\\n",
       "\\textbf{ar.L6}    &      -0.0790  &     2.42e-20     & -3.27e+18  &         0.000        &       -0.079    &       -0.079     \\\\\n",
       "\\textbf{ar.L7}    &       0.3496  &     2.82e-19     &  1.24e+18  &         0.000        &        0.350    &        0.350     \\\\\n",
       "\\textbf{ar.L8}    &       0.2853  &      1.9e-19     &   1.5e+18  &         0.000        &        0.285    &        0.285     \\\\\n",
       "\\textbf{ar.L9}    &      -0.3595  &     2.32e-19     & -1.55e+18  &         0.000        &       -0.360    &       -0.360     \\\\\n",
       "\\textbf{ar.L10}   &      -0.2129  &     1.14e-19     & -1.87e+18  &         0.000        &       -0.213    &       -0.213     \\\\\n",
       "\\textbf{ma.L1}    &       0.1017  &     5.61e-20     &  1.81e+18  &         0.000        &        0.102    &        0.102     \\\\\n",
       "\\textbf{ma.L2}    &      -0.0768  &     1.19e-19     & -6.43e+17  &         0.000        &       -0.077    &       -0.077     \\\\\n",
       "\\textbf{ma.L3}    &      -0.5161  &     3.19e-21     & -1.62e+20  &         0.000        &       -0.516    &       -0.516     \\\\\n",
       "\\textbf{ma.L4}    &       0.1770  &     4.67e-20     &  3.79e+18  &         0.000        &        0.177    &        0.177     \\\\\n",
       "\\textbf{ma.L5}    &       0.0234  &     7.53e-20     &  3.11e+17  &         0.000        &        0.023    &        0.023     \\\\\n",
       "\\textbf{ma.L6}    &       0.1005  &     2.04e-20     &  4.92e+18  &         0.000        &        0.100    &        0.100     \\\\\n",
       "\\textbf{ma.L7}    &      -0.2555  &      4.7e-20     & -5.44e+18  &         0.000        &       -0.255    &       -0.255     \\\\\n",
       "\\textbf{ma.L8}    &      -0.2979  &     3.88e-20     & -7.67e+18  &         0.000        &       -0.298    &       -0.298     \\\\\n",
       "\\textbf{ma.L9}    &       0.1428  &     9.59e-20     &  1.49e+18  &         0.000        &        0.143    &        0.143     \\\\\n",
       "\\textbf{ar.S.L12} &      -0.3758  &     1.26e-19     & -2.99e+18  &         0.000        &       -0.376    &       -0.376     \\\\\n",
       "\\textbf{ma.S.L12} &      -0.3031  &     1.12e-19     &  -2.7e+18  &         0.000        &       -0.303    &       -0.303     \\\\\n",
       "\\textbf{sigma2}   &    9.868e-11  &     1.22e-10     &     0.808  &         0.419        &    -1.41e-10    &     3.38e-10     \\\\\n",
       "\\bottomrule\n",
       "\\end{tabular}\n",
       "\\begin{tabular}{lclc}\n",
       "\\textbf{Ljung-Box (L1) (Q):}     & 4.53 & \\textbf{  Jarque-Bera (JB):  } &  3.65  \\\\\n",
       "\\textbf{Prob(Q):}                & 0.03 & \\textbf{  Prob(JB):          } &  0.16  \\\\\n",
       "\\textbf{Heteroskedasticity (H):} & 1.02 & \\textbf{  Skew:              } & -0.28  \\\\\n",
       "\\textbf{Prob(H) (two-sided):}    & 0.92 & \\textbf{  Kurtosis:          } &  3.08  \\\\\n",
       "\\bottomrule\n",
       "\\end{tabular}\n",
       "%\\caption{SARIMAX Results}\n",
       "\\end{center}\n",
       "\n",
       "Warnings: \\newline\n",
       " [1] Covariance matrix calculated using the outer product of gradients (complex-step). \\newline\n",
       " [2] Covariance matrix is singular or near-singular, with condition number 1.4e+37. Standard errors may be unstable."
      ],
      "text/plain": [
       "<class 'statsmodels.iolib.summary.Summary'>\n",
       "\"\"\"\n",
       "                                      SARIMAX Results                                      \n",
       "===========================================================================================\n",
       "Dep. Variable:                      mp_conc_boxcox   No. Observations:                  285\n",
       "Model:             ARIMA(10, 1, 9)x(1, 1, [1], 12)   Log Likelihood                2746.261\n",
       "Date:                             Mon, 21 Jul 2025   AIC                          -5448.522\n",
       "Time:                                     13:42:56   BIC                          -5369.194\n",
       "Sample:                                 08-19-2018   HQIC                         -5416.674\n",
       "                                      - 01-28-2024                                         \n",
       "Covariance Type:                               opg                                         \n",
       "==============================================================================\n",
       "                 coef    std err          z      P>|z|      [0.025      0.975]\n",
       "------------------------------------------------------------------------------\n",
       "ar.L1          0.0499   8.91e-20    5.6e+17      0.000       0.050       0.050\n",
       "ar.L2         -0.2051   2.06e-19  -9.96e+17      0.000      -0.205      -0.205\n",
       "ar.L3          0.4047   2.54e-20   1.59e+19      0.000       0.405       0.405\n",
       "ar.L4         -0.4549   7.92e-21  -5.74e+19      0.000      -0.455      -0.455\n",
       "ar.L5         -0.1717   1.48e-19  -1.16e+18      0.000      -0.172      -0.172\n",
       "ar.L6         -0.0790   2.42e-20  -3.27e+18      0.000      -0.079      -0.079\n",
       "ar.L7          0.3496   2.82e-19   1.24e+18      0.000       0.350       0.350\n",
       "ar.L8          0.2853    1.9e-19    1.5e+18      0.000       0.285       0.285\n",
       "ar.L9         -0.3595   2.32e-19  -1.55e+18      0.000      -0.360      -0.360\n",
       "ar.L10        -0.2129   1.14e-19  -1.87e+18      0.000      -0.213      -0.213\n",
       "ma.L1          0.1017   5.61e-20   1.81e+18      0.000       0.102       0.102\n",
       "ma.L2         -0.0768   1.19e-19  -6.43e+17      0.000      -0.077      -0.077\n",
       "ma.L3         -0.5161   3.19e-21  -1.62e+20      0.000      -0.516      -0.516\n",
       "ma.L4          0.1770   4.67e-20   3.79e+18      0.000       0.177       0.177\n",
       "ma.L5          0.0234   7.53e-20   3.11e+17      0.000       0.023       0.023\n",
       "ma.L6          0.1005   2.04e-20   4.92e+18      0.000       0.100       0.100\n",
       "ma.L7         -0.2555    4.7e-20  -5.44e+18      0.000      -0.255      -0.255\n",
       "ma.L8         -0.2979   3.88e-20  -7.67e+18      0.000      -0.298      -0.298\n",
       "ma.L9          0.1428   9.59e-20   1.49e+18      0.000       0.143       0.143\n",
       "ar.S.L12      -0.3758   1.26e-19  -2.99e+18      0.000      -0.376      -0.376\n",
       "ma.S.L12      -0.3031   1.12e-19   -2.7e+18      0.000      -0.303      -0.303\n",
       "sigma2      9.868e-11   1.22e-10      0.808      0.419   -1.41e-10    3.38e-10\n",
       "===================================================================================\n",
       "Ljung-Box (L1) (Q):                   4.53   Jarque-Bera (JB):                 3.65\n",
       "Prob(Q):                              0.03   Prob(JB):                         0.16\n",
       "Heteroskedasticity (H):               1.02   Skew:                            -0.28\n",
       "Prob(H) (two-sided):                  0.92   Kurtosis:                         3.08\n",
       "===================================================================================\n",
       "\n",
       "Warnings:\n",
       "[1] Covariance matrix calculated using the outer product of gradients (complex-step).\n",
       "[2] Covariance matrix is singular or near-singular, with condition number 1.4e+37. Standard errors may be unstable.\n",
       "\"\"\""
      ]
     },
     "execution_count": 156,
     "metadata": {},
     "output_type": "execute_result"
    }
   ],
   "source": [
    "sarima_2.summary()"
   ]
  },
  {
   "cell_type": "markdown",
   "metadata": {},
   "source": [
    "## Optuna"
   ]
  },
  {
   "cell_type": "code",
   "execution_count": 209,
   "metadata": {},
   "outputs": [
    {
     "data": {
      "text/html": [
       "<div>\n",
       "<style scoped>\n",
       "    .dataframe tbody tr th:only-of-type {\n",
       "        vertical-align: middle;\n",
       "    }\n",
       "\n",
       "    .dataframe tbody tr th {\n",
       "        vertical-align: top;\n",
       "    }\n",
       "\n",
       "    .dataframe thead th {\n",
       "        text-align: right;\n",
       "    }\n",
       "</style>\n",
       "<table border=\"1\" class=\"dataframe\">\n",
       "  <thead>\n",
       "    <tr style=\"text-align: right;\">\n",
       "      <th></th>\n",
       "      <th>mp_concentration</th>\n",
       "    </tr>\n",
       "    <tr>\n",
       "      <th>time</th>\n",
       "      <th></th>\n",
       "    </tr>\n",
       "  </thead>\n",
       "  <tbody>\n",
       "    <tr>\n",
       "      <th>2018-08-19</th>\n",
       "      <td>14.865665</td>\n",
       "    </tr>\n",
       "    <tr>\n",
       "      <th>2018-08-26</th>\n",
       "      <td>14.803406</td>\n",
       "    </tr>\n",
       "    <tr>\n",
       "      <th>2018-09-02</th>\n",
       "      <td>14.709439</td>\n",
       "    </tr>\n",
       "    <tr>\n",
       "      <th>2018-09-09</th>\n",
       "      <td>14.761217</td>\n",
       "    </tr>\n",
       "    <tr>\n",
       "      <th>2018-09-16</th>\n",
       "      <td>14.808359</td>\n",
       "    </tr>\n",
       "    <tr>\n",
       "      <th>...</th>\n",
       "      <td>...</td>\n",
       "    </tr>\n",
       "    <tr>\n",
       "      <th>2025-05-11</th>\n",
       "      <td>14.521454</td>\n",
       "    </tr>\n",
       "    <tr>\n",
       "      <th>2025-05-18</th>\n",
       "      <td>14.560788</td>\n",
       "    </tr>\n",
       "    <tr>\n",
       "      <th>2025-05-25</th>\n",
       "      <td>14.642275</td>\n",
       "    </tr>\n",
       "    <tr>\n",
       "      <th>2025-06-01</th>\n",
       "      <td>14.677809</td>\n",
       "    </tr>\n",
       "    <tr>\n",
       "      <th>2025-06-08</th>\n",
       "      <td>14.718995</td>\n",
       "    </tr>\n",
       "  </tbody>\n",
       "</table>\n",
       "<p>356 rows × 1 columns</p>\n",
       "</div>"
      ],
      "text/plain": [
       "            mp_concentration\n",
       "time                        \n",
       "2018-08-19         14.865665\n",
       "2018-08-26         14.803406\n",
       "2018-09-02         14.709439\n",
       "2018-09-09         14.761217\n",
       "2018-09-16         14.808359\n",
       "...                      ...\n",
       "2025-05-11         14.521454\n",
       "2025-05-18         14.560788\n",
       "2025-05-25         14.642275\n",
       "2025-06-01         14.677809\n",
       "2025-06-08         14.718995\n",
       "\n",
       "[356 rows x 1 columns]"
      ]
     },
     "execution_count": 209,
     "metadata": {},
     "output_type": "execute_result"
    }
   ],
   "source": [
    "data = pd.read_csv(\"mp_conc_weekly_full.csv\")\n",
    "data = data.set_index('time').dropna()\n",
    "data.index = pd.to_datetime(data.index)\n",
    "data"
   ]
  },
  {
   "cell_type": "code",
   "execution_count": 210,
   "metadata": {},
   "outputs": [
    {
     "data": {
      "text/html": [
       "<div>\n",
       "<style scoped>\n",
       "    .dataframe tbody tr th:only-of-type {\n",
       "        vertical-align: middle;\n",
       "    }\n",
       "\n",
       "    .dataframe tbody tr th {\n",
       "        vertical-align: top;\n",
       "    }\n",
       "\n",
       "    .dataframe thead th {\n",
       "        text-align: right;\n",
       "    }\n",
       "</style>\n",
       "<table border=\"1\" class=\"dataframe\">\n",
       "  <thead>\n",
       "    <tr style=\"text-align: right;\">\n",
       "      <th></th>\n",
       "      <th>mp_concentration</th>\n",
       "      <th>mp_conc_boxcox</th>\n",
       "    </tr>\n",
       "    <tr>\n",
       "      <th>time</th>\n",
       "      <th></th>\n",
       "      <th></th>\n",
       "    </tr>\n",
       "  </thead>\n",
       "  <tbody>\n",
       "    <tr>\n",
       "      <th>2018-08-19</th>\n",
       "      <td>14.865665</td>\n",
       "      <td>0.124086</td>\n",
       "    </tr>\n",
       "    <tr>\n",
       "      <th>2018-08-26</th>\n",
       "      <td>14.803406</td>\n",
       "      <td>0.124086</td>\n",
       "    </tr>\n",
       "    <tr>\n",
       "      <th>2018-09-02</th>\n",
       "      <td>14.709439</td>\n",
       "      <td>0.124086</td>\n",
       "    </tr>\n",
       "    <tr>\n",
       "      <th>2018-09-09</th>\n",
       "      <td>14.761217</td>\n",
       "      <td>0.124086</td>\n",
       "    </tr>\n",
       "    <tr>\n",
       "      <th>2018-09-16</th>\n",
       "      <td>14.808359</td>\n",
       "      <td>0.124086</td>\n",
       "    </tr>\n",
       "    <tr>\n",
       "      <th>...</th>\n",
       "      <td>...</td>\n",
       "      <td>...</td>\n",
       "    </tr>\n",
       "    <tr>\n",
       "      <th>2025-05-11</th>\n",
       "      <td>14.521454</td>\n",
       "      <td>0.124086</td>\n",
       "    </tr>\n",
       "    <tr>\n",
       "      <th>2025-05-18</th>\n",
       "      <td>14.560788</td>\n",
       "      <td>0.124086</td>\n",
       "    </tr>\n",
       "    <tr>\n",
       "      <th>2025-05-25</th>\n",
       "      <td>14.642275</td>\n",
       "      <td>0.124086</td>\n",
       "    </tr>\n",
       "    <tr>\n",
       "      <th>2025-06-01</th>\n",
       "      <td>14.677809</td>\n",
       "      <td>0.124086</td>\n",
       "    </tr>\n",
       "    <tr>\n",
       "      <th>2025-06-08</th>\n",
       "      <td>14.718995</td>\n",
       "      <td>0.124086</td>\n",
       "    </tr>\n",
       "  </tbody>\n",
       "</table>\n",
       "<p>356 rows × 2 columns</p>\n",
       "</div>"
      ],
      "text/plain": [
       "            mp_concentration  mp_conc_boxcox\n",
       "time                                        \n",
       "2018-08-19         14.865665        0.124086\n",
       "2018-08-26         14.803406        0.124086\n",
       "2018-09-02         14.709439        0.124086\n",
       "2018-09-09         14.761217        0.124086\n",
       "2018-09-16         14.808359        0.124086\n",
       "...                      ...             ...\n",
       "2025-05-11         14.521454        0.124086\n",
       "2025-05-18         14.560788        0.124086\n",
       "2025-05-25         14.642275        0.124086\n",
       "2025-06-01         14.677809        0.124086\n",
       "2025-06-08         14.718995        0.124086\n",
       "\n",
       "[356 rows x 2 columns]"
      ]
     },
     "execution_count": 210,
     "metadata": {},
     "output_type": "execute_result"
    }
   ],
   "source": [
    "data['mp_conc_boxcox'], lam = boxcox(data['mp_concentration'])\n",
    "data"
   ]
  },
  {
   "cell_type": "code",
   "execution_count": 211,
   "metadata": {},
   "outputs": [
    {
     "data": {
      "text/plain": [
       "(            mp_concentration  mp_conc_boxcox\n",
       " time                                        \n",
       " 2018-08-19         14.865665        0.124086\n",
       " 2018-08-26         14.803406        0.124086\n",
       " 2018-09-02         14.709439        0.124086\n",
       " 2018-09-09         14.761217        0.124086\n",
       " 2018-09-16         14.808359        0.124086\n",
       " ...                      ...             ...\n",
       " 2023-12-31         14.408309        0.124086\n",
       " 2024-01-07         14.506263        0.124086\n",
       " 2024-01-14         14.632690        0.124086\n",
       " 2024-01-21         14.675417        0.124086\n",
       " 2024-01-28         14.609019        0.124086\n",
       " \n",
       " [285 rows x 2 columns],\n",
       "             mp_concentration  mp_conc_boxcox\n",
       " time                                        \n",
       " 2024-02-04         14.550875        0.124086\n",
       " 2024-02-11         14.532674        0.124086\n",
       " 2024-02-18         14.548169        0.124086\n",
       " 2024-02-25         14.541131        0.124086\n",
       " 2024-03-03         14.602452        0.124086\n",
       " ...                      ...             ...\n",
       " 2025-05-11         14.521454        0.124086\n",
       " 2025-05-18         14.560788        0.124086\n",
       " 2025-05-25         14.642275        0.124086\n",
       " 2025-06-01         14.677809        0.124086\n",
       " 2025-06-08         14.718995        0.124086\n",
       " \n",
       " [71 rows x 2 columns])"
      ]
     },
     "execution_count": 211,
     "metadata": {},
     "output_type": "execute_result"
    }
   ],
   "source": [
    "train = data.iloc[:-int(len(data) * 0.2)]\n",
    "test = data.iloc[-int(len(data) * 0.2):]\n",
    "train, test"
   ]
  },
  {
   "cell_type": "code",
   "execution_count": 273,
   "metadata": {},
   "outputs": [],
   "source": [
    "def objective(trial):\n",
    "    try: \n",
    "        p = trial.suggest_int('p', 0, 11)\n",
    "        d = trial.suggest_int('d', 1, 1) # Keeping d constrained as per your analysis\n",
    "        q = trial.suggest_int('q', 0, 11)\n",
    "        P = trial.suggest_int('P', 1, 1)\n",
    "        D = trial.suggest_int('D', 1, 1) # Keeping D constrained\n",
    "        Q = trial.suggest_int('Q', 1, 1)\n",
    "\n",
    "        m = 12\n",
    "\n",
    "        model =  ARIMA(train.mp_conc_boxcox, \n",
    "                        order=(p,d,q),\n",
    "                        seasonal_order=(P,D,Q,m),\n",
    "                        enforce_stationarity=False,\n",
    "                        enforce_invertibility=False).fit()\n",
    "\n",
    "        return model.aicc\n",
    "    except Exception:\n",
    "        return np.inf"
   ]
  },
  {
   "cell_type": "code",
   "execution_count": 274,
   "metadata": {},
   "outputs": [
    {
     "name": "stderr",
     "output_type": "stream",
     "text": [
      "[I 2025-07-21 15:25:15,988] A new study created in memory with name: no-name-ac1f8ae7-6081-4bbd-9497-cdfe15ddb14a\n",
      "/Library/Frameworks/Python.framework/Versions/3.10/lib/python3.10/site-packages/statsmodels/tsa/base/tsa_model.py:473: ValueWarning:\n",
      "\n",
      "No frequency information was provided, so inferred frequency W-SUN will be used.\n",
      "\n",
      "/Library/Frameworks/Python.framework/Versions/3.10/lib/python3.10/site-packages/statsmodels/tsa/base/tsa_model.py:473: ValueWarning:\n",
      "\n",
      "No frequency information was provided, so inferred frequency W-SUN will be used.\n",
      "\n",
      "/Library/Frameworks/Python.framework/Versions/3.10/lib/python3.10/site-packages/statsmodels/tsa/base/tsa_model.py:473: ValueWarning:\n",
      "\n",
      "No frequency information was provided, so inferred frequency W-SUN will be used.\n",
      "\n",
      "/Library/Frameworks/Python.framework/Versions/3.10/lib/python3.10/site-packages/statsmodels/base/model.py:607: ConvergenceWarning:\n",
      "\n",
      "Maximum Likelihood optimization failed to converge. Check mle_retvals\n",
      "\n",
      "[I 2025-07-21 15:25:17,376] Trial 0 finished with value: -5485.705747772452 and parameters: {'p': 1, 'd': 1, 'q': 7, 'P': 1, 'D': 1, 'Q': 1}. Best is trial 0 with value: -5485.705747772452.\n",
      "/Library/Frameworks/Python.framework/Versions/3.10/lib/python3.10/site-packages/statsmodels/tsa/base/tsa_model.py:473: ValueWarning:\n",
      "\n",
      "No frequency information was provided, so inferred frequency W-SUN will be used.\n",
      "\n",
      "/Library/Frameworks/Python.framework/Versions/3.10/lib/python3.10/site-packages/statsmodels/tsa/base/tsa_model.py:473: ValueWarning:\n",
      "\n",
      "No frequency information was provided, so inferred frequency W-SUN will be used.\n",
      "\n",
      "/Library/Frameworks/Python.framework/Versions/3.10/lib/python3.10/site-packages/statsmodels/tsa/base/tsa_model.py:473: ValueWarning:\n",
      "\n",
      "No frequency information was provided, so inferred frequency W-SUN will be used.\n",
      "\n",
      "[I 2025-07-21 15:25:17,804] Trial 1 finished with value: -5132.089163104045 and parameters: {'p': 9, 'd': 1, 'q': 2, 'P': 1, 'D': 1, 'Q': 1}. Best is trial 1 with value: -5132.089163104045.\n",
      "/Library/Frameworks/Python.framework/Versions/3.10/lib/python3.10/site-packages/statsmodels/tsa/base/tsa_model.py:473: ValueWarning:\n",
      "\n",
      "No frequency information was provided, so inferred frequency W-SUN will be used.\n",
      "\n",
      "/Library/Frameworks/Python.framework/Versions/3.10/lib/python3.10/site-packages/statsmodels/tsa/base/tsa_model.py:473: ValueWarning:\n",
      "\n",
      "No frequency information was provided, so inferred frequency W-SUN will be used.\n",
      "\n",
      "/Library/Frameworks/Python.framework/Versions/3.10/lib/python3.10/site-packages/statsmodels/tsa/base/tsa_model.py:473: ValueWarning:\n",
      "\n",
      "No frequency information was provided, so inferred frequency W-SUN will be used.\n",
      "\n",
      "/Library/Frameworks/Python.framework/Versions/3.10/lib/python3.10/site-packages/statsmodels/base/model.py:607: ConvergenceWarning:\n",
      "\n",
      "Maximum Likelihood optimization failed to converge. Check mle_retvals\n",
      "\n",
      "[I 2025-07-21 15:25:20,274] Trial 2 finished with value: -3445.61359021564 and parameters: {'p': 11, 'd': 1, 'q': 5, 'P': 1, 'D': 1, 'Q': 1}. Best is trial 2 with value: -3445.61359021564.\n",
      "/Library/Frameworks/Python.framework/Versions/3.10/lib/python3.10/site-packages/statsmodels/tsa/base/tsa_model.py:473: ValueWarning:\n",
      "\n",
      "No frequency information was provided, so inferred frequency W-SUN will be used.\n",
      "\n",
      "/Library/Frameworks/Python.framework/Versions/3.10/lib/python3.10/site-packages/statsmodels/tsa/base/tsa_model.py:473: ValueWarning:\n",
      "\n",
      "No frequency information was provided, so inferred frequency W-SUN will be used.\n",
      "\n",
      "/Library/Frameworks/Python.framework/Versions/3.10/lib/python3.10/site-packages/statsmodels/tsa/base/tsa_model.py:473: ValueWarning:\n",
      "\n",
      "No frequency information was provided, so inferred frequency W-SUN will be used.\n",
      "\n",
      "/Library/Frameworks/Python.framework/Versions/3.10/lib/python3.10/site-packages/statsmodels/base/model.py:607: ConvergenceWarning:\n",
      "\n",
      "Maximum Likelihood optimization failed to converge. Check mle_retvals\n",
      "\n",
      "[I 2025-07-21 15:25:21,829] Trial 3 finished with value: -5010.904473717573 and parameters: {'p': 1, 'd': 1, 'q': 8, 'P': 1, 'D': 1, 'Q': 1}. Best is trial 2 with value: -3445.61359021564.\n",
      "/Library/Frameworks/Python.framework/Versions/3.10/lib/python3.10/site-packages/statsmodels/tsa/base/tsa_model.py:473: ValueWarning:\n",
      "\n",
      "No frequency information was provided, so inferred frequency W-SUN will be used.\n",
      "\n",
      "/Library/Frameworks/Python.framework/Versions/3.10/lib/python3.10/site-packages/statsmodels/tsa/base/tsa_model.py:473: ValueWarning:\n",
      "\n",
      "No frequency information was provided, so inferred frequency W-SUN will be used.\n",
      "\n",
      "/Library/Frameworks/Python.framework/Versions/3.10/lib/python3.10/site-packages/statsmodels/tsa/base/tsa_model.py:473: ValueWarning:\n",
      "\n",
      "No frequency information was provided, so inferred frequency W-SUN will be used.\n",
      "\n",
      "/Library/Frameworks/Python.framework/Versions/3.10/lib/python3.10/site-packages/statsmodels/base/model.py:607: ConvergenceWarning:\n",
      "\n",
      "Maximum Likelihood optimization failed to converge. Check mle_retvals\n",
      "\n",
      "[I 2025-07-21 15:25:22,111] Trial 4 finished with value: -5179.363643246047 and parameters: {'p': 7, 'd': 1, 'q': 2, 'P': 1, 'D': 1, 'Q': 1}. Best is trial 2 with value: -3445.61359021564.\n",
      "/Library/Frameworks/Python.framework/Versions/3.10/lib/python3.10/site-packages/statsmodels/tsa/base/tsa_model.py:473: ValueWarning:\n",
      "\n",
      "No frequency information was provided, so inferred frequency W-SUN will be used.\n",
      "\n",
      "/Library/Frameworks/Python.framework/Versions/3.10/lib/python3.10/site-packages/statsmodels/tsa/base/tsa_model.py:473: ValueWarning:\n",
      "\n",
      "No frequency information was provided, so inferred frequency W-SUN will be used.\n",
      "\n",
      "/Library/Frameworks/Python.framework/Versions/3.10/lib/python3.10/site-packages/statsmodels/tsa/base/tsa_model.py:473: ValueWarning:\n",
      "\n",
      "No frequency information was provided, so inferred frequency W-SUN will be used.\n",
      "\n",
      "/Library/Frameworks/Python.framework/Versions/3.10/lib/python3.10/site-packages/statsmodels/base/model.py:607: ConvergenceWarning:\n",
      "\n",
      "Maximum Likelihood optimization failed to converge. Check mle_retvals\n",
      "\n",
      "[I 2025-07-21 15:25:22,967] Trial 5 finished with value: -5592.061511079068 and parameters: {'p': 2, 'd': 1, 'q': 5, 'P': 1, 'D': 1, 'Q': 1}. Best is trial 2 with value: -3445.61359021564.\n",
      "/Library/Frameworks/Python.framework/Versions/3.10/lib/python3.10/site-packages/statsmodels/tsa/base/tsa_model.py:473: ValueWarning:\n",
      "\n",
      "No frequency information was provided, so inferred frequency W-SUN will be used.\n",
      "\n",
      "/Library/Frameworks/Python.framework/Versions/3.10/lib/python3.10/site-packages/statsmodels/tsa/base/tsa_model.py:473: ValueWarning:\n",
      "\n",
      "No frequency information was provided, so inferred frequency W-SUN will be used.\n",
      "\n",
      "/Library/Frameworks/Python.framework/Versions/3.10/lib/python3.10/site-packages/statsmodels/tsa/base/tsa_model.py:473: ValueWarning:\n",
      "\n",
      "No frequency information was provided, so inferred frequency W-SUN will be used.\n",
      "\n",
      "/Library/Frameworks/Python.framework/Versions/3.10/lib/python3.10/site-packages/statsmodels/base/model.py:607: ConvergenceWarning:\n",
      "\n",
      "Maximum Likelihood optimization failed to converge. Check mle_retvals\n",
      "\n",
      "[I 2025-07-21 15:25:24,445] Trial 6 finished with value: -5035.966182644655 and parameters: {'p': 4, 'd': 1, 'q': 4, 'P': 1, 'D': 1, 'Q': 1}. Best is trial 2 with value: -3445.61359021564.\n",
      "/Library/Frameworks/Python.framework/Versions/3.10/lib/python3.10/site-packages/statsmodels/tsa/base/tsa_model.py:473: ValueWarning:\n",
      "\n",
      "No frequency information was provided, so inferred frequency W-SUN will be used.\n",
      "\n",
      "/Library/Frameworks/Python.framework/Versions/3.10/lib/python3.10/site-packages/statsmodels/tsa/base/tsa_model.py:473: ValueWarning:\n",
      "\n",
      "No frequency information was provided, so inferred frequency W-SUN will be used.\n",
      "\n",
      "/Library/Frameworks/Python.framework/Versions/3.10/lib/python3.10/site-packages/statsmodels/tsa/base/tsa_model.py:473: ValueWarning:\n",
      "\n",
      "No frequency information was provided, so inferred frequency W-SUN will be used.\n",
      "\n",
      "/Library/Frameworks/Python.framework/Versions/3.10/lib/python3.10/site-packages/statsmodels/base/model.py:607: ConvergenceWarning:\n",
      "\n",
      "Maximum Likelihood optimization failed to converge. Check mle_retvals\n",
      "\n",
      "[I 2025-07-21 15:25:27,735] Trial 7 finished with value: -5247.257168916368 and parameters: {'p': 7, 'd': 1, 'q': 11, 'P': 1, 'D': 1, 'Q': 1}. Best is trial 2 with value: -3445.61359021564.\n",
      "/Library/Frameworks/Python.framework/Versions/3.10/lib/python3.10/site-packages/statsmodels/tsa/base/tsa_model.py:473: ValueWarning:\n",
      "\n",
      "No frequency information was provided, so inferred frequency W-SUN will be used.\n",
      "\n",
      "/Library/Frameworks/Python.framework/Versions/3.10/lib/python3.10/site-packages/statsmodels/tsa/base/tsa_model.py:473: ValueWarning:\n",
      "\n",
      "No frequency information was provided, so inferred frequency W-SUN will be used.\n",
      "\n",
      "/Library/Frameworks/Python.framework/Versions/3.10/lib/python3.10/site-packages/statsmodels/tsa/base/tsa_model.py:473: ValueWarning:\n",
      "\n",
      "No frequency information was provided, so inferred frequency W-SUN will be used.\n",
      "\n",
      "/Library/Frameworks/Python.framework/Versions/3.10/lib/python3.10/site-packages/statsmodels/base/model.py:607: ConvergenceWarning:\n",
      "\n",
      "Maximum Likelihood optimization failed to converge. Check mle_retvals\n",
      "\n",
      "[I 2025-07-21 15:25:28,906] Trial 8 finished with value: -4801.402296291376 and parameters: {'p': 1, 'd': 1, 'q': 4, 'P': 1, 'D': 1, 'Q': 1}. Best is trial 2 with value: -3445.61359021564.\n",
      "/Library/Frameworks/Python.framework/Versions/3.10/lib/python3.10/site-packages/statsmodels/tsa/base/tsa_model.py:473: ValueWarning:\n",
      "\n",
      "No frequency information was provided, so inferred frequency W-SUN will be used.\n",
      "\n",
      "/Library/Frameworks/Python.framework/Versions/3.10/lib/python3.10/site-packages/statsmodels/tsa/base/tsa_model.py:473: ValueWarning:\n",
      "\n",
      "No frequency information was provided, so inferred frequency W-SUN will be used.\n",
      "\n",
      "/Library/Frameworks/Python.framework/Versions/3.10/lib/python3.10/site-packages/statsmodels/tsa/base/tsa_model.py:473: ValueWarning:\n",
      "\n",
      "No frequency information was provided, so inferred frequency W-SUN will be used.\n",
      "\n",
      "/Library/Frameworks/Python.framework/Versions/3.10/lib/python3.10/site-packages/statsmodels/base/model.py:607: ConvergenceWarning:\n",
      "\n",
      "Maximum Likelihood optimization failed to converge. Check mle_retvals\n",
      "\n",
      "[I 2025-07-21 15:25:30,124] Trial 9 finished with value: -5035.966182644655 and parameters: {'p': 4, 'd': 1, 'q': 4, 'P': 1, 'D': 1, 'Q': 1}. Best is trial 2 with value: -3445.61359021564.\n",
      "/Library/Frameworks/Python.framework/Versions/3.10/lib/python3.10/site-packages/statsmodels/tsa/base/tsa_model.py:473: ValueWarning:\n",
      "\n",
      "No frequency information was provided, so inferred frequency W-SUN will be used.\n",
      "\n",
      "/Library/Frameworks/Python.framework/Versions/3.10/lib/python3.10/site-packages/statsmodels/tsa/base/tsa_model.py:473: ValueWarning:\n",
      "\n",
      "No frequency information was provided, so inferred frequency W-SUN will be used.\n",
      "\n",
      "/Library/Frameworks/Python.framework/Versions/3.10/lib/python3.10/site-packages/statsmodels/tsa/base/tsa_model.py:473: ValueWarning:\n",
      "\n",
      "No frequency information was provided, so inferred frequency W-SUN will be used.\n",
      "\n",
      "[I 2025-07-21 15:25:31,418] Trial 10 finished with value: -5087.663709961903 and parameters: {'p': 11, 'd': 1, 'q': 9, 'P': 1, 'D': 1, 'Q': 1}. Best is trial 2 with value: -3445.61359021564.\n",
      "/Library/Frameworks/Python.framework/Versions/3.10/lib/python3.10/site-packages/statsmodels/tsa/base/tsa_model.py:473: ValueWarning:\n",
      "\n",
      "No frequency information was provided, so inferred frequency W-SUN will be used.\n",
      "\n",
      "/Library/Frameworks/Python.framework/Versions/3.10/lib/python3.10/site-packages/statsmodels/tsa/base/tsa_model.py:473: ValueWarning:\n",
      "\n",
      "No frequency information was provided, so inferred frequency W-SUN will be used.\n",
      "\n",
      "/Library/Frameworks/Python.framework/Versions/3.10/lib/python3.10/site-packages/statsmodels/tsa/base/tsa_model.py:473: ValueWarning:\n",
      "\n",
      "No frequency information was provided, so inferred frequency W-SUN will be used.\n",
      "\n",
      "[I 2025-07-21 15:25:31,580] Trial 11 finished with value: -5181.669038909132 and parameters: {'p': 11, 'd': 1, 'q': 0, 'P': 1, 'D': 1, 'Q': 1}. Best is trial 2 with value: -3445.61359021564.\n",
      "/Library/Frameworks/Python.framework/Versions/3.10/lib/python3.10/site-packages/statsmodels/tsa/base/tsa_model.py:473: ValueWarning:\n",
      "\n",
      "No frequency information was provided, so inferred frequency W-SUN will be used.\n",
      "\n",
      "/Library/Frameworks/Python.framework/Versions/3.10/lib/python3.10/site-packages/statsmodels/tsa/base/tsa_model.py:473: ValueWarning:\n",
      "\n",
      "No frequency information was provided, so inferred frequency W-SUN will be used.\n",
      "\n",
      "/Library/Frameworks/Python.framework/Versions/3.10/lib/python3.10/site-packages/statsmodels/tsa/base/tsa_model.py:473: ValueWarning:\n",
      "\n",
      "No frequency information was provided, so inferred frequency W-SUN will be used.\n",
      "\n",
      "[I 2025-07-21 15:25:32,037] Trial 12 finished with value: -4867.584517753958 and parameters: {'p': 4, 'd': 1, 'q': 6, 'P': 1, 'D': 1, 'Q': 1}. Best is trial 2 with value: -3445.61359021564.\n",
      "/Library/Frameworks/Python.framework/Versions/3.10/lib/python3.10/site-packages/statsmodels/tsa/base/tsa_model.py:473: ValueWarning:\n",
      "\n",
      "No frequency information was provided, so inferred frequency W-SUN will be used.\n",
      "\n",
      "/Library/Frameworks/Python.framework/Versions/3.10/lib/python3.10/site-packages/statsmodels/tsa/base/tsa_model.py:473: ValueWarning:\n",
      "\n",
      "No frequency information was provided, so inferred frequency W-SUN will be used.\n",
      "\n",
      "/Library/Frameworks/Python.framework/Versions/3.10/lib/python3.10/site-packages/statsmodels/tsa/base/tsa_model.py:473: ValueWarning:\n",
      "\n",
      "No frequency information was provided, so inferred frequency W-SUN will be used.\n",
      "\n",
      "[I 2025-07-21 15:25:32,241] Trial 13 finished with value: -4919.732249998477 and parameters: {'p': 0, 'd': 1, 'q': 3, 'P': 1, 'D': 1, 'Q': 1}. Best is trial 2 with value: -3445.61359021564.\n",
      "/Library/Frameworks/Python.framework/Versions/3.10/lib/python3.10/site-packages/statsmodels/tsa/base/tsa_model.py:473: ValueWarning:\n",
      "\n",
      "No frequency information was provided, so inferred frequency W-SUN will be used.\n",
      "\n",
      "/Library/Frameworks/Python.framework/Versions/3.10/lib/python3.10/site-packages/statsmodels/tsa/base/tsa_model.py:473: ValueWarning:\n",
      "\n",
      "No frequency information was provided, so inferred frequency W-SUN will be used.\n",
      "\n",
      "/Library/Frameworks/Python.framework/Versions/3.10/lib/python3.10/site-packages/statsmodels/tsa/base/tsa_model.py:473: ValueWarning:\n",
      "\n",
      "No frequency information was provided, so inferred frequency W-SUN will be used.\n",
      "\n",
      "/Library/Frameworks/Python.framework/Versions/3.10/lib/python3.10/site-packages/statsmodels/base/model.py:607: ConvergenceWarning:\n",
      "\n",
      "Maximum Likelihood optimization failed to converge. Check mle_retvals\n",
      "\n",
      "[I 2025-07-21 15:25:33,071] Trial 14 finished with value: -5222.585828176116 and parameters: {'p': 9, 'd': 1, 'q': 1, 'P': 1, 'D': 1, 'Q': 1}. Best is trial 2 with value: -3445.61359021564.\n",
      "/Library/Frameworks/Python.framework/Versions/3.10/lib/python3.10/site-packages/statsmodels/tsa/base/tsa_model.py:473: ValueWarning:\n",
      "\n",
      "No frequency information was provided, so inferred frequency W-SUN will be used.\n",
      "\n",
      "/Library/Frameworks/Python.framework/Versions/3.10/lib/python3.10/site-packages/statsmodels/tsa/base/tsa_model.py:473: ValueWarning:\n",
      "\n",
      "No frequency information was provided, so inferred frequency W-SUN will be used.\n",
      "\n",
      "/Library/Frameworks/Python.framework/Versions/3.10/lib/python3.10/site-packages/statsmodels/tsa/base/tsa_model.py:473: ValueWarning:\n",
      "\n",
      "No frequency information was provided, so inferred frequency W-SUN will be used.\n",
      "\n",
      "[I 2025-07-21 15:25:33,932] Trial 15 finished with value: -5006.715551242884 and parameters: {'p': 6, 'd': 1, 'q': 5, 'P': 1, 'D': 1, 'Q': 1}. Best is trial 2 with value: -3445.61359021564.\n",
      "/Library/Frameworks/Python.framework/Versions/3.10/lib/python3.10/site-packages/statsmodels/tsa/base/tsa_model.py:473: ValueWarning:\n",
      "\n",
      "No frequency information was provided, so inferred frequency W-SUN will be used.\n",
      "\n",
      "/Library/Frameworks/Python.framework/Versions/3.10/lib/python3.10/site-packages/statsmodels/tsa/base/tsa_model.py:473: ValueWarning:\n",
      "\n",
      "No frequency information was provided, so inferred frequency W-SUN will be used.\n",
      "\n",
      "/Library/Frameworks/Python.framework/Versions/3.10/lib/python3.10/site-packages/statsmodels/tsa/base/tsa_model.py:473: ValueWarning:\n",
      "\n",
      "No frequency information was provided, so inferred frequency W-SUN will be used.\n",
      "\n",
      "[I 2025-07-21 15:25:35,261] Trial 16 finished with value: -652.0627883669285 and parameters: {'p': 9, 'd': 1, 'q': 7, 'P': 1, 'D': 1, 'Q': 1}. Best is trial 16 with value: -652.0627883669285.\n",
      "/Library/Frameworks/Python.framework/Versions/3.10/lib/python3.10/site-packages/statsmodels/tsa/base/tsa_model.py:473: ValueWarning:\n",
      "\n",
      "No frequency information was provided, so inferred frequency W-SUN will be used.\n",
      "\n",
      "/Library/Frameworks/Python.framework/Versions/3.10/lib/python3.10/site-packages/statsmodels/tsa/base/tsa_model.py:473: ValueWarning:\n",
      "\n",
      "No frequency information was provided, so inferred frequency W-SUN will be used.\n",
      "\n",
      "/Library/Frameworks/Python.framework/Versions/3.10/lib/python3.10/site-packages/statsmodels/tsa/base/tsa_model.py:473: ValueWarning:\n",
      "\n",
      "No frequency information was provided, so inferred frequency W-SUN will be used.\n",
      "\n",
      "/Library/Frameworks/Python.framework/Versions/3.10/lib/python3.10/site-packages/statsmodels/base/model.py:607: ConvergenceWarning:\n",
      "\n",
      "Maximum Likelihood optimization failed to converge. Check mle_retvals\n",
      "\n",
      "[I 2025-07-21 15:25:37,650] Trial 17 finished with value: -4760.418658326755 and parameters: {'p': 9, 'd': 1, 'q': 10, 'P': 1, 'D': 1, 'Q': 1}. Best is trial 16 with value: -652.0627883669285.\n",
      "/Library/Frameworks/Python.framework/Versions/3.10/lib/python3.10/site-packages/statsmodels/tsa/base/tsa_model.py:473: ValueWarning:\n",
      "\n",
      "No frequency information was provided, so inferred frequency W-SUN will be used.\n",
      "\n",
      "/Library/Frameworks/Python.framework/Versions/3.10/lib/python3.10/site-packages/statsmodels/tsa/base/tsa_model.py:473: ValueWarning:\n",
      "\n",
      "No frequency information was provided, so inferred frequency W-SUN will be used.\n",
      "\n",
      "/Library/Frameworks/Python.framework/Versions/3.10/lib/python3.10/site-packages/statsmodels/tsa/base/tsa_model.py:473: ValueWarning:\n",
      "\n",
      "No frequency information was provided, so inferred frequency W-SUN will be used.\n",
      "\n",
      "[I 2025-07-21 15:25:38,828] Trial 18 finished with value: -5130.045111236045 and parameters: {'p': 10, 'd': 1, 'q': 7, 'P': 1, 'D': 1, 'Q': 1}. Best is trial 16 with value: -652.0627883669285.\n",
      "/Library/Frameworks/Python.framework/Versions/3.10/lib/python3.10/site-packages/statsmodels/tsa/base/tsa_model.py:473: ValueWarning:\n",
      "\n",
      "No frequency information was provided, so inferred frequency W-SUN will be used.\n",
      "\n",
      "/Library/Frameworks/Python.framework/Versions/3.10/lib/python3.10/site-packages/statsmodels/tsa/base/tsa_model.py:473: ValueWarning:\n",
      "\n",
      "No frequency information was provided, so inferred frequency W-SUN will be used.\n",
      "\n",
      "/Library/Frameworks/Python.framework/Versions/3.10/lib/python3.10/site-packages/statsmodels/tsa/base/tsa_model.py:473: ValueWarning:\n",
      "\n",
      "No frequency information was provided, so inferred frequency W-SUN will be used.\n",
      "\n",
      "[I 2025-07-21 15:25:39,962] Trial 19 finished with value: -5033.203994437338 and parameters: {'p': 8, 'd': 1, 'q': 7, 'P': 1, 'D': 1, 'Q': 1}. Best is trial 16 with value: -652.0627883669285.\n",
      "/Library/Frameworks/Python.framework/Versions/3.10/lib/python3.10/site-packages/statsmodels/tsa/base/tsa_model.py:473: ValueWarning:\n",
      "\n",
      "No frequency information was provided, so inferred frequency W-SUN will be used.\n",
      "\n",
      "/Library/Frameworks/Python.framework/Versions/3.10/lib/python3.10/site-packages/statsmodels/tsa/base/tsa_model.py:473: ValueWarning:\n",
      "\n",
      "No frequency information was provided, so inferred frequency W-SUN will be used.\n",
      "\n",
      "/Library/Frameworks/Python.framework/Versions/3.10/lib/python3.10/site-packages/statsmodels/tsa/base/tsa_model.py:473: ValueWarning:\n",
      "\n",
      "No frequency information was provided, so inferred frequency W-SUN will be used.\n",
      "\n",
      "[I 2025-07-21 15:25:40,458] Trial 20 finished with value: -5020.349064514824 and parameters: {'p': 11, 'd': 1, 'q': 8, 'P': 1, 'D': 1, 'Q': 1}. Best is trial 16 with value: -652.0627883669285.\n",
      "/Library/Frameworks/Python.framework/Versions/3.10/lib/python3.10/site-packages/statsmodels/tsa/base/tsa_model.py:473: ValueWarning:\n",
      "\n",
      "No frequency information was provided, so inferred frequency W-SUN will be used.\n",
      "\n",
      "/Library/Frameworks/Python.framework/Versions/3.10/lib/python3.10/site-packages/statsmodels/tsa/base/tsa_model.py:473: ValueWarning:\n",
      "\n",
      "No frequency information was provided, so inferred frequency W-SUN will be used.\n",
      "\n",
      "/Library/Frameworks/Python.framework/Versions/3.10/lib/python3.10/site-packages/statsmodels/tsa/base/tsa_model.py:473: ValueWarning:\n",
      "\n",
      "No frequency information was provided, so inferred frequency W-SUN will be used.\n",
      "\n",
      "/Library/Frameworks/Python.framework/Versions/3.10/lib/python3.10/site-packages/statsmodels/base/model.py:607: ConvergenceWarning:\n",
      "\n",
      "Maximum Likelihood optimization failed to converge. Check mle_retvals\n",
      "\n",
      "[I 2025-07-21 15:25:44,051] Trial 21 finished with value: -4826.616826639077 and parameters: {'p': 9, 'd': 1, 'q': 11, 'P': 1, 'D': 1, 'Q': 1}. Best is trial 16 with value: -652.0627883669285.\n",
      "/Library/Frameworks/Python.framework/Versions/3.10/lib/python3.10/site-packages/statsmodels/tsa/base/tsa_model.py:473: ValueWarning:\n",
      "\n",
      "No frequency information was provided, so inferred frequency W-SUN will be used.\n",
      "\n",
      "/Library/Frameworks/Python.framework/Versions/3.10/lib/python3.10/site-packages/statsmodels/tsa/base/tsa_model.py:473: ValueWarning:\n",
      "\n",
      "No frequency information was provided, so inferred frequency W-SUN will be used.\n",
      "\n",
      "/Library/Frameworks/Python.framework/Versions/3.10/lib/python3.10/site-packages/statsmodels/tsa/base/tsa_model.py:473: ValueWarning:\n",
      "\n",
      "No frequency information was provided, so inferred frequency W-SUN will be used.\n",
      "\n",
      "[I 2025-07-21 15:25:45,800] Trial 22 finished with value: -5074.255624380329 and parameters: {'p': 10, 'd': 1, 'q': 10, 'P': 1, 'D': 1, 'Q': 1}. Best is trial 16 with value: -652.0627883669285.\n",
      "/Library/Frameworks/Python.framework/Versions/3.10/lib/python3.10/site-packages/statsmodels/tsa/base/tsa_model.py:473: ValueWarning:\n",
      "\n",
      "No frequency information was provided, so inferred frequency W-SUN will be used.\n",
      "\n",
      "/Library/Frameworks/Python.framework/Versions/3.10/lib/python3.10/site-packages/statsmodels/tsa/base/tsa_model.py:473: ValueWarning:\n",
      "\n",
      "No frequency information was provided, so inferred frequency W-SUN will be used.\n",
      "\n",
      "/Library/Frameworks/Python.framework/Versions/3.10/lib/python3.10/site-packages/statsmodels/tsa/base/tsa_model.py:473: ValueWarning:\n",
      "\n",
      "No frequency information was provided, so inferred frequency W-SUN will be used.\n",
      "\n",
      "/Library/Frameworks/Python.framework/Versions/3.10/lib/python3.10/site-packages/statsmodels/base/model.py:607: ConvergenceWarning:\n",
      "\n",
      "Maximum Likelihood optimization failed to converge. Check mle_retvals\n",
      "\n",
      "[I 2025-07-21 15:25:47,966] Trial 23 finished with value: -4898.95310530237 and parameters: {'p': 8, 'd': 1, 'q': 9, 'P': 1, 'D': 1, 'Q': 1}. Best is trial 16 with value: -652.0627883669285.\n",
      "/Library/Frameworks/Python.framework/Versions/3.10/lib/python3.10/site-packages/statsmodels/tsa/base/tsa_model.py:473: ValueWarning:\n",
      "\n",
      "No frequency information was provided, so inferred frequency W-SUN will be used.\n",
      "\n",
      "/Library/Frameworks/Python.framework/Versions/3.10/lib/python3.10/site-packages/statsmodels/tsa/base/tsa_model.py:473: ValueWarning:\n",
      "\n",
      "No frequency information was provided, so inferred frequency W-SUN will be used.\n",
      "\n",
      "/Library/Frameworks/Python.framework/Versions/3.10/lib/python3.10/site-packages/statsmodels/tsa/base/tsa_model.py:473: ValueWarning:\n",
      "\n",
      "No frequency information was provided, so inferred frequency W-SUN will be used.\n",
      "\n",
      "[I 2025-07-21 15:25:49,873] Trial 24 finished with value: -5067.468498912782 and parameters: {'p': 10, 'd': 1, 'q': 6, 'P': 1, 'D': 1, 'Q': 1}. Best is trial 16 with value: -652.0627883669285.\n",
      "/Library/Frameworks/Python.framework/Versions/3.10/lib/python3.10/site-packages/statsmodels/tsa/base/tsa_model.py:473: ValueWarning:\n",
      "\n",
      "No frequency information was provided, so inferred frequency W-SUN will be used.\n",
      "\n",
      "/Library/Frameworks/Python.framework/Versions/3.10/lib/python3.10/site-packages/statsmodels/tsa/base/tsa_model.py:473: ValueWarning:\n",
      "\n",
      "No frequency information was provided, so inferred frequency W-SUN will be used.\n",
      "\n",
      "/Library/Frameworks/Python.framework/Versions/3.10/lib/python3.10/site-packages/statsmodels/tsa/base/tsa_model.py:473: ValueWarning:\n",
      "\n",
      "No frequency information was provided, so inferred frequency W-SUN will be used.\n",
      "\n",
      "/Library/Frameworks/Python.framework/Versions/3.10/lib/python3.10/site-packages/statsmodels/base/model.py:607: ConvergenceWarning:\n",
      "\n",
      "Maximum Likelihood optimization failed to converge. Check mle_retvals\n",
      "\n",
      "[I 2025-07-21 15:25:52,306] Trial 25 finished with value: -4898.95310530237 and parameters: {'p': 8, 'd': 1, 'q': 9, 'P': 1, 'D': 1, 'Q': 1}. Best is trial 16 with value: -652.0627883669285.\n",
      "/Library/Frameworks/Python.framework/Versions/3.10/lib/python3.10/site-packages/statsmodels/tsa/base/tsa_model.py:473: ValueWarning:\n",
      "\n",
      "No frequency information was provided, so inferred frequency W-SUN will be used.\n",
      "\n",
      "/Library/Frameworks/Python.framework/Versions/3.10/lib/python3.10/site-packages/statsmodels/tsa/base/tsa_model.py:473: ValueWarning:\n",
      "\n",
      "No frequency information was provided, so inferred frequency W-SUN will be used.\n",
      "\n",
      "/Library/Frameworks/Python.framework/Versions/3.10/lib/python3.10/site-packages/statsmodels/tsa/base/tsa_model.py:473: ValueWarning:\n",
      "\n",
      "No frequency information was provided, so inferred frequency W-SUN will be used.\n",
      "\n",
      "[I 2025-07-21 15:25:53,652] Trial 26 finished with value: -5109.460319548593 and parameters: {'p': 6, 'd': 1, 'q': 10, 'P': 1, 'D': 1, 'Q': 1}. Best is trial 16 with value: -652.0627883669285.\n",
      "/Library/Frameworks/Python.framework/Versions/3.10/lib/python3.10/site-packages/statsmodels/tsa/base/tsa_model.py:473: ValueWarning:\n",
      "\n",
      "No frequency information was provided, so inferred frequency W-SUN will be used.\n",
      "\n",
      "/Library/Frameworks/Python.framework/Versions/3.10/lib/python3.10/site-packages/statsmodels/tsa/base/tsa_model.py:473: ValueWarning:\n",
      "\n",
      "No frequency information was provided, so inferred frequency W-SUN will be used.\n",
      "\n",
      "/Library/Frameworks/Python.framework/Versions/3.10/lib/python3.10/site-packages/statsmodels/tsa/base/tsa_model.py:473: ValueWarning:\n",
      "\n",
      "No frequency information was provided, so inferred frequency W-SUN will be used.\n",
      "\n",
      "/Library/Frameworks/Python.framework/Versions/3.10/lib/python3.10/site-packages/statsmodels/base/model.py:607: ConvergenceWarning:\n",
      "\n",
      "Maximum Likelihood optimization failed to converge. Check mle_retvals\n",
      "\n",
      "[I 2025-07-21 15:25:56,173] Trial 27 finished with value: -5306.569050288887 and parameters: {'p': 10, 'd': 1, 'q': 8, 'P': 1, 'D': 1, 'Q': 1}. Best is trial 16 with value: -652.0627883669285.\n",
      "/Library/Frameworks/Python.framework/Versions/3.10/lib/python3.10/site-packages/statsmodels/tsa/base/tsa_model.py:473: ValueWarning:\n",
      "\n",
      "No frequency information was provided, so inferred frequency W-SUN will be used.\n",
      "\n",
      "/Library/Frameworks/Python.framework/Versions/3.10/lib/python3.10/site-packages/statsmodels/tsa/base/tsa_model.py:473: ValueWarning:\n",
      "\n",
      "No frequency information was provided, so inferred frequency W-SUN will be used.\n",
      "\n",
      "/Library/Frameworks/Python.framework/Versions/3.10/lib/python3.10/site-packages/statsmodels/tsa/base/tsa_model.py:473: ValueWarning:\n",
      "\n",
      "No frequency information was provided, so inferred frequency W-SUN will be used.\n",
      "\n",
      "[I 2025-07-21 15:25:56,499] Trial 28 finished with value: -5222.217973166903 and parameters: {'p': 7, 'd': 1, 'q': 6, 'P': 1, 'D': 1, 'Q': 1}. Best is trial 16 with value: -652.0627883669285.\n",
      "/Library/Frameworks/Python.framework/Versions/3.10/lib/python3.10/site-packages/statsmodels/tsa/base/tsa_model.py:473: ValueWarning:\n",
      "\n",
      "No frequency information was provided, so inferred frequency W-SUN will be used.\n",
      "\n",
      "/Library/Frameworks/Python.framework/Versions/3.10/lib/python3.10/site-packages/statsmodels/tsa/base/tsa_model.py:473: ValueWarning:\n",
      "\n",
      "No frequency information was provided, so inferred frequency W-SUN will be used.\n",
      "\n",
      "/Library/Frameworks/Python.framework/Versions/3.10/lib/python3.10/site-packages/statsmodels/tsa/base/tsa_model.py:473: ValueWarning:\n",
      "\n",
      "No frequency information was provided, so inferred frequency W-SUN will be used.\n",
      "\n",
      "[I 2025-07-21 15:25:57,861] Trial 29 finished with value: -652.0627883669285 and parameters: {'p': 9, 'd': 1, 'q': 7, 'P': 1, 'D': 1, 'Q': 1}. Best is trial 16 with value: -652.0627883669285.\n",
      "/Library/Frameworks/Python.framework/Versions/3.10/lib/python3.10/site-packages/statsmodels/tsa/base/tsa_model.py:473: ValueWarning:\n",
      "\n",
      "No frequency information was provided, so inferred frequency W-SUN will be used.\n",
      "\n",
      "/Library/Frameworks/Python.framework/Versions/3.10/lib/python3.10/site-packages/statsmodels/tsa/base/tsa_model.py:473: ValueWarning:\n",
      "\n",
      "No frequency information was provided, so inferred frequency W-SUN will be used.\n",
      "\n",
      "/Library/Frameworks/Python.framework/Versions/3.10/lib/python3.10/site-packages/statsmodels/tsa/base/tsa_model.py:473: ValueWarning:\n",
      "\n",
      "No frequency information was provided, so inferred frequency W-SUN will be used.\n",
      "\n",
      "/Library/Frameworks/Python.framework/Versions/3.10/lib/python3.10/site-packages/statsmodels/base/model.py:607: ConvergenceWarning:\n",
      "\n",
      "Maximum Likelihood optimization failed to converge. Check mle_retvals\n",
      "\n",
      "[I 2025-07-21 15:25:58,658] Trial 30 finished with value: -5233.879937326496 and parameters: {'p': 11, 'd': 1, 'q': 7, 'P': 1, 'D': 1, 'Q': 1}. Best is trial 16 with value: -652.0627883669285.\n",
      "/Library/Frameworks/Python.framework/Versions/3.10/lib/python3.10/site-packages/statsmodels/tsa/base/tsa_model.py:473: ValueWarning:\n",
      "\n",
      "No frequency information was provided, so inferred frequency W-SUN will be used.\n",
      "\n",
      "/Library/Frameworks/Python.framework/Versions/3.10/lib/python3.10/site-packages/statsmodels/tsa/base/tsa_model.py:473: ValueWarning:\n",
      "\n",
      "No frequency information was provided, so inferred frequency W-SUN will be used.\n",
      "\n",
      "/Library/Frameworks/Python.framework/Versions/3.10/lib/python3.10/site-packages/statsmodels/tsa/base/tsa_model.py:473: ValueWarning:\n",
      "\n",
      "No frequency information was provided, so inferred frequency W-SUN will be used.\n",
      "\n",
      "/Library/Frameworks/Python.framework/Versions/3.10/lib/python3.10/site-packages/statsmodels/base/model.py:607: ConvergenceWarning:\n",
      "\n",
      "Maximum Likelihood optimization failed to converge. Check mle_retvals\n",
      "\n",
      "[I 2025-07-21 15:26:01,864] Trial 31 finished with value: -4796.870769927074 and parameters: {'p': 9, 'd': 1, 'q': 5, 'P': 1, 'D': 1, 'Q': 1}. Best is trial 16 with value: -652.0627883669285.\n",
      "/Library/Frameworks/Python.framework/Versions/3.10/lib/python3.10/site-packages/statsmodels/tsa/base/tsa_model.py:473: ValueWarning:\n",
      "\n",
      "No frequency information was provided, so inferred frequency W-SUN will be used.\n",
      "\n",
      "/Library/Frameworks/Python.framework/Versions/3.10/lib/python3.10/site-packages/statsmodels/tsa/base/tsa_model.py:473: ValueWarning:\n",
      "\n",
      "No frequency information was provided, so inferred frequency W-SUN will be used.\n",
      "\n",
      "/Library/Frameworks/Python.framework/Versions/3.10/lib/python3.10/site-packages/statsmodels/tsa/base/tsa_model.py:473: ValueWarning:\n",
      "\n",
      "No frequency information was provided, so inferred frequency W-SUN will be used.\n",
      "\n",
      "/Library/Frameworks/Python.framework/Versions/3.10/lib/python3.10/site-packages/statsmodels/base/model.py:607: ConvergenceWarning:\n",
      "\n",
      "Maximum Likelihood optimization failed to converge. Check mle_retvals\n",
      "\n",
      "[I 2025-07-21 15:26:04,216] Trial 32 finished with value: -4906.820184459221 and parameters: {'p': 8, 'd': 1, 'q': 8, 'P': 1, 'D': 1, 'Q': 1}. Best is trial 16 with value: -652.0627883669285.\n",
      "/Library/Frameworks/Python.framework/Versions/3.10/lib/python3.10/site-packages/statsmodels/tsa/base/tsa_model.py:473: ValueWarning:\n",
      "\n",
      "No frequency information was provided, so inferred frequency W-SUN will be used.\n",
      "\n",
      "/Library/Frameworks/Python.framework/Versions/3.10/lib/python3.10/site-packages/statsmodels/tsa/base/tsa_model.py:473: ValueWarning:\n",
      "\n",
      "No frequency information was provided, so inferred frequency W-SUN will be used.\n",
      "\n",
      "/Library/Frameworks/Python.framework/Versions/3.10/lib/python3.10/site-packages/statsmodels/tsa/base/tsa_model.py:473: ValueWarning:\n",
      "\n",
      "No frequency information was provided, so inferred frequency W-SUN will be used.\n",
      "\n",
      "/Library/Frameworks/Python.framework/Versions/3.10/lib/python3.10/site-packages/statsmodels/base/model.py:607: ConvergenceWarning:\n",
      "\n",
      "Maximum Likelihood optimization failed to converge. Check mle_retvals\n",
      "\n",
      "[I 2025-07-21 15:26:06,614] Trial 33 finished with value: -4760.418658326755 and parameters: {'p': 9, 'd': 1, 'q': 10, 'P': 1, 'D': 1, 'Q': 1}. Best is trial 16 with value: -652.0627883669285.\n",
      "/Library/Frameworks/Python.framework/Versions/3.10/lib/python3.10/site-packages/statsmodels/tsa/base/tsa_model.py:473: ValueWarning:\n",
      "\n",
      "No frequency information was provided, so inferred frequency W-SUN will be used.\n",
      "\n",
      "/Library/Frameworks/Python.framework/Versions/3.10/lib/python3.10/site-packages/statsmodels/tsa/base/tsa_model.py:473: ValueWarning:\n",
      "\n",
      "No frequency information was provided, so inferred frequency W-SUN will be used.\n",
      "\n",
      "/Library/Frameworks/Python.framework/Versions/3.10/lib/python3.10/site-packages/statsmodels/tsa/base/tsa_model.py:473: ValueWarning:\n",
      "\n",
      "No frequency information was provided, so inferred frequency W-SUN will be used.\n",
      "\n",
      "[I 2025-07-21 15:26:07,675] Trial 34 finished with value: -5130.045111236045 and parameters: {'p': 10, 'd': 1, 'q': 7, 'P': 1, 'D': 1, 'Q': 1}. Best is trial 16 with value: -652.0627883669285.\n",
      "/Library/Frameworks/Python.framework/Versions/3.10/lib/python3.10/site-packages/statsmodels/tsa/base/tsa_model.py:473: ValueWarning:\n",
      "\n",
      "No frequency information was provided, so inferred frequency W-SUN will be used.\n",
      "\n",
      "/Library/Frameworks/Python.framework/Versions/3.10/lib/python3.10/site-packages/statsmodels/tsa/base/tsa_model.py:473: ValueWarning:\n",
      "\n",
      "No frequency information was provided, so inferred frequency W-SUN will be used.\n",
      "\n",
      "/Library/Frameworks/Python.framework/Versions/3.10/lib/python3.10/site-packages/statsmodels/tsa/base/tsa_model.py:473: ValueWarning:\n",
      "\n",
      "No frequency information was provided, so inferred frequency W-SUN will be used.\n",
      "\n",
      "/Library/Frameworks/Python.framework/Versions/3.10/lib/python3.10/site-packages/statsmodels/base/model.py:607: ConvergenceWarning:\n",
      "\n",
      "Maximum Likelihood optimization failed to converge. Check mle_retvals\n",
      "\n",
      "[I 2025-07-21 15:26:08,167] Trial 35 finished with value: -370.2910152410011 and parameters: {'p': 5, 'd': 1, 'q': 6, 'P': 1, 'D': 1, 'Q': 1}. Best is trial 35 with value: -370.2910152410011.\n",
      "/Library/Frameworks/Python.framework/Versions/3.10/lib/python3.10/site-packages/statsmodels/tsa/base/tsa_model.py:473: ValueWarning:\n",
      "\n",
      "No frequency information was provided, so inferred frequency W-SUN will be used.\n",
      "\n",
      "/Library/Frameworks/Python.framework/Versions/3.10/lib/python3.10/site-packages/statsmodels/tsa/base/tsa_model.py:473: ValueWarning:\n",
      "\n",
      "No frequency information was provided, so inferred frequency W-SUN will be used.\n",
      "\n",
      "/Library/Frameworks/Python.framework/Versions/3.10/lib/python3.10/site-packages/statsmodels/tsa/base/tsa_model.py:473: ValueWarning:\n",
      "\n",
      "No frequency information was provided, so inferred frequency W-SUN will be used.\n",
      "\n",
      "[I 2025-07-21 15:26:09,769] Trial 36 finished with value: -4672.59340287817 and parameters: {'p': 5, 'd': 1, 'q': 3, 'P': 1, 'D': 1, 'Q': 1}. Best is trial 35 with value: -370.2910152410011.\n",
      "/Library/Frameworks/Python.framework/Versions/3.10/lib/python3.10/site-packages/statsmodels/tsa/base/tsa_model.py:473: ValueWarning:\n",
      "\n",
      "No frequency information was provided, so inferred frequency W-SUN will be used.\n",
      "\n",
      "/Library/Frameworks/Python.framework/Versions/3.10/lib/python3.10/site-packages/statsmodels/tsa/base/tsa_model.py:473: ValueWarning:\n",
      "\n",
      "No frequency information was provided, so inferred frequency W-SUN will be used.\n",
      "\n",
      "/Library/Frameworks/Python.framework/Versions/3.10/lib/python3.10/site-packages/statsmodels/tsa/base/tsa_model.py:473: ValueWarning:\n",
      "\n",
      "No frequency information was provided, so inferred frequency W-SUN will be used.\n",
      "\n",
      "[I 2025-07-21 15:26:10,337] Trial 37 finished with value: -5658.788210069212 and parameters: {'p': 3, 'd': 1, 'q': 6, 'P': 1, 'D': 1, 'Q': 1}. Best is trial 35 with value: -370.2910152410011.\n",
      "/Library/Frameworks/Python.framework/Versions/3.10/lib/python3.10/site-packages/statsmodels/tsa/base/tsa_model.py:473: ValueWarning:\n",
      "\n",
      "No frequency information was provided, so inferred frequency W-SUN will be used.\n",
      "\n",
      "/Library/Frameworks/Python.framework/Versions/3.10/lib/python3.10/site-packages/statsmodels/tsa/base/tsa_model.py:473: ValueWarning:\n",
      "\n",
      "No frequency information was provided, so inferred frequency W-SUN will be used.\n",
      "\n",
      "/Library/Frameworks/Python.framework/Versions/3.10/lib/python3.10/site-packages/statsmodels/tsa/base/tsa_model.py:473: ValueWarning:\n",
      "\n",
      "No frequency information was provided, so inferred frequency W-SUN will be used.\n",
      "\n",
      "/Library/Frameworks/Python.framework/Versions/3.10/lib/python3.10/site-packages/statsmodels/base/model.py:607: ConvergenceWarning:\n",
      "\n",
      "Maximum Likelihood optimization failed to converge. Check mle_retvals\n",
      "\n",
      "[I 2025-07-21 15:26:11,962] Trial 38 finished with value: -5021.576485532743 and parameters: {'p': 5, 'd': 1, 'q': 5, 'P': 1, 'D': 1, 'Q': 1}. Best is trial 35 with value: -370.2910152410011.\n",
      "/Library/Frameworks/Python.framework/Versions/3.10/lib/python3.10/site-packages/statsmodels/tsa/base/tsa_model.py:473: ValueWarning:\n",
      "\n",
      "No frequency information was provided, so inferred frequency W-SUN will be used.\n",
      "\n",
      "/Library/Frameworks/Python.framework/Versions/3.10/lib/python3.10/site-packages/statsmodels/tsa/base/tsa_model.py:473: ValueWarning:\n",
      "\n",
      "No frequency information was provided, so inferred frequency W-SUN will be used.\n",
      "\n",
      "/Library/Frameworks/Python.framework/Versions/3.10/lib/python3.10/site-packages/statsmodels/tsa/base/tsa_model.py:473: ValueWarning:\n",
      "\n",
      "No frequency information was provided, so inferred frequency W-SUN will be used.\n",
      "\n",
      "/Library/Frameworks/Python.framework/Versions/3.10/lib/python3.10/site-packages/statsmodels/base/model.py:607: ConvergenceWarning:\n",
      "\n",
      "Maximum Likelihood optimization failed to converge. Check mle_retvals\n",
      "\n",
      "[W 2025-07-21 15:26:12,757] Trial 39 failed with parameters: {'p': 6, 'd': 1, 'q': 3, 'P': 1, 'D': 1, 'Q': 1} because of the following error: The value nan is not acceptable.\n",
      "[W 2025-07-21 15:26:12,757] Trial 39 failed with value nan.\n",
      "/Library/Frameworks/Python.framework/Versions/3.10/lib/python3.10/site-packages/statsmodels/tsa/base/tsa_model.py:473: ValueWarning:\n",
      "\n",
      "No frequency information was provided, so inferred frequency W-SUN will be used.\n",
      "\n",
      "/Library/Frameworks/Python.framework/Versions/3.10/lib/python3.10/site-packages/statsmodels/tsa/base/tsa_model.py:473: ValueWarning:\n",
      "\n",
      "No frequency information was provided, so inferred frequency W-SUN will be used.\n",
      "\n",
      "/Library/Frameworks/Python.framework/Versions/3.10/lib/python3.10/site-packages/statsmodels/tsa/base/tsa_model.py:473: ValueWarning:\n",
      "\n",
      "No frequency information was provided, so inferred frequency W-SUN will be used.\n",
      "\n",
      "/Library/Frameworks/Python.framework/Versions/3.10/lib/python3.10/site-packages/statsmodels/base/model.py:607: ConvergenceWarning:\n",
      "\n",
      "Maximum Likelihood optimization failed to converge. Check mle_retvals\n",
      "\n",
      "[W 2025-07-21 15:26:13,515] Trial 40 failed with parameters: {'p': 6, 'd': 1, 'q': 3, 'P': 1, 'D': 1, 'Q': 1} because of the following error: The value nan is not acceptable.\n",
      "[W 2025-07-21 15:26:13,515] Trial 40 failed with value nan.\n",
      "/Library/Frameworks/Python.framework/Versions/3.10/lib/python3.10/site-packages/statsmodels/tsa/base/tsa_model.py:473: ValueWarning:\n",
      "\n",
      "No frequency information was provided, so inferred frequency W-SUN will be used.\n",
      "\n",
      "/Library/Frameworks/Python.framework/Versions/3.10/lib/python3.10/site-packages/statsmodels/tsa/base/tsa_model.py:473: ValueWarning:\n",
      "\n",
      "No frequency information was provided, so inferred frequency W-SUN will be used.\n",
      "\n",
      "/Library/Frameworks/Python.framework/Versions/3.10/lib/python3.10/site-packages/statsmodels/tsa/base/tsa_model.py:473: ValueWarning:\n",
      "\n",
      "No frequency information was provided, so inferred frequency W-SUN will be used.\n",
      "\n",
      "/Library/Frameworks/Python.framework/Versions/3.10/lib/python3.10/site-packages/statsmodels/base/model.py:607: ConvergenceWarning:\n",
      "\n",
      "Maximum Likelihood optimization failed to converge. Check mle_retvals\n",
      "\n",
      "[I 2025-07-21 15:26:16,185] Trial 41 finished with value: -4399.296663312963 and parameters: {'p': 6, 'd': 1, 'q': 4, 'P': 1, 'D': 1, 'Q': 1}. Best is trial 35 with value: -370.2910152410011.\n",
      "/Library/Frameworks/Python.framework/Versions/3.10/lib/python3.10/site-packages/statsmodels/tsa/base/tsa_model.py:473: ValueWarning:\n",
      "\n",
      "No frequency information was provided, so inferred frequency W-SUN will be used.\n",
      "\n",
      "/Library/Frameworks/Python.framework/Versions/3.10/lib/python3.10/site-packages/statsmodels/tsa/base/tsa_model.py:473: ValueWarning:\n",
      "\n",
      "No frequency information was provided, so inferred frequency W-SUN will be used.\n",
      "\n",
      "/Library/Frameworks/Python.framework/Versions/3.10/lib/python3.10/site-packages/statsmodels/tsa/base/tsa_model.py:473: ValueWarning:\n",
      "\n",
      "No frequency information was provided, so inferred frequency W-SUN will be used.\n",
      "\n",
      "/Library/Frameworks/Python.framework/Versions/3.10/lib/python3.10/site-packages/statsmodels/base/model.py:607: ConvergenceWarning:\n",
      "\n",
      "Maximum Likelihood optimization failed to converge. Check mle_retvals\n",
      "\n",
      "[W 2025-07-21 15:26:16,690] Trial 42 failed with parameters: {'p': 7, 'd': 1, 'q': 3, 'P': 1, 'D': 1, 'Q': 1} because of the following error: The value nan is not acceptable.\n",
      "[W 2025-07-21 15:26:16,690] Trial 42 failed with value nan.\n",
      "/Library/Frameworks/Python.framework/Versions/3.10/lib/python3.10/site-packages/statsmodels/tsa/base/tsa_model.py:473: ValueWarning:\n",
      "\n",
      "No frequency information was provided, so inferred frequency W-SUN will be used.\n",
      "\n",
      "/Library/Frameworks/Python.framework/Versions/3.10/lib/python3.10/site-packages/statsmodels/tsa/base/tsa_model.py:473: ValueWarning:\n",
      "\n",
      "No frequency information was provided, so inferred frequency W-SUN will be used.\n",
      "\n",
      "/Library/Frameworks/Python.framework/Versions/3.10/lib/python3.10/site-packages/statsmodels/tsa/base/tsa_model.py:473: ValueWarning:\n",
      "\n",
      "No frequency information was provided, so inferred frequency W-SUN will be used.\n",
      "\n",
      "/Library/Frameworks/Python.framework/Versions/3.10/lib/python3.10/site-packages/statsmodels/base/model.py:607: ConvergenceWarning:\n",
      "\n",
      "Maximum Likelihood optimization failed to converge. Check mle_retvals\n",
      "\n",
      "[I 2025-07-21 15:26:17,279] Trial 43 finished with value: -418.32198180572914 and parameters: {'p': 3, 'd': 1, 'q': 3, 'P': 1, 'D': 1, 'Q': 1}. Best is trial 35 with value: -370.2910152410011.\n",
      "/Library/Frameworks/Python.framework/Versions/3.10/lib/python3.10/site-packages/statsmodels/tsa/base/tsa_model.py:473: ValueWarning:\n",
      "\n",
      "No frequency information was provided, so inferred frequency W-SUN will be used.\n",
      "\n",
      "/Library/Frameworks/Python.framework/Versions/3.10/lib/python3.10/site-packages/statsmodels/tsa/base/tsa_model.py:473: ValueWarning:\n",
      "\n",
      "No frequency information was provided, so inferred frequency W-SUN will be used.\n",
      "\n",
      "/Library/Frameworks/Python.framework/Versions/3.10/lib/python3.10/site-packages/statsmodels/tsa/base/tsa_model.py:473: ValueWarning:\n",
      "\n",
      "No frequency information was provided, so inferred frequency W-SUN will be used.\n",
      "\n",
      "/Library/Frameworks/Python.framework/Versions/3.10/lib/python3.10/site-packages/statsmodels/base/model.py:607: ConvergenceWarning:\n",
      "\n",
      "Maximum Likelihood optimization failed to converge. Check mle_retvals\n",
      "\n",
      "[I 2025-07-21 15:26:17,784] Trial 44 finished with value: -5614.452499665611 and parameters: {'p': 2, 'd': 1, 'q': 2, 'P': 1, 'D': 1, 'Q': 1}. Best is trial 35 with value: -370.2910152410011.\n",
      "/Library/Frameworks/Python.framework/Versions/3.10/lib/python3.10/site-packages/statsmodels/tsa/base/tsa_model.py:473: ValueWarning:\n",
      "\n",
      "No frequency information was provided, so inferred frequency W-SUN will be used.\n",
      "\n",
      "/Library/Frameworks/Python.framework/Versions/3.10/lib/python3.10/site-packages/statsmodels/tsa/base/tsa_model.py:473: ValueWarning:\n",
      "\n",
      "No frequency information was provided, so inferred frequency W-SUN will be used.\n",
      "\n",
      "/Library/Frameworks/Python.framework/Versions/3.10/lib/python3.10/site-packages/statsmodels/tsa/base/tsa_model.py:473: ValueWarning:\n",
      "\n",
      "No frequency information was provided, so inferred frequency W-SUN will be used.\n",
      "\n",
      "/Library/Frameworks/Python.framework/Versions/3.10/lib/python3.10/site-packages/statsmodels/base/model.py:607: ConvergenceWarning:\n",
      "\n",
      "Maximum Likelihood optimization failed to converge. Check mle_retvals\n",
      "\n",
      "[I 2025-07-21 15:26:18,358] Trial 45 finished with value: -418.32198180572914 and parameters: {'p': 3, 'd': 1, 'q': 3, 'P': 1, 'D': 1, 'Q': 1}. Best is trial 35 with value: -370.2910152410011.\n",
      "/Library/Frameworks/Python.framework/Versions/3.10/lib/python3.10/site-packages/statsmodels/tsa/base/tsa_model.py:473: ValueWarning:\n",
      "\n",
      "No frequency information was provided, so inferred frequency W-SUN will be used.\n",
      "\n",
      "/Library/Frameworks/Python.framework/Versions/3.10/lib/python3.10/site-packages/statsmodels/tsa/base/tsa_model.py:473: ValueWarning:\n",
      "\n",
      "No frequency information was provided, so inferred frequency W-SUN will be used.\n",
      "\n",
      "/Library/Frameworks/Python.framework/Versions/3.10/lib/python3.10/site-packages/statsmodels/tsa/base/tsa_model.py:473: ValueWarning:\n",
      "\n",
      "No frequency information was provided, so inferred frequency W-SUN will be used.\n",
      "\n",
      "/Library/Frameworks/Python.framework/Versions/3.10/lib/python3.10/site-packages/statsmodels/base/model.py:607: ConvergenceWarning:\n",
      "\n",
      "Maximum Likelihood optimization failed to converge. Check mle_retvals\n",
      "\n",
      "[I 2025-07-21 15:26:19,040] Trial 46 finished with value: -418.32198180572914 and parameters: {'p': 3, 'd': 1, 'q': 3, 'P': 1, 'D': 1, 'Q': 1}. Best is trial 35 with value: -370.2910152410011.\n",
      "/Library/Frameworks/Python.framework/Versions/3.10/lib/python3.10/site-packages/statsmodels/tsa/base/tsa_model.py:473: ValueWarning:\n",
      "\n",
      "No frequency information was provided, so inferred frequency W-SUN will be used.\n",
      "\n",
      "/Library/Frameworks/Python.framework/Versions/3.10/lib/python3.10/site-packages/statsmodels/tsa/base/tsa_model.py:473: ValueWarning:\n",
      "\n",
      "No frequency information was provided, so inferred frequency W-SUN will be used.\n",
      "\n",
      "/Library/Frameworks/Python.framework/Versions/3.10/lib/python3.10/site-packages/statsmodels/tsa/base/tsa_model.py:473: ValueWarning:\n",
      "\n",
      "No frequency information was provided, so inferred frequency W-SUN will be used.\n",
      "\n",
      "/Library/Frameworks/Python.framework/Versions/3.10/lib/python3.10/site-packages/statsmodels/base/model.py:607: ConvergenceWarning:\n",
      "\n",
      "Maximum Likelihood optimization failed to converge. Check mle_retvals\n",
      "\n",
      "[I 2025-07-21 15:26:19,629] Trial 47 finished with value: -418.32198180572914 and parameters: {'p': 3, 'd': 1, 'q': 3, 'P': 1, 'D': 1, 'Q': 1}. Best is trial 35 with value: -370.2910152410011.\n",
      "/Library/Frameworks/Python.framework/Versions/3.10/lib/python3.10/site-packages/statsmodels/tsa/base/tsa_model.py:473: ValueWarning:\n",
      "\n",
      "No frequency information was provided, so inferred frequency W-SUN will be used.\n",
      "\n",
      "/Library/Frameworks/Python.framework/Versions/3.10/lib/python3.10/site-packages/statsmodels/tsa/base/tsa_model.py:473: ValueWarning:\n",
      "\n",
      "No frequency information was provided, so inferred frequency W-SUN will be used.\n",
      "\n",
      "/Library/Frameworks/Python.framework/Versions/3.10/lib/python3.10/site-packages/statsmodels/tsa/base/tsa_model.py:473: ValueWarning:\n",
      "\n",
      "No frequency information was provided, so inferred frequency W-SUN will be used.\n",
      "\n",
      "/Library/Frameworks/Python.framework/Versions/3.10/lib/python3.10/site-packages/statsmodels/base/model.py:607: ConvergenceWarning:\n",
      "\n",
      "Maximum Likelihood optimization failed to converge. Check mle_retvals\n",
      "\n",
      "[I 2025-07-21 15:26:20,205] Trial 48 finished with value: -418.32198180572914 and parameters: {'p': 3, 'd': 1, 'q': 3, 'P': 1, 'D': 1, 'Q': 1}. Best is trial 35 with value: -370.2910152410011.\n",
      "/Library/Frameworks/Python.framework/Versions/3.10/lib/python3.10/site-packages/statsmodels/tsa/base/tsa_model.py:473: ValueWarning:\n",
      "\n",
      "No frequency information was provided, so inferred frequency W-SUN will be used.\n",
      "\n",
      "/Library/Frameworks/Python.framework/Versions/3.10/lib/python3.10/site-packages/statsmodels/tsa/base/tsa_model.py:473: ValueWarning:\n",
      "\n",
      "No frequency information was provided, so inferred frequency W-SUN will be used.\n",
      "\n",
      "/Library/Frameworks/Python.framework/Versions/3.10/lib/python3.10/site-packages/statsmodels/tsa/base/tsa_model.py:473: ValueWarning:\n",
      "\n",
      "No frequency information was provided, so inferred frequency W-SUN will be used.\n",
      "\n",
      "/Library/Frameworks/Python.framework/Versions/3.10/lib/python3.10/site-packages/statsmodels/base/model.py:607: ConvergenceWarning:\n",
      "\n",
      "Maximum Likelihood optimization failed to converge. Check mle_retvals\n",
      "\n",
      "[I 2025-07-21 15:26:20,580] Trial 49 finished with value: -5468.074867640364 and parameters: {'p': 3, 'd': 1, 'q': 1, 'P': 1, 'D': 1, 'Q': 1}. Best is trial 35 with value: -370.2910152410011.\n",
      "/Library/Frameworks/Python.framework/Versions/3.10/lib/python3.10/site-packages/statsmodels/tsa/base/tsa_model.py:473: ValueWarning:\n",
      "\n",
      "No frequency information was provided, so inferred frequency W-SUN will be used.\n",
      "\n",
      "/Library/Frameworks/Python.framework/Versions/3.10/lib/python3.10/site-packages/statsmodels/tsa/base/tsa_model.py:473: ValueWarning:\n",
      "\n",
      "No frequency information was provided, so inferred frequency W-SUN will be used.\n",
      "\n",
      "/Library/Frameworks/Python.framework/Versions/3.10/lib/python3.10/site-packages/statsmodels/tsa/base/tsa_model.py:473: ValueWarning:\n",
      "\n",
      "No frequency information was provided, so inferred frequency W-SUN will be used.\n",
      "\n",
      "/Library/Frameworks/Python.framework/Versions/3.10/lib/python3.10/site-packages/statsmodels/base/model.py:607: ConvergenceWarning:\n",
      "\n",
      "Maximum Likelihood optimization failed to converge. Check mle_retvals\n",
      "\n",
      "[I 2025-07-21 15:26:21,046] Trial 50 finished with value: -5614.452499665611 and parameters: {'p': 2, 'd': 1, 'q': 2, 'P': 1, 'D': 1, 'Q': 1}. Best is trial 35 with value: -370.2910152410011.\n",
      "/Library/Frameworks/Python.framework/Versions/3.10/lib/python3.10/site-packages/statsmodels/tsa/base/tsa_model.py:473: ValueWarning:\n",
      "\n",
      "No frequency information was provided, so inferred frequency W-SUN will be used.\n",
      "\n",
      "/Library/Frameworks/Python.framework/Versions/3.10/lib/python3.10/site-packages/statsmodels/tsa/base/tsa_model.py:473: ValueWarning:\n",
      "\n",
      "No frequency information was provided, so inferred frequency W-SUN will be used.\n",
      "\n",
      "/Library/Frameworks/Python.framework/Versions/3.10/lib/python3.10/site-packages/statsmodels/tsa/base/tsa_model.py:473: ValueWarning:\n",
      "\n",
      "No frequency information was provided, so inferred frequency W-SUN will be used.\n",
      "\n",
      "/Library/Frameworks/Python.framework/Versions/3.10/lib/python3.10/site-packages/statsmodels/tsa/statespace/sarimax.py:1384: RuntimeWarning:\n",
      "\n",
      "overflow encountered in scalar power\n",
      "\n",
      "/Library/Frameworks/Python.framework/Versions/3.10/lib/python3.10/site-packages/statsmodels/base/model.py:607: ConvergenceWarning:\n",
      "\n",
      "Maximum Likelihood optimization failed to converge. Check mle_retvals\n",
      "\n",
      "[I 2025-07-21 15:26:22,204] Trial 51 finished with value: -5419.320513811792 and parameters: {'p': 4, 'd': 1, 'q': 3, 'P': 1, 'D': 1, 'Q': 1}. Best is trial 35 with value: -370.2910152410011.\n",
      "/Library/Frameworks/Python.framework/Versions/3.10/lib/python3.10/site-packages/statsmodels/tsa/base/tsa_model.py:473: ValueWarning:\n",
      "\n",
      "No frequency information was provided, so inferred frequency W-SUN will be used.\n",
      "\n",
      "/Library/Frameworks/Python.framework/Versions/3.10/lib/python3.10/site-packages/statsmodels/tsa/base/tsa_model.py:473: ValueWarning:\n",
      "\n",
      "No frequency information was provided, so inferred frequency W-SUN will be used.\n",
      "\n",
      "/Library/Frameworks/Python.framework/Versions/3.10/lib/python3.10/site-packages/statsmodels/tsa/base/tsa_model.py:473: ValueWarning:\n",
      "\n",
      "No frequency information was provided, so inferred frequency W-SUN will be used.\n",
      "\n",
      "/Library/Frameworks/Python.framework/Versions/3.10/lib/python3.10/site-packages/statsmodels/base/model.py:607: ConvergenceWarning:\n",
      "\n",
      "Maximum Likelihood optimization failed to converge. Check mle_retvals\n",
      "\n",
      "[I 2025-07-21 15:26:22,514] Trial 52 finished with value: -1768.0443533013301 and parameters: {'p': 2, 'd': 1, 'q': 1, 'P': 1, 'D': 1, 'Q': 1}. Best is trial 35 with value: -370.2910152410011.\n",
      "/Library/Frameworks/Python.framework/Versions/3.10/lib/python3.10/site-packages/statsmodels/tsa/base/tsa_model.py:473: ValueWarning:\n",
      "\n",
      "No frequency information was provided, so inferred frequency W-SUN will be used.\n",
      "\n",
      "/Library/Frameworks/Python.framework/Versions/3.10/lib/python3.10/site-packages/statsmodels/tsa/base/tsa_model.py:473: ValueWarning:\n",
      "\n",
      "No frequency information was provided, so inferred frequency W-SUN will be used.\n",
      "\n",
      "/Library/Frameworks/Python.framework/Versions/3.10/lib/python3.10/site-packages/statsmodels/tsa/base/tsa_model.py:473: ValueWarning:\n",
      "\n",
      "No frequency information was provided, so inferred frequency W-SUN will be used.\n",
      "\n",
      "/Library/Frameworks/Python.framework/Versions/3.10/lib/python3.10/site-packages/statsmodels/base/model.py:607: ConvergenceWarning:\n",
      "\n",
      "Maximum Likelihood optimization failed to converge. Check mle_retvals\n",
      "\n",
      "[I 2025-07-21 15:26:23,533] Trial 53 finished with value: -4801.402296291376 and parameters: {'p': 1, 'd': 1, 'q': 4, 'P': 1, 'D': 1, 'Q': 1}. Best is trial 35 with value: -370.2910152410011.\n",
      "/Library/Frameworks/Python.framework/Versions/3.10/lib/python3.10/site-packages/statsmodels/tsa/base/tsa_model.py:473: ValueWarning:\n",
      "\n",
      "No frequency information was provided, so inferred frequency W-SUN will be used.\n",
      "\n",
      "/Library/Frameworks/Python.framework/Versions/3.10/lib/python3.10/site-packages/statsmodels/tsa/base/tsa_model.py:473: ValueWarning:\n",
      "\n",
      "No frequency information was provided, so inferred frequency W-SUN will be used.\n",
      "\n",
      "/Library/Frameworks/Python.framework/Versions/3.10/lib/python3.10/site-packages/statsmodels/tsa/base/tsa_model.py:473: ValueWarning:\n",
      "\n",
      "No frequency information was provided, so inferred frequency W-SUN will be used.\n",
      "\n",
      "/Library/Frameworks/Python.framework/Versions/3.10/lib/python3.10/site-packages/statsmodels/base/model.py:607: ConvergenceWarning:\n",
      "\n",
      "Maximum Likelihood optimization failed to converge. Check mle_retvals\n",
      "\n",
      "[I 2025-07-21 15:26:24,111] Trial 54 finished with value: -418.32198180572914 and parameters: {'p': 3, 'd': 1, 'q': 3, 'P': 1, 'D': 1, 'Q': 1}. Best is trial 35 with value: -370.2910152410011.\n",
      "/Library/Frameworks/Python.framework/Versions/3.10/lib/python3.10/site-packages/statsmodels/tsa/base/tsa_model.py:473: ValueWarning:\n",
      "\n",
      "No frequency information was provided, so inferred frequency W-SUN will be used.\n",
      "\n",
      "/Library/Frameworks/Python.framework/Versions/3.10/lib/python3.10/site-packages/statsmodels/tsa/base/tsa_model.py:473: ValueWarning:\n",
      "\n",
      "No frequency information was provided, so inferred frequency W-SUN will be used.\n",
      "\n",
      "/Library/Frameworks/Python.framework/Versions/3.10/lib/python3.10/site-packages/statsmodels/tsa/base/tsa_model.py:473: ValueWarning:\n",
      "\n",
      "No frequency information was provided, so inferred frequency W-SUN will be used.\n",
      "\n",
      "/Library/Frameworks/Python.framework/Versions/3.10/lib/python3.10/site-packages/statsmodels/base/model.py:607: ConvergenceWarning:\n",
      "\n",
      "Maximum Likelihood optimization failed to converge. Check mle_retvals\n",
      "\n",
      "[I 2025-07-21 15:26:24,701] Trial 55 finished with value: -418.32198180572914 and parameters: {'p': 3, 'd': 1, 'q': 3, 'P': 1, 'D': 1, 'Q': 1}. Best is trial 35 with value: -370.2910152410011.\n",
      "/Library/Frameworks/Python.framework/Versions/3.10/lib/python3.10/site-packages/statsmodels/tsa/base/tsa_model.py:473: ValueWarning:\n",
      "\n",
      "No frequency information was provided, so inferred frequency W-SUN will be used.\n",
      "\n",
      "/Library/Frameworks/Python.framework/Versions/3.10/lib/python3.10/site-packages/statsmodels/tsa/base/tsa_model.py:473: ValueWarning:\n",
      "\n",
      "No frequency information was provided, so inferred frequency W-SUN will be used.\n",
      "\n",
      "/Library/Frameworks/Python.framework/Versions/3.10/lib/python3.10/site-packages/statsmodels/tsa/base/tsa_model.py:473: ValueWarning:\n",
      "\n",
      "No frequency information was provided, so inferred frequency W-SUN will be used.\n",
      "\n",
      "/Library/Frameworks/Python.framework/Versions/3.10/lib/python3.10/site-packages/statsmodels/base/model.py:607: ConvergenceWarning:\n",
      "\n",
      "Maximum Likelihood optimization failed to converge. Check mle_retvals\n",
      "\n",
      "[I 2025-07-21 15:26:25,658] Trial 56 finished with value: -5494.57621937005 and parameters: {'p': 4, 'd': 1, 'q': 2, 'P': 1, 'D': 1, 'Q': 1}. Best is trial 35 with value: -370.2910152410011.\n",
      "/Library/Frameworks/Python.framework/Versions/3.10/lib/python3.10/site-packages/statsmodels/tsa/base/tsa_model.py:473: ValueWarning:\n",
      "\n",
      "No frequency information was provided, so inferred frequency W-SUN will be used.\n",
      "\n",
      "/Library/Frameworks/Python.framework/Versions/3.10/lib/python3.10/site-packages/statsmodels/tsa/base/tsa_model.py:473: ValueWarning:\n",
      "\n",
      "No frequency information was provided, so inferred frequency W-SUN will be used.\n",
      "\n",
      "/Library/Frameworks/Python.framework/Versions/3.10/lib/python3.10/site-packages/statsmodels/tsa/base/tsa_model.py:473: ValueWarning:\n",
      "\n",
      "No frequency information was provided, so inferred frequency W-SUN will be used.\n",
      "\n",
      "[I 2025-07-21 15:26:25,855] Trial 57 finished with value: -5379.724489490021 and parameters: {'p': 0, 'd': 1, 'q': 4, 'P': 1, 'D': 1, 'Q': 1}. Best is trial 35 with value: -370.2910152410011.\n",
      "/Library/Frameworks/Python.framework/Versions/3.10/lib/python3.10/site-packages/statsmodels/tsa/base/tsa_model.py:473: ValueWarning:\n",
      "\n",
      "No frequency information was provided, so inferred frequency W-SUN will be used.\n",
      "\n",
      "/Library/Frameworks/Python.framework/Versions/3.10/lib/python3.10/site-packages/statsmodels/tsa/base/tsa_model.py:473: ValueWarning:\n",
      "\n",
      "No frequency information was provided, so inferred frequency W-SUN will be used.\n",
      "\n",
      "/Library/Frameworks/Python.framework/Versions/3.10/lib/python3.10/site-packages/statsmodels/tsa/base/tsa_model.py:473: ValueWarning:\n",
      "\n",
      "No frequency information was provided, so inferred frequency W-SUN will be used.\n",
      "\n",
      "[I 2025-07-21 15:26:26,020] Trial 58 finished with value: -5382.384074548807 and parameters: {'p': 5, 'd': 1, 'q': 0, 'P': 1, 'D': 1, 'Q': 1}. Best is trial 35 with value: -370.2910152410011.\n",
      "/Library/Frameworks/Python.framework/Versions/3.10/lib/python3.10/site-packages/statsmodels/tsa/base/tsa_model.py:473: ValueWarning:\n",
      "\n",
      "No frequency information was provided, so inferred frequency W-SUN will be used.\n",
      "\n",
      "/Library/Frameworks/Python.framework/Versions/3.10/lib/python3.10/site-packages/statsmodels/tsa/base/tsa_model.py:473: ValueWarning:\n",
      "\n",
      "No frequency information was provided, so inferred frequency W-SUN will be used.\n",
      "\n",
      "/Library/Frameworks/Python.framework/Versions/3.10/lib/python3.10/site-packages/statsmodels/tsa/base/tsa_model.py:473: ValueWarning:\n",
      "\n",
      "No frequency information was provided, so inferred frequency W-SUN will be used.\n",
      "\n",
      "/Library/Frameworks/Python.framework/Versions/3.10/lib/python3.10/site-packages/statsmodels/tsa/statespace/sarimax.py:1384: RuntimeWarning:\n",
      "\n",
      "overflow encountered in scalar power\n",
      "\n",
      "/Library/Frameworks/Python.framework/Versions/3.10/lib/python3.10/site-packages/statsmodels/base/model.py:607: ConvergenceWarning:\n",
      "\n",
      "Maximum Likelihood optimization failed to converge. Check mle_retvals\n",
      "\n",
      "[I 2025-07-21 15:26:27,069] Trial 59 finished with value: -5419.320513811792 and parameters: {'p': 4, 'd': 1, 'q': 3, 'P': 1, 'D': 1, 'Q': 1}. Best is trial 35 with value: -370.2910152410011.\n",
      "/Library/Frameworks/Python.framework/Versions/3.10/lib/python3.10/site-packages/statsmodels/tsa/base/tsa_model.py:473: ValueWarning:\n",
      "\n",
      "No frequency information was provided, so inferred frequency W-SUN will be used.\n",
      "\n",
      "/Library/Frameworks/Python.framework/Versions/3.10/lib/python3.10/site-packages/statsmodels/tsa/base/tsa_model.py:473: ValueWarning:\n",
      "\n",
      "No frequency information was provided, so inferred frequency W-SUN will be used.\n",
      "\n",
      "/Library/Frameworks/Python.framework/Versions/3.10/lib/python3.10/site-packages/statsmodels/tsa/base/tsa_model.py:473: ValueWarning:\n",
      "\n",
      "No frequency information was provided, so inferred frequency W-SUN will be used.\n",
      "\n",
      "/Library/Frameworks/Python.framework/Versions/3.10/lib/python3.10/site-packages/statsmodels/base/model.py:607: ConvergenceWarning:\n",
      "\n",
      "Maximum Likelihood optimization failed to converge. Check mle_retvals\n",
      "\n",
      "[I 2025-07-21 15:26:28,290] Trial 60 finished with value: -5567.037760739956 and parameters: {'p': 3, 'd': 1, 'q': 2, 'P': 1, 'D': 1, 'Q': 1}. Best is trial 35 with value: -370.2910152410011.\n",
      "/Library/Frameworks/Python.framework/Versions/3.10/lib/python3.10/site-packages/statsmodels/tsa/base/tsa_model.py:473: ValueWarning:\n",
      "\n",
      "No frequency information was provided, so inferred frequency W-SUN will be used.\n",
      "\n",
      "/Library/Frameworks/Python.framework/Versions/3.10/lib/python3.10/site-packages/statsmodels/tsa/base/tsa_model.py:473: ValueWarning:\n",
      "\n",
      "No frequency information was provided, so inferred frequency W-SUN will be used.\n",
      "\n",
      "/Library/Frameworks/Python.framework/Versions/3.10/lib/python3.10/site-packages/statsmodels/tsa/base/tsa_model.py:473: ValueWarning:\n",
      "\n",
      "No frequency information was provided, so inferred frequency W-SUN will be used.\n",
      "\n",
      "/Library/Frameworks/Python.framework/Versions/3.10/lib/python3.10/site-packages/statsmodels/base/model.py:607: ConvergenceWarning:\n",
      "\n",
      "Maximum Likelihood optimization failed to converge. Check mle_retvals\n",
      "\n",
      "[I 2025-07-21 15:26:28,755] Trial 61 finished with value: -5180.981333123629 and parameters: {'p': 2, 'd': 1, 'q': 4, 'P': 1, 'D': 1, 'Q': 1}. Best is trial 35 with value: -370.2910152410011.\n",
      "/Library/Frameworks/Python.framework/Versions/3.10/lib/python3.10/site-packages/statsmodels/tsa/base/tsa_model.py:473: ValueWarning:\n",
      "\n",
      "No frequency information was provided, so inferred frequency W-SUN will be used.\n",
      "\n",
      "/Library/Frameworks/Python.framework/Versions/3.10/lib/python3.10/site-packages/statsmodels/tsa/base/tsa_model.py:473: ValueWarning:\n",
      "\n",
      "No frequency information was provided, so inferred frequency W-SUN will be used.\n",
      "\n",
      "/Library/Frameworks/Python.framework/Versions/3.10/lib/python3.10/site-packages/statsmodels/tsa/base/tsa_model.py:473: ValueWarning:\n",
      "\n",
      "No frequency information was provided, so inferred frequency W-SUN will be used.\n",
      "\n",
      "/Library/Frameworks/Python.framework/Versions/3.10/lib/python3.10/site-packages/statsmodels/base/model.py:607: ConvergenceWarning:\n",
      "\n",
      "Maximum Likelihood optimization failed to converge. Check mle_retvals\n",
      "\n",
      "[I 2025-07-21 15:26:29,142] Trial 62 finished with value: -5396.646083872449 and parameters: {'p': 1, 'd': 1, 'q': 1, 'P': 1, 'D': 1, 'Q': 1}. Best is trial 35 with value: -370.2910152410011.\n",
      "/Library/Frameworks/Python.framework/Versions/3.10/lib/python3.10/site-packages/statsmodels/tsa/base/tsa_model.py:473: ValueWarning:\n",
      "\n",
      "No frequency information was provided, so inferred frequency W-SUN will be used.\n",
      "\n",
      "/Library/Frameworks/Python.framework/Versions/3.10/lib/python3.10/site-packages/statsmodels/tsa/base/tsa_model.py:473: ValueWarning:\n",
      "\n",
      "No frequency information was provided, so inferred frequency W-SUN will be used.\n",
      "\n",
      "/Library/Frameworks/Python.framework/Versions/3.10/lib/python3.10/site-packages/statsmodels/tsa/base/tsa_model.py:473: ValueWarning:\n",
      "\n",
      "No frequency information was provided, so inferred frequency W-SUN will be used.\n",
      "\n",
      "/Library/Frameworks/Python.framework/Versions/3.10/lib/python3.10/site-packages/statsmodels/base/model.py:607: ConvergenceWarning:\n",
      "\n",
      "Maximum Likelihood optimization failed to converge. Check mle_retvals\n",
      "\n",
      "[I 2025-07-21 15:26:29,993] Trial 63 finished with value: -5592.061511079068 and parameters: {'p': 2, 'd': 1, 'q': 5, 'P': 1, 'D': 1, 'Q': 1}. Best is trial 35 with value: -370.2910152410011.\n",
      "/Library/Frameworks/Python.framework/Versions/3.10/lib/python3.10/site-packages/statsmodels/tsa/base/tsa_model.py:473: ValueWarning:\n",
      "\n",
      "No frequency information was provided, so inferred frequency W-SUN will be used.\n",
      "\n",
      "/Library/Frameworks/Python.framework/Versions/3.10/lib/python3.10/site-packages/statsmodels/tsa/base/tsa_model.py:473: ValueWarning:\n",
      "\n",
      "No frequency information was provided, so inferred frequency W-SUN will be used.\n",
      "\n",
      "/Library/Frameworks/Python.framework/Versions/3.10/lib/python3.10/site-packages/statsmodels/tsa/base/tsa_model.py:473: ValueWarning:\n",
      "\n",
      "No frequency information was provided, so inferred frequency W-SUN will be used.\n",
      "\n",
      "/Library/Frameworks/Python.framework/Versions/3.10/lib/python3.10/site-packages/statsmodels/base/model.py:607: ConvergenceWarning:\n",
      "\n",
      "Maximum Likelihood optimization failed to converge. Check mle_retvals\n",
      "\n",
      "[I 2025-07-21 15:26:30,569] Trial 64 finished with value: -418.32198180572914 and parameters: {'p': 3, 'd': 1, 'q': 3, 'P': 1, 'D': 1, 'Q': 1}. Best is trial 35 with value: -370.2910152410011.\n",
      "/Library/Frameworks/Python.framework/Versions/3.10/lib/python3.10/site-packages/statsmodels/tsa/base/tsa_model.py:473: ValueWarning:\n",
      "\n",
      "No frequency information was provided, so inferred frequency W-SUN will be used.\n",
      "\n",
      "/Library/Frameworks/Python.framework/Versions/3.10/lib/python3.10/site-packages/statsmodels/tsa/base/tsa_model.py:473: ValueWarning:\n",
      "\n",
      "No frequency information was provided, so inferred frequency W-SUN will be used.\n",
      "\n",
      "/Library/Frameworks/Python.framework/Versions/3.10/lib/python3.10/site-packages/statsmodels/tsa/base/tsa_model.py:473: ValueWarning:\n",
      "\n",
      "No frequency information was provided, so inferred frequency W-SUN will be used.\n",
      "\n",
      "/Library/Frameworks/Python.framework/Versions/3.10/lib/python3.10/site-packages/statsmodels/base/model.py:607: ConvergenceWarning:\n",
      "\n",
      "Maximum Likelihood optimization failed to converge. Check mle_retvals\n",
      "\n",
      "[I 2025-07-21 15:26:31,144] Trial 65 finished with value: -418.32198180572914 and parameters: {'p': 3, 'd': 1, 'q': 3, 'P': 1, 'D': 1, 'Q': 1}. Best is trial 35 with value: -370.2910152410011.\n",
      "/Library/Frameworks/Python.framework/Versions/3.10/lib/python3.10/site-packages/statsmodels/tsa/base/tsa_model.py:473: ValueWarning:\n",
      "\n",
      "No frequency information was provided, so inferred frequency W-SUN will be used.\n",
      "\n",
      "/Library/Frameworks/Python.framework/Versions/3.10/lib/python3.10/site-packages/statsmodels/tsa/base/tsa_model.py:473: ValueWarning:\n",
      "\n",
      "No frequency information was provided, so inferred frequency W-SUN will be used.\n",
      "\n",
      "/Library/Frameworks/Python.framework/Versions/3.10/lib/python3.10/site-packages/statsmodels/tsa/base/tsa_model.py:473: ValueWarning:\n",
      "\n",
      "No frequency information was provided, so inferred frequency W-SUN will be used.\n",
      "\n",
      "/Library/Frameworks/Python.framework/Versions/3.10/lib/python3.10/site-packages/statsmodels/base/model.py:607: ConvergenceWarning:\n",
      "\n",
      "Maximum Likelihood optimization failed to converge. Check mle_retvals\n",
      "\n",
      "[I 2025-07-21 15:26:32,115] Trial 66 finished with value: -5494.57621937005 and parameters: {'p': 4, 'd': 1, 'q': 2, 'P': 1, 'D': 1, 'Q': 1}. Best is trial 35 with value: -370.2910152410011.\n",
      "/Library/Frameworks/Python.framework/Versions/3.10/lib/python3.10/site-packages/statsmodels/tsa/base/tsa_model.py:473: ValueWarning:\n",
      "\n",
      "No frequency information was provided, so inferred frequency W-SUN will be used.\n",
      "\n",
      "/Library/Frameworks/Python.framework/Versions/3.10/lib/python3.10/site-packages/statsmodels/tsa/base/tsa_model.py:473: ValueWarning:\n",
      "\n",
      "No frequency information was provided, so inferred frequency W-SUN will be used.\n",
      "\n",
      "/Library/Frameworks/Python.framework/Versions/3.10/lib/python3.10/site-packages/statsmodels/tsa/base/tsa_model.py:473: ValueWarning:\n",
      "\n",
      "No frequency information was provided, so inferred frequency W-SUN will be used.\n",
      "\n",
      "/Library/Frameworks/Python.framework/Versions/3.10/lib/python3.10/site-packages/statsmodels/base/model.py:607: ConvergenceWarning:\n",
      "\n",
      "Maximum Likelihood optimization failed to converge. Check mle_retvals\n",
      "\n",
      "[I 2025-07-21 15:26:33,407] Trial 67 finished with value: -5035.966182644655 and parameters: {'p': 4, 'd': 1, 'q': 4, 'P': 1, 'D': 1, 'Q': 1}. Best is trial 35 with value: -370.2910152410011.\n",
      "/Library/Frameworks/Python.framework/Versions/3.10/lib/python3.10/site-packages/statsmodels/tsa/base/tsa_model.py:473: ValueWarning:\n",
      "\n",
      "No frequency information was provided, so inferred frequency W-SUN will be used.\n",
      "\n",
      "/Library/Frameworks/Python.framework/Versions/3.10/lib/python3.10/site-packages/statsmodels/tsa/base/tsa_model.py:473: ValueWarning:\n",
      "\n",
      "No frequency information was provided, so inferred frequency W-SUN will be used.\n",
      "\n",
      "/Library/Frameworks/Python.framework/Versions/3.10/lib/python3.10/site-packages/statsmodels/tsa/base/tsa_model.py:473: ValueWarning:\n",
      "\n",
      "No frequency information was provided, so inferred frequency W-SUN will be used.\n",
      "\n",
      "/Library/Frameworks/Python.framework/Versions/3.10/lib/python3.10/site-packages/statsmodels/base/model.py:607: ConvergenceWarning:\n",
      "\n",
      "Maximum Likelihood optimization failed to converge. Check mle_retvals\n",
      "\n",
      "[I 2025-07-21 15:26:33,998] Trial 68 finished with value: -418.32198180572914 and parameters: {'p': 3, 'd': 1, 'q': 3, 'P': 1, 'D': 1, 'Q': 1}. Best is trial 35 with value: -370.2910152410011.\n",
      "/Library/Frameworks/Python.framework/Versions/3.10/lib/python3.10/site-packages/statsmodels/tsa/base/tsa_model.py:473: ValueWarning:\n",
      "\n",
      "No frequency information was provided, so inferred frequency W-SUN will be used.\n",
      "\n",
      "/Library/Frameworks/Python.framework/Versions/3.10/lib/python3.10/site-packages/statsmodels/tsa/base/tsa_model.py:473: ValueWarning:\n",
      "\n",
      "No frequency information was provided, so inferred frequency W-SUN will be used.\n",
      "\n",
      "/Library/Frameworks/Python.framework/Versions/3.10/lib/python3.10/site-packages/statsmodels/tsa/base/tsa_model.py:473: ValueWarning:\n",
      "\n",
      "No frequency information was provided, so inferred frequency W-SUN will be used.\n",
      "\n",
      "[I 2025-07-21 15:26:34,375] Trial 69 finished with value: -5502.212640231531 and parameters: {'p': 5, 'd': 1, 'q': 4, 'P': 1, 'D': 1, 'Q': 1}. Best is trial 35 with value: -370.2910152410011.\n",
      "/Library/Frameworks/Python.framework/Versions/3.10/lib/python3.10/site-packages/statsmodels/tsa/base/tsa_model.py:473: ValueWarning:\n",
      "\n",
      "No frequency information was provided, so inferred frequency W-SUN will be used.\n",
      "\n",
      "/Library/Frameworks/Python.framework/Versions/3.10/lib/python3.10/site-packages/statsmodels/tsa/base/tsa_model.py:473: ValueWarning:\n",
      "\n",
      "No frequency information was provided, so inferred frequency W-SUN will be used.\n",
      "\n",
      "/Library/Frameworks/Python.framework/Versions/3.10/lib/python3.10/site-packages/statsmodels/tsa/base/tsa_model.py:473: ValueWarning:\n",
      "\n",
      "No frequency information was provided, so inferred frequency W-SUN will be used.\n",
      "\n",
      "/Library/Frameworks/Python.framework/Versions/3.10/lib/python3.10/site-packages/statsmodels/base/model.py:607: ConvergenceWarning:\n",
      "\n",
      "Maximum Likelihood optimization failed to converge. Check mle_retvals\n",
      "\n",
      "[I 2025-07-21 15:26:35,911] Trial 70 finished with value: -5567.037760739956 and parameters: {'p': 3, 'd': 1, 'q': 2, 'P': 1, 'D': 1, 'Q': 1}. Best is trial 35 with value: -370.2910152410011.\n",
      "/Library/Frameworks/Python.framework/Versions/3.10/lib/python3.10/site-packages/statsmodels/tsa/base/tsa_model.py:473: ValueWarning:\n",
      "\n",
      "No frequency information was provided, so inferred frequency W-SUN will be used.\n",
      "\n",
      "/Library/Frameworks/Python.framework/Versions/3.10/lib/python3.10/site-packages/statsmodels/tsa/base/tsa_model.py:473: ValueWarning:\n",
      "\n",
      "No frequency information was provided, so inferred frequency W-SUN will be used.\n",
      "\n",
      "/Library/Frameworks/Python.framework/Versions/3.10/lib/python3.10/site-packages/statsmodels/tsa/base/tsa_model.py:473: ValueWarning:\n",
      "\n",
      "No frequency information was provided, so inferred frequency W-SUN will be used.\n",
      "\n",
      "/Library/Frameworks/Python.framework/Versions/3.10/lib/python3.10/site-packages/statsmodels/base/model.py:607: ConvergenceWarning:\n",
      "\n",
      "Maximum Likelihood optimization failed to converge. Check mle_retvals\n",
      "\n",
      "[I 2025-07-21 15:26:36,704] Trial 71 finished with value: -5592.061511079068 and parameters: {'p': 2, 'd': 1, 'q': 5, 'P': 1, 'D': 1, 'Q': 1}. Best is trial 35 with value: -370.2910152410011.\n",
      "/Library/Frameworks/Python.framework/Versions/3.10/lib/python3.10/site-packages/statsmodels/tsa/base/tsa_model.py:473: ValueWarning:\n",
      "\n",
      "No frequency information was provided, so inferred frequency W-SUN will be used.\n",
      "\n",
      "/Library/Frameworks/Python.framework/Versions/3.10/lib/python3.10/site-packages/statsmodels/tsa/base/tsa_model.py:473: ValueWarning:\n",
      "\n",
      "No frequency information was provided, so inferred frequency W-SUN will be used.\n",
      "\n",
      "/Library/Frameworks/Python.framework/Versions/3.10/lib/python3.10/site-packages/statsmodels/tsa/base/tsa_model.py:473: ValueWarning:\n",
      "\n",
      "No frequency information was provided, so inferred frequency W-SUN will be used.\n",
      "\n",
      "/Library/Frameworks/Python.framework/Versions/3.10/lib/python3.10/site-packages/statsmodels/tsa/statespace/sarimax.py:1384: RuntimeWarning:\n",
      "\n",
      "overflow encountered in scalar power\n",
      "\n",
      "/Library/Frameworks/Python.framework/Versions/3.10/lib/python3.10/site-packages/statsmodels/base/model.py:607: ConvergenceWarning:\n",
      "\n",
      "Maximum Likelihood optimization failed to converge. Check mle_retvals\n",
      "\n",
      "[I 2025-07-21 15:26:37,862] Trial 72 finished with value: -5419.320513811792 and parameters: {'p': 4, 'd': 1, 'q': 3, 'P': 1, 'D': 1, 'Q': 1}. Best is trial 35 with value: -370.2910152410011.\n",
      "/Library/Frameworks/Python.framework/Versions/3.10/lib/python3.10/site-packages/statsmodels/tsa/base/tsa_model.py:473: ValueWarning:\n",
      "\n",
      "No frequency information was provided, so inferred frequency W-SUN will be used.\n",
      "\n",
      "/Library/Frameworks/Python.framework/Versions/3.10/lib/python3.10/site-packages/statsmodels/tsa/base/tsa_model.py:473: ValueWarning:\n",
      "\n",
      "No frequency information was provided, so inferred frequency W-SUN will be used.\n",
      "\n",
      "/Library/Frameworks/Python.framework/Versions/3.10/lib/python3.10/site-packages/statsmodels/tsa/base/tsa_model.py:473: ValueWarning:\n",
      "\n",
      "No frequency information was provided, so inferred frequency W-SUN will be used.\n",
      "\n",
      "/Library/Frameworks/Python.framework/Versions/3.10/lib/python3.10/site-packages/statsmodels/base/model.py:607: ConvergenceWarning:\n",
      "\n",
      "Maximum Likelihood optimization failed to converge. Check mle_retvals\n",
      "\n",
      "[I 2025-07-21 15:26:38,311] Trial 73 finished with value: -5180.981333123629 and parameters: {'p': 2, 'd': 1, 'q': 4, 'P': 1, 'D': 1, 'Q': 1}. Best is trial 35 with value: -370.2910152410011.\n",
      "/Library/Frameworks/Python.framework/Versions/3.10/lib/python3.10/site-packages/statsmodels/tsa/base/tsa_model.py:473: ValueWarning:\n",
      "\n",
      "No frequency information was provided, so inferred frequency W-SUN will be used.\n",
      "\n",
      "/Library/Frameworks/Python.framework/Versions/3.10/lib/python3.10/site-packages/statsmodels/tsa/base/tsa_model.py:473: ValueWarning:\n",
      "\n",
      "No frequency information was provided, so inferred frequency W-SUN will be used.\n",
      "\n",
      "/Library/Frameworks/Python.framework/Versions/3.10/lib/python3.10/site-packages/statsmodels/tsa/base/tsa_model.py:473: ValueWarning:\n",
      "\n",
      "No frequency information was provided, so inferred frequency W-SUN will be used.\n",
      "\n",
      "/Library/Frameworks/Python.framework/Versions/3.10/lib/python3.10/site-packages/statsmodels/base/model.py:607: ConvergenceWarning:\n",
      "\n",
      "Maximum Likelihood optimization failed to converge. Check mle_retvals\n",
      "\n",
      "[I 2025-07-21 15:26:38,896] Trial 74 finished with value: -418.32198180572914 and parameters: {'p': 3, 'd': 1, 'q': 3, 'P': 1, 'D': 1, 'Q': 1}. Best is trial 35 with value: -370.2910152410011.\n",
      "/Library/Frameworks/Python.framework/Versions/3.10/lib/python3.10/site-packages/statsmodels/tsa/base/tsa_model.py:473: ValueWarning:\n",
      "\n",
      "No frequency information was provided, so inferred frequency W-SUN will be used.\n",
      "\n",
      "/Library/Frameworks/Python.framework/Versions/3.10/lib/python3.10/site-packages/statsmodels/tsa/base/tsa_model.py:473: ValueWarning:\n",
      "\n",
      "No frequency information was provided, so inferred frequency W-SUN will be used.\n",
      "\n",
      "/Library/Frameworks/Python.framework/Versions/3.10/lib/python3.10/site-packages/statsmodels/tsa/base/tsa_model.py:473: ValueWarning:\n",
      "\n",
      "No frequency information was provided, so inferred frequency W-SUN will be used.\n",
      "\n",
      "/Library/Frameworks/Python.framework/Versions/3.10/lib/python3.10/site-packages/statsmodels/base/model.py:607: ConvergenceWarning:\n",
      "\n",
      "Maximum Likelihood optimization failed to converge. Check mle_retvals\n",
      "\n",
      "[I 2025-07-21 15:26:39,481] Trial 75 finished with value: -418.32198180572914 and parameters: {'p': 3, 'd': 1, 'q': 3, 'P': 1, 'D': 1, 'Q': 1}. Best is trial 35 with value: -370.2910152410011.\n",
      "/Library/Frameworks/Python.framework/Versions/3.10/lib/python3.10/site-packages/statsmodels/tsa/base/tsa_model.py:473: ValueWarning:\n",
      "\n",
      "No frequency information was provided, so inferred frequency W-SUN will be used.\n",
      "\n",
      "/Library/Frameworks/Python.framework/Versions/3.10/lib/python3.10/site-packages/statsmodels/tsa/base/tsa_model.py:473: ValueWarning:\n",
      "\n",
      "No frequency information was provided, so inferred frequency W-SUN will be used.\n",
      "\n",
      "/Library/Frameworks/Python.framework/Versions/3.10/lib/python3.10/site-packages/statsmodels/tsa/base/tsa_model.py:473: ValueWarning:\n",
      "\n",
      "No frequency information was provided, so inferred frequency W-SUN will be used.\n",
      "\n",
      "/Library/Frameworks/Python.framework/Versions/3.10/lib/python3.10/site-packages/statsmodels/base/model.py:607: ConvergenceWarning:\n",
      "\n",
      "Maximum Likelihood optimization failed to converge. Check mle_retvals\n",
      "\n",
      "[I 2025-07-21 15:26:40,483] Trial 76 finished with value: -5494.57621937005 and parameters: {'p': 4, 'd': 1, 'q': 2, 'P': 1, 'D': 1, 'Q': 1}. Best is trial 35 with value: -370.2910152410011.\n",
      "/Library/Frameworks/Python.framework/Versions/3.10/lib/python3.10/site-packages/statsmodels/tsa/base/tsa_model.py:473: ValueWarning:\n",
      "\n",
      "No frequency information was provided, so inferred frequency W-SUN will be used.\n",
      "\n",
      "/Library/Frameworks/Python.framework/Versions/3.10/lib/python3.10/site-packages/statsmodels/tsa/base/tsa_model.py:473: ValueWarning:\n",
      "\n",
      "No frequency information was provided, so inferred frequency W-SUN will be used.\n",
      "\n",
      "/Library/Frameworks/Python.framework/Versions/3.10/lib/python3.10/site-packages/statsmodels/tsa/base/tsa_model.py:473: ValueWarning:\n",
      "\n",
      "No frequency information was provided, so inferred frequency W-SUN will be used.\n",
      "\n",
      "/Library/Frameworks/Python.framework/Versions/3.10/lib/python3.10/site-packages/statsmodels/base/model.py:607: ConvergenceWarning:\n",
      "\n",
      "Maximum Likelihood optimization failed to converge. Check mle_retvals\n",
      "\n",
      "[I 2025-07-21 15:26:41,800] Trial 77 finished with value: -5567.037760739956 and parameters: {'p': 3, 'd': 1, 'q': 2, 'P': 1, 'D': 1, 'Q': 1}. Best is trial 35 with value: -370.2910152410011.\n",
      "/Library/Frameworks/Python.framework/Versions/3.10/lib/python3.10/site-packages/statsmodels/tsa/base/tsa_model.py:473: ValueWarning:\n",
      "\n",
      "No frequency information was provided, so inferred frequency W-SUN will be used.\n",
      "\n",
      "/Library/Frameworks/Python.framework/Versions/3.10/lib/python3.10/site-packages/statsmodels/tsa/base/tsa_model.py:473: ValueWarning:\n",
      "\n",
      "No frequency information was provided, so inferred frequency W-SUN will be used.\n",
      "\n",
      "/Library/Frameworks/Python.framework/Versions/3.10/lib/python3.10/site-packages/statsmodels/tsa/base/tsa_model.py:473: ValueWarning:\n",
      "\n",
      "No frequency information was provided, so inferred frequency W-SUN will be used.\n",
      "\n",
      "[I 2025-07-21 15:26:42,206] Trial 78 finished with value: -5151.588666990156 and parameters: {'p': 1, 'd': 1, 'q': 3, 'P': 1, 'D': 1, 'Q': 1}. Best is trial 35 with value: -370.2910152410011.\n",
      "/Library/Frameworks/Python.framework/Versions/3.10/lib/python3.10/site-packages/statsmodels/tsa/base/tsa_model.py:473: ValueWarning:\n",
      "\n",
      "No frequency information was provided, so inferred frequency W-SUN will be used.\n",
      "\n",
      "/Library/Frameworks/Python.framework/Versions/3.10/lib/python3.10/site-packages/statsmodels/tsa/base/tsa_model.py:473: ValueWarning:\n",
      "\n",
      "No frequency information was provided, so inferred frequency W-SUN will be used.\n",
      "\n",
      "/Library/Frameworks/Python.framework/Versions/3.10/lib/python3.10/site-packages/statsmodels/tsa/base/tsa_model.py:473: ValueWarning:\n",
      "\n",
      "No frequency information was provided, so inferred frequency W-SUN will be used.\n",
      "\n",
      "/Library/Frameworks/Python.framework/Versions/3.10/lib/python3.10/site-packages/statsmodels/base/model.py:607: ConvergenceWarning:\n",
      "\n",
      "Maximum Likelihood optimization failed to converge. Check mle_retvals\n",
      "\n",
      "[I 2025-07-21 15:26:42,582] Trial 79 finished with value: -5468.074867640364 and parameters: {'p': 3, 'd': 1, 'q': 1, 'P': 1, 'D': 1, 'Q': 1}. Best is trial 35 with value: -370.2910152410011.\n",
      "/Library/Frameworks/Python.framework/Versions/3.10/lib/python3.10/site-packages/statsmodels/tsa/base/tsa_model.py:473: ValueWarning:\n",
      "\n",
      "No frequency information was provided, so inferred frequency W-SUN will be used.\n",
      "\n",
      "/Library/Frameworks/Python.framework/Versions/3.10/lib/python3.10/site-packages/statsmodels/tsa/base/tsa_model.py:473: ValueWarning:\n",
      "\n",
      "No frequency information was provided, so inferred frequency W-SUN will be used.\n",
      "\n",
      "/Library/Frameworks/Python.framework/Versions/3.10/lib/python3.10/site-packages/statsmodels/tsa/base/tsa_model.py:473: ValueWarning:\n",
      "\n",
      "No frequency information was provided, so inferred frequency W-SUN will be used.\n",
      "\n",
      "/Library/Frameworks/Python.framework/Versions/3.10/lib/python3.10/site-packages/statsmodels/base/model.py:607: ConvergenceWarning:\n",
      "\n",
      "Maximum Likelihood optimization failed to converge. Check mle_retvals\n",
      "\n",
      "[I 2025-07-21 15:26:43,498] Trial 80 finished with value: -4801.402296291376 and parameters: {'p': 1, 'd': 1, 'q': 4, 'P': 1, 'D': 1, 'Q': 1}. Best is trial 35 with value: -370.2910152410011.\n",
      "/Library/Frameworks/Python.framework/Versions/3.10/lib/python3.10/site-packages/statsmodels/tsa/base/tsa_model.py:473: ValueWarning:\n",
      "\n",
      "No frequency information was provided, so inferred frequency W-SUN will be used.\n",
      "\n",
      "/Library/Frameworks/Python.framework/Versions/3.10/lib/python3.10/site-packages/statsmodels/tsa/base/tsa_model.py:473: ValueWarning:\n",
      "\n",
      "No frequency information was provided, so inferred frequency W-SUN will be used.\n",
      "\n",
      "/Library/Frameworks/Python.framework/Versions/3.10/lib/python3.10/site-packages/statsmodels/tsa/base/tsa_model.py:473: ValueWarning:\n",
      "\n",
      "No frequency information was provided, so inferred frequency W-SUN will be used.\n",
      "\n",
      "/Library/Frameworks/Python.framework/Versions/3.10/lib/python3.10/site-packages/statsmodels/base/model.py:607: ConvergenceWarning:\n",
      "\n",
      "Maximum Likelihood optimization failed to converge. Check mle_retvals\n",
      "\n",
      "[I 2025-07-21 15:26:44,355] Trial 81 finished with value: -5592.061511079068 and parameters: {'p': 2, 'd': 1, 'q': 5, 'P': 1, 'D': 1, 'Q': 1}. Best is trial 35 with value: -370.2910152410011.\n",
      "/Library/Frameworks/Python.framework/Versions/3.10/lib/python3.10/site-packages/statsmodels/tsa/base/tsa_model.py:473: ValueWarning:\n",
      "\n",
      "No frequency information was provided, so inferred frequency W-SUN will be used.\n",
      "\n",
      "/Library/Frameworks/Python.framework/Versions/3.10/lib/python3.10/site-packages/statsmodels/tsa/base/tsa_model.py:473: ValueWarning:\n",
      "\n",
      "No frequency information was provided, so inferred frequency W-SUN will be used.\n",
      "\n",
      "/Library/Frameworks/Python.framework/Versions/3.10/lib/python3.10/site-packages/statsmodels/tsa/base/tsa_model.py:473: ValueWarning:\n",
      "\n",
      "No frequency information was provided, so inferred frequency W-SUN will be used.\n",
      "\n",
      "[I 2025-07-21 15:26:46,180] Trial 82 finished with value: -4672.59340287817 and parameters: {'p': 5, 'd': 1, 'q': 3, 'P': 1, 'D': 1, 'Q': 1}. Best is trial 35 with value: -370.2910152410011.\n",
      "/Library/Frameworks/Python.framework/Versions/3.10/lib/python3.10/site-packages/statsmodels/tsa/base/tsa_model.py:473: ValueWarning:\n",
      "\n",
      "No frequency information was provided, so inferred frequency W-SUN will be used.\n",
      "\n",
      "/Library/Frameworks/Python.framework/Versions/3.10/lib/python3.10/site-packages/statsmodels/tsa/base/tsa_model.py:473: ValueWarning:\n",
      "\n",
      "No frequency information was provided, so inferred frequency W-SUN will be used.\n",
      "\n",
      "/Library/Frameworks/Python.framework/Versions/3.10/lib/python3.10/site-packages/statsmodels/tsa/base/tsa_model.py:473: ValueWarning:\n",
      "\n",
      "No frequency information was provided, so inferred frequency W-SUN will be used.\n",
      "\n",
      "[I 2025-07-21 15:26:46,446] Trial 83 finished with value: -5163.566038544145 and parameters: {'p': 6, 'd': 1, 'q': 1, 'P': 1, 'D': 1, 'Q': 1}. Best is trial 35 with value: -370.2910152410011.\n",
      "/Library/Frameworks/Python.framework/Versions/3.10/lib/python3.10/site-packages/statsmodels/tsa/base/tsa_model.py:473: ValueWarning:\n",
      "\n",
      "No frequency information was provided, so inferred frequency W-SUN will be used.\n",
      "\n",
      "/Library/Frameworks/Python.framework/Versions/3.10/lib/python3.10/site-packages/statsmodels/tsa/base/tsa_model.py:473: ValueWarning:\n",
      "\n",
      "No frequency information was provided, so inferred frequency W-SUN will be used.\n",
      "\n",
      "/Library/Frameworks/Python.framework/Versions/3.10/lib/python3.10/site-packages/statsmodels/tsa/base/tsa_model.py:473: ValueWarning:\n",
      "\n",
      "No frequency information was provided, so inferred frequency W-SUN will be used.\n",
      "\n",
      "/Library/Frameworks/Python.framework/Versions/3.10/lib/python3.10/site-packages/statsmodels/base/model.py:607: ConvergenceWarning:\n",
      "\n",
      "Maximum Likelihood optimization failed to converge. Check mle_retvals\n",
      "\n",
      "[I 2025-07-21 15:26:47,039] Trial 84 finished with value: -418.32198180572914 and parameters: {'p': 3, 'd': 1, 'q': 3, 'P': 1, 'D': 1, 'Q': 1}. Best is trial 35 with value: -370.2910152410011.\n",
      "/Library/Frameworks/Python.framework/Versions/3.10/lib/python3.10/site-packages/statsmodels/tsa/base/tsa_model.py:473: ValueWarning:\n",
      "\n",
      "No frequency information was provided, so inferred frequency W-SUN will be used.\n",
      "\n",
      "/Library/Frameworks/Python.framework/Versions/3.10/lib/python3.10/site-packages/statsmodels/tsa/base/tsa_model.py:473: ValueWarning:\n",
      "\n",
      "No frequency information was provided, so inferred frequency W-SUN will be used.\n",
      "\n",
      "/Library/Frameworks/Python.framework/Versions/3.10/lib/python3.10/site-packages/statsmodels/tsa/base/tsa_model.py:473: ValueWarning:\n",
      "\n",
      "No frequency information was provided, so inferred frequency W-SUN will be used.\n",
      "\n",
      "/Library/Frameworks/Python.framework/Versions/3.10/lib/python3.10/site-packages/statsmodels/tsa/statespace/sarimax.py:1384: RuntimeWarning:\n",
      "\n",
      "overflow encountered in scalar power\n",
      "\n",
      "/Library/Frameworks/Python.framework/Versions/3.10/lib/python3.10/site-packages/statsmodels/base/model.py:607: ConvergenceWarning:\n",
      "\n",
      "Maximum Likelihood optimization failed to converge. Check mle_retvals\n",
      "\n",
      "[I 2025-07-21 15:26:48,099] Trial 85 finished with value: -5419.320513811792 and parameters: {'p': 4, 'd': 1, 'q': 3, 'P': 1, 'D': 1, 'Q': 1}. Best is trial 35 with value: -370.2910152410011.\n",
      "/Library/Frameworks/Python.framework/Versions/3.10/lib/python3.10/site-packages/statsmodels/tsa/base/tsa_model.py:473: ValueWarning:\n",
      "\n",
      "No frequency information was provided, so inferred frequency W-SUN will be used.\n",
      "\n",
      "/Library/Frameworks/Python.framework/Versions/3.10/lib/python3.10/site-packages/statsmodels/tsa/base/tsa_model.py:473: ValueWarning:\n",
      "\n",
      "No frequency information was provided, so inferred frequency W-SUN will be used.\n",
      "\n",
      "/Library/Frameworks/Python.framework/Versions/3.10/lib/python3.10/site-packages/statsmodels/tsa/base/tsa_model.py:473: ValueWarning:\n",
      "\n",
      "No frequency information was provided, so inferred frequency W-SUN will be used.\n",
      "\n",
      "/Library/Frameworks/Python.framework/Versions/3.10/lib/python3.10/site-packages/statsmodels/base/model.py:607: ConvergenceWarning:\n",
      "\n",
      "Maximum Likelihood optimization failed to converge. Check mle_retvals\n",
      "\n",
      "[I 2025-07-21 15:26:49,319] Trial 86 finished with value: -5567.037760739956 and parameters: {'p': 3, 'd': 1, 'q': 2, 'P': 1, 'D': 1, 'Q': 1}. Best is trial 35 with value: -370.2910152410011.\n",
      "/Library/Frameworks/Python.framework/Versions/3.10/lib/python3.10/site-packages/statsmodels/tsa/base/tsa_model.py:473: ValueWarning:\n",
      "\n",
      "No frequency information was provided, so inferred frequency W-SUN will be used.\n",
      "\n",
      "/Library/Frameworks/Python.framework/Versions/3.10/lib/python3.10/site-packages/statsmodels/tsa/base/tsa_model.py:473: ValueWarning:\n",
      "\n",
      "No frequency information was provided, so inferred frequency W-SUN will be used.\n",
      "\n",
      "/Library/Frameworks/Python.framework/Versions/3.10/lib/python3.10/site-packages/statsmodels/tsa/base/tsa_model.py:473: ValueWarning:\n",
      "\n",
      "No frequency information was provided, so inferred frequency W-SUN will be used.\n",
      "\n",
      "[I 2025-07-21 15:26:49,759] Trial 87 finished with value: -5232.06284681159 and parameters: {'p': 2, 'd': 1, 'q': 6, 'P': 1, 'D': 1, 'Q': 1}. Best is trial 35 with value: -370.2910152410011.\n",
      "/Library/Frameworks/Python.framework/Versions/3.10/lib/python3.10/site-packages/statsmodels/tsa/base/tsa_model.py:473: ValueWarning:\n",
      "\n",
      "No frequency information was provided, so inferred frequency W-SUN will be used.\n",
      "\n",
      "/Library/Frameworks/Python.framework/Versions/3.10/lib/python3.10/site-packages/statsmodels/tsa/base/tsa_model.py:473: ValueWarning:\n",
      "\n",
      "No frequency information was provided, so inferred frequency W-SUN will be used.\n",
      "\n",
      "/Library/Frameworks/Python.framework/Versions/3.10/lib/python3.10/site-packages/statsmodels/tsa/base/tsa_model.py:473: ValueWarning:\n",
      "\n",
      "No frequency information was provided, so inferred frequency W-SUN will be used.\n",
      "\n",
      "/Library/Frameworks/Python.framework/Versions/3.10/lib/python3.10/site-packages/statsmodels/base/model.py:607: ConvergenceWarning:\n",
      "\n",
      "Maximum Likelihood optimization failed to converge. Check mle_retvals\n",
      "\n",
      "[I 2025-07-21 15:26:51,182] Trial 88 finished with value: -5035.966182644655 and parameters: {'p': 4, 'd': 1, 'q': 4, 'P': 1, 'D': 1, 'Q': 1}. Best is trial 35 with value: -370.2910152410011.\n",
      "/Library/Frameworks/Python.framework/Versions/3.10/lib/python3.10/site-packages/statsmodels/tsa/base/tsa_model.py:473: ValueWarning:\n",
      "\n",
      "No frequency information was provided, so inferred frequency W-SUN will be used.\n",
      "\n",
      "/Library/Frameworks/Python.framework/Versions/3.10/lib/python3.10/site-packages/statsmodels/tsa/base/tsa_model.py:473: ValueWarning:\n",
      "\n",
      "No frequency information was provided, so inferred frequency W-SUN will be used.\n",
      "\n",
      "/Library/Frameworks/Python.framework/Versions/3.10/lib/python3.10/site-packages/statsmodels/tsa/base/tsa_model.py:473: ValueWarning:\n",
      "\n",
      "No frequency information was provided, so inferred frequency W-SUN will be used.\n",
      "\n",
      "/Library/Frameworks/Python.framework/Versions/3.10/lib/python3.10/site-packages/statsmodels/base/model.py:607: ConvergenceWarning:\n",
      "\n",
      "Maximum Likelihood optimization failed to converge. Check mle_retvals\n",
      "\n",
      "[I 2025-07-21 15:26:51,774] Trial 89 finished with value: -418.32198180572914 and parameters: {'p': 3, 'd': 1, 'q': 3, 'P': 1, 'D': 1, 'Q': 1}. Best is trial 35 with value: -370.2910152410011.\n",
      "/Library/Frameworks/Python.framework/Versions/3.10/lib/python3.10/site-packages/statsmodels/tsa/base/tsa_model.py:473: ValueWarning:\n",
      "\n",
      "No frequency information was provided, so inferred frequency W-SUN will be used.\n",
      "\n",
      "/Library/Frameworks/Python.framework/Versions/3.10/lib/python3.10/site-packages/statsmodels/tsa/base/tsa_model.py:473: ValueWarning:\n",
      "\n",
      "No frequency information was provided, so inferred frequency W-SUN will be used.\n",
      "\n",
      "/Library/Frameworks/Python.framework/Versions/3.10/lib/python3.10/site-packages/statsmodels/tsa/base/tsa_model.py:473: ValueWarning:\n",
      "\n",
      "No frequency information was provided, so inferred frequency W-SUN will be used.\n",
      "\n",
      "/Library/Frameworks/Python.framework/Versions/3.10/lib/python3.10/site-packages/statsmodels/base/model.py:607: ConvergenceWarning:\n",
      "\n",
      "Maximum Likelihood optimization failed to converge. Check mle_retvals\n",
      "\n",
      "[I 2025-07-21 15:26:53,220] Trial 90 finished with value: -5567.037760739956 and parameters: {'p': 3, 'd': 1, 'q': 2, 'P': 1, 'D': 1, 'Q': 1}. Best is trial 35 with value: -370.2910152410011.\n",
      "/Library/Frameworks/Python.framework/Versions/3.10/lib/python3.10/site-packages/statsmodels/tsa/base/tsa_model.py:473: ValueWarning:\n",
      "\n",
      "No frequency information was provided, so inferred frequency W-SUN will be used.\n",
      "\n",
      "/Library/Frameworks/Python.framework/Versions/3.10/lib/python3.10/site-packages/statsmodels/tsa/base/tsa_model.py:473: ValueWarning:\n",
      "\n",
      "No frequency information was provided, so inferred frequency W-SUN will be used.\n",
      "\n",
      "/Library/Frameworks/Python.framework/Versions/3.10/lib/python3.10/site-packages/statsmodels/tsa/base/tsa_model.py:473: ValueWarning:\n",
      "\n",
      "No frequency information was provided, so inferred frequency W-SUN will be used.\n",
      "\n",
      "/Library/Frameworks/Python.framework/Versions/3.10/lib/python3.10/site-packages/statsmodels/base/model.py:607: ConvergenceWarning:\n",
      "\n",
      "Maximum Likelihood optimization failed to converge. Check mle_retvals\n",
      "\n",
      "[I 2025-07-21 15:26:54,441] Trial 91 finished with value: -5035.966182644655 and parameters: {'p': 4, 'd': 1, 'q': 4, 'P': 1, 'D': 1, 'Q': 1}. Best is trial 35 with value: -370.2910152410011.\n",
      "/Library/Frameworks/Python.framework/Versions/3.10/lib/python3.10/site-packages/statsmodels/tsa/base/tsa_model.py:473: ValueWarning:\n",
      "\n",
      "No frequency information was provided, so inferred frequency W-SUN will be used.\n",
      "\n",
      "/Library/Frameworks/Python.framework/Versions/3.10/lib/python3.10/site-packages/statsmodels/tsa/base/tsa_model.py:473: ValueWarning:\n",
      "\n",
      "No frequency information was provided, so inferred frequency W-SUN will be used.\n",
      "\n",
      "/Library/Frameworks/Python.framework/Versions/3.10/lib/python3.10/site-packages/statsmodels/tsa/base/tsa_model.py:473: ValueWarning:\n",
      "\n",
      "No frequency information was provided, so inferred frequency W-SUN will be used.\n",
      "\n",
      "/Library/Frameworks/Python.framework/Versions/3.10/lib/python3.10/site-packages/statsmodels/base/model.py:607: ConvergenceWarning:\n",
      "\n",
      "Maximum Likelihood optimization failed to converge. Check mle_retvals\n",
      "\n",
      "[W 2025-07-21 15:26:54,956] Trial 92 failed with parameters: {'p': 7, 'd': 1, 'q': 3, 'P': 1, 'D': 1, 'Q': 1} because of the following error: The value nan is not acceptable.\n",
      "[W 2025-07-21 15:26:54,957] Trial 92 failed with value nan.\n",
      "/Library/Frameworks/Python.framework/Versions/3.10/lib/python3.10/site-packages/statsmodels/tsa/base/tsa_model.py:473: ValueWarning:\n",
      "\n",
      "No frequency information was provided, so inferred frequency W-SUN will be used.\n",
      "\n",
      "/Library/Frameworks/Python.framework/Versions/3.10/lib/python3.10/site-packages/statsmodels/tsa/base/tsa_model.py:473: ValueWarning:\n",
      "\n",
      "No frequency information was provided, so inferred frequency W-SUN will be used.\n",
      "\n",
      "/Library/Frameworks/Python.framework/Versions/3.10/lib/python3.10/site-packages/statsmodels/tsa/base/tsa_model.py:473: ValueWarning:\n",
      "\n",
      "No frequency information was provided, so inferred frequency W-SUN will be used.\n",
      "\n",
      "[I 2025-07-21 15:26:55,690] Trial 93 finished with value: -5028.167397960123 and parameters: {'p': 2, 'd': 1, 'q': 3, 'P': 1, 'D': 1, 'Q': 1}. Best is trial 35 with value: -370.2910152410011.\n",
      "/Library/Frameworks/Python.framework/Versions/3.10/lib/python3.10/site-packages/statsmodels/tsa/base/tsa_model.py:473: ValueWarning:\n",
      "\n",
      "No frequency information was provided, so inferred frequency W-SUN will be used.\n",
      "\n",
      "/Library/Frameworks/Python.framework/Versions/3.10/lib/python3.10/site-packages/statsmodels/tsa/base/tsa_model.py:473: ValueWarning:\n",
      "\n",
      "No frequency information was provided, so inferred frequency W-SUN will be used.\n",
      "\n",
      "/Library/Frameworks/Python.framework/Versions/3.10/lib/python3.10/site-packages/statsmodels/tsa/base/tsa_model.py:473: ValueWarning:\n",
      "\n",
      "No frequency information was provided, so inferred frequency W-SUN will be used.\n",
      "\n",
      "/Library/Frameworks/Python.framework/Versions/3.10/lib/python3.10/site-packages/statsmodels/base/model.py:607: ConvergenceWarning:\n",
      "\n",
      "Maximum Likelihood optimization failed to converge. Check mle_retvals\n",
      "\n",
      "[I 2025-07-21 15:26:57,768] Trial 94 finished with value: -4245.271003942371 and parameters: {'p': 7, 'd': 1, 'q': 4, 'P': 1, 'D': 1, 'Q': 1}. Best is trial 35 with value: -370.2910152410011.\n",
      "/Library/Frameworks/Python.framework/Versions/3.10/lib/python3.10/site-packages/statsmodels/tsa/base/tsa_model.py:473: ValueWarning:\n",
      "\n",
      "No frequency information was provided, so inferred frequency W-SUN will be used.\n",
      "\n",
      "/Library/Frameworks/Python.framework/Versions/3.10/lib/python3.10/site-packages/statsmodels/tsa/base/tsa_model.py:473: ValueWarning:\n",
      "\n",
      "No frequency information was provided, so inferred frequency W-SUN will be used.\n",
      "\n",
      "/Library/Frameworks/Python.framework/Versions/3.10/lib/python3.10/site-packages/statsmodels/tsa/base/tsa_model.py:473: ValueWarning:\n",
      "\n",
      "No frequency information was provided, so inferred frequency W-SUN will be used.\n",
      "\n",
      "/Library/Frameworks/Python.framework/Versions/3.10/lib/python3.10/site-packages/statsmodels/base/model.py:607: ConvergenceWarning:\n",
      "\n",
      "Maximum Likelihood optimization failed to converge. Check mle_retvals\n",
      "\n",
      "[I 2025-07-21 15:26:58,357] Trial 95 finished with value: -418.32198180572914 and parameters: {'p': 3, 'd': 1, 'q': 3, 'P': 1, 'D': 1, 'Q': 1}. Best is trial 35 with value: -370.2910152410011.\n",
      "/Library/Frameworks/Python.framework/Versions/3.10/lib/python3.10/site-packages/statsmodels/tsa/base/tsa_model.py:473: ValueWarning:\n",
      "\n",
      "No frequency information was provided, so inferred frequency W-SUN will be used.\n",
      "\n",
      "/Library/Frameworks/Python.framework/Versions/3.10/lib/python3.10/site-packages/statsmodels/tsa/base/tsa_model.py:473: ValueWarning:\n",
      "\n",
      "No frequency information was provided, so inferred frequency W-SUN will be used.\n",
      "\n",
      "/Library/Frameworks/Python.framework/Versions/3.10/lib/python3.10/site-packages/statsmodels/tsa/base/tsa_model.py:473: ValueWarning:\n",
      "\n",
      "No frequency information was provided, so inferred frequency W-SUN will be used.\n",
      "\n",
      "/Library/Frameworks/Python.framework/Versions/3.10/lib/python3.10/site-packages/statsmodels/base/model.py:607: ConvergenceWarning:\n",
      "\n",
      "Maximum Likelihood optimization failed to converge. Check mle_retvals\n",
      "\n",
      "[I 2025-07-21 15:26:58,930] Trial 96 finished with value: -418.32198180572914 and parameters: {'p': 3, 'd': 1, 'q': 3, 'P': 1, 'D': 1, 'Q': 1}. Best is trial 35 with value: -370.2910152410011.\n",
      "/Library/Frameworks/Python.framework/Versions/3.10/lib/python3.10/site-packages/statsmodels/tsa/base/tsa_model.py:473: ValueWarning:\n",
      "\n",
      "No frequency information was provided, so inferred frequency W-SUN will be used.\n",
      "\n",
      "/Library/Frameworks/Python.framework/Versions/3.10/lib/python3.10/site-packages/statsmodels/tsa/base/tsa_model.py:473: ValueWarning:\n",
      "\n",
      "No frequency information was provided, so inferred frequency W-SUN will be used.\n",
      "\n",
      "/Library/Frameworks/Python.framework/Versions/3.10/lib/python3.10/site-packages/statsmodels/tsa/base/tsa_model.py:473: ValueWarning:\n",
      "\n",
      "No frequency information was provided, so inferred frequency W-SUN will be used.\n",
      "\n",
      "/Library/Frameworks/Python.framework/Versions/3.10/lib/python3.10/site-packages/statsmodels/base/model.py:607: ConvergenceWarning:\n",
      "\n",
      "Maximum Likelihood optimization failed to converge. Check mle_retvals\n",
      "\n",
      "[I 2025-07-21 15:26:59,523] Trial 97 finished with value: -418.32198180572914 and parameters: {'p': 3, 'd': 1, 'q': 3, 'P': 1, 'D': 1, 'Q': 1}. Best is trial 35 with value: -370.2910152410011.\n",
      "/Library/Frameworks/Python.framework/Versions/3.10/lib/python3.10/site-packages/statsmodels/tsa/base/tsa_model.py:473: ValueWarning:\n",
      "\n",
      "No frequency information was provided, so inferred frequency W-SUN will be used.\n",
      "\n",
      "/Library/Frameworks/Python.framework/Versions/3.10/lib/python3.10/site-packages/statsmodels/tsa/base/tsa_model.py:473: ValueWarning:\n",
      "\n",
      "No frequency information was provided, so inferred frequency W-SUN will be used.\n",
      "\n",
      "/Library/Frameworks/Python.framework/Versions/3.10/lib/python3.10/site-packages/statsmodels/tsa/base/tsa_model.py:473: ValueWarning:\n",
      "\n",
      "No frequency information was provided, so inferred frequency W-SUN will be used.\n",
      "\n",
      "/Library/Frameworks/Python.framework/Versions/3.10/lib/python3.10/site-packages/statsmodels/base/model.py:607: ConvergenceWarning:\n",
      "\n",
      "Maximum Likelihood optimization failed to converge. Check mle_retvals\n",
      "\n",
      "[I 2025-07-21 15:27:00,025] Trial 98 finished with value: -5614.452499665611 and parameters: {'p': 2, 'd': 1, 'q': 2, 'P': 1, 'D': 1, 'Q': 1}. Best is trial 35 with value: -370.2910152410011.\n",
      "/Library/Frameworks/Python.framework/Versions/3.10/lib/python3.10/site-packages/statsmodels/tsa/base/tsa_model.py:473: ValueWarning:\n",
      "\n",
      "No frequency information was provided, so inferred frequency W-SUN will be used.\n",
      "\n",
      "/Library/Frameworks/Python.framework/Versions/3.10/lib/python3.10/site-packages/statsmodels/tsa/base/tsa_model.py:473: ValueWarning:\n",
      "\n",
      "No frequency information was provided, so inferred frequency W-SUN will be used.\n",
      "\n",
      "/Library/Frameworks/Python.framework/Versions/3.10/lib/python3.10/site-packages/statsmodels/tsa/base/tsa_model.py:473: ValueWarning:\n",
      "\n",
      "No frequency information was provided, so inferred frequency W-SUN will be used.\n",
      "\n",
      "/Library/Frameworks/Python.framework/Versions/3.10/lib/python3.10/site-packages/statsmodels/base/model.py:607: ConvergenceWarning:\n",
      "\n",
      "Maximum Likelihood optimization failed to converge. Check mle_retvals\n",
      "\n",
      "[I 2025-07-21 15:27:01,037] Trial 99 finished with value: -5494.57621937005 and parameters: {'p': 4, 'd': 1, 'q': 2, 'P': 1, 'D': 1, 'Q': 1}. Best is trial 35 with value: -370.2910152410011.\n"
     ]
    }
   ],
   "source": [
    "study = optuna.create_study(direction='maximize')\n",
    "study.optimize(objective, n_trials=100)"
   ]
  },
  {
   "cell_type": "code",
   "execution_count": 275,
   "metadata": {},
   "outputs": [
    {
     "name": "stdout",
     "output_type": "stream",
     "text": [
      "{'p': 5, 'd': 1, 'q': 6, 'P': 1, 'D': 1, 'Q': 1}\n"
     ]
    }
   ],
   "source": [
    "best_params = study.best_params\n",
    "print(best_params)"
   ]
  },
  {
   "cell_type": "code",
   "execution_count": null,
   "metadata": {},
   "outputs": [
    {
     "name": "stderr",
     "output_type": "stream",
     "text": [
      "/Library/Frameworks/Python.framework/Versions/3.10/lib/python3.10/site-packages/statsmodels/tsa/base/tsa_model.py:473: ValueWarning:\n",
      "\n",
      "No frequency information was provided, so inferred frequency W-SUN will be used.\n",
      "\n",
      "/Library/Frameworks/Python.framework/Versions/3.10/lib/python3.10/site-packages/statsmodels/tsa/base/tsa_model.py:473: ValueWarning:\n",
      "\n",
      "No frequency information was provided, so inferred frequency W-SUN will be used.\n",
      "\n",
      "/Library/Frameworks/Python.framework/Versions/3.10/lib/python3.10/site-packages/statsmodels/tsa/base/tsa_model.py:473: ValueWarning:\n",
      "\n",
      "No frequency information was provided, so inferred frequency W-SUN will be used.\n",
      "\n"
     ]
    },
    {
     "name": "stdout",
     "output_type": "stream",
     "text": [
      "                                     SARIMAX Results                                      \n",
      "==========================================================================================\n",
      "Dep. Variable:                     mp_conc_boxcox   No. Observations:                  285\n",
      "Model:             ARIMA(5, 1, 6)x(1, 1, [1], 12)   Log Likelihood                3482.056\n",
      "Date:                            Mon, 21 Jul 2025   AIC                          -6936.112\n",
      "Time:                                    15:31:00   BIC                          -6885.631\n",
      "Sample:                                08-19-2018   HQIC                         -6915.845\n",
      "                                     - 01-28-2024                                         \n",
      "Covariance Type:                              opg                                         \n",
      "==============================================================================\n",
      "                 coef    std err          z      P>|z|      [0.025      0.975]\n",
      "------------------------------------------------------------------------------\n",
      "ar.L1          0.2708   1.82e-18   1.49e+17      0.000       0.271       0.271\n",
      "ar.L2         -0.5444   7.54e-19  -7.23e+17      0.000      -0.544      -0.544\n",
      "ar.L3          0.1476   6.31e-19   2.34e+17      0.000       0.148       0.148\n",
      "ar.L4         -0.5917   1.49e-18  -3.97e+17      0.000      -0.592      -0.592\n",
      "ar.L5         -0.0065   1.43e-18  -4.55e+15      0.000      -0.007      -0.007\n",
      "ma.L1         -0.1305   8.03e-19  -1.62e+17      0.000      -0.130      -0.130\n",
      "ma.L2          0.2205   1.97e-19   1.12e+18      0.000       0.221       0.221\n",
      "ma.L3         -0.1864   4.37e-19  -4.27e+17      0.000      -0.186      -0.186\n",
      "ma.L4          0.2581   7.18e-19    3.6e+17      0.000       0.258       0.258\n",
      "ma.L5         -0.1976   5.93e-19  -3.33e+17      0.000      -0.198      -0.198\n",
      "ma.L6         -0.1160   1.37e-19  -8.49e+17      0.000      -0.116      -0.116\n",
      "ar.S.L12      -0.3758   7.48e-19  -5.02e+17      0.000      -0.376      -0.376\n",
      "ma.S.L12      -0.3031   5.66e-19  -5.36e+17      0.000      -0.303      -0.303\n",
      "sigma2      2.218e-13   2.47e-10      0.001      0.999   -4.84e-10    4.84e-10\n",
      "===================================================================================\n",
      "Ljung-Box (L1) (Q):                  66.81   Jarque-Bera (JB):              1989.28\n",
      "Prob(Q):                              0.00   Prob(JB):                         0.00\n",
      "Heteroskedasticity (H):         1262221.61   Skew:                            -1.41\n",
      "Prob(H) (two-sided):                  0.00   Kurtosis:                        15.94\n",
      "===================================================================================\n",
      "\n",
      "Warnings:\n",
      "[1] Covariance matrix calculated using the outer product of gradients (complex-step).\n",
      "[2] Covariance matrix is singular or near-singular, with condition number 1.29e+35. Standard errors may be unstable.\n"
     ]
    },
    {
     "name": "stderr",
     "output_type": "stream",
     "text": [
      "/Library/Frameworks/Python.framework/Versions/3.10/lib/python3.10/site-packages/statsmodels/base/model.py:607: ConvergenceWarning:\n",
      "\n",
      "Maximum Likelihood optimization failed to converge. Check mle_retvals\n",
      "\n"
     ]
    }
   ],
   "source": [
    "# You can now use these best parameters to fit your final model\n",
    "\n",
    "best_model = ARIMA(train.mp_conc_boxcox,\n",
    "    order=(best_params['p'], best_params['d'], best_params['q']),\n",
    "    seasonal_order=(best_params['P'], best_params['D'], best_params['Q'], 12),\n",
    ").fit()\n",
    "\n",
    "print(best_model.summary())"
   ]
  },
  {
   "cell_type": "code",
   "execution_count": 280,
   "metadata": {},
   "outputs": [],
   "source": [
    "boxcox_forecasts = best_model.forecast(len(test))\n",
    "\n",
    "# Step 5: Apply the inverse Box-Cox transformation\n",
    "sarima_forecasts = inv_boxcox(boxcox_forecasts, lam)"
   ]
  },
  {
   "cell_type": "code",
   "execution_count": 281,
   "metadata": {},
   "outputs": [
    {
     "data": {
      "text/plain": [
       "2024-02-04    6.810341\n",
       "2024-02-11         NaN\n",
       "2024-02-18         NaN\n",
       "2024-02-25    6.771126\n",
       "2024-03-03         NaN\n",
       "                ...   \n",
       "2025-05-11    6.454426\n",
       "2025-05-18         NaN\n",
       "2025-05-25         NaN\n",
       "2025-06-01    6.812387\n",
       "2025-06-08         NaN\n",
       "Freq: W-SUN, Name: predicted_mean, Length: 71, dtype: float64"
      ]
     },
     "execution_count": 281,
     "metadata": {},
     "output_type": "execute_result"
    }
   ],
   "source": [
    "sarima_forecasts"
   ]
  },
  {
   "cell_type": "code",
   "execution_count": 282,
   "metadata": {},
   "outputs": [
    {
     "data": {
      "application/vnd.plotly.v1+json": {
       "config": {
        "plotlyServerURL": "https://plot.ly"
       },
       "data": [
        {
         "mode": "markers",
         "name": "Objective Value",
         "type": "scatter",
         "x": [
          0,
          1,
          2,
          3,
          4,
          5,
          6,
          7,
          8,
          9,
          10,
          11,
          12,
          13,
          14,
          15,
          16,
          17,
          18,
          19,
          20,
          21,
          22,
          23,
          24,
          25,
          26,
          27,
          28,
          29,
          30,
          31,
          32,
          33,
          34,
          35,
          36,
          37,
          38,
          41,
          43,
          44,
          45,
          46,
          47,
          48,
          49,
          50,
          51,
          52,
          53,
          54,
          55,
          56,
          57,
          58,
          59,
          60,
          61,
          62,
          63,
          64,
          65,
          66,
          67,
          68,
          69,
          70,
          71,
          72,
          73,
          74,
          75,
          76,
          77,
          78,
          79,
          80,
          81,
          82,
          83,
          84,
          85,
          86,
          87,
          88,
          89,
          90,
          91,
          93,
          94,
          95,
          96,
          97,
          98,
          99
         ],
         "y": [
          -5485.705747772452,
          -5132.089163104045,
          -3445.61359021564,
          -5010.904473717573,
          -5179.363643246047,
          -5592.061511079068,
          -5035.966182644655,
          -5247.257168916368,
          -4801.402296291376,
          -5035.966182644655,
          -5087.663709961903,
          -5181.669038909132,
          -4867.584517753958,
          -4919.732249998477,
          -5222.585828176116,
          -5006.715551242884,
          -652.0627883669285,
          -4760.418658326755,
          -5130.045111236045,
          -5033.203994437338,
          -5020.349064514824,
          -4826.616826639077,
          -5074.255624380329,
          -4898.95310530237,
          -5067.468498912782,
          -4898.95310530237,
          -5109.460319548593,
          -5306.569050288887,
          -5222.217973166903,
          -652.0627883669285,
          -5233.879937326496,
          -4796.870769927074,
          -4906.820184459221,
          -4760.418658326755,
          -5130.045111236045,
          -370.2910152410011,
          -4672.59340287817,
          -5658.788210069212,
          -5021.576485532743,
          -4399.296663312963,
          -418.32198180572914,
          -5614.452499665611,
          -418.32198180572914,
          -418.32198180572914,
          -418.32198180572914,
          -418.32198180572914,
          -5468.074867640364,
          -5614.452499665611,
          -5419.320513811792,
          -1768.0443533013301,
          -4801.402296291376,
          -418.32198180572914,
          -418.32198180572914,
          -5494.57621937005,
          -5379.724489490021,
          -5382.384074548807,
          -5419.320513811792,
          -5567.037760739956,
          -5180.981333123629,
          -5396.646083872449,
          -5592.061511079068,
          -418.32198180572914,
          -418.32198180572914,
          -5494.57621937005,
          -5035.966182644655,
          -418.32198180572914,
          -5502.212640231531,
          -5567.037760739956,
          -5592.061511079068,
          -5419.320513811792,
          -5180.981333123629,
          -418.32198180572914,
          -418.32198180572914,
          -5494.57621937005,
          -5567.037760739956,
          -5151.588666990156,
          -5468.074867640364,
          -4801.402296291376,
          -5592.061511079068,
          -4672.59340287817,
          -5163.566038544145,
          -418.32198180572914,
          -5419.320513811792,
          -5567.037760739956,
          -5232.06284681159,
          -5035.966182644655,
          -418.32198180572914,
          -5567.037760739956,
          -5035.966182644655,
          -5028.167397960123,
          -4245.271003942371,
          -418.32198180572914,
          -418.32198180572914,
          -418.32198180572914,
          -5614.452499665611,
          -5494.57621937005
         ]
        },
        {
         "mode": "lines",
         "name": "Best Value",
         "type": "scatter",
         "x": [
          0,
          1,
          2,
          3,
          4,
          5,
          6,
          7,
          8,
          9,
          10,
          11,
          12,
          13,
          14,
          15,
          16,
          17,
          18,
          19,
          20,
          21,
          22,
          23,
          24,
          25,
          26,
          27,
          28,
          29,
          30,
          31,
          32,
          33,
          34,
          35,
          36,
          37,
          38,
          39,
          40,
          41,
          42,
          43,
          44,
          45,
          46,
          47,
          48,
          49,
          50,
          51,
          52,
          53,
          54,
          55,
          56,
          57,
          58,
          59,
          60,
          61,
          62,
          63,
          64,
          65,
          66,
          67,
          68,
          69,
          70,
          71,
          72,
          73,
          74,
          75,
          76,
          77,
          78,
          79,
          80,
          81,
          82,
          83,
          84,
          85,
          86,
          87,
          88,
          89,
          90,
          91,
          92,
          93,
          94,
          95,
          96,
          97,
          98,
          99
         ],
         "y": [
          -5485.705747772452,
          -5132.089163104045,
          -3445.61359021564,
          -3445.61359021564,
          -3445.61359021564,
          -3445.61359021564,
          -3445.61359021564,
          -3445.61359021564,
          -3445.61359021564,
          -3445.61359021564,
          -3445.61359021564,
          -3445.61359021564,
          -3445.61359021564,
          -3445.61359021564,
          -3445.61359021564,
          -3445.61359021564,
          -652.0627883669285,
          -652.0627883669285,
          -652.0627883669285,
          -652.0627883669285,
          -652.0627883669285,
          -652.0627883669285,
          -652.0627883669285,
          -652.0627883669285,
          -652.0627883669285,
          -652.0627883669285,
          -652.0627883669285,
          -652.0627883669285,
          -652.0627883669285,
          -652.0627883669285,
          -652.0627883669285,
          -652.0627883669285,
          -652.0627883669285,
          -652.0627883669285,
          -652.0627883669285,
          -370.2910152410011,
          -370.2910152410011,
          -370.2910152410011,
          -370.2910152410011,
          -370.2910152410011,
          -370.2910152410011,
          -370.2910152410011,
          -370.2910152410011,
          -370.2910152410011,
          -370.2910152410011,
          -370.2910152410011,
          -370.2910152410011,
          -370.2910152410011,
          -370.2910152410011,
          -370.2910152410011,
          -370.2910152410011,
          -370.2910152410011,
          -370.2910152410011,
          -370.2910152410011,
          -370.2910152410011,
          -370.2910152410011,
          -370.2910152410011,
          -370.2910152410011,
          -370.2910152410011,
          -370.2910152410011,
          -370.2910152410011,
          -370.2910152410011,
          -370.2910152410011,
          -370.2910152410011,
          -370.2910152410011,
          -370.2910152410011,
          -370.2910152410011,
          -370.2910152410011,
          -370.2910152410011,
          -370.2910152410011,
          -370.2910152410011,
          -370.2910152410011,
          -370.2910152410011,
          -370.2910152410011,
          -370.2910152410011,
          -370.2910152410011,
          -370.2910152410011,
          -370.2910152410011,
          -370.2910152410011,
          -370.2910152410011,
          -370.2910152410011,
          -370.2910152410011,
          -370.2910152410011,
          -370.2910152410011,
          -370.2910152410011,
          -370.2910152410011,
          -370.2910152410011,
          -370.2910152410011,
          -370.2910152410011,
          -370.2910152410011,
          -370.2910152410011,
          -370.2910152410011,
          -370.2910152410011,
          -370.2910152410011,
          -370.2910152410011,
          -370.2910152410011,
          -370.2910152410011,
          -370.2910152410011,
          -370.2910152410011,
          -370.2910152410011
         ]
        },
        {
         "marker": {
          "color": "#cccccc"
         },
         "mode": "markers",
         "name": "Infeasible Trial",
         "showlegend": false,
         "type": "scatter",
         "x": [],
         "y": []
        }
       ],
       "layout": {
        "template": {
         "data": {
          "bar": [
           {
            "error_x": {
             "color": "#2a3f5f"
            },
            "error_y": {
             "color": "#2a3f5f"
            },
            "marker": {
             "line": {
              "color": "#E5ECF6",
              "width": 0.5
             },
             "pattern": {
              "fillmode": "overlay",
              "size": 10,
              "solidity": 0.2
             }
            },
            "type": "bar"
           }
          ],
          "barpolar": [
           {
            "marker": {
             "line": {
              "color": "#E5ECF6",
              "width": 0.5
             },
             "pattern": {
              "fillmode": "overlay",
              "size": 10,
              "solidity": 0.2
             }
            },
            "type": "barpolar"
           }
          ],
          "carpet": [
           {
            "aaxis": {
             "endlinecolor": "#2a3f5f",
             "gridcolor": "white",
             "linecolor": "white",
             "minorgridcolor": "white",
             "startlinecolor": "#2a3f5f"
            },
            "baxis": {
             "endlinecolor": "#2a3f5f",
             "gridcolor": "white",
             "linecolor": "white",
             "minorgridcolor": "white",
             "startlinecolor": "#2a3f5f"
            },
            "type": "carpet"
           }
          ],
          "choropleth": [
           {
            "colorbar": {
             "outlinewidth": 0,
             "ticks": ""
            },
            "type": "choropleth"
           }
          ],
          "contour": [
           {
            "colorbar": {
             "outlinewidth": 0,
             "ticks": ""
            },
            "colorscale": [
             [
              0,
              "#0d0887"
             ],
             [
              0.1111111111111111,
              "#46039f"
             ],
             [
              0.2222222222222222,
              "#7201a8"
             ],
             [
              0.3333333333333333,
              "#9c179e"
             ],
             [
              0.4444444444444444,
              "#bd3786"
             ],
             [
              0.5555555555555556,
              "#d8576b"
             ],
             [
              0.6666666666666666,
              "#ed7953"
             ],
             [
              0.7777777777777778,
              "#fb9f3a"
             ],
             [
              0.8888888888888888,
              "#fdca26"
             ],
             [
              1,
              "#f0f921"
             ]
            ],
            "type": "contour"
           }
          ],
          "contourcarpet": [
           {
            "colorbar": {
             "outlinewidth": 0,
             "ticks": ""
            },
            "type": "contourcarpet"
           }
          ],
          "heatmap": [
           {
            "colorbar": {
             "outlinewidth": 0,
             "ticks": ""
            },
            "colorscale": [
             [
              0,
              "#0d0887"
             ],
             [
              0.1111111111111111,
              "#46039f"
             ],
             [
              0.2222222222222222,
              "#7201a8"
             ],
             [
              0.3333333333333333,
              "#9c179e"
             ],
             [
              0.4444444444444444,
              "#bd3786"
             ],
             [
              0.5555555555555556,
              "#d8576b"
             ],
             [
              0.6666666666666666,
              "#ed7953"
             ],
             [
              0.7777777777777778,
              "#fb9f3a"
             ],
             [
              0.8888888888888888,
              "#fdca26"
             ],
             [
              1,
              "#f0f921"
             ]
            ],
            "type": "heatmap"
           }
          ],
          "histogram": [
           {
            "marker": {
             "pattern": {
              "fillmode": "overlay",
              "size": 10,
              "solidity": 0.2
             }
            },
            "type": "histogram"
           }
          ],
          "histogram2d": [
           {
            "colorbar": {
             "outlinewidth": 0,
             "ticks": ""
            },
            "colorscale": [
             [
              0,
              "#0d0887"
             ],
             [
              0.1111111111111111,
              "#46039f"
             ],
             [
              0.2222222222222222,
              "#7201a8"
             ],
             [
              0.3333333333333333,
              "#9c179e"
             ],
             [
              0.4444444444444444,
              "#bd3786"
             ],
             [
              0.5555555555555556,
              "#d8576b"
             ],
             [
              0.6666666666666666,
              "#ed7953"
             ],
             [
              0.7777777777777778,
              "#fb9f3a"
             ],
             [
              0.8888888888888888,
              "#fdca26"
             ],
             [
              1,
              "#f0f921"
             ]
            ],
            "type": "histogram2d"
           }
          ],
          "histogram2dcontour": [
           {
            "colorbar": {
             "outlinewidth": 0,
             "ticks": ""
            },
            "colorscale": [
             [
              0,
              "#0d0887"
             ],
             [
              0.1111111111111111,
              "#46039f"
             ],
             [
              0.2222222222222222,
              "#7201a8"
             ],
             [
              0.3333333333333333,
              "#9c179e"
             ],
             [
              0.4444444444444444,
              "#bd3786"
             ],
             [
              0.5555555555555556,
              "#d8576b"
             ],
             [
              0.6666666666666666,
              "#ed7953"
             ],
             [
              0.7777777777777778,
              "#fb9f3a"
             ],
             [
              0.8888888888888888,
              "#fdca26"
             ],
             [
              1,
              "#f0f921"
             ]
            ],
            "type": "histogram2dcontour"
           }
          ],
          "mesh3d": [
           {
            "colorbar": {
             "outlinewidth": 0,
             "ticks": ""
            },
            "type": "mesh3d"
           }
          ],
          "parcoords": [
           {
            "line": {
             "colorbar": {
              "outlinewidth": 0,
              "ticks": ""
             }
            },
            "type": "parcoords"
           }
          ],
          "pie": [
           {
            "automargin": true,
            "type": "pie"
           }
          ],
          "scatter": [
           {
            "fillpattern": {
             "fillmode": "overlay",
             "size": 10,
             "solidity": 0.2
            },
            "type": "scatter"
           }
          ],
          "scatter3d": [
           {
            "line": {
             "colorbar": {
              "outlinewidth": 0,
              "ticks": ""
             }
            },
            "marker": {
             "colorbar": {
              "outlinewidth": 0,
              "ticks": ""
             }
            },
            "type": "scatter3d"
           }
          ],
          "scattercarpet": [
           {
            "marker": {
             "colorbar": {
              "outlinewidth": 0,
              "ticks": ""
             }
            },
            "type": "scattercarpet"
           }
          ],
          "scattergeo": [
           {
            "marker": {
             "colorbar": {
              "outlinewidth": 0,
              "ticks": ""
             }
            },
            "type": "scattergeo"
           }
          ],
          "scattergl": [
           {
            "marker": {
             "colorbar": {
              "outlinewidth": 0,
              "ticks": ""
             }
            },
            "type": "scattergl"
           }
          ],
          "scattermap": [
           {
            "marker": {
             "colorbar": {
              "outlinewidth": 0,
              "ticks": ""
             }
            },
            "type": "scattermap"
           }
          ],
          "scattermapbox": [
           {
            "marker": {
             "colorbar": {
              "outlinewidth": 0,
              "ticks": ""
             }
            },
            "type": "scattermapbox"
           }
          ],
          "scatterpolar": [
           {
            "marker": {
             "colorbar": {
              "outlinewidth": 0,
              "ticks": ""
             }
            },
            "type": "scatterpolar"
           }
          ],
          "scatterpolargl": [
           {
            "marker": {
             "colorbar": {
              "outlinewidth": 0,
              "ticks": ""
             }
            },
            "type": "scatterpolargl"
           }
          ],
          "scatterternary": [
           {
            "marker": {
             "colorbar": {
              "outlinewidth": 0,
              "ticks": ""
             }
            },
            "type": "scatterternary"
           }
          ],
          "surface": [
           {
            "colorbar": {
             "outlinewidth": 0,
             "ticks": ""
            },
            "colorscale": [
             [
              0,
              "#0d0887"
             ],
             [
              0.1111111111111111,
              "#46039f"
             ],
             [
              0.2222222222222222,
              "#7201a8"
             ],
             [
              0.3333333333333333,
              "#9c179e"
             ],
             [
              0.4444444444444444,
              "#bd3786"
             ],
             [
              0.5555555555555556,
              "#d8576b"
             ],
             [
              0.6666666666666666,
              "#ed7953"
             ],
             [
              0.7777777777777778,
              "#fb9f3a"
             ],
             [
              0.8888888888888888,
              "#fdca26"
             ],
             [
              1,
              "#f0f921"
             ]
            ],
            "type": "surface"
           }
          ],
          "table": [
           {
            "cells": {
             "fill": {
              "color": "#EBF0F8"
             },
             "line": {
              "color": "white"
             }
            },
            "header": {
             "fill": {
              "color": "#C8D4E3"
             },
             "line": {
              "color": "white"
             }
            },
            "type": "table"
           }
          ]
         },
         "layout": {
          "annotationdefaults": {
           "arrowcolor": "#2a3f5f",
           "arrowhead": 0,
           "arrowwidth": 1
          },
          "autotypenumbers": "strict",
          "coloraxis": {
           "colorbar": {
            "outlinewidth": 0,
            "ticks": ""
           }
          },
          "colorscale": {
           "diverging": [
            [
             0,
             "#8e0152"
            ],
            [
             0.1,
             "#c51b7d"
            ],
            [
             0.2,
             "#de77ae"
            ],
            [
             0.3,
             "#f1b6da"
            ],
            [
             0.4,
             "#fde0ef"
            ],
            [
             0.5,
             "#f7f7f7"
            ],
            [
             0.6,
             "#e6f5d0"
            ],
            [
             0.7,
             "#b8e186"
            ],
            [
             0.8,
             "#7fbc41"
            ],
            [
             0.9,
             "#4d9221"
            ],
            [
             1,
             "#276419"
            ]
           ],
           "sequential": [
            [
             0,
             "#0d0887"
            ],
            [
             0.1111111111111111,
             "#46039f"
            ],
            [
             0.2222222222222222,
             "#7201a8"
            ],
            [
             0.3333333333333333,
             "#9c179e"
            ],
            [
             0.4444444444444444,
             "#bd3786"
            ],
            [
             0.5555555555555556,
             "#d8576b"
            ],
            [
             0.6666666666666666,
             "#ed7953"
            ],
            [
             0.7777777777777778,
             "#fb9f3a"
            ],
            [
             0.8888888888888888,
             "#fdca26"
            ],
            [
             1,
             "#f0f921"
            ]
           ],
           "sequentialminus": [
            [
             0,
             "#0d0887"
            ],
            [
             0.1111111111111111,
             "#46039f"
            ],
            [
             0.2222222222222222,
             "#7201a8"
            ],
            [
             0.3333333333333333,
             "#9c179e"
            ],
            [
             0.4444444444444444,
             "#bd3786"
            ],
            [
             0.5555555555555556,
             "#d8576b"
            ],
            [
             0.6666666666666666,
             "#ed7953"
            ],
            [
             0.7777777777777778,
             "#fb9f3a"
            ],
            [
             0.8888888888888888,
             "#fdca26"
            ],
            [
             1,
             "#f0f921"
            ]
           ]
          },
          "colorway": [
           "#636efa",
           "#EF553B",
           "#00cc96",
           "#ab63fa",
           "#FFA15A",
           "#19d3f3",
           "#FF6692",
           "#B6E880",
           "#FF97FF",
           "#FECB52"
          ],
          "font": {
           "color": "#2a3f5f"
          },
          "geo": {
           "bgcolor": "white",
           "lakecolor": "white",
           "landcolor": "#E5ECF6",
           "showlakes": true,
           "showland": true,
           "subunitcolor": "white"
          },
          "hoverlabel": {
           "align": "left"
          },
          "hovermode": "closest",
          "mapbox": {
           "style": "light"
          },
          "paper_bgcolor": "white",
          "plot_bgcolor": "#E5ECF6",
          "polar": {
           "angularaxis": {
            "gridcolor": "white",
            "linecolor": "white",
            "ticks": ""
           },
           "bgcolor": "#E5ECF6",
           "radialaxis": {
            "gridcolor": "white",
            "linecolor": "white",
            "ticks": ""
           }
          },
          "scene": {
           "xaxis": {
            "backgroundcolor": "#E5ECF6",
            "gridcolor": "white",
            "gridwidth": 2,
            "linecolor": "white",
            "showbackground": true,
            "ticks": "",
            "zerolinecolor": "white"
           },
           "yaxis": {
            "backgroundcolor": "#E5ECF6",
            "gridcolor": "white",
            "gridwidth": 2,
            "linecolor": "white",
            "showbackground": true,
            "ticks": "",
            "zerolinecolor": "white"
           },
           "zaxis": {
            "backgroundcolor": "#E5ECF6",
            "gridcolor": "white",
            "gridwidth": 2,
            "linecolor": "white",
            "showbackground": true,
            "ticks": "",
            "zerolinecolor": "white"
           }
          },
          "shapedefaults": {
           "line": {
            "color": "#2a3f5f"
           }
          },
          "ternary": {
           "aaxis": {
            "gridcolor": "white",
            "linecolor": "white",
            "ticks": ""
           },
           "baxis": {
            "gridcolor": "white",
            "linecolor": "white",
            "ticks": ""
           },
           "bgcolor": "#E5ECF6",
           "caxis": {
            "gridcolor": "white",
            "linecolor": "white",
            "ticks": ""
           }
          },
          "title": {
           "x": 0.05
          },
          "xaxis": {
           "automargin": true,
           "gridcolor": "white",
           "linecolor": "white",
           "ticks": "",
           "title": {
            "standoff": 15
           },
           "zerolinecolor": "white",
           "zerolinewidth": 2
          },
          "yaxis": {
           "automargin": true,
           "gridcolor": "white",
           "linecolor": "white",
           "ticks": "",
           "title": {
            "standoff": 15
           },
           "zerolinecolor": "white",
           "zerolinewidth": 2
          }
         }
        },
        "title": {
         "text": "Optimization History Plot"
        },
        "xaxis": {
         "title": {
          "text": "Trial"
         }
        },
        "yaxis": {
         "title": {
          "text": "Objective Value"
         }
        }
       }
      }
     },
     "metadata": {},
     "output_type": "display_data"
    }
   ],
   "source": [
    "import matplotlib.pyplot as plt\n",
    "optuna.visualization.plot_optimization_history(study)"
   ]
  },
  {
   "cell_type": "code",
   "execution_count": 284,
   "metadata": {},
   "outputs": [
    {
     "data": {
      "application/vnd.plotly.v1+json": {
       "config": {
        "plotlyServerURL": "https://plot.ly"
       },
       "data": [
        {
         "dimensions": [
          {
           "label": "Objective Value",
           "range": [
            -5658.788210069212,
            -370.2910152410011
           ],
           "values": [
            -5485.705747772452,
            -5132.089163104045,
            -3445.61359021564,
            -5010.904473717573,
            -5179.363643246047,
            -5592.061511079068,
            -5035.966182644655,
            -5247.257168916368,
            -4801.402296291376,
            -5035.966182644655,
            -5087.663709961903,
            -5181.669038909132,
            -4867.584517753958,
            -4919.732249998477,
            -5222.585828176116,
            -5006.715551242884,
            -652.0627883669285,
            -4760.418658326755,
            -5130.045111236045,
            -5033.203994437338,
            -5020.349064514824,
            -4826.616826639077,
            -5074.255624380329,
            -4898.95310530237,
            -5067.468498912782,
            -4898.95310530237,
            -5109.460319548593,
            -5306.569050288887,
            -5222.217973166903,
            -652.0627883669285,
            -5233.879937326496,
            -4796.870769927074,
            -4906.820184459221,
            -4760.418658326755,
            -5130.045111236045,
            -370.2910152410011,
            -4672.59340287817,
            -5658.788210069212,
            -5021.576485532743,
            -4399.296663312963,
            -418.32198180572914,
            -5614.452499665611,
            -418.32198180572914,
            -418.32198180572914,
            -418.32198180572914,
            -418.32198180572914,
            -5468.074867640364,
            -5614.452499665611,
            -5419.320513811792,
            -1768.0443533013301,
            -4801.402296291376,
            -418.32198180572914,
            -418.32198180572914,
            -5494.57621937005,
            -5379.724489490021,
            -5382.384074548807,
            -5419.320513811792,
            -5567.037760739956,
            -5180.981333123629,
            -5396.646083872449,
            -5592.061511079068,
            -418.32198180572914,
            -418.32198180572914,
            -5494.57621937005,
            -5035.966182644655,
            -418.32198180572914,
            -5502.212640231531,
            -5567.037760739956,
            -5592.061511079068,
            -5419.320513811792,
            -5180.981333123629,
            -418.32198180572914,
            -418.32198180572914,
            -5494.57621937005,
            -5567.037760739956,
            -5151.588666990156,
            -5468.074867640364,
            -4801.402296291376,
            -5592.061511079068,
            -4672.59340287817,
            -5163.566038544145,
            -418.32198180572914,
            -5419.320513811792,
            -5567.037760739956,
            -5232.06284681159,
            -5035.966182644655,
            -418.32198180572914,
            -5567.037760739956,
            -5035.966182644655,
            -5028.167397960123,
            -4245.271003942371,
            -418.32198180572914,
            -418.32198180572914,
            -418.32198180572914,
            -5614.452499665611,
            -5494.57621937005
           ]
          },
          {
           "label": "D",
           "range": [
            1,
            1
           ],
           "values": [
            1,
            1,
            1,
            1,
            1,
            1,
            1,
            1,
            1,
            1,
            1,
            1,
            1,
            1,
            1,
            1,
            1,
            1,
            1,
            1,
            1,
            1,
            1,
            1,
            1,
            1,
            1,
            1,
            1,
            1,
            1,
            1,
            1,
            1,
            1,
            1,
            1,
            1,
            1,
            1,
            1,
            1,
            1,
            1,
            1,
            1,
            1,
            1,
            1,
            1,
            1,
            1,
            1,
            1,
            1,
            1,
            1,
            1,
            1,
            1,
            1,
            1,
            1,
            1,
            1,
            1,
            1,
            1,
            1,
            1,
            1,
            1,
            1,
            1,
            1,
            1,
            1,
            1,
            1,
            1,
            1,
            1,
            1,
            1,
            1,
            1,
            1,
            1,
            1,
            1,
            1,
            1,
            1,
            1,
            1,
            1
           ]
          },
          {
           "label": "P",
           "range": [
            1,
            1
           ],
           "values": [
            1,
            1,
            1,
            1,
            1,
            1,
            1,
            1,
            1,
            1,
            1,
            1,
            1,
            1,
            1,
            1,
            1,
            1,
            1,
            1,
            1,
            1,
            1,
            1,
            1,
            1,
            1,
            1,
            1,
            1,
            1,
            1,
            1,
            1,
            1,
            1,
            1,
            1,
            1,
            1,
            1,
            1,
            1,
            1,
            1,
            1,
            1,
            1,
            1,
            1,
            1,
            1,
            1,
            1,
            1,
            1,
            1,
            1,
            1,
            1,
            1,
            1,
            1,
            1,
            1,
            1,
            1,
            1,
            1,
            1,
            1,
            1,
            1,
            1,
            1,
            1,
            1,
            1,
            1,
            1,
            1,
            1,
            1,
            1,
            1,
            1,
            1,
            1,
            1,
            1,
            1,
            1,
            1,
            1,
            1,
            1
           ]
          },
          {
           "label": "Q",
           "range": [
            1,
            1
           ],
           "values": [
            1,
            1,
            1,
            1,
            1,
            1,
            1,
            1,
            1,
            1,
            1,
            1,
            1,
            1,
            1,
            1,
            1,
            1,
            1,
            1,
            1,
            1,
            1,
            1,
            1,
            1,
            1,
            1,
            1,
            1,
            1,
            1,
            1,
            1,
            1,
            1,
            1,
            1,
            1,
            1,
            1,
            1,
            1,
            1,
            1,
            1,
            1,
            1,
            1,
            1,
            1,
            1,
            1,
            1,
            1,
            1,
            1,
            1,
            1,
            1,
            1,
            1,
            1,
            1,
            1,
            1,
            1,
            1,
            1,
            1,
            1,
            1,
            1,
            1,
            1,
            1,
            1,
            1,
            1,
            1,
            1,
            1,
            1,
            1,
            1,
            1,
            1,
            1,
            1,
            1,
            1,
            1,
            1,
            1,
            1,
            1
           ]
          },
          {
           "label": "d",
           "range": [
            1,
            1
           ],
           "values": [
            1,
            1,
            1,
            1,
            1,
            1,
            1,
            1,
            1,
            1,
            1,
            1,
            1,
            1,
            1,
            1,
            1,
            1,
            1,
            1,
            1,
            1,
            1,
            1,
            1,
            1,
            1,
            1,
            1,
            1,
            1,
            1,
            1,
            1,
            1,
            1,
            1,
            1,
            1,
            1,
            1,
            1,
            1,
            1,
            1,
            1,
            1,
            1,
            1,
            1,
            1,
            1,
            1,
            1,
            1,
            1,
            1,
            1,
            1,
            1,
            1,
            1,
            1,
            1,
            1,
            1,
            1,
            1,
            1,
            1,
            1,
            1,
            1,
            1,
            1,
            1,
            1,
            1,
            1,
            1,
            1,
            1,
            1,
            1,
            1,
            1,
            1,
            1,
            1,
            1,
            1,
            1,
            1,
            1,
            1,
            1
           ]
          },
          {
           "label": "p",
           "range": [
            0,
            11
           ],
           "values": [
            1,
            9,
            11,
            1,
            7,
            2,
            4,
            7,
            1,
            4,
            11,
            11,
            4,
            0,
            9,
            6,
            9,
            9,
            10,
            8,
            11,
            9,
            10,
            8,
            10,
            8,
            6,
            10,
            7,
            9,
            11,
            9,
            8,
            9,
            10,
            5,
            5,
            3,
            5,
            6,
            3,
            2,
            3,
            3,
            3,
            3,
            3,
            2,
            4,
            2,
            1,
            3,
            3,
            4,
            0,
            5,
            4,
            3,
            2,
            1,
            2,
            3,
            3,
            4,
            4,
            3,
            5,
            3,
            2,
            4,
            2,
            3,
            3,
            4,
            3,
            1,
            3,
            1,
            2,
            5,
            6,
            3,
            4,
            3,
            2,
            4,
            3,
            3,
            4,
            2,
            7,
            3,
            3,
            3,
            2,
            4
           ]
          },
          {
           "label": "q",
           "range": [
            0,
            11
           ],
           "values": [
            7,
            2,
            5,
            8,
            2,
            5,
            4,
            11,
            4,
            4,
            9,
            0,
            6,
            3,
            1,
            5,
            7,
            10,
            7,
            7,
            8,
            11,
            10,
            9,
            6,
            9,
            10,
            8,
            6,
            7,
            7,
            5,
            8,
            10,
            7,
            6,
            3,
            6,
            5,
            4,
            3,
            2,
            3,
            3,
            3,
            3,
            1,
            2,
            3,
            1,
            4,
            3,
            3,
            2,
            4,
            0,
            3,
            2,
            4,
            1,
            5,
            3,
            3,
            2,
            4,
            3,
            4,
            2,
            5,
            3,
            4,
            3,
            3,
            2,
            2,
            3,
            1,
            4,
            5,
            3,
            1,
            3,
            3,
            2,
            6,
            4,
            3,
            2,
            4,
            3,
            4,
            3,
            3,
            3,
            2,
            2
           ]
          }
         ],
         "labelangle": 30,
         "labelside": "bottom",
         "line": {
          "color": [
           -5485.705747772452,
           -5132.089163104045,
           -3445.61359021564,
           -5010.904473717573,
           -5179.363643246047,
           -5592.061511079068,
           -5035.966182644655,
           -5247.257168916368,
           -4801.402296291376,
           -5035.966182644655,
           -5087.663709961903,
           -5181.669038909132,
           -4867.584517753958,
           -4919.732249998477,
           -5222.585828176116,
           -5006.715551242884,
           -652.0627883669285,
           -4760.418658326755,
           -5130.045111236045,
           -5033.203994437338,
           -5020.349064514824,
           -4826.616826639077,
           -5074.255624380329,
           -4898.95310530237,
           -5067.468498912782,
           -4898.95310530237,
           -5109.460319548593,
           -5306.569050288887,
           -5222.217973166903,
           -652.0627883669285,
           -5233.879937326496,
           -4796.870769927074,
           -4906.820184459221,
           -4760.418658326755,
           -5130.045111236045,
           -370.2910152410011,
           -4672.59340287817,
           -5658.788210069212,
           -5021.576485532743,
           -4399.296663312963,
           -418.32198180572914,
           -5614.452499665611,
           -418.32198180572914,
           -418.32198180572914,
           -418.32198180572914,
           -418.32198180572914,
           -5468.074867640364,
           -5614.452499665611,
           -5419.320513811792,
           -1768.0443533013301,
           -4801.402296291376,
           -418.32198180572914,
           -418.32198180572914,
           -5494.57621937005,
           -5379.724489490021,
           -5382.384074548807,
           -5419.320513811792,
           -5567.037760739956,
           -5180.981333123629,
           -5396.646083872449,
           -5592.061511079068,
           -418.32198180572914,
           -418.32198180572914,
           -5494.57621937005,
           -5035.966182644655,
           -418.32198180572914,
           -5502.212640231531,
           -5567.037760739956,
           -5592.061511079068,
           -5419.320513811792,
           -5180.981333123629,
           -418.32198180572914,
           -418.32198180572914,
           -5494.57621937005,
           -5567.037760739956,
           -5151.588666990156,
           -5468.074867640364,
           -4801.402296291376,
           -5592.061511079068,
           -4672.59340287817,
           -5163.566038544145,
           -418.32198180572914,
           -5419.320513811792,
           -5567.037760739956,
           -5232.06284681159,
           -5035.966182644655,
           -418.32198180572914,
           -5567.037760739956,
           -5035.966182644655,
           -5028.167397960123,
           -4245.271003942371,
           -418.32198180572914,
           -418.32198180572914,
           -418.32198180572914,
           -5614.452499665611,
           -5494.57621937005
          ],
          "colorbar": {
           "title": {
            "text": "Objective Value"
           }
          },
          "colorscale": [
           [
            0,
            "rgb(247,251,255)"
           ],
           [
            0.125,
            "rgb(222,235,247)"
           ],
           [
            0.25,
            "rgb(198,219,239)"
           ],
           [
            0.375,
            "rgb(158,202,225)"
           ],
           [
            0.5,
            "rgb(107,174,214)"
           ],
           [
            0.625,
            "rgb(66,146,198)"
           ],
           [
            0.75,
            "rgb(33,113,181)"
           ],
           [
            0.875,
            "rgb(8,81,156)"
           ],
           [
            1,
            "rgb(8,48,107)"
           ]
          ],
          "reversescale": false,
          "showscale": true
         },
         "type": "parcoords"
        }
       ],
       "layout": {
        "template": {
         "data": {
          "bar": [
           {
            "error_x": {
             "color": "#2a3f5f"
            },
            "error_y": {
             "color": "#2a3f5f"
            },
            "marker": {
             "line": {
              "color": "#E5ECF6",
              "width": 0.5
             },
             "pattern": {
              "fillmode": "overlay",
              "size": 10,
              "solidity": 0.2
             }
            },
            "type": "bar"
           }
          ],
          "barpolar": [
           {
            "marker": {
             "line": {
              "color": "#E5ECF6",
              "width": 0.5
             },
             "pattern": {
              "fillmode": "overlay",
              "size": 10,
              "solidity": 0.2
             }
            },
            "type": "barpolar"
           }
          ],
          "carpet": [
           {
            "aaxis": {
             "endlinecolor": "#2a3f5f",
             "gridcolor": "white",
             "linecolor": "white",
             "minorgridcolor": "white",
             "startlinecolor": "#2a3f5f"
            },
            "baxis": {
             "endlinecolor": "#2a3f5f",
             "gridcolor": "white",
             "linecolor": "white",
             "minorgridcolor": "white",
             "startlinecolor": "#2a3f5f"
            },
            "type": "carpet"
           }
          ],
          "choropleth": [
           {
            "colorbar": {
             "outlinewidth": 0,
             "ticks": ""
            },
            "type": "choropleth"
           }
          ],
          "contour": [
           {
            "colorbar": {
             "outlinewidth": 0,
             "ticks": ""
            },
            "colorscale": [
             [
              0,
              "#0d0887"
             ],
             [
              0.1111111111111111,
              "#46039f"
             ],
             [
              0.2222222222222222,
              "#7201a8"
             ],
             [
              0.3333333333333333,
              "#9c179e"
             ],
             [
              0.4444444444444444,
              "#bd3786"
             ],
             [
              0.5555555555555556,
              "#d8576b"
             ],
             [
              0.6666666666666666,
              "#ed7953"
             ],
             [
              0.7777777777777778,
              "#fb9f3a"
             ],
             [
              0.8888888888888888,
              "#fdca26"
             ],
             [
              1,
              "#f0f921"
             ]
            ],
            "type": "contour"
           }
          ],
          "contourcarpet": [
           {
            "colorbar": {
             "outlinewidth": 0,
             "ticks": ""
            },
            "type": "contourcarpet"
           }
          ],
          "heatmap": [
           {
            "colorbar": {
             "outlinewidth": 0,
             "ticks": ""
            },
            "colorscale": [
             [
              0,
              "#0d0887"
             ],
             [
              0.1111111111111111,
              "#46039f"
             ],
             [
              0.2222222222222222,
              "#7201a8"
             ],
             [
              0.3333333333333333,
              "#9c179e"
             ],
             [
              0.4444444444444444,
              "#bd3786"
             ],
             [
              0.5555555555555556,
              "#d8576b"
             ],
             [
              0.6666666666666666,
              "#ed7953"
             ],
             [
              0.7777777777777778,
              "#fb9f3a"
             ],
             [
              0.8888888888888888,
              "#fdca26"
             ],
             [
              1,
              "#f0f921"
             ]
            ],
            "type": "heatmap"
           }
          ],
          "histogram": [
           {
            "marker": {
             "pattern": {
              "fillmode": "overlay",
              "size": 10,
              "solidity": 0.2
             }
            },
            "type": "histogram"
           }
          ],
          "histogram2d": [
           {
            "colorbar": {
             "outlinewidth": 0,
             "ticks": ""
            },
            "colorscale": [
             [
              0,
              "#0d0887"
             ],
             [
              0.1111111111111111,
              "#46039f"
             ],
             [
              0.2222222222222222,
              "#7201a8"
             ],
             [
              0.3333333333333333,
              "#9c179e"
             ],
             [
              0.4444444444444444,
              "#bd3786"
             ],
             [
              0.5555555555555556,
              "#d8576b"
             ],
             [
              0.6666666666666666,
              "#ed7953"
             ],
             [
              0.7777777777777778,
              "#fb9f3a"
             ],
             [
              0.8888888888888888,
              "#fdca26"
             ],
             [
              1,
              "#f0f921"
             ]
            ],
            "type": "histogram2d"
           }
          ],
          "histogram2dcontour": [
           {
            "colorbar": {
             "outlinewidth": 0,
             "ticks": ""
            },
            "colorscale": [
             [
              0,
              "#0d0887"
             ],
             [
              0.1111111111111111,
              "#46039f"
             ],
             [
              0.2222222222222222,
              "#7201a8"
             ],
             [
              0.3333333333333333,
              "#9c179e"
             ],
             [
              0.4444444444444444,
              "#bd3786"
             ],
             [
              0.5555555555555556,
              "#d8576b"
             ],
             [
              0.6666666666666666,
              "#ed7953"
             ],
             [
              0.7777777777777778,
              "#fb9f3a"
             ],
             [
              0.8888888888888888,
              "#fdca26"
             ],
             [
              1,
              "#f0f921"
             ]
            ],
            "type": "histogram2dcontour"
           }
          ],
          "mesh3d": [
           {
            "colorbar": {
             "outlinewidth": 0,
             "ticks": ""
            },
            "type": "mesh3d"
           }
          ],
          "parcoords": [
           {
            "line": {
             "colorbar": {
              "outlinewidth": 0,
              "ticks": ""
             }
            },
            "type": "parcoords"
           }
          ],
          "pie": [
           {
            "automargin": true,
            "type": "pie"
           }
          ],
          "scatter": [
           {
            "fillpattern": {
             "fillmode": "overlay",
             "size": 10,
             "solidity": 0.2
            },
            "type": "scatter"
           }
          ],
          "scatter3d": [
           {
            "line": {
             "colorbar": {
              "outlinewidth": 0,
              "ticks": ""
             }
            },
            "marker": {
             "colorbar": {
              "outlinewidth": 0,
              "ticks": ""
             }
            },
            "type": "scatter3d"
           }
          ],
          "scattercarpet": [
           {
            "marker": {
             "colorbar": {
              "outlinewidth": 0,
              "ticks": ""
             }
            },
            "type": "scattercarpet"
           }
          ],
          "scattergeo": [
           {
            "marker": {
             "colorbar": {
              "outlinewidth": 0,
              "ticks": ""
             }
            },
            "type": "scattergeo"
           }
          ],
          "scattergl": [
           {
            "marker": {
             "colorbar": {
              "outlinewidth": 0,
              "ticks": ""
             }
            },
            "type": "scattergl"
           }
          ],
          "scattermap": [
           {
            "marker": {
             "colorbar": {
              "outlinewidth": 0,
              "ticks": ""
             }
            },
            "type": "scattermap"
           }
          ],
          "scattermapbox": [
           {
            "marker": {
             "colorbar": {
              "outlinewidth": 0,
              "ticks": ""
             }
            },
            "type": "scattermapbox"
           }
          ],
          "scatterpolar": [
           {
            "marker": {
             "colorbar": {
              "outlinewidth": 0,
              "ticks": ""
             }
            },
            "type": "scatterpolar"
           }
          ],
          "scatterpolargl": [
           {
            "marker": {
             "colorbar": {
              "outlinewidth": 0,
              "ticks": ""
             }
            },
            "type": "scatterpolargl"
           }
          ],
          "scatterternary": [
           {
            "marker": {
             "colorbar": {
              "outlinewidth": 0,
              "ticks": ""
             }
            },
            "type": "scatterternary"
           }
          ],
          "surface": [
           {
            "colorbar": {
             "outlinewidth": 0,
             "ticks": ""
            },
            "colorscale": [
             [
              0,
              "#0d0887"
             ],
             [
              0.1111111111111111,
              "#46039f"
             ],
             [
              0.2222222222222222,
              "#7201a8"
             ],
             [
              0.3333333333333333,
              "#9c179e"
             ],
             [
              0.4444444444444444,
              "#bd3786"
             ],
             [
              0.5555555555555556,
              "#d8576b"
             ],
             [
              0.6666666666666666,
              "#ed7953"
             ],
             [
              0.7777777777777778,
              "#fb9f3a"
             ],
             [
              0.8888888888888888,
              "#fdca26"
             ],
             [
              1,
              "#f0f921"
             ]
            ],
            "type": "surface"
           }
          ],
          "table": [
           {
            "cells": {
             "fill": {
              "color": "#EBF0F8"
             },
             "line": {
              "color": "white"
             }
            },
            "header": {
             "fill": {
              "color": "#C8D4E3"
             },
             "line": {
              "color": "white"
             }
            },
            "type": "table"
           }
          ]
         },
         "layout": {
          "annotationdefaults": {
           "arrowcolor": "#2a3f5f",
           "arrowhead": 0,
           "arrowwidth": 1
          },
          "autotypenumbers": "strict",
          "coloraxis": {
           "colorbar": {
            "outlinewidth": 0,
            "ticks": ""
           }
          },
          "colorscale": {
           "diverging": [
            [
             0,
             "#8e0152"
            ],
            [
             0.1,
             "#c51b7d"
            ],
            [
             0.2,
             "#de77ae"
            ],
            [
             0.3,
             "#f1b6da"
            ],
            [
             0.4,
             "#fde0ef"
            ],
            [
             0.5,
             "#f7f7f7"
            ],
            [
             0.6,
             "#e6f5d0"
            ],
            [
             0.7,
             "#b8e186"
            ],
            [
             0.8,
             "#7fbc41"
            ],
            [
             0.9,
             "#4d9221"
            ],
            [
             1,
             "#276419"
            ]
           ],
           "sequential": [
            [
             0,
             "#0d0887"
            ],
            [
             0.1111111111111111,
             "#46039f"
            ],
            [
             0.2222222222222222,
             "#7201a8"
            ],
            [
             0.3333333333333333,
             "#9c179e"
            ],
            [
             0.4444444444444444,
             "#bd3786"
            ],
            [
             0.5555555555555556,
             "#d8576b"
            ],
            [
             0.6666666666666666,
             "#ed7953"
            ],
            [
             0.7777777777777778,
             "#fb9f3a"
            ],
            [
             0.8888888888888888,
             "#fdca26"
            ],
            [
             1,
             "#f0f921"
            ]
           ],
           "sequentialminus": [
            [
             0,
             "#0d0887"
            ],
            [
             0.1111111111111111,
             "#46039f"
            ],
            [
             0.2222222222222222,
             "#7201a8"
            ],
            [
             0.3333333333333333,
             "#9c179e"
            ],
            [
             0.4444444444444444,
             "#bd3786"
            ],
            [
             0.5555555555555556,
             "#d8576b"
            ],
            [
             0.6666666666666666,
             "#ed7953"
            ],
            [
             0.7777777777777778,
             "#fb9f3a"
            ],
            [
             0.8888888888888888,
             "#fdca26"
            ],
            [
             1,
             "#f0f921"
            ]
           ]
          },
          "colorway": [
           "#636efa",
           "#EF553B",
           "#00cc96",
           "#ab63fa",
           "#FFA15A",
           "#19d3f3",
           "#FF6692",
           "#B6E880",
           "#FF97FF",
           "#FECB52"
          ],
          "font": {
           "color": "#2a3f5f"
          },
          "geo": {
           "bgcolor": "white",
           "lakecolor": "white",
           "landcolor": "#E5ECF6",
           "showlakes": true,
           "showland": true,
           "subunitcolor": "white"
          },
          "hoverlabel": {
           "align": "left"
          },
          "hovermode": "closest",
          "mapbox": {
           "style": "light"
          },
          "paper_bgcolor": "white",
          "plot_bgcolor": "#E5ECF6",
          "polar": {
           "angularaxis": {
            "gridcolor": "white",
            "linecolor": "white",
            "ticks": ""
           },
           "bgcolor": "#E5ECF6",
           "radialaxis": {
            "gridcolor": "white",
            "linecolor": "white",
            "ticks": ""
           }
          },
          "scene": {
           "xaxis": {
            "backgroundcolor": "#E5ECF6",
            "gridcolor": "white",
            "gridwidth": 2,
            "linecolor": "white",
            "showbackground": true,
            "ticks": "",
            "zerolinecolor": "white"
           },
           "yaxis": {
            "backgroundcolor": "#E5ECF6",
            "gridcolor": "white",
            "gridwidth": 2,
            "linecolor": "white",
            "showbackground": true,
            "ticks": "",
            "zerolinecolor": "white"
           },
           "zaxis": {
            "backgroundcolor": "#E5ECF6",
            "gridcolor": "white",
            "gridwidth": 2,
            "linecolor": "white",
            "showbackground": true,
            "ticks": "",
            "zerolinecolor": "white"
           }
          },
          "shapedefaults": {
           "line": {
            "color": "#2a3f5f"
           }
          },
          "ternary": {
           "aaxis": {
            "gridcolor": "white",
            "linecolor": "white",
            "ticks": ""
           },
           "baxis": {
            "gridcolor": "white",
            "linecolor": "white",
            "ticks": ""
           },
           "bgcolor": "#E5ECF6",
           "caxis": {
            "gridcolor": "white",
            "linecolor": "white",
            "ticks": ""
           }
          },
          "title": {
           "x": 0.05
          },
          "xaxis": {
           "automargin": true,
           "gridcolor": "white",
           "linecolor": "white",
           "ticks": "",
           "title": {
            "standoff": 15
           },
           "zerolinecolor": "white",
           "zerolinewidth": 2
          },
          "yaxis": {
           "automargin": true,
           "gridcolor": "white",
           "linecolor": "white",
           "ticks": "",
           "title": {
            "standoff": 15
           },
           "zerolinecolor": "white",
           "zerolinewidth": 2
          }
         }
        },
        "title": {
         "text": "Parallel Coordinate Plot"
        }
       }
      }
     },
     "metadata": {},
     "output_type": "display_data"
    }
   ],
   "source": [
    "optuna.visualization.plot_parallel_coordinate(study)\n"
   ]
  },
  {
   "cell_type": "code",
   "execution_count": 285,
   "metadata": {},
   "outputs": [
    {
     "data": {
      "application/vnd.plotly.v1+json": {
       "config": {
        "plotlyServerURL": "https://plot.ly"
       },
       "data": [
        {
         "marker": {
          "color": [
           0,
           1,
           2,
           3,
           4,
           5,
           6,
           7,
           8,
           9,
           10,
           11,
           12,
           13,
           14,
           15,
           16,
           17,
           18,
           19,
           20,
           21,
           22,
           23,
           24,
           25,
           26,
           27,
           28,
           29,
           30,
           31,
           32,
           33,
           34,
           35,
           36,
           37,
           38,
           41,
           43,
           44,
           45,
           46,
           47,
           48,
           49,
           50,
           51,
           52,
           53,
           54,
           55,
           56,
           57,
           58,
           59,
           60,
           61,
           62,
           63,
           64,
           65,
           66,
           67,
           68,
           69,
           70,
           71,
           72,
           73,
           74,
           75,
           76,
           77,
           78,
           79,
           80,
           81,
           82,
           83,
           84,
           85,
           86,
           87,
           88,
           89,
           90,
           91,
           93,
           94,
           95,
           96,
           97,
           98,
           99
          ],
          "colorbar": {
           "title": {
            "text": "Trial"
           },
           "x": 1,
           "xpad": 40
          },
          "colorscale": [
           [
            0,
            "rgb(247,251,255)"
           ],
           [
            0.125,
            "rgb(222,235,247)"
           ],
           [
            0.25,
            "rgb(198,219,239)"
           ],
           [
            0.375,
            "rgb(158,202,225)"
           ],
           [
            0.5,
            "rgb(107,174,214)"
           ],
           [
            0.625,
            "rgb(66,146,198)"
           ],
           [
            0.75,
            "rgb(33,113,181)"
           ],
           [
            0.875,
            "rgb(8,81,156)"
           ],
           [
            1,
            "rgb(8,48,107)"
           ]
          ],
          "line": {
           "color": "Grey",
           "width": 0.5
          },
          "showscale": true
         },
         "mode": "markers",
         "name": "Feasible Trial",
         "showlegend": false,
         "type": "scatter",
         "x": [
          1,
          1,
          1,
          1,
          1,
          1,
          1,
          1,
          1,
          1,
          1,
          1,
          1,
          1,
          1,
          1,
          1,
          1,
          1,
          1,
          1,
          1,
          1,
          1,
          1,
          1,
          1,
          1,
          1,
          1,
          1,
          1,
          1,
          1,
          1,
          1,
          1,
          1,
          1,
          1,
          1,
          1,
          1,
          1,
          1,
          1,
          1,
          1,
          1,
          1,
          1,
          1,
          1,
          1,
          1,
          1,
          1,
          1,
          1,
          1,
          1,
          1,
          1,
          1,
          1,
          1,
          1,
          1,
          1,
          1,
          1,
          1,
          1,
          1,
          1,
          1,
          1,
          1,
          1,
          1,
          1,
          1,
          1,
          1,
          1,
          1,
          1,
          1,
          1,
          1,
          1,
          1,
          1,
          1,
          1,
          1
         ],
         "xaxis": "x",
         "y": [
          -5485.705747772452,
          -5132.089163104045,
          -3445.61359021564,
          -5010.904473717573,
          -5179.363643246047,
          -5592.061511079068,
          -5035.966182644655,
          -5247.257168916368,
          -4801.402296291376,
          -5035.966182644655,
          -5087.663709961903,
          -5181.669038909132,
          -4867.584517753958,
          -4919.732249998477,
          -5222.585828176116,
          -5006.715551242884,
          -652.0627883669285,
          -4760.418658326755,
          -5130.045111236045,
          -5033.203994437338,
          -5020.349064514824,
          -4826.616826639077,
          -5074.255624380329,
          -4898.95310530237,
          -5067.468498912782,
          -4898.95310530237,
          -5109.460319548593,
          -5306.569050288887,
          -5222.217973166903,
          -652.0627883669285,
          -5233.879937326496,
          -4796.870769927074,
          -4906.820184459221,
          -4760.418658326755,
          -5130.045111236045,
          -370.2910152410011,
          -4672.59340287817,
          -5658.788210069212,
          -5021.576485532743,
          -4399.296663312963,
          -418.32198180572914,
          -5614.452499665611,
          -418.32198180572914,
          -418.32198180572914,
          -418.32198180572914,
          -418.32198180572914,
          -5468.074867640364,
          -5614.452499665611,
          -5419.320513811792,
          -1768.0443533013301,
          -4801.402296291376,
          -418.32198180572914,
          -418.32198180572914,
          -5494.57621937005,
          -5379.724489490021,
          -5382.384074548807,
          -5419.320513811792,
          -5567.037760739956,
          -5180.981333123629,
          -5396.646083872449,
          -5592.061511079068,
          -418.32198180572914,
          -418.32198180572914,
          -5494.57621937005,
          -5035.966182644655,
          -418.32198180572914,
          -5502.212640231531,
          -5567.037760739956,
          -5592.061511079068,
          -5419.320513811792,
          -5180.981333123629,
          -418.32198180572914,
          -418.32198180572914,
          -5494.57621937005,
          -5567.037760739956,
          -5151.588666990156,
          -5468.074867640364,
          -4801.402296291376,
          -5592.061511079068,
          -4672.59340287817,
          -5163.566038544145,
          -418.32198180572914,
          -5419.320513811792,
          -5567.037760739956,
          -5232.06284681159,
          -5035.966182644655,
          -418.32198180572914,
          -5567.037760739956,
          -5035.966182644655,
          -5028.167397960123,
          -4245.271003942371,
          -418.32198180572914,
          -418.32198180572914,
          -418.32198180572914,
          -5614.452499665611,
          -5494.57621937005
         ],
         "yaxis": "y"
        },
        {
         "marker": {
          "color": [
           0,
           1,
           2,
           3,
           4,
           5,
           6,
           7,
           8,
           9,
           10,
           11,
           12,
           13,
           14,
           15,
           16,
           17,
           18,
           19,
           20,
           21,
           22,
           23,
           24,
           25,
           26,
           27,
           28,
           29,
           30,
           31,
           32,
           33,
           34,
           35,
           36,
           37,
           38,
           41,
           43,
           44,
           45,
           46,
           47,
           48,
           49,
           50,
           51,
           52,
           53,
           54,
           55,
           56,
           57,
           58,
           59,
           60,
           61,
           62,
           63,
           64,
           65,
           66,
           67,
           68,
           69,
           70,
           71,
           72,
           73,
           74,
           75,
           76,
           77,
           78,
           79,
           80,
           81,
           82,
           83,
           84,
           85,
           86,
           87,
           88,
           89,
           90,
           91,
           93,
           94,
           95,
           96,
           97,
           98,
           99
          ],
          "colorbar": {
           "title": {
            "text": "Trial"
           },
           "x": 1,
           "xpad": 40
          },
          "colorscale": [
           [
            0,
            "rgb(247,251,255)"
           ],
           [
            0.125,
            "rgb(222,235,247)"
           ],
           [
            0.25,
            "rgb(198,219,239)"
           ],
           [
            0.375,
            "rgb(158,202,225)"
           ],
           [
            0.5,
            "rgb(107,174,214)"
           ],
           [
            0.625,
            "rgb(66,146,198)"
           ],
           [
            0.75,
            "rgb(33,113,181)"
           ],
           [
            0.875,
            "rgb(8,81,156)"
           ],
           [
            1,
            "rgb(8,48,107)"
           ]
          ],
          "line": {
           "color": "Grey",
           "width": 0.5
          },
          "showscale": false
         },
         "mode": "markers",
         "name": "Feasible Trial",
         "showlegend": false,
         "type": "scatter",
         "x": [
          1,
          9,
          11,
          1,
          7,
          2,
          4,
          7,
          1,
          4,
          11,
          11,
          4,
          0,
          9,
          6,
          9,
          9,
          10,
          8,
          11,
          9,
          10,
          8,
          10,
          8,
          6,
          10,
          7,
          9,
          11,
          9,
          8,
          9,
          10,
          5,
          5,
          3,
          5,
          6,
          3,
          2,
          3,
          3,
          3,
          3,
          3,
          2,
          4,
          2,
          1,
          3,
          3,
          4,
          0,
          5,
          4,
          3,
          2,
          1,
          2,
          3,
          3,
          4,
          4,
          3,
          5,
          3,
          2,
          4,
          2,
          3,
          3,
          4,
          3,
          1,
          3,
          1,
          2,
          5,
          6,
          3,
          4,
          3,
          2,
          4,
          3,
          3,
          4,
          2,
          7,
          3,
          3,
          3,
          2,
          4
         ],
         "xaxis": "x2",
         "y": [
          -5485.705747772452,
          -5132.089163104045,
          -3445.61359021564,
          -5010.904473717573,
          -5179.363643246047,
          -5592.061511079068,
          -5035.966182644655,
          -5247.257168916368,
          -4801.402296291376,
          -5035.966182644655,
          -5087.663709961903,
          -5181.669038909132,
          -4867.584517753958,
          -4919.732249998477,
          -5222.585828176116,
          -5006.715551242884,
          -652.0627883669285,
          -4760.418658326755,
          -5130.045111236045,
          -5033.203994437338,
          -5020.349064514824,
          -4826.616826639077,
          -5074.255624380329,
          -4898.95310530237,
          -5067.468498912782,
          -4898.95310530237,
          -5109.460319548593,
          -5306.569050288887,
          -5222.217973166903,
          -652.0627883669285,
          -5233.879937326496,
          -4796.870769927074,
          -4906.820184459221,
          -4760.418658326755,
          -5130.045111236045,
          -370.2910152410011,
          -4672.59340287817,
          -5658.788210069212,
          -5021.576485532743,
          -4399.296663312963,
          -418.32198180572914,
          -5614.452499665611,
          -418.32198180572914,
          -418.32198180572914,
          -418.32198180572914,
          -418.32198180572914,
          -5468.074867640364,
          -5614.452499665611,
          -5419.320513811792,
          -1768.0443533013301,
          -4801.402296291376,
          -418.32198180572914,
          -418.32198180572914,
          -5494.57621937005,
          -5379.724489490021,
          -5382.384074548807,
          -5419.320513811792,
          -5567.037760739956,
          -5180.981333123629,
          -5396.646083872449,
          -5592.061511079068,
          -418.32198180572914,
          -418.32198180572914,
          -5494.57621937005,
          -5035.966182644655,
          -418.32198180572914,
          -5502.212640231531,
          -5567.037760739956,
          -5592.061511079068,
          -5419.320513811792,
          -5180.981333123629,
          -418.32198180572914,
          -418.32198180572914,
          -5494.57621937005,
          -5567.037760739956,
          -5151.588666990156,
          -5468.074867640364,
          -4801.402296291376,
          -5592.061511079068,
          -4672.59340287817,
          -5163.566038544145,
          -418.32198180572914,
          -5419.320513811792,
          -5567.037760739956,
          -5232.06284681159,
          -5035.966182644655,
          -418.32198180572914,
          -5567.037760739956,
          -5035.966182644655,
          -5028.167397960123,
          -4245.271003942371,
          -418.32198180572914,
          -418.32198180572914,
          -418.32198180572914,
          -5614.452499665611,
          -5494.57621937005
         ],
         "yaxis": "y2"
        },
        {
         "marker": {
          "color": [
           0,
           1,
           2,
           3,
           4,
           5,
           6,
           7,
           8,
           9,
           10,
           11,
           12,
           13,
           14,
           15,
           16,
           17,
           18,
           19,
           20,
           21,
           22,
           23,
           24,
           25,
           26,
           27,
           28,
           29,
           30,
           31,
           32,
           33,
           34,
           35,
           36,
           37,
           38,
           41,
           43,
           44,
           45,
           46,
           47,
           48,
           49,
           50,
           51,
           52,
           53,
           54,
           55,
           56,
           57,
           58,
           59,
           60,
           61,
           62,
           63,
           64,
           65,
           66,
           67,
           68,
           69,
           70,
           71,
           72,
           73,
           74,
           75,
           76,
           77,
           78,
           79,
           80,
           81,
           82,
           83,
           84,
           85,
           86,
           87,
           88,
           89,
           90,
           91,
           93,
           94,
           95,
           96,
           97,
           98,
           99
          ],
          "colorbar": {
           "title": {
            "text": "Trial"
           },
           "x": 1,
           "xpad": 40
          },
          "colorscale": [
           [
            0,
            "rgb(247,251,255)"
           ],
           [
            0.125,
            "rgb(222,235,247)"
           ],
           [
            0.25,
            "rgb(198,219,239)"
           ],
           [
            0.375,
            "rgb(158,202,225)"
           ],
           [
            0.5,
            "rgb(107,174,214)"
           ],
           [
            0.625,
            "rgb(66,146,198)"
           ],
           [
            0.75,
            "rgb(33,113,181)"
           ],
           [
            0.875,
            "rgb(8,81,156)"
           ],
           [
            1,
            "rgb(8,48,107)"
           ]
          ],
          "line": {
           "color": "Grey",
           "width": 0.5
          },
          "showscale": false
         },
         "mode": "markers",
         "name": "Feasible Trial",
         "showlegend": false,
         "type": "scatter",
         "x": [
          7,
          2,
          5,
          8,
          2,
          5,
          4,
          11,
          4,
          4,
          9,
          0,
          6,
          3,
          1,
          5,
          7,
          10,
          7,
          7,
          8,
          11,
          10,
          9,
          6,
          9,
          10,
          8,
          6,
          7,
          7,
          5,
          8,
          10,
          7,
          6,
          3,
          6,
          5,
          4,
          3,
          2,
          3,
          3,
          3,
          3,
          1,
          2,
          3,
          1,
          4,
          3,
          3,
          2,
          4,
          0,
          3,
          2,
          4,
          1,
          5,
          3,
          3,
          2,
          4,
          3,
          4,
          2,
          5,
          3,
          4,
          3,
          3,
          2,
          2,
          3,
          1,
          4,
          5,
          3,
          1,
          3,
          3,
          2,
          6,
          4,
          3,
          2,
          4,
          3,
          4,
          3,
          3,
          3,
          2,
          2
         ],
         "xaxis": "x3",
         "y": [
          -5485.705747772452,
          -5132.089163104045,
          -3445.61359021564,
          -5010.904473717573,
          -5179.363643246047,
          -5592.061511079068,
          -5035.966182644655,
          -5247.257168916368,
          -4801.402296291376,
          -5035.966182644655,
          -5087.663709961903,
          -5181.669038909132,
          -4867.584517753958,
          -4919.732249998477,
          -5222.585828176116,
          -5006.715551242884,
          -652.0627883669285,
          -4760.418658326755,
          -5130.045111236045,
          -5033.203994437338,
          -5020.349064514824,
          -4826.616826639077,
          -5074.255624380329,
          -4898.95310530237,
          -5067.468498912782,
          -4898.95310530237,
          -5109.460319548593,
          -5306.569050288887,
          -5222.217973166903,
          -652.0627883669285,
          -5233.879937326496,
          -4796.870769927074,
          -4906.820184459221,
          -4760.418658326755,
          -5130.045111236045,
          -370.2910152410011,
          -4672.59340287817,
          -5658.788210069212,
          -5021.576485532743,
          -4399.296663312963,
          -418.32198180572914,
          -5614.452499665611,
          -418.32198180572914,
          -418.32198180572914,
          -418.32198180572914,
          -418.32198180572914,
          -5468.074867640364,
          -5614.452499665611,
          -5419.320513811792,
          -1768.0443533013301,
          -4801.402296291376,
          -418.32198180572914,
          -418.32198180572914,
          -5494.57621937005,
          -5379.724489490021,
          -5382.384074548807,
          -5419.320513811792,
          -5567.037760739956,
          -5180.981333123629,
          -5396.646083872449,
          -5592.061511079068,
          -418.32198180572914,
          -418.32198180572914,
          -5494.57621937005,
          -5035.966182644655,
          -418.32198180572914,
          -5502.212640231531,
          -5567.037760739956,
          -5592.061511079068,
          -5419.320513811792,
          -5180.981333123629,
          -418.32198180572914,
          -418.32198180572914,
          -5494.57621937005,
          -5567.037760739956,
          -5151.588666990156,
          -5468.074867640364,
          -4801.402296291376,
          -5592.061511079068,
          -4672.59340287817,
          -5163.566038544145,
          -418.32198180572914,
          -5419.320513811792,
          -5567.037760739956,
          -5232.06284681159,
          -5035.966182644655,
          -418.32198180572914,
          -5567.037760739956,
          -5035.966182644655,
          -5028.167397960123,
          -4245.271003942371,
          -418.32198180572914,
          -418.32198180572914,
          -418.32198180572914,
          -5614.452499665611,
          -5494.57621937005
         ],
         "yaxis": "y3"
        }
       ],
       "layout": {
        "template": {
         "data": {
          "bar": [
           {
            "error_x": {
             "color": "#2a3f5f"
            },
            "error_y": {
             "color": "#2a3f5f"
            },
            "marker": {
             "line": {
              "color": "#E5ECF6",
              "width": 0.5
             },
             "pattern": {
              "fillmode": "overlay",
              "size": 10,
              "solidity": 0.2
             }
            },
            "type": "bar"
           }
          ],
          "barpolar": [
           {
            "marker": {
             "line": {
              "color": "#E5ECF6",
              "width": 0.5
             },
             "pattern": {
              "fillmode": "overlay",
              "size": 10,
              "solidity": 0.2
             }
            },
            "type": "barpolar"
           }
          ],
          "carpet": [
           {
            "aaxis": {
             "endlinecolor": "#2a3f5f",
             "gridcolor": "white",
             "linecolor": "white",
             "minorgridcolor": "white",
             "startlinecolor": "#2a3f5f"
            },
            "baxis": {
             "endlinecolor": "#2a3f5f",
             "gridcolor": "white",
             "linecolor": "white",
             "minorgridcolor": "white",
             "startlinecolor": "#2a3f5f"
            },
            "type": "carpet"
           }
          ],
          "choropleth": [
           {
            "colorbar": {
             "outlinewidth": 0,
             "ticks": ""
            },
            "type": "choropleth"
           }
          ],
          "contour": [
           {
            "colorbar": {
             "outlinewidth": 0,
             "ticks": ""
            },
            "colorscale": [
             [
              0,
              "#0d0887"
             ],
             [
              0.1111111111111111,
              "#46039f"
             ],
             [
              0.2222222222222222,
              "#7201a8"
             ],
             [
              0.3333333333333333,
              "#9c179e"
             ],
             [
              0.4444444444444444,
              "#bd3786"
             ],
             [
              0.5555555555555556,
              "#d8576b"
             ],
             [
              0.6666666666666666,
              "#ed7953"
             ],
             [
              0.7777777777777778,
              "#fb9f3a"
             ],
             [
              0.8888888888888888,
              "#fdca26"
             ],
             [
              1,
              "#f0f921"
             ]
            ],
            "type": "contour"
           }
          ],
          "contourcarpet": [
           {
            "colorbar": {
             "outlinewidth": 0,
             "ticks": ""
            },
            "type": "contourcarpet"
           }
          ],
          "heatmap": [
           {
            "colorbar": {
             "outlinewidth": 0,
             "ticks": ""
            },
            "colorscale": [
             [
              0,
              "#0d0887"
             ],
             [
              0.1111111111111111,
              "#46039f"
             ],
             [
              0.2222222222222222,
              "#7201a8"
             ],
             [
              0.3333333333333333,
              "#9c179e"
             ],
             [
              0.4444444444444444,
              "#bd3786"
             ],
             [
              0.5555555555555556,
              "#d8576b"
             ],
             [
              0.6666666666666666,
              "#ed7953"
             ],
             [
              0.7777777777777778,
              "#fb9f3a"
             ],
             [
              0.8888888888888888,
              "#fdca26"
             ],
             [
              1,
              "#f0f921"
             ]
            ],
            "type": "heatmap"
           }
          ],
          "histogram": [
           {
            "marker": {
             "pattern": {
              "fillmode": "overlay",
              "size": 10,
              "solidity": 0.2
             }
            },
            "type": "histogram"
           }
          ],
          "histogram2d": [
           {
            "colorbar": {
             "outlinewidth": 0,
             "ticks": ""
            },
            "colorscale": [
             [
              0,
              "#0d0887"
             ],
             [
              0.1111111111111111,
              "#46039f"
             ],
             [
              0.2222222222222222,
              "#7201a8"
             ],
             [
              0.3333333333333333,
              "#9c179e"
             ],
             [
              0.4444444444444444,
              "#bd3786"
             ],
             [
              0.5555555555555556,
              "#d8576b"
             ],
             [
              0.6666666666666666,
              "#ed7953"
             ],
             [
              0.7777777777777778,
              "#fb9f3a"
             ],
             [
              0.8888888888888888,
              "#fdca26"
             ],
             [
              1,
              "#f0f921"
             ]
            ],
            "type": "histogram2d"
           }
          ],
          "histogram2dcontour": [
           {
            "colorbar": {
             "outlinewidth": 0,
             "ticks": ""
            },
            "colorscale": [
             [
              0,
              "#0d0887"
             ],
             [
              0.1111111111111111,
              "#46039f"
             ],
             [
              0.2222222222222222,
              "#7201a8"
             ],
             [
              0.3333333333333333,
              "#9c179e"
             ],
             [
              0.4444444444444444,
              "#bd3786"
             ],
             [
              0.5555555555555556,
              "#d8576b"
             ],
             [
              0.6666666666666666,
              "#ed7953"
             ],
             [
              0.7777777777777778,
              "#fb9f3a"
             ],
             [
              0.8888888888888888,
              "#fdca26"
             ],
             [
              1,
              "#f0f921"
             ]
            ],
            "type": "histogram2dcontour"
           }
          ],
          "mesh3d": [
           {
            "colorbar": {
             "outlinewidth": 0,
             "ticks": ""
            },
            "type": "mesh3d"
           }
          ],
          "parcoords": [
           {
            "line": {
             "colorbar": {
              "outlinewidth": 0,
              "ticks": ""
             }
            },
            "type": "parcoords"
           }
          ],
          "pie": [
           {
            "automargin": true,
            "type": "pie"
           }
          ],
          "scatter": [
           {
            "fillpattern": {
             "fillmode": "overlay",
             "size": 10,
             "solidity": 0.2
            },
            "type": "scatter"
           }
          ],
          "scatter3d": [
           {
            "line": {
             "colorbar": {
              "outlinewidth": 0,
              "ticks": ""
             }
            },
            "marker": {
             "colorbar": {
              "outlinewidth": 0,
              "ticks": ""
             }
            },
            "type": "scatter3d"
           }
          ],
          "scattercarpet": [
           {
            "marker": {
             "colorbar": {
              "outlinewidth": 0,
              "ticks": ""
             }
            },
            "type": "scattercarpet"
           }
          ],
          "scattergeo": [
           {
            "marker": {
             "colorbar": {
              "outlinewidth": 0,
              "ticks": ""
             }
            },
            "type": "scattergeo"
           }
          ],
          "scattergl": [
           {
            "marker": {
             "colorbar": {
              "outlinewidth": 0,
              "ticks": ""
             }
            },
            "type": "scattergl"
           }
          ],
          "scattermap": [
           {
            "marker": {
             "colorbar": {
              "outlinewidth": 0,
              "ticks": ""
             }
            },
            "type": "scattermap"
           }
          ],
          "scattermapbox": [
           {
            "marker": {
             "colorbar": {
              "outlinewidth": 0,
              "ticks": ""
             }
            },
            "type": "scattermapbox"
           }
          ],
          "scatterpolar": [
           {
            "marker": {
             "colorbar": {
              "outlinewidth": 0,
              "ticks": ""
             }
            },
            "type": "scatterpolar"
           }
          ],
          "scatterpolargl": [
           {
            "marker": {
             "colorbar": {
              "outlinewidth": 0,
              "ticks": ""
             }
            },
            "type": "scatterpolargl"
           }
          ],
          "scatterternary": [
           {
            "marker": {
             "colorbar": {
              "outlinewidth": 0,
              "ticks": ""
             }
            },
            "type": "scatterternary"
           }
          ],
          "surface": [
           {
            "colorbar": {
             "outlinewidth": 0,
             "ticks": ""
            },
            "colorscale": [
             [
              0,
              "#0d0887"
             ],
             [
              0.1111111111111111,
              "#46039f"
             ],
             [
              0.2222222222222222,
              "#7201a8"
             ],
             [
              0.3333333333333333,
              "#9c179e"
             ],
             [
              0.4444444444444444,
              "#bd3786"
             ],
             [
              0.5555555555555556,
              "#d8576b"
             ],
             [
              0.6666666666666666,
              "#ed7953"
             ],
             [
              0.7777777777777778,
              "#fb9f3a"
             ],
             [
              0.8888888888888888,
              "#fdca26"
             ],
             [
              1,
              "#f0f921"
             ]
            ],
            "type": "surface"
           }
          ],
          "table": [
           {
            "cells": {
             "fill": {
              "color": "#EBF0F8"
             },
             "line": {
              "color": "white"
             }
            },
            "header": {
             "fill": {
              "color": "#C8D4E3"
             },
             "line": {
              "color": "white"
             }
            },
            "type": "table"
           }
          ]
         },
         "layout": {
          "annotationdefaults": {
           "arrowcolor": "#2a3f5f",
           "arrowhead": 0,
           "arrowwidth": 1
          },
          "autotypenumbers": "strict",
          "coloraxis": {
           "colorbar": {
            "outlinewidth": 0,
            "ticks": ""
           }
          },
          "colorscale": {
           "diverging": [
            [
             0,
             "#8e0152"
            ],
            [
             0.1,
             "#c51b7d"
            ],
            [
             0.2,
             "#de77ae"
            ],
            [
             0.3,
             "#f1b6da"
            ],
            [
             0.4,
             "#fde0ef"
            ],
            [
             0.5,
             "#f7f7f7"
            ],
            [
             0.6,
             "#e6f5d0"
            ],
            [
             0.7,
             "#b8e186"
            ],
            [
             0.8,
             "#7fbc41"
            ],
            [
             0.9,
             "#4d9221"
            ],
            [
             1,
             "#276419"
            ]
           ],
           "sequential": [
            [
             0,
             "#0d0887"
            ],
            [
             0.1111111111111111,
             "#46039f"
            ],
            [
             0.2222222222222222,
             "#7201a8"
            ],
            [
             0.3333333333333333,
             "#9c179e"
            ],
            [
             0.4444444444444444,
             "#bd3786"
            ],
            [
             0.5555555555555556,
             "#d8576b"
            ],
            [
             0.6666666666666666,
             "#ed7953"
            ],
            [
             0.7777777777777778,
             "#fb9f3a"
            ],
            [
             0.8888888888888888,
             "#fdca26"
            ],
            [
             1,
             "#f0f921"
            ]
           ],
           "sequentialminus": [
            [
             0,
             "#0d0887"
            ],
            [
             0.1111111111111111,
             "#46039f"
            ],
            [
             0.2222222222222222,
             "#7201a8"
            ],
            [
             0.3333333333333333,
             "#9c179e"
            ],
            [
             0.4444444444444444,
             "#bd3786"
            ],
            [
             0.5555555555555556,
             "#d8576b"
            ],
            [
             0.6666666666666666,
             "#ed7953"
            ],
            [
             0.7777777777777778,
             "#fb9f3a"
            ],
            [
             0.8888888888888888,
             "#fdca26"
            ],
            [
             1,
             "#f0f921"
            ]
           ]
          },
          "colorway": [
           "#636efa",
           "#EF553B",
           "#00cc96",
           "#ab63fa",
           "#FFA15A",
           "#19d3f3",
           "#FF6692",
           "#B6E880",
           "#FF97FF",
           "#FECB52"
          ],
          "font": {
           "color": "#2a3f5f"
          },
          "geo": {
           "bgcolor": "white",
           "lakecolor": "white",
           "landcolor": "#E5ECF6",
           "showlakes": true,
           "showland": true,
           "subunitcolor": "white"
          },
          "hoverlabel": {
           "align": "left"
          },
          "hovermode": "closest",
          "mapbox": {
           "style": "light"
          },
          "paper_bgcolor": "white",
          "plot_bgcolor": "#E5ECF6",
          "polar": {
           "angularaxis": {
            "gridcolor": "white",
            "linecolor": "white",
            "ticks": ""
           },
           "bgcolor": "#E5ECF6",
           "radialaxis": {
            "gridcolor": "white",
            "linecolor": "white",
            "ticks": ""
           }
          },
          "scene": {
           "xaxis": {
            "backgroundcolor": "#E5ECF6",
            "gridcolor": "white",
            "gridwidth": 2,
            "linecolor": "white",
            "showbackground": true,
            "ticks": "",
            "zerolinecolor": "white"
           },
           "yaxis": {
            "backgroundcolor": "#E5ECF6",
            "gridcolor": "white",
            "gridwidth": 2,
            "linecolor": "white",
            "showbackground": true,
            "ticks": "",
            "zerolinecolor": "white"
           },
           "zaxis": {
            "backgroundcolor": "#E5ECF6",
            "gridcolor": "white",
            "gridwidth": 2,
            "linecolor": "white",
            "showbackground": true,
            "ticks": "",
            "zerolinecolor": "white"
           }
          },
          "shapedefaults": {
           "line": {
            "color": "#2a3f5f"
           }
          },
          "ternary": {
           "aaxis": {
            "gridcolor": "white",
            "linecolor": "white",
            "ticks": ""
           },
           "baxis": {
            "gridcolor": "white",
            "linecolor": "white",
            "ticks": ""
           },
           "bgcolor": "#E5ECF6",
           "caxis": {
            "gridcolor": "white",
            "linecolor": "white",
            "ticks": ""
           }
          },
          "title": {
           "x": 0.05
          },
          "xaxis": {
           "automargin": true,
           "gridcolor": "white",
           "linecolor": "white",
           "ticks": "",
           "title": {
            "standoff": 15
           },
           "zerolinecolor": "white",
           "zerolinewidth": 2
          },
          "yaxis": {
           "automargin": true,
           "gridcolor": "white",
           "linecolor": "white",
           "ticks": "",
           "title": {
            "standoff": 15
           },
           "zerolinecolor": "white",
           "zerolinewidth": 2
          }
         }
        },
        "title": {
         "text": "Slice Plot"
        },
        "xaxis": {
         "anchor": "y",
         "domain": [
          0,
          0.2888888888888889
         ],
         "title": {
          "text": "d"
         }
        },
        "xaxis2": {
         "anchor": "y2",
         "domain": [
          0.35555555555555557,
          0.6444444444444445
         ],
         "title": {
          "text": "p"
         }
        },
        "xaxis3": {
         "anchor": "y3",
         "domain": [
          0.7111111111111111,
          1
         ],
         "title": {
          "text": "q"
         }
        },
        "yaxis": {
         "anchor": "x",
         "domain": [
          0,
          1
         ],
         "title": {
          "text": "Objective Value"
         }
        },
        "yaxis2": {
         "anchor": "x2",
         "domain": [
          0,
          1
         ],
         "matches": "y",
         "showticklabels": false
        },
        "yaxis3": {
         "anchor": "x3",
         "domain": [
          0,
          1
         ],
         "matches": "y",
         "showticklabels": false
        }
       }
      }
     },
     "metadata": {},
     "output_type": "display_data"
    }
   ],
   "source": [
    "optuna.visualization.plot_slice(study,params=['p','d','q'])"
   ]
  },
  {
   "cell_type": "code",
   "execution_count": 286,
   "metadata": {},
   "outputs": [
    {
     "data": {
      "application/vnd.plotly.v1+json": {
       "config": {
        "plotlyServerURL": "https://plot.ly"
       },
       "data": [
        {
         "cliponaxis": false,
         "hovertemplate": [
          "D (IntDistribution): 0.0<extra></extra>",
          "P (IntDistribution): 0.0<extra></extra>",
          "Q (IntDistribution): 0.0<extra></extra>",
          "d (IntDistribution): 0.0<extra></extra>",
          "q (IntDistribution): 0.3192035378289696<extra></extra>",
          "p (IntDistribution): 0.6807964621710304<extra></extra>"
         ],
         "name": "Objective Value",
         "orientation": "h",
         "text": [
          "<0.01",
          "<0.01",
          "<0.01",
          "<0.01",
          "0.32",
          "0.68"
         ],
         "textposition": "outside",
         "type": "bar",
         "x": [
          0,
          0,
          0,
          0,
          0.3192035378289696,
          0.6807964621710304
         ],
         "y": [
          "D",
          "P",
          "Q",
          "d",
          "q",
          "p"
         ]
        }
       ],
       "layout": {
        "template": {
         "data": {
          "bar": [
           {
            "error_x": {
             "color": "#2a3f5f"
            },
            "error_y": {
             "color": "#2a3f5f"
            },
            "marker": {
             "line": {
              "color": "#E5ECF6",
              "width": 0.5
             },
             "pattern": {
              "fillmode": "overlay",
              "size": 10,
              "solidity": 0.2
             }
            },
            "type": "bar"
           }
          ],
          "barpolar": [
           {
            "marker": {
             "line": {
              "color": "#E5ECF6",
              "width": 0.5
             },
             "pattern": {
              "fillmode": "overlay",
              "size": 10,
              "solidity": 0.2
             }
            },
            "type": "barpolar"
           }
          ],
          "carpet": [
           {
            "aaxis": {
             "endlinecolor": "#2a3f5f",
             "gridcolor": "white",
             "linecolor": "white",
             "minorgridcolor": "white",
             "startlinecolor": "#2a3f5f"
            },
            "baxis": {
             "endlinecolor": "#2a3f5f",
             "gridcolor": "white",
             "linecolor": "white",
             "minorgridcolor": "white",
             "startlinecolor": "#2a3f5f"
            },
            "type": "carpet"
           }
          ],
          "choropleth": [
           {
            "colorbar": {
             "outlinewidth": 0,
             "ticks": ""
            },
            "type": "choropleth"
           }
          ],
          "contour": [
           {
            "colorbar": {
             "outlinewidth": 0,
             "ticks": ""
            },
            "colorscale": [
             [
              0,
              "#0d0887"
             ],
             [
              0.1111111111111111,
              "#46039f"
             ],
             [
              0.2222222222222222,
              "#7201a8"
             ],
             [
              0.3333333333333333,
              "#9c179e"
             ],
             [
              0.4444444444444444,
              "#bd3786"
             ],
             [
              0.5555555555555556,
              "#d8576b"
             ],
             [
              0.6666666666666666,
              "#ed7953"
             ],
             [
              0.7777777777777778,
              "#fb9f3a"
             ],
             [
              0.8888888888888888,
              "#fdca26"
             ],
             [
              1,
              "#f0f921"
             ]
            ],
            "type": "contour"
           }
          ],
          "contourcarpet": [
           {
            "colorbar": {
             "outlinewidth": 0,
             "ticks": ""
            },
            "type": "contourcarpet"
           }
          ],
          "heatmap": [
           {
            "colorbar": {
             "outlinewidth": 0,
             "ticks": ""
            },
            "colorscale": [
             [
              0,
              "#0d0887"
             ],
             [
              0.1111111111111111,
              "#46039f"
             ],
             [
              0.2222222222222222,
              "#7201a8"
             ],
             [
              0.3333333333333333,
              "#9c179e"
             ],
             [
              0.4444444444444444,
              "#bd3786"
             ],
             [
              0.5555555555555556,
              "#d8576b"
             ],
             [
              0.6666666666666666,
              "#ed7953"
             ],
             [
              0.7777777777777778,
              "#fb9f3a"
             ],
             [
              0.8888888888888888,
              "#fdca26"
             ],
             [
              1,
              "#f0f921"
             ]
            ],
            "type": "heatmap"
           }
          ],
          "histogram": [
           {
            "marker": {
             "pattern": {
              "fillmode": "overlay",
              "size": 10,
              "solidity": 0.2
             }
            },
            "type": "histogram"
           }
          ],
          "histogram2d": [
           {
            "colorbar": {
             "outlinewidth": 0,
             "ticks": ""
            },
            "colorscale": [
             [
              0,
              "#0d0887"
             ],
             [
              0.1111111111111111,
              "#46039f"
             ],
             [
              0.2222222222222222,
              "#7201a8"
             ],
             [
              0.3333333333333333,
              "#9c179e"
             ],
             [
              0.4444444444444444,
              "#bd3786"
             ],
             [
              0.5555555555555556,
              "#d8576b"
             ],
             [
              0.6666666666666666,
              "#ed7953"
             ],
             [
              0.7777777777777778,
              "#fb9f3a"
             ],
             [
              0.8888888888888888,
              "#fdca26"
             ],
             [
              1,
              "#f0f921"
             ]
            ],
            "type": "histogram2d"
           }
          ],
          "histogram2dcontour": [
           {
            "colorbar": {
             "outlinewidth": 0,
             "ticks": ""
            },
            "colorscale": [
             [
              0,
              "#0d0887"
             ],
             [
              0.1111111111111111,
              "#46039f"
             ],
             [
              0.2222222222222222,
              "#7201a8"
             ],
             [
              0.3333333333333333,
              "#9c179e"
             ],
             [
              0.4444444444444444,
              "#bd3786"
             ],
             [
              0.5555555555555556,
              "#d8576b"
             ],
             [
              0.6666666666666666,
              "#ed7953"
             ],
             [
              0.7777777777777778,
              "#fb9f3a"
             ],
             [
              0.8888888888888888,
              "#fdca26"
             ],
             [
              1,
              "#f0f921"
             ]
            ],
            "type": "histogram2dcontour"
           }
          ],
          "mesh3d": [
           {
            "colorbar": {
             "outlinewidth": 0,
             "ticks": ""
            },
            "type": "mesh3d"
           }
          ],
          "parcoords": [
           {
            "line": {
             "colorbar": {
              "outlinewidth": 0,
              "ticks": ""
             }
            },
            "type": "parcoords"
           }
          ],
          "pie": [
           {
            "automargin": true,
            "type": "pie"
           }
          ],
          "scatter": [
           {
            "fillpattern": {
             "fillmode": "overlay",
             "size": 10,
             "solidity": 0.2
            },
            "type": "scatter"
           }
          ],
          "scatter3d": [
           {
            "line": {
             "colorbar": {
              "outlinewidth": 0,
              "ticks": ""
             }
            },
            "marker": {
             "colorbar": {
              "outlinewidth": 0,
              "ticks": ""
             }
            },
            "type": "scatter3d"
           }
          ],
          "scattercarpet": [
           {
            "marker": {
             "colorbar": {
              "outlinewidth": 0,
              "ticks": ""
             }
            },
            "type": "scattercarpet"
           }
          ],
          "scattergeo": [
           {
            "marker": {
             "colorbar": {
              "outlinewidth": 0,
              "ticks": ""
             }
            },
            "type": "scattergeo"
           }
          ],
          "scattergl": [
           {
            "marker": {
             "colorbar": {
              "outlinewidth": 0,
              "ticks": ""
             }
            },
            "type": "scattergl"
           }
          ],
          "scattermap": [
           {
            "marker": {
             "colorbar": {
              "outlinewidth": 0,
              "ticks": ""
             }
            },
            "type": "scattermap"
           }
          ],
          "scattermapbox": [
           {
            "marker": {
             "colorbar": {
              "outlinewidth": 0,
              "ticks": ""
             }
            },
            "type": "scattermapbox"
           }
          ],
          "scatterpolar": [
           {
            "marker": {
             "colorbar": {
              "outlinewidth": 0,
              "ticks": ""
             }
            },
            "type": "scatterpolar"
           }
          ],
          "scatterpolargl": [
           {
            "marker": {
             "colorbar": {
              "outlinewidth": 0,
              "ticks": ""
             }
            },
            "type": "scatterpolargl"
           }
          ],
          "scatterternary": [
           {
            "marker": {
             "colorbar": {
              "outlinewidth": 0,
              "ticks": ""
             }
            },
            "type": "scatterternary"
           }
          ],
          "surface": [
           {
            "colorbar": {
             "outlinewidth": 0,
             "ticks": ""
            },
            "colorscale": [
             [
              0,
              "#0d0887"
             ],
             [
              0.1111111111111111,
              "#46039f"
             ],
             [
              0.2222222222222222,
              "#7201a8"
             ],
             [
              0.3333333333333333,
              "#9c179e"
             ],
             [
              0.4444444444444444,
              "#bd3786"
             ],
             [
              0.5555555555555556,
              "#d8576b"
             ],
             [
              0.6666666666666666,
              "#ed7953"
             ],
             [
              0.7777777777777778,
              "#fb9f3a"
             ],
             [
              0.8888888888888888,
              "#fdca26"
             ],
             [
              1,
              "#f0f921"
             ]
            ],
            "type": "surface"
           }
          ],
          "table": [
           {
            "cells": {
             "fill": {
              "color": "#EBF0F8"
             },
             "line": {
              "color": "white"
             }
            },
            "header": {
             "fill": {
              "color": "#C8D4E3"
             },
             "line": {
              "color": "white"
             }
            },
            "type": "table"
           }
          ]
         },
         "layout": {
          "annotationdefaults": {
           "arrowcolor": "#2a3f5f",
           "arrowhead": 0,
           "arrowwidth": 1
          },
          "autotypenumbers": "strict",
          "coloraxis": {
           "colorbar": {
            "outlinewidth": 0,
            "ticks": ""
           }
          },
          "colorscale": {
           "diverging": [
            [
             0,
             "#8e0152"
            ],
            [
             0.1,
             "#c51b7d"
            ],
            [
             0.2,
             "#de77ae"
            ],
            [
             0.3,
             "#f1b6da"
            ],
            [
             0.4,
             "#fde0ef"
            ],
            [
             0.5,
             "#f7f7f7"
            ],
            [
             0.6,
             "#e6f5d0"
            ],
            [
             0.7,
             "#b8e186"
            ],
            [
             0.8,
             "#7fbc41"
            ],
            [
             0.9,
             "#4d9221"
            ],
            [
             1,
             "#276419"
            ]
           ],
           "sequential": [
            [
             0,
             "#0d0887"
            ],
            [
             0.1111111111111111,
             "#46039f"
            ],
            [
             0.2222222222222222,
             "#7201a8"
            ],
            [
             0.3333333333333333,
             "#9c179e"
            ],
            [
             0.4444444444444444,
             "#bd3786"
            ],
            [
             0.5555555555555556,
             "#d8576b"
            ],
            [
             0.6666666666666666,
             "#ed7953"
            ],
            [
             0.7777777777777778,
             "#fb9f3a"
            ],
            [
             0.8888888888888888,
             "#fdca26"
            ],
            [
             1,
             "#f0f921"
            ]
           ],
           "sequentialminus": [
            [
             0,
             "#0d0887"
            ],
            [
             0.1111111111111111,
             "#46039f"
            ],
            [
             0.2222222222222222,
             "#7201a8"
            ],
            [
             0.3333333333333333,
             "#9c179e"
            ],
            [
             0.4444444444444444,
             "#bd3786"
            ],
            [
             0.5555555555555556,
             "#d8576b"
            ],
            [
             0.6666666666666666,
             "#ed7953"
            ],
            [
             0.7777777777777778,
             "#fb9f3a"
            ],
            [
             0.8888888888888888,
             "#fdca26"
            ],
            [
             1,
             "#f0f921"
            ]
           ]
          },
          "colorway": [
           "#636efa",
           "#EF553B",
           "#00cc96",
           "#ab63fa",
           "#FFA15A",
           "#19d3f3",
           "#FF6692",
           "#B6E880",
           "#FF97FF",
           "#FECB52"
          ],
          "font": {
           "color": "#2a3f5f"
          },
          "geo": {
           "bgcolor": "white",
           "lakecolor": "white",
           "landcolor": "#E5ECF6",
           "showlakes": true,
           "showland": true,
           "subunitcolor": "white"
          },
          "hoverlabel": {
           "align": "left"
          },
          "hovermode": "closest",
          "mapbox": {
           "style": "light"
          },
          "paper_bgcolor": "white",
          "plot_bgcolor": "#E5ECF6",
          "polar": {
           "angularaxis": {
            "gridcolor": "white",
            "linecolor": "white",
            "ticks": ""
           },
           "bgcolor": "#E5ECF6",
           "radialaxis": {
            "gridcolor": "white",
            "linecolor": "white",
            "ticks": ""
           }
          },
          "scene": {
           "xaxis": {
            "backgroundcolor": "#E5ECF6",
            "gridcolor": "white",
            "gridwidth": 2,
            "linecolor": "white",
            "showbackground": true,
            "ticks": "",
            "zerolinecolor": "white"
           },
           "yaxis": {
            "backgroundcolor": "#E5ECF6",
            "gridcolor": "white",
            "gridwidth": 2,
            "linecolor": "white",
            "showbackground": true,
            "ticks": "",
            "zerolinecolor": "white"
           },
           "zaxis": {
            "backgroundcolor": "#E5ECF6",
            "gridcolor": "white",
            "gridwidth": 2,
            "linecolor": "white",
            "showbackground": true,
            "ticks": "",
            "zerolinecolor": "white"
           }
          },
          "shapedefaults": {
           "line": {
            "color": "#2a3f5f"
           }
          },
          "ternary": {
           "aaxis": {
            "gridcolor": "white",
            "linecolor": "white",
            "ticks": ""
           },
           "baxis": {
            "gridcolor": "white",
            "linecolor": "white",
            "ticks": ""
           },
           "bgcolor": "#E5ECF6",
           "caxis": {
            "gridcolor": "white",
            "linecolor": "white",
            "ticks": ""
           }
          },
          "title": {
           "x": 0.05
          },
          "xaxis": {
           "automargin": true,
           "gridcolor": "white",
           "linecolor": "white",
           "ticks": "",
           "title": {
            "standoff": 15
           },
           "zerolinecolor": "white",
           "zerolinewidth": 2
          },
          "yaxis": {
           "automargin": true,
           "gridcolor": "white",
           "linecolor": "white",
           "ticks": "",
           "title": {
            "standoff": 15
           },
           "zerolinecolor": "white",
           "zerolinewidth": 2
          }
         }
        },
        "title": {
         "text": "Hyperparameter Importances"
        },
        "xaxis": {
         "title": {
          "text": "Hyperparameter Importance"
         }
        },
        "yaxis": {
         "title": {
          "text": "Hyperparameter"
         }
        }
       }
      }
     },
     "metadata": {},
     "output_type": "display_data"
    }
   ],
   "source": [
    "optuna.visualization.plot_param_importances(study)"
   ]
  },
  {
   "cell_type": "markdown",
   "metadata": {},
   "source": [
    "## Pipeline Testing"
   ]
  },
  {
   "cell_type": "code",
   "execution_count": 121,
   "metadata": {},
   "outputs": [
    {
     "name": "stderr",
     "output_type": "stream",
     "text": [
      "/Library/Frameworks/Python.framework/Versions/3.10/lib/python3.10/site-packages/sklearn/utils/deprecation.py:132: FutureWarning:\n",
      "\n",
      "'force_all_finite' was renamed to 'ensure_all_finite' in 1.6 and will be removed in 1.8.\n",
      "\n",
      "/Library/Frameworks/Python.framework/Versions/3.10/lib/python3.10/site-packages/sklearn/utils/deprecation.py:132: FutureWarning:\n",
      "\n",
      "'force_all_finite' was renamed to 'ensure_all_finite' in 1.6 and will be removed in 1.8.\n",
      "\n",
      "/Library/Frameworks/Python.framework/Versions/3.10/lib/python3.10/site-packages/sklearn/utils/deprecation.py:132: FutureWarning:\n",
      "\n",
      "'force_all_finite' was renamed to 'ensure_all_finite' in 1.6 and will be removed in 1.8.\n",
      "\n",
      "/Library/Frameworks/Python.framework/Versions/3.10/lib/python3.10/site-packages/sklearn/utils/deprecation.py:132: FutureWarning:\n",
      "\n",
      "'force_all_finite' was renamed to 'ensure_all_finite' in 1.6 and will be removed in 1.8.\n",
      "\n",
      "/Library/Frameworks/Python.framework/Versions/3.10/lib/python3.10/site-packages/sklearn/utils/deprecation.py:132: FutureWarning:\n",
      "\n",
      "'force_all_finite' was renamed to 'ensure_all_finite' in 1.6 and will be removed in 1.8.\n",
      "\n"
     ]
    },
    {
     "name": "stdout",
     "output_type": "stream",
     "text": [
      "Performing stepwise search to minimize aic\n",
      " ARIMA(1,0,1)(0,1,0)[12] intercept   : AIC=-5594.674, Time=0.43 sec\n",
      " ARIMA(0,0,0)(0,1,0)[12] intercept   : AIC=-5598.674, Time=0.18 sec\n"
     ]
    },
    {
     "name": "stderr",
     "output_type": "stream",
     "text": [
      "/Library/Frameworks/Python.framework/Versions/3.10/lib/python3.10/site-packages/sklearn/utils/deprecation.py:132: FutureWarning:\n",
      "\n",
      "'force_all_finite' was renamed to 'ensure_all_finite' in 1.6 and will be removed in 1.8.\n",
      "\n",
      "/Library/Frameworks/Python.framework/Versions/3.10/lib/python3.10/site-packages/sklearn/utils/deprecation.py:132: FutureWarning:\n",
      "\n",
      "'force_all_finite' was renamed to 'ensure_all_finite' in 1.6 and will be removed in 1.8.\n",
      "\n"
     ]
    },
    {
     "name": "stdout",
     "output_type": "stream",
     "text": [
      " ARIMA(1,0,0)(1,1,0)[12] intercept   : AIC=-5537.004, Time=2.18 sec\n"
     ]
    },
    {
     "name": "stderr",
     "output_type": "stream",
     "text": [
      "/Library/Frameworks/Python.framework/Versions/3.10/lib/python3.10/site-packages/sklearn/utils/deprecation.py:132: FutureWarning:\n",
      "\n",
      "'force_all_finite' was renamed to 'ensure_all_finite' in 1.6 and will be removed in 1.8.\n",
      "\n"
     ]
    },
    {
     "name": "stdout",
     "output_type": "stream",
     "text": [
      " ARIMA(0,0,1)(0,1,1)[12] intercept   : AIC=-5119.546, Time=1.62 sec\n",
      " ARIMA(0,0,0)(0,1,0)[12]             : AIC=-5506.873, Time=0.03 sec\n"
     ]
    },
    {
     "name": "stderr",
     "output_type": "stream",
     "text": [
      "/Library/Frameworks/Python.framework/Versions/3.10/lib/python3.10/site-packages/sklearn/utils/deprecation.py:132: FutureWarning:\n",
      "\n",
      "'force_all_finite' was renamed to 'ensure_all_finite' in 1.6 and will be removed in 1.8.\n",
      "\n",
      "/Library/Frameworks/Python.framework/Versions/3.10/lib/python3.10/site-packages/sklearn/utils/deprecation.py:132: FutureWarning:\n",
      "\n",
      "'force_all_finite' was renamed to 'ensure_all_finite' in 1.6 and will be removed in 1.8.\n",
      "\n"
     ]
    },
    {
     "name": "stdout",
     "output_type": "stream",
     "text": [
      " ARIMA(0,0,0)(1,1,0)[12] intercept   : AIC=-5539.004, Time=0.64 sec\n"
     ]
    },
    {
     "name": "stderr",
     "output_type": "stream",
     "text": [
      "/Library/Frameworks/Python.framework/Versions/3.10/lib/python3.10/site-packages/sklearn/utils/deprecation.py:132: FutureWarning:\n",
      "\n",
      "'force_all_finite' was renamed to 'ensure_all_finite' in 1.6 and will be removed in 1.8.\n",
      "\n"
     ]
    },
    {
     "name": "stdout",
     "output_type": "stream",
     "text": [
      " ARIMA(0,0,0)(0,1,1)[12] intercept   : AIC=-5116.430, Time=1.00 sec\n"
     ]
    },
    {
     "name": "stderr",
     "output_type": "stream",
     "text": [
      "/Library/Frameworks/Python.framework/Versions/3.10/lib/python3.10/site-packages/sklearn/utils/deprecation.py:132: FutureWarning:\n",
      "\n",
      "'force_all_finite' was renamed to 'ensure_all_finite' in 1.6 and will be removed in 1.8.\n",
      "\n"
     ]
    },
    {
     "name": "stdout",
     "output_type": "stream",
     "text": [
      " ARIMA(0,0,0)(1,1,1)[12] intercept   : AIC=-5601.083, Time=1.40 sec\n"
     ]
    },
    {
     "name": "stderr",
     "output_type": "stream",
     "text": [
      "/Library/Frameworks/Python.framework/Versions/3.10/lib/python3.10/site-packages/sklearn/utils/deprecation.py:132: FutureWarning:\n",
      "\n",
      "'force_all_finite' was renamed to 'ensure_all_finite' in 1.6 and will be removed in 1.8.\n",
      "\n"
     ]
    },
    {
     "name": "stdout",
     "output_type": "stream",
     "text": [
      " ARIMA(0,0,0)(2,1,1)[12] intercept   : AIC=-5737.536, Time=0.76 sec\n"
     ]
    },
    {
     "name": "stderr",
     "output_type": "stream",
     "text": [
      "/Library/Frameworks/Python.framework/Versions/3.10/lib/python3.10/site-packages/sklearn/utils/deprecation.py:132: FutureWarning:\n",
      "\n",
      "'force_all_finite' was renamed to 'ensure_all_finite' in 1.6 and will be removed in 1.8.\n",
      "\n"
     ]
    },
    {
     "name": "stdout",
     "output_type": "stream",
     "text": [
      " ARIMA(0,0,0)(2,1,0)[12] intercept   : AIC=-836.200, Time=0.59 sec\n"
     ]
    },
    {
     "name": "stderr",
     "output_type": "stream",
     "text": [
      "/Library/Frameworks/Python.framework/Versions/3.10/lib/python3.10/site-packages/sklearn/utils/deprecation.py:132: FutureWarning:\n",
      "\n",
      "'force_all_finite' was renamed to 'ensure_all_finite' in 1.6 and will be removed in 1.8.\n",
      "\n"
     ]
    },
    {
     "name": "stdout",
     "output_type": "stream",
     "text": [
      " ARIMA(0,0,0)(2,1,2)[12] intercept   : AIC=-5734.272, Time=1.72 sec\n"
     ]
    },
    {
     "name": "stderr",
     "output_type": "stream",
     "text": [
      "/Library/Frameworks/Python.framework/Versions/3.10/lib/python3.10/site-packages/sklearn/utils/deprecation.py:132: FutureWarning:\n",
      "\n",
      "'force_all_finite' was renamed to 'ensure_all_finite' in 1.6 and will be removed in 1.8.\n",
      "\n"
     ]
    },
    {
     "name": "stdout",
     "output_type": "stream",
     "text": [
      " ARIMA(0,0,0)(1,1,2)[12] intercept   : AIC=inf, Time=9.69 sec\n"
     ]
    },
    {
     "name": "stderr",
     "output_type": "stream",
     "text": [
      "/Library/Frameworks/Python.framework/Versions/3.10/lib/python3.10/site-packages/sklearn/utils/deprecation.py:132: FutureWarning:\n",
      "\n",
      "'force_all_finite' was renamed to 'ensure_all_finite' in 1.6 and will be removed in 1.8.\n",
      "\n",
      "/Library/Frameworks/Python.framework/Versions/3.10/lib/python3.10/site-packages/statsmodels/tsa/statespace/sarimax.py:1901: RuntimeWarning:\n",
      "\n",
      "invalid value encountered in reciprocal\n",
      "\n",
      "/Library/Frameworks/Python.framework/Versions/3.10/lib/python3.10/site-packages/sklearn/utils/deprecation.py:132: FutureWarning:\n",
      "\n",
      "'force_all_finite' was renamed to 'ensure_all_finite' in 1.6 and will be removed in 1.8.\n",
      "\n"
     ]
    },
    {
     "name": "stdout",
     "output_type": "stream",
     "text": [
      " ARIMA(1,0,0)(2,1,1)[12] intercept   : AIC=-5735.536, Time=1.11 sec\n"
     ]
    },
    {
     "name": "stderr",
     "output_type": "stream",
     "text": [
      "/Library/Frameworks/Python.framework/Versions/3.10/lib/python3.10/site-packages/statsmodels/tsa/statespace/sarimax.py:1908: RuntimeWarning:\n",
      "\n",
      "invalid value encountered in reciprocal\n",
      "\n",
      "/Library/Frameworks/Python.framework/Versions/3.10/lib/python3.10/site-packages/sklearn/utils/deprecation.py:132: FutureWarning:\n",
      "\n",
      "'force_all_finite' was renamed to 'ensure_all_finite' in 1.6 and will be removed in 1.8.\n",
      "\n"
     ]
    },
    {
     "name": "stdout",
     "output_type": "stream",
     "text": [
      " ARIMA(0,0,1)(2,1,1)[12] intercept   : AIC=-5735.536, Time=0.99 sec\n"
     ]
    },
    {
     "name": "stderr",
     "output_type": "stream",
     "text": [
      "/Library/Frameworks/Python.framework/Versions/3.10/lib/python3.10/site-packages/statsmodels/tsa/statespace/sarimax.py:1901: RuntimeWarning:\n",
      "\n",
      "invalid value encountered in reciprocal\n",
      "\n",
      "/Library/Frameworks/Python.framework/Versions/3.10/lib/python3.10/site-packages/statsmodels/tsa/statespace/sarimax.py:1908: RuntimeWarning:\n",
      "\n",
      "invalid value encountered in reciprocal\n",
      "\n",
      "/Library/Frameworks/Python.framework/Versions/3.10/lib/python3.10/site-packages/sklearn/utils/deprecation.py:132: FutureWarning:\n",
      "\n",
      "'force_all_finite' was renamed to 'ensure_all_finite' in 1.6 and will be removed in 1.8.\n",
      "\n"
     ]
    },
    {
     "name": "stdout",
     "output_type": "stream",
     "text": [
      " ARIMA(1,0,1)(2,1,1)[12] intercept   : AIC=-5733.536, Time=1.47 sec\n",
      " ARIMA(0,0,0)(2,1,1)[12]             : AIC=-5538.152, Time=0.31 sec\n",
      "\n",
      "Best model:  ARIMA(0,0,0)(2,1,1)[12] intercept\n",
      "Total fit time: 24.132 seconds\n",
      "\n",
      "Final Model RMSE: 0.2986\n"
     ]
    },
    {
     "name": "stderr",
     "output_type": "stream",
     "text": [
      "/Library/Frameworks/Python.framework/Versions/3.10/lib/python3.10/site-packages/sklearn/utils/deprecation.py:132: FutureWarning:\n",
      "\n",
      "'force_all_finite' was renamed to 'ensure_all_finite' in 1.6 and will be removed in 1.8.\n",
      "\n",
      "/Library/Frameworks/Python.framework/Versions/3.10/lib/python3.10/site-packages/sklearn/utils/deprecation.py:132: FutureWarning:\n",
      "\n",
      "'force_all_finite' was renamed to 'ensure_all_finite' in 1.6 and will be removed in 1.8.\n",
      "\n",
      "/Library/Frameworks/Python.framework/Versions/3.10/lib/python3.10/site-packages/sklearn/utils/deprecation.py:132: FutureWarning:\n",
      "\n",
      "'force_all_finite' was renamed to 'ensure_all_finite' in 1.6 and will be removed in 1.8.\n",
      "\n",
      "/Library/Frameworks/Python.framework/Versions/3.10/lib/python3.10/site-packages/sklearn/utils/deprecation.py:132: FutureWarning:\n",
      "\n",
      "'force_all_finite' was renamed to 'ensure_all_finite' in 1.6 and will be removed in 1.8.\n",
      "\n",
      "/Library/Frameworks/Python.framework/Versions/3.10/lib/python3.10/site-packages/sklearn/utils/deprecation.py:132: FutureWarning:\n",
      "\n",
      "'force_all_finite' was renamed to 'ensure_all_finite' in 1.6 and will be removed in 1.8.\n",
      "\n",
      "/Library/Frameworks/Python.framework/Versions/3.10/lib/python3.10/site-packages/pmdarima/preprocessing/endog/boxcox.py:165: RuntimeWarning:\n",
      "\n",
      "invalid value encountered in power\n",
      "\n"
     ]
    },
    {
     "data": {
      "image/png": "[encoded data removed]",
      "text/plain": [
       "<Figure size 1200x700 with 1 Axes>"
      ]
     },
     "metadata": {},
     "output_type": "display_data"
    }
   ],
   "source": [
    "pipeline = Pipeline([\n",
    "    (\"boxcox\", BoxCoxEndogTransformer()),\n",
    "    (\"model\", pm.AutoARIMA( \n",
    "        suppress_warnings=True, \n",
    "        m=12,\n",
    "        start_p=1, start_q=1, \n",
    "        max_p=5, max_q=5, \n",
    "        start_P=0, start_Q=0,\n",
    "        max_P=2, max_Q=2,\n",
    "        d=0, # SET d=0 HERE\n",
    "        D=1, \n",
    "        trace=True,\n",
    "        stepwise=True))\n",
    "])\n",
    "\n",
    "pipeline.fit(train)\n",
    "\n",
    "preds_original, conf_int_original = pipeline.predict(\n",
    "    n_periods=test.shape[0],\n",
    "    return_conf_int=True\n",
    ")\n",
    "\n",
    "rmse = np.sqrt(mean_squared_error(test, preds_original))\n",
    "print(f\"\\nFinal Model RMSE: {rmse:.4f}\")\n",
    "\n",
    "plt.figure(figsize=(12, 7))\n",
    "plt.plot(train, label='Training Data', color='blue', alpha=0.75)\n",
    "plt.plot(test, label='Test Data', color='orange', alpha=0.75)\n",
    "plt.plot(test.index, preds_original, label='Forecasts', color='green', alpha=0.75)\n",
    "plt.fill_between(test.index, conf_int_original[:, 0], conf_int_original[:, 1],\n",
    "                 alpha=0.1, color='green', label='95% Confidence Interval')\n",
    "\n",
    "plt.title(\"SARIMA Pipeline Forecast for Microplastic Concentration\")\n",
    "plt.xlabel(\"Date\")\n",
    "plt.ylabel(\"Average Microplastic Concentration\")\n",
    "plt.legend()\n",
    "plt.tight_layout()\n",
    "plt.show()"
   ]
  },
  {
   "cell_type": "code",
   "execution_count": 106,
   "metadata": {},
   "outputs": [
    {
     "data": {
      "text/plain": [
       "array([2.07216957, 2.07216936, 2.07216936, 2.07216936, 2.07196884,\n",
       "       2.07196884, 2.07196884, 2.07196884, 2.07196884, 2.07196884,\n",
       "       2.07196884, 2.07196884, 2.04022528, 2.04022524, 2.04022524,\n",
       "       2.04022524, 2.04006409, 2.04006409, 2.04006409, 2.04006409,\n",
       "       2.04006409, 2.04006409, 2.04006409, 2.04006409, 2.01406323,\n",
       "       2.01406319, 2.01406319, 2.01406319, 2.01392881, 2.01392881,\n",
       "       2.01392881, 2.01392881, 2.01392881, 2.01392881, 2.01392881,\n",
       "       2.01392881, 1.99195228, 1.99195225, 1.99195225, 1.99195225,\n",
       "       1.9918372 , 1.9918372 , 1.9918372 , 1.9918372 , 1.9918372 ,\n",
       "       1.9918372 , 1.9918372 , 1.9918372 , 1.97283328, 1.97283326,\n",
       "       1.97283326, 1.97283326, 1.97273281, 1.97273281, 1.97273281,\n",
       "       1.97273281, 1.97273281, 1.97273281, 1.97273281, 1.97273281,\n",
       "       1.95601182, 1.9560118 , 1.9560118 , 1.9560118 , 1.95592276,\n",
       "       1.95592276, 1.95592276, 1.95592276, 1.95592276, 1.95592276,\n",
       "       1.95592276, 1.95592276])"
      ]
     },
     "execution_count": 106,
     "metadata": {},
     "output_type": "execute_result"
    }
   ],
   "source": [
    "preds_original"
   ]
  },
  {
   "cell_type": "markdown",
   "metadata": {},
   "source": [
    "## Metrics"
   ]
  },
  {
   "cell_type": "code",
   "execution_count": null,
   "metadata": {},
   "outputs": [],
   "source": [
    "# ##############################################################################\n",
    "# 1. Load the data and split it into separate pieces\n",
    "\n",
    "data = pd.read_csv('mp_conc_weekly_full.csv')\n",
    "data['time'] = pd.to_datetime(data['time'])\n",
    "data.set_index('time', inplace=True)\n",
    "data.dropna(subset=['mp_concentration'], inplace=True)\n",
    "ts = data['mp_concentration']\n",
    "\n",
    "# --- Perform Box-Cox Transformation ---\n",
    "ts_transformed, lambda_value = boxcox(ts)\n",
    "ts_transformed = pd.Series(ts_transformed, index=ts.index)\n",
    "\n",
    "# Split the transformed data chronologically\n",
    "train, test = model_selection.train_test_split(ts_transformed, train_size=0.8) # 80/20 split\n",
    "\n",
    "# Keep the original test data for final evaluation\n",
    "original_test = ts.loc[test.index]\n",
    "\n",
    "# ##############################################################################\n",
    "# 2. Fit a SARIMA model using auto_arima with the correct parameters for your data\n",
    "\n",
    "print(\"Fitting SARIMA model on transformed data...\")\n",
    "modl = pm.auto_arima(train,\n",
    "                     start_p=0, start_q=0,\n",
    "                     max_p=3, max_q=3,\n",
    "                     m=12,\n",
    "                     start_P=0, start_Q=0,\n",
    "                     max_P=2, max_Q=2,\n",
    "                     seasonal=True,\n",
    "                     stepwise=True, suppress_warnings=True,\n",
    "                     d=None, D=1, # Enforce D=1, let auto_arima find d\n",
    "                     error_action='ignore',\n",
    "                     information_criterion='aicc',\n",
    "                     trace=True)\n",
    "\n",
    "print(\"\\nBest Model Found:\")\n",
    "print(modl.summary())\n",
    "\n",
    "# ##############################################################################\n",
    "# 3. Create predictions for the future and evaluate on the original scale\n",
    "\n",
    "preds_transformed, conf_int_transformed = modl.predict(n_periods=test.shape[0], return_conf_int=True)\n",
    "\n",
    "# Perform the correct two-step inversion\n",
    "# Step 1: Inverse Box-Cox\n",
    "preds_original = inv_boxcox(preds_transformed, lambda_value)\n",
    "conf_int_lower = inv_boxcox(conf_int_transformed[:, 0], lambda_value)\n",
    "conf_int_upper = inv_boxcox(conf_int_transformed[:, 1], lambda_value)\n",
    "\n",
    "\n",
    "# Print the error on the original scale\n",
    "print(\"\\nTest RMSE on Original Scale: %.3f\" % np.sqrt(mean_squared_error(original_test, preds_original)))\n",
    "\n",
    "\n",
    "# ##############################################################################\n",
    "# 4. Plot the points and the forecasts\n",
    "\n",
    "# Get the indices for plotting\n",
    "x_train = train.index\n",
    "x_test = test.index\n",
    "\n",
    "plt.figure(figsize=(12, 7))\n",
    "\n",
    "# Plot the training data and original test data\n",
    "plt.plot(x_train, inv_boxcox(train, lambda_value), label='Training Data', color='blue', alpha=0.75)\n",
    "plt.plot(x_test, original_test, label='Test Data', color='orange', alpha=0.75)\n",
    "\n",
    "# Plot the forecasts\n",
    "plt.plot(x_test, preds_original, label='Forecasts', color='green', alpha=0.75)\n",
    "\n",
    "# Plot the confidence intervals\n",
    "plt.fill_between(x_test, conf_int_lower, conf_int_upper,\n",
    "                 alpha=0.1, color='green', label='95% Confidence Interval')\n",
    "\n",
    "plt.title(\"SARIMA Forecast for Microplastic Concentration\")\n",
    "plt.xlabel(\"Date\")\n",
    "plt.ylabel(\"Average Microplastic Concentration\")\n",
    "plt.legend()\n",
    "plt.tight_layout()\n",
    "plt.show()"
   ]
  },
  {
   "cell_type": "code",
   "execution_count": 17,
   "metadata": {},
   "outputs": [],
   "source": [
    "import numpy as np\n",
    "import pandas as pd\n",
    "from sklearn.metrics import mean_absolute_error, mean_squared_error\n",
    "\n",
    "def calculate_mae(y_true, y_pred):\n",
    "    return mean_absolute_error(y_true, y_pred)\n",
    "\n",
    "def calculate_mse(y_true, y_pred):\n",
    "    return mean_squared_error(y_true, y_pred)\n",
    "\n",
    "def calculate_rmse(y_true, y_pred):\n",
    "    return np.sqrt(mean_squared_error(y_true, y_pred))\n",
    "\n",
    "def calculate_mape(y_true, y_pred):\n",
    "    y_true = np.array(y_true)\n",
    "    y_pred = np.array(y_pred)\n",
    "    \n",
    "    # Remove zeros from y_true to avoid division by zero\n",
    "    mask = y_true != 0\n",
    "    if not np.any(mask):\n",
    "        return np.inf\n",
    "    \n",
    "    y_true = y_true[mask]\n",
    "    y_pred = y_pred[mask]\n",
    "    \n",
    "    # Calculate MAPE\n",
    "    mape = np.mean(np.abs((y_true - y_pred) / y_true)) * 100\n",
    "    return mape\n",
    "\n",
    "def calculate_smape(y_true, y_pred):\n",
    "    # Convert to numpy arrays\n",
    "    y_true = np.array(y_true)\n",
    "    y_pred = np.array(y_pred)\n",
    "    \n",
    "    # Calculate SMAPE\n",
    "    numerator = np.abs(y_pred - y_true)\n",
    "    denominator = (np.abs(y_true) + np.abs(y_pred)) / 2\n",
    "    \n",
    "    # Handle division by zero\n",
    "    mask = denominator != 0\n",
    "    if not np.any(mask):\n",
    "        return np.inf\n",
    "    \n",
    "    smape = np.mean(numerator[mask] / denominator[mask]) * 100\n",
    "    return smape\n",
    "\n",
    "def calculate_msle(y_true, y_pred):\n",
    "    # Convert to numpy arrays\n",
    "    y_true = np.array(y_true)\n",
    "    y_pred = np.array(y_pred)\n",
    "    \n",
    "    # Ensure all values are positive\n",
    "    if np.any(y_true <= 0) or np.any(y_pred <= 0):\n",
    "        raise ValueError(\"MSLE requires all values to be positive\")\n",
    "    \n",
    "    # Calculate MSLE\n",
    "    msle = np.mean((np.log1p(y_true) - np.log1p(y_pred)) ** 2)\n",
    "    return msle"
   ]
  },
  {
   "cell_type": "code",
   "execution_count": 18,
   "metadata": {},
   "outputs": [
    {
     "name": "stdout",
     "output_type": "stream",
     "text": [
      "ARIMA Forecast 1 Metrics:\n",
      "==================================================\n",
      "MAE: 0.0808\n",
      "MSE: 0.0097\n",
      "RMSE: 0.0986\n",
      "MAPE: 0.5498%\n",
      "SMAPE: 0.5514%\n",
      "MSLE: 0.0000\n",
      "\n",
      "ARIMA Forecast 2 Metrics:\n",
      "==================================================\n",
      "MAE: 0.0808\n",
      "MSE: 0.0097\n",
      "RMSE: 0.0986\n",
      "MAPE: 0.5498%\n",
      "SMAPE: 0.5514%\n",
      "MSLE: 0.0000\n"
     ]
    }
   ],
   "source": [
    "y_true = test['mp_concentration']\n",
    "y_pred = arima_forecasts_1\n",
    "    \n",
    "print(\"ARIMA Forecast 1 Metrics:\")\n",
    "print(\"=\" * 50)\n",
    "    \n",
    "print(f\"MAE: {calculate_mae(y_true, y_pred):.4f}\")\n",
    "print(f\"MSE: {calculate_mse(y_true, y_pred):.4f}\")\n",
    "print(f\"RMSE: {calculate_rmse(y_true, y_pred):.4f}\")\n",
    "print(f\"MAPE: {calculate_mape(y_true, y_pred):.4f}%\")\n",
    "print(f\"SMAPE: {calculate_smape(y_true, y_pred):.4f}%\")\n",
    "print(f\"MSLE: {calculate_msle(y_true, y_pred):.4f}\")\n",
    "\n",
    "y_true = test['mp_concentration']\n",
    "y_pred = arima_forecasts_2\n",
    "    \n",
    "print()\n",
    "print(\"ARIMA Forecast 2 Metrics:\")\n",
    "print(\"=\" * 50)\n",
    "    \n",
    "print(f\"MAE: {calculate_mae(y_true, y_pred):.4f}\")\n",
    "print(f\"MSE: {calculate_mse(y_true, y_pred):.4f}\")\n",
    "print(f\"RMSE: {calculate_rmse(y_true, y_pred):.4f}\")\n",
    "print(f\"MAPE: {calculate_mape(y_true, y_pred):.4f}%\")\n",
    "print(f\"SMAPE: {calculate_smape(y_true, y_pred):.4f}%\")\n",
    "print(f\"MSLE: {calculate_msle(y_true, y_pred):.4f}\")"
   ]
  }
 ],
 "metadata": {
  "kernelspec": {
   "display_name": "Python 3",
   "language": "python",
   "name": "python3"
  },
  "language_info": {
   "codemirror_mode": {
    "name": "ipython",
    "version": 3
   },
   "file_extension": ".py",
   "mimetype": "text/x-python",
   "name": "python",
   "nbconvert_exporter": "python",
   "pygments_lexer": "ipython3",
   "version": "3.10.3"
  }
 },
 "nbformat": 4,
 "nbformat_minor": 2
}
